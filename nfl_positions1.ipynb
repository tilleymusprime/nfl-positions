{
 "cells": [
  {
   "cell_type": "code",
   "execution_count": 26,
   "metadata": {},
   "outputs": [],
   "source": [
    "import numpy as np\n",
    "import pandas as pd\n",
    "import matplotlib.pyplot as plt\n",
    "\n",
    "pd.options.mode.chained_assignment = None"
   ]
  },
  {
   "cell_type": "code",
   "execution_count": null,
   "metadata": {},
   "outputs": [],
   "source": []
  },
  {
   "cell_type": "code",
   "execution_count": 2,
   "metadata": {},
   "outputs": [],
   "source": [
    "df = pd.read_excel('C:\\\\Users\\\\tilleymusprime\\\\Desktop\\\\Full Madden 19 Ratings.xlsx')"
   ]
  },
  {
   "cell_type": "code",
   "execution_count": 3,
   "metadata": {},
   "outputs": [
    {
     "data": {
      "text/plain": [
       "array(['Team', 'Jersey #', 'Name', 'Age', 'Position', 'Overall',\n",
       "       'Awareness', 'Agility', 'Speed', 'Acceleration', 'Strength',\n",
       "       'Stamina', 'Jumping', 'Injury', 'Throw Power',\n",
       "       'Throw Accuracy Short', 'Throw Accuracy Mid',\n",
       "       'Throw Accuracy Deep', 'Throw on the Run', 'Throw Under Pressure',\n",
       "       'Playaction', 'Break Sack', 'Carrying', 'BC Vision',\n",
       "       'Break Tackle', 'Elusiveness', 'Spin Move', 'Trucking',\n",
       "       'Juke Move', 'Stiff Arm', 'Lead Block', 'Catch', 'Spec. Catch',\n",
       "       'Catch in Traffic', 'Short Route Runing', 'Medium Route Running',\n",
       "       'Deep Route Running', 'Release', 'Run Block', 'Pass Block',\n",
       "       'Run Block Power', 'Pass Block Power', 'Run Block Finesse',\n",
       "       'Pass Block Finesse', 'Impact Blocking', 'Power Moves',\n",
       "       'Finesse Moves', 'Block Shedding', 'Tackle', 'Play Recognition',\n",
       "       'Pursuit', 'Hit Power', 'Man Coverage', 'Zone Coverage', 'Press',\n",
       "       'Toughness', 'Kick Return', 'Kick Power', 'Kick Accuracy',\n",
       "       'Height', 'Weight', 'Birthdate', 'Years Pro', 'Handedness',\n",
       "       'College', 'Total Salary', 'Signing Bonus'], dtype=object)"
      ]
     },
     "execution_count": 3,
     "metadata": {},
     "output_type": "execute_result"
    }
   ],
   "source": [
    "df.columns.values"
   ]
  },
  {
   "cell_type": "code",
   "execution_count": 65,
   "metadata": {},
   "outputs": [],
   "source": [
    "def team_sorter():\n",
    "    y = df[df['Team'] == 'x']\n",
    "    return y"
   ]
  },
  {
   "cell_type": "code",
   "execution_count": 68,
   "metadata": {},
   "outputs": [],
   "source": [
    "for x in df:\n",
    "    y = df[df['Team'] == 'x']"
   ]
  },
  {
   "cell_type": "code",
   "execution_count": 69,
   "metadata": {},
   "outputs": [
    {
     "data": {
      "text/html": [
       "<div>\n",
       "<style scoped>\n",
       "    .dataframe tbody tr th:only-of-type {\n",
       "        vertical-align: middle;\n",
       "    }\n",
       "\n",
       "    .dataframe tbody tr th {\n",
       "        vertical-align: top;\n",
       "    }\n",
       "\n",
       "    .dataframe thead th {\n",
       "        text-align: right;\n",
       "    }\n",
       "</style>\n",
       "<table border=\"1\" class=\"dataframe\">\n",
       "  <thead>\n",
       "    <tr style=\"text-align: right;\">\n",
       "      <th></th>\n",
       "      <th>Team</th>\n",
       "      <th>Jersey #</th>\n",
       "      <th>Name</th>\n",
       "      <th>Age</th>\n",
       "      <th>Position</th>\n",
       "      <th>Overall</th>\n",
       "      <th>Awareness</th>\n",
       "      <th>Agility</th>\n",
       "      <th>Speed</th>\n",
       "      <th>Acceleration</th>\n",
       "      <th>...</th>\n",
       "      <th>Kick Power</th>\n",
       "      <th>Kick Accuracy</th>\n",
       "      <th>Height</th>\n",
       "      <th>Weight</th>\n",
       "      <th>Birthdate</th>\n",
       "      <th>Years Pro</th>\n",
       "      <th>Handedness</th>\n",
       "      <th>College</th>\n",
       "      <th>Total Salary</th>\n",
       "      <th>Signing Bonus</th>\n",
       "    </tr>\n",
       "  </thead>\n",
       "  <tbody>\n",
       "  </tbody>\n",
       "</table>\n",
       "<p>0 rows × 67 columns</p>\n",
       "</div>"
      ],
      "text/plain": [
       "Empty DataFrame\n",
       "Columns: [Team, Jersey #, Name, Age, Position, Overall, Awareness, Agility, Speed, Acceleration, Strength, Stamina, Jumping, Injury, Throw Power, Throw Accuracy Short, Throw Accuracy Mid, Throw Accuracy Deep, Throw on the Run, Throw Under Pressure, Playaction, Break Sack, Carrying, BC Vision, Break Tackle, Elusiveness, Spin Move, Trucking, Juke Move, Stiff Arm, Lead Block, Catch, Spec. Catch, Catch in Traffic, Short Route Runing, Medium Route Running, Deep Route Running, Release, Run Block, Pass Block, Run Block Power, Pass Block Power, Run Block Finesse, Pass Block Finesse, Impact Blocking, Power Moves, Finesse Moves, Block Shedding, Tackle, Play Recognition, Pursuit, Hit Power, Man Coverage, Zone Coverage, Press, Toughness, Kick Return, Kick Power, Kick Accuracy, Height, Weight, Birthdate, Years Pro, Handedness, College, Total Salary, Signing Bonus]\n",
       "Index: []\n",
       "\n",
       "[0 rows x 67 columns]"
      ]
     },
     "execution_count": 69,
     "metadata": {},
     "output_type": "execute_result"
    }
   ],
   "source": [
    "y"
   ]
  },
  {
   "cell_type": "code",
   "execution_count": null,
   "metadata": {},
   "outputs": [],
   "source": []
  },
  {
   "cell_type": "code",
   "execution_count": 4,
   "metadata": {},
   "outputs": [],
   "source": [
    "cowboys = df[df['Team'] == 'Cowboys']\n",
    "niners = df[df['Team'] == '49ers']\n",
    "bears = df[df['Team'] == 'Bears']\n",
    "bengals = df[df['Team'] == 'Bengals']\n",
    "bills = df[df['Team'] == 'Bills']\n",
    "broncos = df[df['Team'] == 'Broncos']\n",
    "browns = df[df['Team'] == 'Browns']\n",
    "buccaneers = df[df['Team'] == 'Buccaneers']\n",
    "cardinals = df[df['Team'] == 'Cardinals']\n",
    "chargers = df[df['Team'] == 'Chargers']\n",
    "chiefs = df[df['Team'] == 'Chiefs']\n",
    "colts = df[df['Team'] == 'Colts']\n",
    "dolphins = df[df['Team'] == 'Dolphins']\n",
    "eagles = df[df['Team'] == 'Eagles']\n",
    "falcons = df[df['Team'] == 'Falcons']\n",
    "giants = df[df['Team'] == 'Giants']\n",
    "jaguars = df[df['Team'] == 'Jaguars']\n",
    "jets = df[df['Team'] == 'Jets']\n",
    "lions = df[df['Team'] == 'Lions']\n",
    "packers = df[df['Team'] == 'Packers']\n",
    "panthers = df[df['Team'] == 'Panthers']\n",
    "patriots = df[df['Team'] == 'Patriots']\n",
    "raiders = df[df['Team'] == 'Raiders']\n",
    "rams = df[df['Team'] == 'Rams']\n",
    "ravens = df[df['Team'] == 'Ravens']\n",
    "redskins = df[df['Team'] == 'Redskins']\n",
    "saints = df[df['Team'] == 'Saints']\n",
    "seahawks = df[df['Team'] == 'Seahawks']\n",
    "steelers = df[df['Team'] == 'Steelers']\n",
    "texans = df[df['Team'] == 'Texans']\n",
    "titans = df[df['Team'] == 'Titans']\n",
    "vikings = df[df['Team'] == 'Vikings']"
   ]
  },
  {
   "cell_type": "code",
   "execution_count": null,
   "metadata": {},
   "outputs": [],
   "source": []
  },
  {
   "cell_type": "code",
   "execution_count": null,
   "metadata": {},
   "outputs": [],
   "source": []
  },
  {
   "cell_type": "code",
   "execution_count": 5,
   "metadata": {},
   "outputs": [],
   "source": [
    "def modelqb(x):\n",
    "    pv=0.3681*x['Awareness']+ 0.0876*x['Play Action'] -0.1561*x['Stamina']+ 0.2824*x['Throw Accuracy Mid'] + 0.4140*x['Throw on the Run']\n",
    "    return pv"
   ]
  },
  {
   "cell_type": "code",
   "execution_count": 6,
   "metadata": {},
   "outputs": [],
   "source": [
    "def modelhb(x):\n",
    "    pv=0.2959*x['Awareness']+ 0.2176*x['Ball Carrier Vision']+ 0.1988*x['Carrying']+ 0.1989*x['Juke Move']+ 0.0464* x['Route Running']\n",
    "    return pv"
   ]
  },
  {
   "cell_type": "code",
   "execution_count": 7,
   "metadata": {},
   "outputs": [],
   "source": [
    "def modelte(x):\n",
    "    pv= 0.4861*x['Catching'] -0.0706*x['Jumping'] + 0.1107*x['Release'] + 0.2881*x['Route Running']+ 0.2144*x['Stiff Arm']\n",
    "    return pv"
   ]
  },
  {
   "cell_type": "code",
   "execution_count": 8,
   "metadata": {},
   "outputs": [],
   "source": [
    "def modelwr(x):\n",
    "    pv= 0.2671*x['Awareness']+ 0.1801*x['Ball Carrier Vision']+ 0.1971*x['Catch In Traffic'] + 0.1556*x['Release']+ 0.1740*x['Route Running']\n",
    "    return pv"
   ]
  },
  {
   "cell_type": "code",
   "execution_count": 9,
   "metadata": {},
   "outputs": [],
   "source": [
    "def modelrt(x):\n",
    "    pv=0.3561*x['Awareness']+ 0.0865*x['Impact Blocking']+ 0.2429*x['Pass Block']+ 0.2875*x['Run Block']\n",
    "    return pv"
   ]
  },
  {
   "cell_type": "code",
   "execution_count": 10,
   "metadata": {},
   "outputs": [],
   "source": [
    "def modelrg(x):\n",
    "    pv = 0.3832*x['Awareness']+ 0.1057*x['Impact Blocking']+ 0.3457*x['Pass Block']+ 0.2180*x['Run Block'] - 0.0776*x['Strength']\n",
    "    return pv"
   ]
  },
  {
   "cell_type": "code",
   "execution_count": 11,
   "metadata": {},
   "outputs": [],
   "source": [
    "def modelc(x):\n",
    "    pv = (0.395*x['Awareness'])+(0.3362*x['Pass Block'])+(0.2182*x['Run Block'])\n",
    "    return pv"
   ]
  },
  {
   "cell_type": "code",
   "execution_count": 12,
   "metadata": {},
   "outputs": [],
   "source": [
    "def modellg(x):\n",
    "    pv=0.3240*x['Awareness']+ 0.1756*x['Impact Blocking']+ 0.4625*x['Pass Block']\n",
    "    return pv"
   ]
  },
  {
   "cell_type": "code",
   "execution_count": 13,
   "metadata": {},
   "outputs": [],
   "source": [
    "def modellt(x):\n",
    "    pv = 0.3305*x['Awareness']+ 0.1838*x['Impact Blocking'] + 0.4364*x['Pass Block']\n",
    "    return pv"
   ]
  },
  {
   "cell_type": "code",
   "execution_count": 14,
   "metadata": {},
   "outputs": [],
   "source": [
    "def modelre(x):\n",
    "    predicted_value = (0.4737 * x['Awareness']) + (0.4280 * x['Pursuit']) + (0.1094 * x['Tackle'])-(0.0716 * x['Pass Block'])\n",
    "    return predicted_value"
   ]
  },
  {
   "cell_type": "code",
   "execution_count": 15,
   "metadata": {},
   "outputs": [],
   "source": [
    "def modeldt(x):\n",
    "    pv= 0.4257*x['Awareness']+ 0.2553*x['Pursuit']+ 0.2858*x['Tackle']\n",
    "    return pv"
   ]
  },
  {
   "cell_type": "code",
   "execution_count": 16,
   "metadata": {},
   "outputs": [],
   "source": [
    "def modelle(x):\n",
    "    pv=0.4811*x['Play Recognition'] + 0.4957*x['Pursuit']\n",
    "    return pv"
   ]
  },
  {
   "cell_type": "code",
   "execution_count": 17,
   "metadata": {},
   "outputs": [],
   "source": [
    "def modelmlb(x):\n",
    "    pv=0.2514*x['Block Shedding']+ 0.1328*x['Man Coverage'] + 0.5093*x['Play Recognition'] + 0.0733*x['Pursuit'] - 0.1607*x['Stamina']+ 0.1949*x['Tackle']\n",
    "    return pv"
   ]
  },
  {
   "cell_type": "code",
   "execution_count": 18,
   "metadata": {},
   "outputs": [],
   "source": [
    "def modelrolb(x):\n",
    "    predicted_values = (0.4707 * x['Awareness']) + (0.2411 * x['Tackle']) + 0.2547*x['Pursuit']\n",
    "    return predicted_values"
   ]
  },
  {
   "cell_type": "code",
   "execution_count": 19,
   "metadata": {},
   "outputs": [],
   "source": [
    "def modellolb(x):\n",
    "    pv = 0.4769*x['Awareness'] + 0.1128*x['Block Shedding']+ 0.2223* x['Pursuit']+ 0.1527*x['Tackle']\n",
    "    return pv"
   ]
  },
  {
   "cell_type": "code",
   "execution_count": 20,
   "metadata": {},
   "outputs": [],
   "source": [
    "def modelfs(x):\n",
    "    pv = 0.3850*x['Awareness']+ 0.1465*x['Stamina'] + 0.4447*x['Zone Coverage']\n",
    "    return pv"
   ]
  },
  {
   "cell_type": "code",
   "execution_count": 21,
   "metadata": {},
   "outputs": [],
   "source": [
    "def modelcb(x):\n",
    "    pv = (0.3870*x['Awareness'])+(0.1122*x['Impact Blocking'])+(0.3388*x['Man Coverage'])+(0.2595*x['Zone Coverage'])-0.0556*x['Stamina']\n",
    "    return pv"
   ]
  },
  {
   "cell_type": "code",
   "execution_count": 22,
   "metadata": {},
   "outputs": [],
   "source": [
    "def modelss(x):\n",
    "    pv = (0.4607*x['Awareness'])+(0.1388*x['Pursuit'])+(0.2140*x['Tackle'])+(0.2163*x['Zone Coverage'])\n",
    "    return pv"
   ]
  },
  {
   "cell_type": "code",
   "execution_count": null,
   "metadata": {},
   "outputs": [],
   "source": []
  },
  {
   "cell_type": "code",
   "execution_count": 23,
   "metadata": {},
   "outputs": [],
   "source": [
    "#Here are the new models for position groups"
   ]
  },
  {
   "cell_type": "code",
   "execution_count": 75,
   "metadata": {},
   "outputs": [],
   "source": [
    "def dline(x, y, z):\n",
    "    y = np.mean(x) + np.mean(y) + np.mean(z)\n",
    "    return y"
   ]
  },
  {
   "cell_type": "code",
   "execution_count": 112,
   "metadata": {},
   "outputs": [],
   "source": [
    "def modeldt(x):\n",
    "    pv= 0.4257*x['Awareness']+ 0.2553*x['Pursuit']+ 0.2858*x['Tackle']\n",
    "    return pv"
   ]
  },
  {
   "cell_type": "code",
   "execution_count": null,
   "metadata": {},
   "outputs": [],
   "source": []
  },
  {
   "cell_type": "code",
   "execution_count": null,
   "metadata": {},
   "outputs": [],
   "source": [
    "####NFC East Defenses"
   ]
  },
  {
   "cell_type": "code",
   "execution_count": 32,
   "metadata": {},
   "outputs": [
    {
     "data": {
      "text/plain": [
       "73.21787037037036"
      ]
     },
     "execution_count": 32,
     "metadata": {},
     "output_type": "execute_result"
    }
   ],
   "source": [
    "cowboysdt = cowboys[cowboys['Position'] == 'DT']\n",
    "cowboysre = cowboys[cowboys['Position'] == 'RE']\n",
    "cowboysle = cowboys[cowboys['Position'] == 'LE']\n",
    "cowboysdt['Predicted Rating'] = modeldt(cowboysdt)\n",
    "cowboysre['Predicted Rating'] = modelre(cowboysre)\n",
    "cowboysle['Predicted Rating'] = modelle(cowboysle)\n",
    "cowboysdt_mean = np.mean(cowboysdt['Predicted Rating'])\n",
    "cowboysre_mean = np.mean(cowboysre['Predicted Rating'])\n",
    "cowboysle_mean = np.mean(cowboysle['Predicted Rating'])\n",
    "cowboysdl_mean = np.mean([cowboysdt_mean, cowboysre_mean, cowboysle_mean])\n",
    "cowboysdl_mean"
   ]
  },
  {
   "cell_type": "code",
   "execution_count": 29,
   "metadata": {},
   "outputs": [
    {
     "name": "stdout",
     "output_type": "stream",
     "text": [
      "70.26298333333334 71.28399999999999 67.001925 72.50302500000001\n"
     ]
    }
   ],
   "source": [
    "cowboysmlb = cowboys[cowboys['Position'] == 'MLB']\n",
    "cowboysrolb = cowboys[cowboys['Position'] == 'ROLB']\n",
    "cowboyslolb = cowboys[cowboys['Position'] == 'LOLB']\n",
    "cowboysmlb['Predicted Rating'] = modelmlb(cowboysmlb)\n",
    "cowboysrolb['Predicted Rating'] = modelrolb(cowboysrolb)\n",
    "cowboyslolb['Predicted Rating'] = modellolb(cowboyslolb)\n",
    "cowboysmlb_mean = np.mean(cowboysmlb['Predicted Rating'])\n",
    "cowboysrolb_mean = np.mean(cowboysrolb['Predicted Rating'])\n",
    "cowboyslolb_mean = np.mean(cowboyslolb['Predicted Rating'])\n",
    "cowboyslb_mean = np.mean([cowboysmlb_mean, cowboysrolb_mean, cowboyslolb_mean])\n",
    "print(cowboyslb_mean, cowboysmlb_mean, cowboyslolb_mean, cowboysrolb_mean) "
   ]
  },
  {
   "cell_type": "code",
   "execution_count": 28,
   "metadata": {},
   "outputs": [
    {
     "name": "stdout",
     "output_type": "stream",
     "text": [
      "72.21830333333334 74.25135999999999 68.1369 74.26665\n"
     ]
    }
   ],
   "source": [
    "cowboyscb = cowboys[cowboys['Position'] == 'CB']\n",
    "cowboysfs = cowboys[cowboys['Position'] == 'FS']\n",
    "cowboysss = cowboys[cowboys['Position'] == 'SS']\n",
    "cowboyscb['Predicted Rating'] = modelcb(cowboyscb)\n",
    "cowboysss['Predicted Rating'] = modelss(cowboysss)\n",
    "cowboysfs['Predicted Rating'] = modelfs(cowboysfs)\n",
    "cowboysss_mean = np.mean(cowboysss['Predicted Rating'])\n",
    "cowboyscb_mean = np.mean(cowboyscb['Predicted Rating'])\n",
    "cowboysfs_mean = np.mean(cowboysfs['Predicted Rating'])\n",
    "cowboyssecondary_mean = np.mean([cowboyscb_mean, cowboysss_mean, cowboysfs_mean])\n",
    "print(cowboyssecondary_mean, cowboyscb_mean, cowboysfs_mean, cowboysss_mean) "
   ]
  },
  {
   "cell_type": "code",
   "execution_count": 35,
   "metadata": {},
   "outputs": [
    {
     "data": {
      "text/plain": [
       "71.89971901234567"
      ]
     },
     "execution_count": 35,
     "metadata": {},
     "output_type": "execute_result"
    }
   ],
   "source": [
    "cowboys_defense_mean = np.mean([cowboyslb_mean, cowboysdl_mean, cowboyssecondary_mean])\n",
    "cowboys_defense_mean"
   ]
  },
  {
   "cell_type": "code",
   "execution_count": 38,
   "metadata": {},
   "outputs": [
    {
     "data": {
      "text/plain": [
       "73.99409603174604"
      ]
     },
     "execution_count": 38,
     "metadata": {},
     "output_type": "execute_result"
    }
   ],
   "source": [
    "eaglesdt = eagles[eagles['Position'] == 'DT']\n",
    "eaglesre = eagles[eagles['Position'] == 'RE']\n",
    "eaglesle = eagles[eagles['Position'] == 'LE']\n",
    "eaglesdt['Predicted Rating'] = modeldt(eaglesdt)\n",
    "eaglesre['Predicted Rating'] = modelre(eaglesre)\n",
    "eaglesle['Predicted Rating'] = modelle(eaglesle)\n",
    "eaglesdt_mean = np.mean(eaglesdt['Predicted Rating'])\n",
    "eaglesre_mean = np.mean(eaglesre['Predicted Rating'])\n",
    "eaglesle_mean = np.mean(eaglesle['Predicted Rating'])\n",
    "eaglesdl_mean = np.mean([eaglesdt_mean, eaglesre_mean, eaglesle_mean])\n",
    "eaglesdl_mean"
   ]
  },
  {
   "cell_type": "code",
   "execution_count": 39,
   "metadata": {},
   "outputs": [
    {
     "name": "stdout",
     "output_type": "stream",
     "text": [
      "70.66432777777777 69.47196666666667 72.31746666666665 70.20355\n"
     ]
    }
   ],
   "source": [
    "eaglesmlb = eagles[eagles['Position'] == 'MLB']\n",
    "eaglesrolb = eagles[eagles['Position'] == 'ROLB']\n",
    "eagleslolb = eagles[eagles['Position'] == 'LOLB']\n",
    "eaglesmlb['Predicted Rating'] = modelmlb(eaglesmlb)\n",
    "eaglesrolb['Predicted Rating'] = modelrolb(eaglesrolb)\n",
    "eagleslolb['Predicted Rating'] = modellolb(eagleslolb)\n",
    "eaglesmlb_mean = np.mean(eaglesmlb['Predicted Rating'])\n",
    "eaglesrolb_mean = np.mean(eaglesrolb['Predicted Rating'])\n",
    "eagleslolb_mean = np.mean(eagleslolb['Predicted Rating'])\n",
    "eagleslb_mean = np.mean([eaglesmlb_mean, eaglesrolb_mean, eagleslolb_mean])\n",
    "print(eagleslb_mean, eaglesmlb_mean, eagleslolb_mean, eaglesrolb_mean) "
   ]
  },
  {
   "cell_type": "code",
   "execution_count": 51,
   "metadata": {},
   "outputs": [
    {
     "name": "stdout",
     "output_type": "stream",
     "text": [
      "77.1852630952381 72.3723142857143 68.195975 90.9875\n"
     ]
    }
   ],
   "source": [
    "eaglescb = eagles[eagles['Position'] == 'CB']\n",
    "eaglesfs = eagles[eagles['Position'] == 'FS']\n",
    "eaglesss = eagles[eagles['Position'] == 'SS']\n",
    "eaglescb['Predicted Rating'] = modelcb(eaglescb)\n",
    "eaglesss['Predicted Rating'] = modelss(eaglesss)\n",
    "eaglesfs['Predicted Rating'] = modelfs(eaglesfs)\n",
    "eaglesss_mean = np.mean(eaglesss['Predicted Rating'])\n",
    "eaglescb_mean = np.mean(eaglescb['Predicted Rating'])\n",
    "eaglesfs_mean = np.mean(eaglesfs['Predicted Rating'])\n",
    "eaglessecondary_mean = np.mean([eaglescb_mean, eaglesss_mean, eaglesfs_mean])\n",
    "print(eaglessecondary_mean, eaglescb_mean, eaglesfs_mean, eaglesss_mean) "
   ]
  },
  {
   "cell_type": "code",
   "execution_count": 52,
   "metadata": {},
   "outputs": [
    {
     "data": {
      "text/plain": [
       "73.94789563492064"
      ]
     },
     "execution_count": 52,
     "metadata": {},
     "output_type": "execute_result"
    }
   ],
   "source": [
    "eagles_defense_mean = np.mean([eagleslb_mean, eaglesdl_mean, eaglessecondary_mean])\n",
    "eagles_defense_mean"
   ]
  },
  {
   "cell_type": "code",
   "execution_count": 43,
   "metadata": {},
   "outputs": [
    {
     "data": {
      "text/plain": [
       "71.58567777777779"
      ]
     },
     "execution_count": 43,
     "metadata": {},
     "output_type": "execute_result"
    }
   ],
   "source": [
    "giantsdt = giants[giants['Position'] == 'DT']\n",
    "giantsre = giants[giants['Position'] == 'RE']\n",
    "giantsle = giants[giants['Position'] == 'LE']\n",
    "giantsdt['Predicted Rating'] = modeldt(giantsdt)\n",
    "giantsre['Predicted Rating'] = modelre(giantsre)\n",
    "giantsle['Predicted Rating'] = modelle(giantsle)\n",
    "giantsdt_mean = np.mean(giantsdt['Predicted Rating'])\n",
    "giantsre_mean = np.mean(giantsre['Predicted Rating'])\n",
    "giantsle_mean = np.mean(giantsle['Predicted Rating'])\n",
    "giantsdl_mean = np.mean([giantsdt_mean, giantsre_mean, giantsle_mean])\n",
    "giantsdl_mean"
   ]
  },
  {
   "cell_type": "code",
   "execution_count": 45,
   "metadata": {},
   "outputs": [
    {
     "name": "stdout",
     "output_type": "stream",
     "text": [
      "68.31878333333333 67.51686666666666 65.82315 71.61633333333333\n"
     ]
    }
   ],
   "source": [
    "giantsmlb = giants[giants['Position'] == 'MLB']\n",
    "giantsrolb = giants[giants['Position'] == 'ROLB']\n",
    "giantslolb = giants[giants['Position'] == 'LOLB']\n",
    "giantsmlb['Predicted Rating'] = modelmlb(giantsmlb)\n",
    "giantsrolb['Predicted Rating'] = modelrolb(giantsrolb)\n",
    "giantslolb['Predicted Rating'] = modellolb(giantslolb)\n",
    "giantsmlb_mean = np.mean(giantsmlb['Predicted Rating'])\n",
    "giantsrolb_mean = np.mean(giantsrolb['Predicted Rating'])\n",
    "giantslolb_mean = np.mean(giantslolb['Predicted Rating'])\n",
    "giantslb_mean = np.mean([giantsmlb_mean, giantsrolb_mean, giantslolb_mean])\n",
    "print(giantslb_mean, giantsmlb_mean, giantslolb_mean, giantsrolb_mean) "
   ]
  },
  {
   "cell_type": "code",
   "execution_count": 50,
   "metadata": {},
   "outputs": [
    {
     "name": "stdout",
     "output_type": "stream",
     "text": [
      "70.63006944444443 69.916225 66.88905 75.08493333333332\n"
     ]
    }
   ],
   "source": [
    "giantscb = giants[giants['Position'] == 'CB']\n",
    "giantsfs = giants[giants['Position'] == 'FS']\n",
    "giantsss = giants[giants['Position'] == 'SS']\n",
    "giantscb['Predicted Rating'] = modelcb(giantscb)\n",
    "giantsss['Predicted Rating'] = modelss(giantsss)\n",
    "giantsfs['Predicted Rating'] = modelfs(giantsfs)\n",
    "giantsss_mean = np.mean(giantsss['Predicted Rating'])\n",
    "giantscb_mean = np.mean(giantscb['Predicted Rating'])\n",
    "giantsfs_mean = np.mean(giantsfs['Predicted Rating'])\n",
    "giantssecondary_mean = np.mean([giantscb_mean, giantsss_mean, giantsfs_mean])\n",
    "print(giantssecondary_mean, giantscb_mean, giantsfs_mean, giantsss_mean) "
   ]
  },
  {
   "cell_type": "code",
   "execution_count": 53,
   "metadata": {},
   "outputs": [
    {
     "data": {
      "text/plain": [
       "70.17817685185184"
      ]
     },
     "execution_count": 53,
     "metadata": {},
     "output_type": "execute_result"
    }
   ],
   "source": [
    "giants_defense_mean = np.mean([giantslb_mean, giantsdl_mean, giantssecondary_mean])\n",
    "giants_defense_mean"
   ]
  },
  {
   "cell_type": "code",
   "execution_count": 47,
   "metadata": {},
   "outputs": [
    {
     "data": {
      "text/plain": [
       "69.8834388888889"
      ]
     },
     "execution_count": 47,
     "metadata": {},
     "output_type": "execute_result"
    }
   ],
   "source": [
    "redskinsdt = redskins[redskins['Position'] == 'DT']\n",
    "redskinsre = redskins[redskins['Position'] == 'RE']\n",
    "redskinsle = redskins[redskins['Position'] == 'LE']\n",
    "redskinsdt['Predicted Rating'] = modeldt(redskinsdt)\n",
    "redskinsre['Predicted Rating'] = modelre(redskinsre)\n",
    "redskinsle['Predicted Rating'] = modelle(redskinsle)\n",
    "redskinsdt_mean = np.mean(redskinsdt['Predicted Rating'])\n",
    "redskinsre_mean = np.mean(redskinsre['Predicted Rating'])\n",
    "redskinsle_mean = np.mean(redskinsle['Predicted Rating'])\n",
    "redskinsdl_mean = np.mean([redskinsdt_mean, redskinsre_mean, redskinsle_mean])\n",
    "redskinsdl_mean"
   ]
  },
  {
   "cell_type": "code",
   "execution_count": 48,
   "metadata": {},
   "outputs": [
    {
     "name": "stdout",
     "output_type": "stream",
     "text": [
      "72.92887777777777 71.53301666666665 74.31766666666667 72.93595\n"
     ]
    }
   ],
   "source": [
    "redskinsmlb = redskins[redskins['Position'] == 'MLB']\n",
    "redskinsrolb = redskins[redskins['Position'] == 'ROLB']\n",
    "redskinslolb = redskins[redskins['Position'] == 'LOLB']\n",
    "redskinsmlb['Predicted Rating'] = modelmlb(redskinsmlb)\n",
    "redskinsrolb['Predicted Rating'] = modelrolb(redskinsrolb)\n",
    "redskinslolb['Predicted Rating'] = modellolb(redskinslolb)\n",
    "redskinsmlb_mean = np.mean(redskinsmlb['Predicted Rating'])\n",
    "redskinsrolb_mean = np.mean(redskinsrolb['Predicted Rating'])\n",
    "redskinslolb_mean = np.mean(redskinslolb['Predicted Rating'])\n",
    "redskinslb_mean = np.mean([redskinsmlb_mean, redskinsrolb_mean, redskinslolb_mean])\n",
    "print(redskinslb_mean, redskinsmlb_mean, redskinslolb_mean, redskinsrolb_mean) "
   ]
  },
  {
   "cell_type": "code",
   "execution_count": 49,
   "metadata": {},
   "outputs": [
    {
     "name": "stdout",
     "output_type": "stream",
     "text": [
      "70.156925 72.1284 68.65390000000001 69.688475\n"
     ]
    }
   ],
   "source": [
    "redskinscb = redskins[redskins['Position'] == 'CB']\n",
    "redskinsfs = redskins[redskins['Position'] == 'FS']\n",
    "redskinsss = redskins[redskins['Position'] == 'SS']\n",
    "redskinscb['Predicted Rating'] = modelcb(redskinscb)\n",
    "redskinsss['Predicted Rating'] = modelss(redskinsss)\n",
    "redskinsfs['Predicted Rating'] = modelfs(redskinsfs)\n",
    "redskinsss_mean = np.mean(redskinsss['Predicted Rating'])\n",
    "redskinscb_mean = np.mean(redskinscb['Predicted Rating'])\n",
    "redskinsfs_mean = np.mean(redskinsfs['Predicted Rating'])\n",
    "redskinssecondary_mean = np.mean([redskinscb_mean, redskinsss_mean, redskinsfs_mean])\n",
    "print(redskinssecondary_mean, redskinscb_mean, redskinsfs_mean, redskinsss_mean) "
   ]
  },
  {
   "cell_type": "code",
   "execution_count": 54,
   "metadata": {},
   "outputs": [
    {
     "data": {
      "text/plain": [
       "70.98974722222222"
      ]
     },
     "execution_count": 54,
     "metadata": {},
     "output_type": "execute_result"
    }
   ],
   "source": [
    "redskins_defense_mean = np.mean([redskinslb_mean, redskinsdl_mean, redskinssecondary_mean])\n",
    "redskins_defense_mean"
   ]
  },
  {
   "cell_type": "code",
   "execution_count": 56,
   "metadata": {},
   "outputs": [
    {
     "data": {
      "text/plain": [
       "(71.89971901234567, 73.94789563492064, 70.17817685185184, 70.98974722222222)"
      ]
     },
     "execution_count": 56,
     "metadata": {},
     "output_type": "execute_result"
    }
   ],
   "source": [
    "cowboys_defense_mean, eagles_defense_mean, giants_defense_mean, redskins_defense_mean"
   ]
  },
  {
   "cell_type": "code",
   "execution_count": null,
   "metadata": {},
   "outputs": [],
   "source": [
    "mlb_function"
   ]
  },
  {
   "cell_type": "code",
   "execution_count": 57,
   "metadata": {},
   "outputs": [],
   "source": [
    "####NFC West Defenses"
   ]
  },
  {
   "cell_type": "code",
   "execution_count": 58,
   "metadata": {},
   "outputs": [
    {
     "data": {
      "text/plain": [
       "71.54680333333333"
      ]
     },
     "execution_count": 58,
     "metadata": {},
     "output_type": "execute_result"
    }
   ],
   "source": [
    "ninersdt = niners[niners['Position'] == 'DT']\n",
    "ninersre = niners[niners['Position'] == 'RE']\n",
    "ninersle = niners[niners['Position'] == 'LE']\n",
    "ninersdt['Predicted Rating'] = modeldt(ninersdt)\n",
    "ninersre['Predicted Rating'] = modelre(ninersre)\n",
    "ninersle['Predicted Rating'] = modelle(ninersle)\n",
    "ninersdt_mean = np.mean(ninersdt['Predicted Rating'])\n",
    "ninersre_mean = np.mean(ninersre['Predicted Rating'])\n",
    "ninersle_mean = np.mean(ninersle['Predicted Rating'])\n",
    "ninersdl_mean = np.mean([ninersdt_mean, ninersre_mean, ninersle_mean])\n",
    "ninersdl_mean"
   ]
  },
  {
   "cell_type": "code",
   "execution_count": 60,
   "metadata": {},
   "outputs": [
    {
     "name": "stdout",
     "output_type": "stream",
     "text": [
      "70.27834166666668 73.2728 66.4671 71.095125\n"
     ]
    }
   ],
   "source": [
    "ninersmlb = niners[niners['Position'] == 'MLB']\n",
    "ninersrolb = niners[niners['Position'] == 'ROLB']\n",
    "ninerslolb = niners[niners['Position'] == 'LOLB']\n",
    "ninersmlb['Predicted Rating'] = modelmlb(ninersmlb)\n",
    "ninersrolb['Predicted Rating'] = modelrolb(ninersrolb)\n",
    "ninerslolb['Predicted Rating'] = modellolb(ninerslolb)\n",
    "ninersmlb_mean = np.mean(ninersmlb['Predicted Rating'])\n",
    "ninersrolb_mean = np.mean(ninersrolb['Predicted Rating'])\n",
    "ninerslolb_mean = np.mean(ninerslolb['Predicted Rating'])\n",
    "ninerslb_mean = np.mean([ninersmlb_mean, ninersrolb_mean, ninerslolb_mean])\n",
    "print(ninerslb_mean, ninersmlb_mean, ninerslolb_mean, ninersrolb_mean) "
   ]
  },
  {
   "cell_type": "code",
   "execution_count": 66,
   "metadata": {},
   "outputs": [
    {
     "name": "stdout",
     "output_type": "stream",
     "text": [
      "70.24074583333332 70.2867625 71.40769999999999 69.02777499999999\n"
     ]
    }
   ],
   "source": [
    "ninerscb = niners[niners['Position'] == 'CB']\n",
    "ninersfs = niners[niners['Position'] == 'FS']\n",
    "ninersss = niners[niners['Position'] == 'SS']\n",
    "ninerscb['Predicted Rating'] = modelcb(ninerscb)\n",
    "ninersss['Predicted Rating'] = modelss(ninersss)\n",
    "ninersfs['Predicted Rating'] = modelfs(ninersfs)\n",
    "ninersss_mean = np.mean(ninersss['Predicted Rating'])\n",
    "ninerscb_mean = np.mean(ninerscb['Predicted Rating'])\n",
    "ninersfs_mean = np.mean(ninersfs['Predicted Rating'])\n",
    "ninerssecondary_mean = np.mean([ninerscb_mean, ninersss_mean, ninersfs_mean])\n",
    "print(ninerssecondary_mean, ninerscb_mean, ninersfs_mean, ninersss_mean) "
   ]
  },
  {
   "cell_type": "code",
   "execution_count": 67,
   "metadata": {},
   "outputs": [
    {
     "data": {
      "text/plain": [
       "70.68863027777779"
      ]
     },
     "execution_count": 67,
     "metadata": {},
     "output_type": "execute_result"
    }
   ],
   "source": [
    "niners_defense_mean = np.mean([ninerslb_mean, ninersdl_mean, ninerssecondary_mean])\n",
    "niners_defense_mean"
   ]
  },
  {
   "cell_type": "code",
   "execution_count": 62,
   "metadata": {},
   "outputs": [
    {
     "data": {
      "text/plain": [
       "70.782495"
      ]
     },
     "execution_count": 62,
     "metadata": {},
     "output_type": "execute_result"
    }
   ],
   "source": [
    "cardinalsdt = cardinals[cardinals['Position'] == 'DT']\n",
    "cardinalsre = cardinals[cardinals['Position'] == 'RE']\n",
    "cardinalsle = cardinals[cardinals['Position'] == 'LE']\n",
    "cardinalsdt['Predicted Rating'] = modeldt(cardinalsdt)\n",
    "cardinalsre['Predicted Rating'] = modelre(cardinalsre)\n",
    "cardinalsle['Predicted Rating'] = modelle(cardinalsle)\n",
    "cardinalsdt_mean = np.mean(cardinalsdt['Predicted Rating'])\n",
    "cardinalsre_mean = np.mean(cardinalsre['Predicted Rating'])\n",
    "cardinalsle_mean = np.mean(cardinalsle['Predicted Rating'])\n",
    "cardinalsdl_mean = np.mean([cardinalsdt_mean, cardinalsre_mean, cardinalsle_mean])\n",
    "cardinalsdl_mean"
   ]
  },
  {
   "cell_type": "code",
   "execution_count": 63,
   "metadata": {},
   "outputs": [
    {
     "name": "stdout",
     "output_type": "stream",
     "text": [
      "68.13138333333335 73.7116 64.6868 65.99575\n"
     ]
    }
   ],
   "source": [
    "cardinalsmlb = cardinals[cardinals['Position'] == 'MLB']\n",
    "cardinalsrolb = cardinals[cardinals['Position'] == 'ROLB']\n",
    "cardinalslolb = cardinals[cardinals['Position'] == 'LOLB']\n",
    "cardinalsmlb['Predicted Rating'] = modelmlb(cardinalsmlb)\n",
    "cardinalsrolb['Predicted Rating'] = modelrolb(cardinalsrolb)\n",
    "cardinalslolb['Predicted Rating'] = modellolb(cardinalslolb)\n",
    "cardinalsmlb_mean = np.mean(cardinalsmlb['Predicted Rating'])\n",
    "cardinalsrolb_mean = np.mean(cardinalsrolb['Predicted Rating'])\n",
    "cardinalslolb_mean = np.mean(cardinalslolb['Predicted Rating'])\n",
    "cardinalslb_mean = np.mean([cardinalsmlb_mean, cardinalsrolb_mean, cardinalslolb_mean])\n",
    "print(cardinalslb_mean, cardinalsmlb_mean, cardinalslolb_mean, cardinalsrolb_mean) "
   ]
  },
  {
   "cell_type": "code",
   "execution_count": 65,
   "metadata": {},
   "outputs": [
    {
     "name": "stdout",
     "output_type": "stream",
     "text": [
      "69.59532638888888 68.76126249999999 73.21914999999998 66.80556666666666\n"
     ]
    }
   ],
   "source": [
    "cardinalscb = cardinals[cardinals['Position'] == 'CB']\n",
    "cardinalsfs = cardinals[cardinals['Position'] == 'FS']\n",
    "cardinalsss = cardinals[cardinals['Position'] == 'SS']\n",
    "cardinalscb['Predicted Rating'] = modelcb(cardinalscb)\n",
    "cardinalsss['Predicted Rating'] = modelss(cardinalsss)\n",
    "cardinalsfs['Predicted Rating'] = modelfs(cardinalsfs)\n",
    "cardinalsss_mean = np.mean(cardinalsss['Predicted Rating'])\n",
    "cardinalscb_mean = np.mean(cardinalscb['Predicted Rating'])\n",
    "cardinalsfs_mean = np.mean(cardinalsfs['Predicted Rating'])\n",
    "cardinalssecondary_mean = np.mean([cardinalscb_mean, cardinalsss_mean, cardinalsfs_mean])\n",
    "print(cardinalssecondary_mean, cardinalscb_mean, cardinalsfs_mean, cardinalsss_mean) "
   ]
  },
  {
   "cell_type": "code",
   "execution_count": 68,
   "metadata": {},
   "outputs": [
    {
     "data": {
      "text/plain": [
       "69.50306824074075"
      ]
     },
     "execution_count": 68,
     "metadata": {},
     "output_type": "execute_result"
    }
   ],
   "source": [
    "cardinals_defense_mean = np.mean([cardinalslb_mean, cardinalsdl_mean, cardinalssecondary_mean])\n",
    "cardinals_defense_mean"
   ]
  },
  {
   "cell_type": "code",
   "execution_count": 70,
   "metadata": {},
   "outputs": [
    {
     "data": {
      "text/plain": [
       "74.58724722222222"
      ]
     },
     "execution_count": 70,
     "metadata": {},
     "output_type": "execute_result"
    }
   ],
   "source": [
    "ramsdt = rams[rams['Position'] == 'DT']\n",
    "ramsre = rams[rams['Position'] == 'RE']\n",
    "ramsle = rams[rams['Position'] == 'LE']\n",
    "ramsdt['Predicted Rating'] = modeldt(ramsdt)\n",
    "ramsre['Predicted Rating'] = modelre(ramsre)\n",
    "ramsle['Predicted Rating'] = modelle(ramsle)\n",
    "ramsdt_mean = np.mean(ramsdt['Predicted Rating'])\n",
    "ramsre_mean = np.mean(ramsre['Predicted Rating'])\n",
    "ramsle_mean = np.mean(ramsle['Predicted Rating'])\n",
    "ramsdl_mean = np.mean([ramsdt_mean, ramsre_mean, ramsle_mean])\n",
    "ramsdl_mean"
   ]
  },
  {
   "cell_type": "code",
   "execution_count": 73,
   "metadata": {},
   "outputs": [
    {
     "name": "stdout",
     "output_type": "stream",
     "text": [
      "67.01012023809524 67.32198571428572 67.7946 65.913775\n"
     ]
    }
   ],
   "source": [
    "ramsmlb = rams[rams['Position'] == 'MLB']\n",
    "ramsrolb = rams[rams['Position'] == 'ROLB']\n",
    "ramslolb = rams[rams['Position'] == 'LOLB']\n",
    "ramsmlb['Predicted Rating'] = modelmlb(ramsmlb)\n",
    "ramsrolb['Predicted Rating'] = modelrolb(ramsrolb)\n",
    "ramslolb['Predicted Rating'] = modellolb(ramslolb)\n",
    "ramsmlb_mean = np.mean(ramsmlb['Predicted Rating'])\n",
    "ramsrolb_mean = np.mean(ramsrolb['Predicted Rating'])\n",
    "ramslolb_mean = np.mean(ramslolb['Predicted Rating'])\n",
    "ramslb_mean = np.mean([ramsmlb_mean, ramsrolb_mean, ramslolb_mean])\n",
    "print(ramslb_mean, ramsmlb_mean, ramslolb_mean, ramsrolb_mean) "
   ]
  },
  {
   "cell_type": "code",
   "execution_count": 75,
   "metadata": {},
   "outputs": [
    {
     "name": "stdout",
     "output_type": "stream",
     "text": [
      "73.90496250000001 75.11763750000001 71.33640000000001 75.26085\n"
     ]
    }
   ],
   "source": [
    "ramscb = rams[rams['Position'] == 'CB']\n",
    "ramsfs = rams[rams['Position'] == 'FS']\n",
    "ramsss = rams[rams['Position'] == 'SS']\n",
    "ramscb['Predicted Rating'] = modelcb(ramscb)\n",
    "ramsss['Predicted Rating'] = modelss(ramsss)\n",
    "ramsfs['Predicted Rating'] = modelfs(ramsfs)\n",
    "ramsss_mean = np.mean(ramsss['Predicted Rating'])\n",
    "ramscb_mean = np.mean(ramscb['Predicted Rating'])\n",
    "ramsfs_mean = np.mean(ramsfs['Predicted Rating'])\n",
    "ramssecondary_mean = np.mean([ramscb_mean, ramsss_mean, ramsfs_mean])\n",
    "print(ramssecondary_mean, ramscb_mean, ramsfs_mean, ramsss_mean) "
   ]
  },
  {
   "cell_type": "code",
   "execution_count": 76,
   "metadata": {},
   "outputs": [
    {
     "data": {
      "text/plain": [
       "71.83410998677249"
      ]
     },
     "execution_count": 76,
     "metadata": {},
     "output_type": "execute_result"
    }
   ],
   "source": [
    "rams_defense_mean = np.mean([ramslb_mean, ramsdl_mean, ramssecondary_mean])\n",
    "rams_defense_mean"
   ]
  },
  {
   "cell_type": "code",
   "execution_count": null,
   "metadata": {},
   "outputs": [],
   "source": []
  },
  {
   "cell_type": "code",
   "execution_count": 78,
   "metadata": {},
   "outputs": [
    {
     "data": {
      "text/plain": [
       "71.85600000000001"
      ]
     },
     "execution_count": 78,
     "metadata": {},
     "output_type": "execute_result"
    }
   ],
   "source": [
    "seahawksdt = seahawks[seahawks['Position'] == 'DT']\n",
    "seahawksre = seahawks[seahawks['Position'] == 'RE']\n",
    "seahawksle = seahawks[seahawks['Position'] == 'LE']\n",
    "seahawksdt['Predicted Rating'] = modeldt(seahawksdt)\n",
    "seahawksre['Predicted Rating'] = modelre(seahawksre)\n",
    "seahawksle['Predicted Rating'] = modelle(seahawksle)\n",
    "seahawksdt_mean = np.mean(seahawksdt['Predicted Rating'])\n",
    "seahawksre_mean = np.mean(seahawksre['Predicted Rating'])\n",
    "seahawksle_mean = np.mean(seahawksle['Predicted Rating'])\n",
    "seahawksdl_mean = np.mean([seahawksdt_mean, seahawksre_mean, seahawksle_mean])\n",
    "seahawksdl_mean"
   ]
  },
  {
   "cell_type": "code",
   "execution_count": 79,
   "metadata": {},
   "outputs": [
    {
     "name": "stdout",
     "output_type": "stream",
     "text": [
      "77.0513111111111 92.55139999999999 68.45286666666665 70.14966666666668\n"
     ]
    }
   ],
   "source": [
    "seahawksmlb = seahawks[seahawks['Position'] == 'MLB']\n",
    "seahawksrolb = seahawks[seahawks['Position'] == 'ROLB']\n",
    "seahawkslolb = seahawks[seahawks['Position'] == 'LOLB']\n",
    "seahawksmlb['Predicted Rating'] = modelmlb(seahawksmlb)\n",
    "seahawksrolb['Predicted Rating'] = modelrolb(seahawksrolb)\n",
    "seahawkslolb['Predicted Rating'] = modellolb(seahawkslolb)\n",
    "seahawksmlb_mean = np.mean(seahawksmlb['Predicted Rating'])\n",
    "seahawksrolb_mean = np.mean(seahawksrolb['Predicted Rating'])\n",
    "seahawkslolb_mean = np.mean(seahawkslolb['Predicted Rating'])\n",
    "seahawkslb_mean = np.mean([seahawksmlb_mean, seahawksrolb_mean, seahawkslolb_mean])\n",
    "print(seahawkslb_mean, seahawksmlb_mean, seahawkslolb_mean, seahawksrolb_mean) "
   ]
  },
  {
   "cell_type": "code",
   "execution_count": 80,
   "metadata": {},
   "outputs": [
    {
     "name": "stdout",
     "output_type": "stream",
     "text": [
      "73.47217063492063 70.97572857142856 76.61663333333334 72.82414999999999\n"
     ]
    }
   ],
   "source": [
    "seahawkscb = seahawks[seahawks['Position'] == 'CB']\n",
    "seahawksfs = seahawks[seahawks['Position'] == 'FS']\n",
    "seahawksss = seahawks[seahawks['Position'] == 'SS']\n",
    "seahawkscb['Predicted Rating'] = modelcb(seahawkscb)\n",
    "seahawksss['Predicted Rating'] = modelss(seahawksss)\n",
    "seahawksfs['Predicted Rating'] = modelfs(seahawksfs)\n",
    "seahawksss_mean = np.mean(seahawksss['Predicted Rating'])\n",
    "seahawkscb_mean = np.mean(seahawkscb['Predicted Rating'])\n",
    "seahawksfs_mean = np.mean(seahawksfs['Predicted Rating'])\n",
    "seahawkssecondary_mean = np.mean([seahawkscb_mean, seahawksss_mean, seahawksfs_mean])\n",
    "print(seahawkssecondary_mean, seahawkscb_mean, seahawksfs_mean, seahawksss_mean) "
   ]
  },
  {
   "cell_type": "code",
   "execution_count": 81,
   "metadata": {},
   "outputs": [
    {
     "data": {
      "text/plain": [
       "74.12649391534391"
      ]
     },
     "execution_count": 81,
     "metadata": {},
     "output_type": "execute_result"
    }
   ],
   "source": [
    "seahawks_defense_mean = np.mean([seahawkslb_mean, seahawksdl_mean, seahawkssecondary_mean])\n",
    "seahawks_defense_mean"
   ]
  },
  {
   "cell_type": "code",
   "execution_count": null,
   "metadata": {},
   "outputs": [],
   "source": []
  },
  {
   "cell_type": "code",
   "execution_count": 82,
   "metadata": {},
   "outputs": [],
   "source": [
    "#NFC NORTH Defense"
   ]
  },
  {
   "cell_type": "code",
   "execution_count": 83,
   "metadata": {},
   "outputs": [
    {
     "data": {
      "text/plain": [
       "71.52403055555556"
      ]
     },
     "execution_count": 83,
     "metadata": {},
     "output_type": "execute_result"
    }
   ],
   "source": [
    "bearsdt = bears[bears['Position'] == 'DT']\n",
    "bearsre = bears[bears['Position'] == 'RE']\n",
    "bearsle = bears[bears['Position'] == 'LE']\n",
    "bearsdt['Predicted Rating'] = modeldt(bearsdt)\n",
    "bearsre['Predicted Rating'] = modelre(bearsre)\n",
    "bearsle['Predicted Rating'] = modelle(bearsle)\n",
    "bearsdt_mean = np.mean(bearsdt['Predicted Rating'])\n",
    "bearsre_mean = np.mean(bearsre['Predicted Rating'])\n",
    "bearsle_mean = np.mean(bearsle['Predicted Rating'])\n",
    "bearsdl_mean = np.mean([bearsdt_mean, bearsre_mean, bearsle_mean])\n",
    "bearsdl_mean"
   ]
  },
  {
   "cell_type": "code",
   "execution_count": 85,
   "metadata": {},
   "outputs": [
    {
     "name": "stdout",
     "output_type": "stream",
     "text": [
      "70.83030000000001 71.57316666666667 68.92920000000001 71.98853333333334\n"
     ]
    }
   ],
   "source": [
    "bearsmlb = bears[bears['Position'] == 'MLB']\n",
    "bearsrolb = bears[bears['Position'] == 'ROLB']\n",
    "bearslolb = bears[bears['Position'] == 'LOLB']\n",
    "bearsmlb['Predicted Rating'] = modelmlb(bearsmlb)\n",
    "bearsrolb['Predicted Rating'] = modelrolb(bearsrolb)\n",
    "bearslolb['Predicted Rating'] = modellolb(bearslolb)\n",
    "bearsmlb_mean = np.mean(bearsmlb['Predicted Rating'])\n",
    "bearsrolb_mean = np.mean(bearsrolb['Predicted Rating'])\n",
    "bearslolb_mean = np.mean(bearslolb['Predicted Rating'])\n",
    "bearslb_mean = np.mean([bearsmlb_mean, bearsrolb_mean, bearslolb_mean])\n",
    "print(bearslb_mean, bearsmlb_mean, bearslolb_mean, bearsrolb_mean) "
   ]
  },
  {
   "cell_type": "code",
   "execution_count": 86,
   "metadata": {},
   "outputs": [
    {
     "name": "stdout",
     "output_type": "stream",
     "text": [
      "71.58992962962962 70.69635555555554 72.6144 71.45903333333332\n"
     ]
    }
   ],
   "source": [
    "bearscb = bears[bears['Position'] == 'CB']\n",
    "bearsfs = bears[bears['Position'] == 'FS']\n",
    "bearsss = bears[bears['Position'] == 'SS']\n",
    "bearscb['Predicted Rating'] = modelcb(bearscb)\n",
    "bearsss['Predicted Rating'] = modelss(bearsss)\n",
    "bearsfs['Predicted Rating'] = modelfs(bearsfs)\n",
    "bearsss_mean = np.mean(bearsss['Predicted Rating'])\n",
    "bearscb_mean = np.mean(bearscb['Predicted Rating'])\n",
    "bearsfs_mean = np.mean(bearsfs['Predicted Rating'])\n",
    "bearssecondary_mean = np.mean([bearscb_mean, bearsss_mean, bearsfs_mean])\n",
    "print(bearssecondary_mean, bearscb_mean, bearsfs_mean, bearsss_mean) "
   ]
  },
  {
   "cell_type": "code",
   "execution_count": 87,
   "metadata": {},
   "outputs": [
    {
     "data": {
      "text/plain": [
       "71.31475339506174"
      ]
     },
     "execution_count": 87,
     "metadata": {},
     "output_type": "execute_result"
    }
   ],
   "source": [
    "bears_defense_mean = np.mean([bearslb_mean, bearsdl_mean, bearssecondary_mean])\n",
    "bears_defense_mean"
   ]
  },
  {
   "cell_type": "code",
   "execution_count": null,
   "metadata": {},
   "outputs": [],
   "source": []
  },
  {
   "cell_type": "code",
   "execution_count": 88,
   "metadata": {},
   "outputs": [
    {
     "data": {
      "text/plain": [
       "70.61033166666668"
      ]
     },
     "execution_count": 88,
     "metadata": {},
     "output_type": "execute_result"
    }
   ],
   "source": [
    "lionsdt = lions[lions['Position'] == 'DT']\n",
    "lionsre = lions[lions['Position'] == 'RE']\n",
    "lionsle = lions[lions['Position'] == 'LE']\n",
    "lionsdt['Predicted Rating'] = modeldt(lionsdt)\n",
    "lionsre['Predicted Rating'] = modelre(lionsre)\n",
    "lionsle['Predicted Rating'] = modelle(lionsle)\n",
    "lionsdt_mean = np.mean(lionsdt['Predicted Rating'])\n",
    "lionsre_mean = np.mean(lionsre['Predicted Rating'])\n",
    "lionsle_mean = np.mean(lionsle['Predicted Rating'])\n",
    "lionsdl_mean = np.mean([lionsdt_mean, lionsre_mean, lionsle_mean])\n",
    "lionsdl_mean"
   ]
  },
  {
   "cell_type": "code",
   "execution_count": 89,
   "metadata": {},
   "outputs": [
    {
     "name": "stdout",
     "output_type": "stream",
     "text": [
      "70.211 67.72663333333334 69.6703 73.23606666666666\n"
     ]
    }
   ],
   "source": [
    "lionsmlb = lions[lions['Position'] == 'MLB']\n",
    "lionsrolb = lions[lions['Position'] == 'ROLB']\n",
    "lionslolb = lions[lions['Position'] == 'LOLB']\n",
    "lionsmlb['Predicted Rating'] = modelmlb(lionsmlb)\n",
    "lionsrolb['Predicted Rating'] = modelrolb(lionsrolb)\n",
    "lionslolb['Predicted Rating'] = modellolb(lionslolb)\n",
    "lionsmlb_mean = np.mean(lionsmlb['Predicted Rating'])\n",
    "lionsrolb_mean = np.mean(lionsrolb['Predicted Rating'])\n",
    "lionslolb_mean = np.mean(lionslolb['Predicted Rating'])\n",
    "lionslb_mean = np.mean([lionsmlb_mean, lionsrolb_mean, lionslolb_mean])\n",
    "print(lionslb_mean, lionsmlb_mean, lionslolb_mean, lionsrolb_mean) "
   ]
  },
  {
   "cell_type": "code",
   "execution_count": 90,
   "metadata": {},
   "outputs": [
    {
     "name": "stdout",
     "output_type": "stream",
     "text": [
      "72.28704047619048 73.53137142857143 73.18920000000001 70.14055\n"
     ]
    }
   ],
   "source": [
    "lionscb = lions[lions['Position'] == 'CB']\n",
    "lionsfs = lions[lions['Position'] == 'FS']\n",
    "lionsss = lions[lions['Position'] == 'SS']\n",
    "lionscb['Predicted Rating'] = modelcb(lionscb)\n",
    "lionsss['Predicted Rating'] = modelss(lionsss)\n",
    "lionsfs['Predicted Rating'] = modelfs(lionsfs)\n",
    "lionsss_mean = np.mean(lionsss['Predicted Rating'])\n",
    "lionscb_mean = np.mean(lionscb['Predicted Rating'])\n",
    "lionsfs_mean = np.mean(lionsfs['Predicted Rating'])\n",
    "lionssecondary_mean = np.mean([lionscb_mean, lionsss_mean, lionsfs_mean])\n",
    "print(lionssecondary_mean, lionscb_mean, lionsfs_mean, lionsss_mean) "
   ]
  },
  {
   "cell_type": "code",
   "execution_count": 91,
   "metadata": {},
   "outputs": [
    {
     "data": {
      "text/plain": [
       "71.03612404761905"
      ]
     },
     "execution_count": 91,
     "metadata": {},
     "output_type": "execute_result"
    }
   ],
   "source": [
    "lions_defense_mean = np.mean([lionslb_mean, lionsdl_mean, lionssecondary_mean])\n",
    "lions_defense_mean"
   ]
  },
  {
   "cell_type": "code",
   "execution_count": 92,
   "metadata": {},
   "outputs": [
    {
     "data": {
      "text/plain": [
       "72.56238333333333"
      ]
     },
     "execution_count": 92,
     "metadata": {},
     "output_type": "execute_result"
    }
   ],
   "source": [
    "packersdt = packers[packers['Position'] == 'DT']\n",
    "packersre = packers[packers['Position'] == 'RE']\n",
    "packersle = packers[packers['Position'] == 'LE']\n",
    "packersdt['Predicted Rating'] = modeldt(packersdt)\n",
    "packersre['Predicted Rating'] = modelre(packersre)\n",
    "packersle['Predicted Rating'] = modelle(packersle)\n",
    "packersdt_mean = np.mean(packersdt['Predicted Rating'])\n",
    "packersre_mean = np.mean(packersre['Predicted Rating'])\n",
    "packersle_mean = np.mean(packersle['Predicted Rating'])\n",
    "packersdl_mean = np.mean([packersdt_mean, packersre_mean, packersle_mean])\n",
    "packersdl_mean"
   ]
  },
  {
   "cell_type": "code",
   "execution_count": 93,
   "metadata": {},
   "outputs": [
    {
     "name": "stdout",
     "output_type": "stream",
     "text": [
      "69.90115277777778 70.964475 67.71695 71.02203333333334\n"
     ]
    }
   ],
   "source": [
    "packersmlb = packers[packers['Position'] == 'MLB']\n",
    "packersrolb = packers[packers['Position'] == 'ROLB']\n",
    "packerslolb = packers[packers['Position'] == 'LOLB']\n",
    "packersmlb['Predicted Rating'] = modelmlb(packersmlb)\n",
    "packersrolb['Predicted Rating'] = modelrolb(packersrolb)\n",
    "packerslolb['Predicted Rating'] = modellolb(packerslolb)\n",
    "packersmlb_mean = np.mean(packersmlb['Predicted Rating'])\n",
    "packersrolb_mean = np.mean(packersrolb['Predicted Rating'])\n",
    "packerslolb_mean = np.mean(packerslolb['Predicted Rating'])\n",
    "packerslb_mean = np.mean([packersmlb_mean, packersrolb_mean, packerslolb_mean])\n",
    "print(packerslb_mean, packersmlb_mean, packerslolb_mean, packersrolb_mean) "
   ]
  },
  {
   "cell_type": "code",
   "execution_count": 94,
   "metadata": {},
   "outputs": [
    {
     "name": "stdout",
     "output_type": "stream",
     "text": [
      "69.37087777777776 70.42629999999998 70.31683333333332 67.3695\n"
     ]
    }
   ],
   "source": [
    "packerscb = packers[packers['Position'] == 'CB']\n",
    "packersfs = packers[packers['Position'] == 'FS']\n",
    "packersss = packers[packers['Position'] == 'SS']\n",
    "packerscb['Predicted Rating'] = modelcb(packerscb)\n",
    "packersss['Predicted Rating'] = modelss(packersss)\n",
    "packersfs['Predicted Rating'] = modelfs(packersfs)\n",
    "packersss_mean = np.mean(packersss['Predicted Rating'])\n",
    "packerscb_mean = np.mean(packerscb['Predicted Rating'])\n",
    "packersfs_mean = np.mean(packersfs['Predicted Rating'])\n",
    "packerssecondary_mean = np.mean([packerscb_mean, packersss_mean, packersfs_mean])\n",
    "print(packerssecondary_mean, packerscb_mean, packersfs_mean, packersss_mean) "
   ]
  },
  {
   "cell_type": "code",
   "execution_count": 95,
   "metadata": {},
   "outputs": [
    {
     "data": {
      "text/plain": [
       "70.6114712962963"
      ]
     },
     "execution_count": 95,
     "metadata": {},
     "output_type": "execute_result"
    }
   ],
   "source": [
    "packers_defense_mean = np.mean([packerslb_mean, packersdl_mean, packerssecondary_mean])\n",
    "packers_defense_mean"
   ]
  },
  {
   "cell_type": "code",
   "execution_count": null,
   "metadata": {},
   "outputs": [],
   "source": []
  }
 ],
 "metadata": {
  "kernelspec": {
   "display_name": "Python 3",
   "language": "python",
   "name": "python3"
  },
  "language_info": {
   "codemirror_mode": {
    "name": "ipython",
    "version": 3
   },
   "file_extension": ".py",
   "mimetype": "text/x-python",
   "name": "python",
   "nbconvert_exporter": "python",
   "pygments_lexer": "ipython3",
   "version": "3.6.4"
  }
 },
 "nbformat": 4,
 "nbformat_minor": 2
}
