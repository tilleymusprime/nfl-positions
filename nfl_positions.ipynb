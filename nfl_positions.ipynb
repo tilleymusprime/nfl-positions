{
 "cells": [
  {
   "cell_type": "code",
   "execution_count": 1,
   "metadata": {},
   "outputs": [],
   "source": [
    "import numpy as np\n",
    "import pandas as pd\n",
    "import matplotlib.pyplot as plt\n",
    "\n",
    "pd.options.mode.chained_assignment = None"
   ]
  },
  {
   "cell_type": "code",
   "execution_count": null,
   "metadata": {},
   "outputs": [],
   "source": []
  },
  {
   "cell_type": "code",
   "execution_count": 146,
   "metadata": {},
   "outputs": [],
   "source": [
    "df = pd.read_excel('C:\\\\Users\\\\tilleymusprime\\\\Desktop\\\\Full Madden 19 Ratings.xlsx')"
   ]
  },
  {
   "cell_type": "code",
   "execution_count": 3,
   "metadata": {},
   "outputs": [
    {
     "data": {
      "text/plain": [
       "array(['Team', 'Jersey #', 'Name', 'Age', 'Position', 'Overall',\n",
       "       'Awareness', 'Agility', 'Speed', 'Acceleration', 'Strength',\n",
       "       'Stamina', 'Jumping', 'Injury', 'Throw Power',\n",
       "       'Throw Accuracy Short', 'Throw Accuracy Mid',\n",
       "       'Throw Accuracy Deep', 'Throw on the Run', 'Throw Under Pressure',\n",
       "       'Playaction', 'Break Sack', 'Carrying', 'BC Vision',\n",
       "       'Break Tackle', 'Elusiveness', 'Spin Move', 'Trucking',\n",
       "       'Juke Move', 'Stiff Arm', 'Lead Block', 'Catch', 'Spec. Catch',\n",
       "       'Catch in Traffic', 'Short Route Runing', 'Medium Route Running',\n",
       "       'Deep Route Running', 'Release', 'Run Block', 'Pass Block',\n",
       "       'Run Block Power', 'Pass Block Power', 'Run Block Finesse',\n",
       "       'Pass Block Finesse', 'Impact Blocking', 'Power Moves',\n",
       "       'Finesse Moves', 'Block Shedding', 'Tackle', 'Play Recognition',\n",
       "       'Pursuit', 'Hit Power', 'Man Coverage', 'Zone Coverage', 'Press',\n",
       "       'Toughness', 'Kick Return', 'Kick Power', 'Kick Accuracy',\n",
       "       'Height', 'Weight', 'Birthdate', 'Years Pro', 'Handedness',\n",
       "       'College', 'Total Salary', 'Signing Bonus'], dtype=object)"
      ]
     },
     "execution_count": 3,
     "metadata": {},
     "output_type": "execute_result"
    }
   ],
   "source": [
    "df.columns.values"
   ]
  },
  {
   "cell_type": "code",
   "execution_count": 4,
   "metadata": {},
   "outputs": [
    {
     "data": {
      "text/plain": [
       "(2368, 67)"
      ]
     },
     "execution_count": 4,
     "metadata": {},
     "output_type": "execute_result"
    }
   ],
   "source": [
    "df.shape"
   ]
  },
  {
   "cell_type": "code",
   "execution_count": 5,
   "metadata": {},
   "outputs": [],
   "source": [
    "for x in df:\n",
    "    y = df[df['Team'] == 'x']"
   ]
  },
  {
   "cell_type": "code",
   "execution_count": 6,
   "metadata": {},
   "outputs": [
    {
     "data": {
      "text/html": [
       "<div>\n",
       "<style scoped>\n",
       "    .dataframe tbody tr th:only-of-type {\n",
       "        vertical-align: middle;\n",
       "    }\n",
       "\n",
       "    .dataframe tbody tr th {\n",
       "        vertical-align: top;\n",
       "    }\n",
       "\n",
       "    .dataframe thead th {\n",
       "        text-align: right;\n",
       "    }\n",
       "</style>\n",
       "<table border=\"1\" class=\"dataframe\">\n",
       "  <thead>\n",
       "    <tr style=\"text-align: right;\">\n",
       "      <th></th>\n",
       "      <th>Team</th>\n",
       "      <th>Jersey #</th>\n",
       "      <th>Name</th>\n",
       "      <th>Age</th>\n",
       "      <th>Position</th>\n",
       "      <th>Overall</th>\n",
       "      <th>Awareness</th>\n",
       "      <th>Agility</th>\n",
       "      <th>Speed</th>\n",
       "      <th>Acceleration</th>\n",
       "      <th>...</th>\n",
       "      <th>Kick Power</th>\n",
       "      <th>Kick Accuracy</th>\n",
       "      <th>Height</th>\n",
       "      <th>Weight</th>\n",
       "      <th>Birthdate</th>\n",
       "      <th>Years Pro</th>\n",
       "      <th>Handedness</th>\n",
       "      <th>College</th>\n",
       "      <th>Total Salary</th>\n",
       "      <th>Signing Bonus</th>\n",
       "    </tr>\n",
       "  </thead>\n",
       "  <tbody>\n",
       "  </tbody>\n",
       "</table>\n",
       "<p>0 rows × 67 columns</p>\n",
       "</div>"
      ],
      "text/plain": [
       "Empty DataFrame\n",
       "Columns: [Team, Jersey #, Name, Age, Position, Overall, Awareness, Agility, Speed, Acceleration, Strength, Stamina, Jumping, Injury, Throw Power, Throw Accuracy Short, Throw Accuracy Mid, Throw Accuracy Deep, Throw on the Run, Throw Under Pressure, Playaction, Break Sack, Carrying, BC Vision, Break Tackle, Elusiveness, Spin Move, Trucking, Juke Move, Stiff Arm, Lead Block, Catch, Spec. Catch, Catch in Traffic, Short Route Runing, Medium Route Running, Deep Route Running, Release, Run Block, Pass Block, Run Block Power, Pass Block Power, Run Block Finesse, Pass Block Finesse, Impact Blocking, Power Moves, Finesse Moves, Block Shedding, Tackle, Play Recognition, Pursuit, Hit Power, Man Coverage, Zone Coverage, Press, Toughness, Kick Return, Kick Power, Kick Accuracy, Height, Weight, Birthdate, Years Pro, Handedness, College, Total Salary, Signing Bonus]\n",
       "Index: []\n",
       "\n",
       "[0 rows x 67 columns]"
      ]
     },
     "execution_count": 6,
     "metadata": {},
     "output_type": "execute_result"
    }
   ],
   "source": [
    "y"
   ]
  },
  {
   "cell_type": "code",
   "execution_count": null,
   "metadata": {},
   "outputs": [],
   "source": []
  },
  {
   "cell_type": "code",
   "execution_count": 7,
   "metadata": {},
   "outputs": [],
   "source": [
    "cowboys = df[df['Team'] == 'Cowboys']\n",
    "niners = df[df['Team'] == '49ers']\n",
    "bears = df[df['Team'] == 'Bears']\n",
    "bengals = df[df['Team'] == 'Bengals']\n",
    "bills = df[df['Team'] == 'Bills']\n",
    "broncos = df[df['Team'] == 'Broncos']\n",
    "browns = df[df['Team'] == 'Browns']\n",
    "buccaneers = df[df['Team'] == 'Buccaneers']\n",
    "cardinals = df[df['Team'] == 'Cardinals']\n",
    "chargers = df[df['Team'] == 'Chargers']\n",
    "chiefs = df[df['Team'] == 'Chiefs']\n",
    "colts = df[df['Team'] == 'Colts']\n",
    "dolphins = df[df['Team'] == 'Dolphins']\n",
    "eagles = df[df['Team'] == 'Eagles']\n",
    "falcons = df[df['Team'] == 'Falcons']\n",
    "giants = df[df['Team'] == 'Giants']\n",
    "jaguars = df[df['Team'] == 'Jaguars']\n",
    "jets = df[df['Team'] == 'Jets']\n",
    "lions = df[df['Team'] == 'Lions']\n",
    "packers = df[df['Team'] == 'Packers']\n",
    "panthers = df[df['Team'] == 'Panthers']\n",
    "patriots = df[df['Team'] == 'Patriots']\n",
    "raiders = df[df['Team'] == 'Raiders']\n",
    "rams = df[df['Team'] == 'Rams']\n",
    "ravens = df[df['Team'] == 'Ravens']\n",
    "redskins = df[df['Team'] == 'Redskins']\n",
    "saints = df[df['Team'] == 'Saints']\n",
    "seahawks = df[df['Team'] == 'Seahawks']\n",
    "steelers = df[df['Team'] == 'Steelers']\n",
    "texans = df[df['Team'] == 'Texans']\n",
    "titans = df[df['Team'] == 'Titans']\n",
    "vikings = df[df['Team'] == 'Vikings']"
   ]
  },
  {
   "cell_type": "code",
   "execution_count": null,
   "metadata": {},
   "outputs": [],
   "source": []
  },
  {
   "cell_type": "code",
   "execution_count": null,
   "metadata": {},
   "outputs": [],
   "source": []
  },
  {
   "cell_type": "code",
   "execution_count": 8,
   "metadata": {},
   "outputs": [],
   "source": [
    "def modelqb(x):\n",
    "    pv=0.3681*x['Awareness']+ 0.0876*x['Play Action'] -0.1561*x['Stamina']+ 0.2824*x['Throw Accuracy Mid'] + 0.4140*x['Throw on the Run']\n",
    "    return pv"
   ]
  },
  {
   "cell_type": "code",
   "execution_count": 9,
   "metadata": {},
   "outputs": [],
   "source": [
    "def modelhb(x):\n",
    "    pv=0.2959*x['Awareness']+ 0.2176*x['Ball Carrier Vision']+ 0.1988*x['Carrying']+ 0.1989*x['Juke Move']+ 0.0464* x['Route Running']\n",
    "    return pv"
   ]
  },
  {
   "cell_type": "code",
   "execution_count": 10,
   "metadata": {},
   "outputs": [],
   "source": [
    "def modelte(x):\n",
    "    pv= 0.4861*x['Catching'] -0.0706*x['Jumping'] + 0.1107*x['Release'] + 0.2881*x['Route Running']+ 0.2144*x['Stiff Arm']\n",
    "    return pv"
   ]
  },
  {
   "cell_type": "code",
   "execution_count": 11,
   "metadata": {},
   "outputs": [],
   "source": [
    "def modelwr(x):\n",
    "    pv= 0.2671*x['Awareness']+ 0.1801*x['Ball Carrier Vision']+ 0.1971*x['Catch In Traffic'] + 0.1556*x['Release']+ 0.1740*x['Route Running']\n",
    "    return pv"
   ]
  },
  {
   "cell_type": "code",
   "execution_count": 12,
   "metadata": {},
   "outputs": [],
   "source": [
    "def modelrt(x):\n",
    "    pv=0.3561*x['Awareness']+ 0.0865*x['Impact Blocking']+ 0.2429*x['Pass Block']+ 0.2875*x['Run Block']\n",
    "    return pv"
   ]
  },
  {
   "cell_type": "code",
   "execution_count": 13,
   "metadata": {},
   "outputs": [],
   "source": [
    "def modelrg(x):\n",
    "    pv = 0.3832*x['Awareness']+ 0.1057*x['Impact Blocking']+ 0.3457*x['Pass Block']+ 0.2180*x['Run Block'] - 0.0776*x['Strength']\n",
    "    return pv"
   ]
  },
  {
   "cell_type": "code",
   "execution_count": 14,
   "metadata": {},
   "outputs": [],
   "source": [
    "def modelc(x):\n",
    "    pv = (0.395*x['Awareness'])+(0.3362*x['Pass Block'])+(0.2182*x['Run Block'])\n",
    "    return pv"
   ]
  },
  {
   "cell_type": "code",
   "execution_count": 15,
   "metadata": {},
   "outputs": [],
   "source": [
    "def modellg(x):\n",
    "    pv=0.3240*x['Awareness']+ 0.1756*x['Impact Blocking']+ 0.4625*x['Pass Block']\n",
    "    return pv"
   ]
  },
  {
   "cell_type": "code",
   "execution_count": 16,
   "metadata": {},
   "outputs": [],
   "source": [
    "def modellt(x):\n",
    "    pv = 0.3305*x['Awareness']+ 0.1838*x['Impact Blocking'] + 0.4364*x['Pass Block']\n",
    "    return pv"
   ]
  },
  {
   "cell_type": "code",
   "execution_count": 17,
   "metadata": {},
   "outputs": [],
   "source": [
    "def modelre(x):\n",
    "    predicted_value = (0.4737 * x['Awareness']) + (0.4280 * x['Pursuit']) + (0.1094 * x['Tackle'])-(0.0716 * x['Pass Block'])\n",
    "    return predicted_value"
   ]
  },
  {
   "cell_type": "code",
   "execution_count": 18,
   "metadata": {},
   "outputs": [],
   "source": [
    "def modeldt(x):\n",
    "    pv= 0.4257*x['Awareness']+ 0.2553*x['Pursuit']+ 0.2858*x['Tackle']\n",
    "    return pv"
   ]
  },
  {
   "cell_type": "code",
   "execution_count": 19,
   "metadata": {},
   "outputs": [],
   "source": [
    "def modelle(x):\n",
    "    pv=0.4811*x['Play Recognition'] + 0.4957*x['Pursuit']\n",
    "    return pv"
   ]
  },
  {
   "cell_type": "code",
   "execution_count": 20,
   "metadata": {},
   "outputs": [],
   "source": [
    "def modelmlb(x):\n",
    "    pv=0.2514*x['Block Shedding']+ 0.1328*x['Man Coverage'] + 0.5093*x['Play Recognition'] + 0.0733*x['Pursuit'] - 0.1607*x['Stamina']+ 0.1949*x['Tackle']\n",
    "    return pv"
   ]
  },
  {
   "cell_type": "code",
   "execution_count": 21,
   "metadata": {},
   "outputs": [],
   "source": [
    "def modelrolb(x):\n",
    "    predicted_values = (0.4707 * x['Awareness']) + (0.2411 * x['Tackle']) + 0.2547*x['Pursuit']\n",
    "    return predicted_values"
   ]
  },
  {
   "cell_type": "code",
   "execution_count": 22,
   "metadata": {},
   "outputs": [],
   "source": [
    "def modellolb(x):\n",
    "    pv = 0.4769*x['Awareness'] + 0.1128*x['Block Shedding']+ 0.2223* x['Pursuit']+ 0.1527*x['Tackle']\n",
    "    return pv"
   ]
  },
  {
   "cell_type": "code",
   "execution_count": 23,
   "metadata": {},
   "outputs": [],
   "source": [
    "def modelfs(x):\n",
    "    pv = 0.3850*x['Awareness']+ 0.1465*x['Stamina'] + 0.4447*x['Zone Coverage']\n",
    "    return pv"
   ]
  },
  {
   "cell_type": "code",
   "execution_count": 24,
   "metadata": {},
   "outputs": [],
   "source": [
    "def modelcb(x):\n",
    "    pv = (0.3870*x['Awareness'])+(0.1122*x['Impact Blocking'])+(0.3388*x['Man Coverage'])+(0.2595*x['Zone Coverage'])-0.0556*x['Stamina']\n",
    "    return pv"
   ]
  },
  {
   "cell_type": "code",
   "execution_count": 25,
   "metadata": {},
   "outputs": [],
   "source": [
    "def modelss(x):\n",
    "    pv = (0.4607*x['Awareness'])+(0.1388*x['Pursuit'])+(0.2140*x['Tackle'])+(0.2163*x['Zone Coverage'])\n",
    "    return pv"
   ]
  },
  {
   "cell_type": "code",
   "execution_count": null,
   "metadata": {},
   "outputs": [],
   "source": []
  },
  {
   "cell_type": "code",
   "execution_count": 26,
   "metadata": {},
   "outputs": [],
   "source": [
    "#Here are the new models for position groups"
   ]
  },
  {
   "cell_type": "code",
   "execution_count": 27,
   "metadata": {},
   "outputs": [],
   "source": [
    "def dline(x, y, z):\n",
    "    y = np.mean(x) + np.mean(y) + np.mean(z)\n",
    "    return y"
   ]
  },
  {
   "cell_type": "code",
   "execution_count": 28,
   "metadata": {},
   "outputs": [],
   "source": [
    "def modeldt(x):\n",
    "    pv= 0.4257*x['Awareness']+ 0.2553*x['Pursuit']+ 0.2858*x['Tackle']\n",
    "    return pv"
   ]
  },
  {
   "cell_type": "code",
   "execution_count": null,
   "metadata": {},
   "outputs": [],
   "source": []
  },
  {
   "cell_type": "code",
   "execution_count": 29,
   "metadata": {},
   "outputs": [],
   "source": [
    "####NFC East Defenses"
   ]
  },
  {
   "cell_type": "code",
   "execution_count": 30,
   "metadata": {},
   "outputs": [
    {
     "data": {
      "text/plain": [
       "73.21787037037036"
      ]
     },
     "execution_count": 30,
     "metadata": {},
     "output_type": "execute_result"
    }
   ],
   "source": [
    "cowboysdt = cowboys[cowboys['Position'] == 'DT']\n",
    "cowboysre = cowboys[cowboys['Position'] == 'RE']\n",
    "cowboysle = cowboys[cowboys['Position'] == 'LE']\n",
    "cowboysdt['Predicted Rating'] = modeldt(cowboysdt)\n",
    "cowboysre['Predicted Rating'] = modelre(cowboysre)\n",
    "cowboysle['Predicted Rating'] = modelle(cowboysle)\n",
    "cowboysdt_mean = np.mean(cowboysdt['Predicted Rating'])\n",
    "cowboysre_mean = np.mean(cowboysre['Predicted Rating'])\n",
    "cowboysle_mean = np.mean(cowboysle['Predicted Rating'])\n",
    "cowboysdl_mean = np.mean([cowboysdt_mean, cowboysre_mean, cowboysle_mean])\n",
    "cowboysdl_mean"
   ]
  },
  {
   "cell_type": "code",
   "execution_count": 31,
   "metadata": {},
   "outputs": [
    {
     "name": "stdout",
     "output_type": "stream",
     "text": [
      "70.26298333333334 71.28399999999999 67.001925 72.50302500000001\n"
     ]
    }
   ],
   "source": [
    "cowboysmlb = cowboys[cowboys['Position'] == 'MLB']\n",
    "cowboysrolb = cowboys[cowboys['Position'] == 'ROLB']\n",
    "cowboyslolb = cowboys[cowboys['Position'] == 'LOLB']\n",
    "cowboysmlb['Predicted Rating'] = modelmlb(cowboysmlb)\n",
    "cowboysrolb['Predicted Rating'] = modelrolb(cowboysrolb)\n",
    "cowboyslolb['Predicted Rating'] = modellolb(cowboyslolb)\n",
    "cowboysmlb_mean = np.mean(cowboysmlb['Predicted Rating'])\n",
    "cowboysrolb_mean = np.mean(cowboysrolb['Predicted Rating'])\n",
    "cowboyslolb_mean = np.mean(cowboyslolb['Predicted Rating'])\n",
    "cowboyslb_mean = np.mean([cowboysmlb_mean, cowboysrolb_mean, cowboyslolb_mean])\n",
    "cowboysmlb_diff = cowboys\n",
    "print(cowboyslb_mean, cowboysmlb_mean, cowboyslolb_mean, cowboysrolb_mean) "
   ]
  },
  {
   "cell_type": "code",
   "execution_count": 32,
   "metadata": {},
   "outputs": [
    {
     "name": "stdout",
     "output_type": "stream",
     "text": [
      "72.21830333333334 74.25135999999999 68.1369 74.26665\n"
     ]
    }
   ],
   "source": [
    "cowboyscb = cowboys[cowboys['Position'] == 'CB']\n",
    "cowboysfs = cowboys[cowboys['Position'] == 'FS']\n",
    "cowboysss = cowboys[cowboys['Position'] == 'SS']\n",
    "cowboyscb['Predicted Rating'] = modelcb(cowboyscb)\n",
    "cowboysss['Predicted Rating'] = modelss(cowboysss)\n",
    "cowboysfs['Predicted Rating'] = modelfs(cowboysfs)\n",
    "cowboysss_mean = np.mean(cowboysss['Predicted Rating'])\n",
    "cowboyscb_mean = np.mean(cowboyscb['Predicted Rating'])\n",
    "cowboysfs_mean = np.mean(cowboysfs['Predicted Rating'])\n",
    "cowboyssecondary_mean = np.mean([cowboyscb_mean, cowboysss_mean, cowboysfs_mean])\n",
    "print(cowboyssecondary_mean, cowboyscb_mean, cowboysfs_mean, cowboysss_mean) "
   ]
  },
  {
   "cell_type": "code",
   "execution_count": 33,
   "metadata": {},
   "outputs": [
    {
     "data": {
      "text/plain": [
       "71.89971901234567"
      ]
     },
     "execution_count": 33,
     "metadata": {},
     "output_type": "execute_result"
    }
   ],
   "source": [
    "cowboys_defense_mean = np.mean([cowboyslb_mean, cowboysdl_mean, cowboyssecondary_mean])\n",
    "cowboys_defense_mean"
   ]
  },
  {
   "cell_type": "code",
   "execution_count": 34,
   "metadata": {},
   "outputs": [],
   "source": [
    "cowboys['lb_mean'] = cowboyslb_mean\n",
    "cowboys['dl_mean'] = cowboysdl_mean\n",
    "cowboys['secondary_mean'] = cowboyssecondary_mean\n",
    "cowboys['defense_rating'] = cowboys_defense_mean"
   ]
  },
  {
   "cell_type": "code",
   "execution_count": 35,
   "metadata": {},
   "outputs": [
    {
     "data": {
      "text/plain": [
       "73.99409603174604"
      ]
     },
     "execution_count": 35,
     "metadata": {},
     "output_type": "execute_result"
    }
   ],
   "source": [
    "eaglesdt = eagles[eagles['Position'] == 'DT']\n",
    "eaglesre = eagles[eagles['Position'] == 'RE']\n",
    "eaglesle = eagles[eagles['Position'] == 'LE']\n",
    "eaglesdt['Predicted Rating'] = modeldt(eaglesdt)\n",
    "eaglesre['Predicted Rating'] = modelre(eaglesre)\n",
    "eaglesle['Predicted Rating'] = modelle(eaglesle)\n",
    "eaglesdt_mean = np.mean(eaglesdt['Predicted Rating'])\n",
    "eaglesre_mean = np.mean(eaglesre['Predicted Rating'])\n",
    "eaglesle_mean = np.mean(eaglesle['Predicted Rating'])\n",
    "eaglesdl_mean = np.mean([eaglesdt_mean, eaglesre_mean, eaglesle_mean])\n",
    "eaglesdl_mean"
   ]
  },
  {
   "cell_type": "code",
   "execution_count": 36,
   "metadata": {},
   "outputs": [
    {
     "name": "stdout",
     "output_type": "stream",
     "text": [
      "70.66432777777777 69.47196666666667 72.31746666666665 70.20355\n"
     ]
    }
   ],
   "source": [
    "eaglesmlb = eagles[eagles['Position'] == 'MLB']\n",
    "eaglesrolb = eagles[eagles['Position'] == 'ROLB']\n",
    "eagleslolb = eagles[eagles['Position'] == 'LOLB']\n",
    "eaglesmlb['Predicted Rating'] = modelmlb(eaglesmlb)\n",
    "eaglesrolb['Predicted Rating'] = modelrolb(eaglesrolb)\n",
    "eagleslolb['Predicted Rating'] = modellolb(eagleslolb)\n",
    "eaglesmlb_mean = np.mean(eaglesmlb['Predicted Rating'])\n",
    "eaglesrolb_mean = np.mean(eaglesrolb['Predicted Rating'])\n",
    "eagleslolb_mean = np.mean(eagleslolb['Predicted Rating'])\n",
    "eagleslb_mean = np.mean([eaglesmlb_mean, eaglesrolb_mean, eagleslolb_mean])\n",
    "print(eagleslb_mean, eaglesmlb_mean, eagleslolb_mean, eaglesrolb_mean) "
   ]
  },
  {
   "cell_type": "code",
   "execution_count": 37,
   "metadata": {},
   "outputs": [
    {
     "name": "stdout",
     "output_type": "stream",
     "text": [
      "77.1852630952381 72.3723142857143 68.195975 90.9875\n"
     ]
    }
   ],
   "source": [
    "eaglescb = eagles[eagles['Position'] == 'CB']\n",
    "eaglesfs = eagles[eagles['Position'] == 'FS']\n",
    "eaglesss = eagles[eagles['Position'] == 'SS']\n",
    "eaglescb['Predicted Rating'] = modelcb(eaglescb)\n",
    "eaglesss['Predicted Rating'] = modelss(eaglesss)\n",
    "eaglesfs['Predicted Rating'] = modelfs(eaglesfs)\n",
    "eaglesss_mean = np.mean(eaglesss['Predicted Rating'])\n",
    "eaglescb_mean = np.mean(eaglescb['Predicted Rating'])\n",
    "eaglesfs_mean = np.mean(eaglesfs['Predicted Rating'])\n",
    "eaglessecondary_mean = np.mean([eaglescb_mean, eaglesss_mean, eaglesfs_mean])\n",
    "print(eaglessecondary_mean, eaglescb_mean, eaglesfs_mean, eaglesss_mean) "
   ]
  },
  {
   "cell_type": "code",
   "execution_count": 38,
   "metadata": {},
   "outputs": [
    {
     "data": {
      "text/plain": [
       "73.94789563492064"
      ]
     },
     "execution_count": 38,
     "metadata": {},
     "output_type": "execute_result"
    }
   ],
   "source": [
    "eagles_defense_mean = np.mean([eagleslb_mean, eaglesdl_mean, eaglessecondary_mean])\n",
    "eagles_defense_mean"
   ]
  },
  {
   "cell_type": "code",
   "execution_count": 39,
   "metadata": {},
   "outputs": [],
   "source": [
    "eagles['lb_mean'] = eagleslb_mean\n",
    "eagles['dl_mean'] = eaglesdl_mean\n",
    "eagles['secondary_mean'] = eaglessecondary_mean\n",
    "eagles['defense_rating'] = eagles_defense_mean"
   ]
  },
  {
   "cell_type": "code",
   "execution_count": 40,
   "metadata": {},
   "outputs": [
    {
     "data": {
      "text/plain": [
       "71.58567777777779"
      ]
     },
     "execution_count": 40,
     "metadata": {},
     "output_type": "execute_result"
    }
   ],
   "source": [
    "giantsdt = giants[giants['Position'] == 'DT']\n",
    "giantsre = giants[giants['Position'] == 'RE']\n",
    "giantsle = giants[giants['Position'] == 'LE']\n",
    "giantsdt['Predicted Rating'] = modeldt(giantsdt)\n",
    "giantsre['Predicted Rating'] = modelre(giantsre)\n",
    "giantsle['Predicted Rating'] = modelle(giantsle)\n",
    "giantsdt_mean = np.mean(giantsdt['Predicted Rating'])\n",
    "giantsre_mean = np.mean(giantsre['Predicted Rating'])\n",
    "giantsle_mean = np.mean(giantsle['Predicted Rating'])\n",
    "giantsdl_mean = np.mean([giantsdt_mean, giantsre_mean, giantsle_mean])\n",
    "giantsdl_mean"
   ]
  },
  {
   "cell_type": "code",
   "execution_count": 41,
   "metadata": {},
   "outputs": [
    {
     "name": "stdout",
     "output_type": "stream",
     "text": [
      "68.31878333333333 67.51686666666666 65.82315 71.61633333333333\n"
     ]
    }
   ],
   "source": [
    "giantsmlb = giants[giants['Position'] == 'MLB']\n",
    "giantsrolb = giants[giants['Position'] == 'ROLB']\n",
    "giantslolb = giants[giants['Position'] == 'LOLB']\n",
    "giantsmlb['Predicted Rating'] = modelmlb(giantsmlb)\n",
    "giantsrolb['Predicted Rating'] = modelrolb(giantsrolb)\n",
    "giantslolb['Predicted Rating'] = modellolb(giantslolb)\n",
    "giantsmlb_mean = np.mean(giantsmlb['Predicted Rating'])\n",
    "giantsrolb_mean = np.mean(giantsrolb['Predicted Rating'])\n",
    "giantslolb_mean = np.mean(giantslolb['Predicted Rating'])\n",
    "giantslb_mean = np.mean([giantsmlb_mean, giantsrolb_mean, giantslolb_mean])\n",
    "print(giantslb_mean, giantsmlb_mean, giantslolb_mean, giantsrolb_mean) "
   ]
  },
  {
   "cell_type": "code",
   "execution_count": 42,
   "metadata": {},
   "outputs": [
    {
     "name": "stdout",
     "output_type": "stream",
     "text": [
      "70.63006944444443 69.916225 66.88905 75.08493333333332\n"
     ]
    }
   ],
   "source": [
    "giantscb = giants[giants['Position'] == 'CB']\n",
    "giantsfs = giants[giants['Position'] == 'FS']\n",
    "giantsss = giants[giants['Position'] == 'SS']\n",
    "giantscb['Predicted Rating'] = modelcb(giantscb)\n",
    "giantsss['Predicted Rating'] = modelss(giantsss)\n",
    "giantsfs['Predicted Rating'] = modelfs(giantsfs)\n",
    "giantsss_mean = np.mean(giantsss['Predicted Rating'])\n",
    "giantscb_mean = np.mean(giantscb['Predicted Rating'])\n",
    "giantsfs_mean = np.mean(giantsfs['Predicted Rating'])\n",
    "giantssecondary_mean = np.mean([giantscb_mean, giantsss_mean, giantsfs_mean])\n",
    "print(giantssecondary_mean, giantscb_mean, giantsfs_mean, giantsss_mean) "
   ]
  },
  {
   "cell_type": "code",
   "execution_count": 43,
   "metadata": {},
   "outputs": [
    {
     "data": {
      "text/plain": [
       "70.17817685185184"
      ]
     },
     "execution_count": 43,
     "metadata": {},
     "output_type": "execute_result"
    }
   ],
   "source": [
    "giants_defense_mean = np.mean([giantslb_mean, giantsdl_mean, giantssecondary_mean])\n",
    "giants_defense_mean"
   ]
  },
  {
   "cell_type": "code",
   "execution_count": 44,
   "metadata": {},
   "outputs": [],
   "source": [
    "giants['lb_mean'] = giantslb_mean\n",
    "giants['dl_mean'] = giantsdl_mean\n",
    "giants['secondary_mean'] = giantssecondary_mean\n",
    "giants['defense_rating'] = giants_defense_mean"
   ]
  },
  {
   "cell_type": "code",
   "execution_count": 45,
   "metadata": {},
   "outputs": [
    {
     "data": {
      "text/plain": [
       "69.8834388888889"
      ]
     },
     "execution_count": 45,
     "metadata": {},
     "output_type": "execute_result"
    }
   ],
   "source": [
    "redskinsdt = redskins[redskins['Position'] == 'DT']\n",
    "redskinsre = redskins[redskins['Position'] == 'RE']\n",
    "redskinsle = redskins[redskins['Position'] == 'LE']\n",
    "redskinsdt['Predicted Rating'] = modeldt(redskinsdt)\n",
    "redskinsre['Predicted Rating'] = modelre(redskinsre)\n",
    "redskinsle['Predicted Rating'] = modelle(redskinsle)\n",
    "redskinsdt_mean = np.mean(redskinsdt['Predicted Rating'])\n",
    "redskinsre_mean = np.mean(redskinsre['Predicted Rating'])\n",
    "redskinsle_mean = np.mean(redskinsle['Predicted Rating'])\n",
    "redskinsdl_mean = np.mean([redskinsdt_mean, redskinsre_mean, redskinsle_mean])\n",
    "redskinsdl_mean"
   ]
  },
  {
   "cell_type": "code",
   "execution_count": 46,
   "metadata": {},
   "outputs": [
    {
     "name": "stdout",
     "output_type": "stream",
     "text": [
      "72.92887777777777 71.53301666666665 74.31766666666667 72.93595\n"
     ]
    }
   ],
   "source": [
    "redskinsmlb = redskins[redskins['Position'] == 'MLB']\n",
    "redskinsrolb = redskins[redskins['Position'] == 'ROLB']\n",
    "redskinslolb = redskins[redskins['Position'] == 'LOLB']\n",
    "redskinsmlb['Predicted Rating'] = modelmlb(redskinsmlb)\n",
    "redskinsrolb['Predicted Rating'] = modelrolb(redskinsrolb)\n",
    "redskinslolb['Predicted Rating'] = modellolb(redskinslolb)\n",
    "redskinsmlb_mean = np.mean(redskinsmlb['Predicted Rating'])\n",
    "redskinsrolb_mean = np.mean(redskinsrolb['Predicted Rating'])\n",
    "redskinslolb_mean = np.mean(redskinslolb['Predicted Rating'])\n",
    "redskinslb_mean = np.mean([redskinsmlb_mean, redskinsrolb_mean, redskinslolb_mean])\n",
    "print(redskinslb_mean, redskinsmlb_mean, redskinslolb_mean, redskinsrolb_mean) "
   ]
  },
  {
   "cell_type": "code",
   "execution_count": 47,
   "metadata": {},
   "outputs": [
    {
     "name": "stdout",
     "output_type": "stream",
     "text": [
      "70.156925 72.1284 68.65390000000001 69.688475\n"
     ]
    }
   ],
   "source": [
    "redskinscb = redskins[redskins['Position'] == 'CB']\n",
    "redskinsfs = redskins[redskins['Position'] == 'FS']\n",
    "redskinsss = redskins[redskins['Position'] == 'SS']\n",
    "redskinscb['Predicted Rating'] = modelcb(redskinscb)\n",
    "redskinsss['Predicted Rating'] = modelss(redskinsss)\n",
    "redskinsfs['Predicted Rating'] = modelfs(redskinsfs)\n",
    "redskinsss_mean = np.mean(redskinsss['Predicted Rating'])\n",
    "redskinscb_mean = np.mean(redskinscb['Predicted Rating'])\n",
    "redskinsfs_mean = np.mean(redskinsfs['Predicted Rating'])\n",
    "redskinssecondary_mean = np.mean([redskinscb_mean, redskinsss_mean, redskinsfs_mean])\n",
    "print(redskinssecondary_mean, redskinscb_mean, redskinsfs_mean, redskinsss_mean) "
   ]
  },
  {
   "cell_type": "code",
   "execution_count": 48,
   "metadata": {},
   "outputs": [
    {
     "data": {
      "text/plain": [
       "70.98974722222222"
      ]
     },
     "execution_count": 48,
     "metadata": {},
     "output_type": "execute_result"
    }
   ],
   "source": [
    "redskins_defense_mean = np.mean([redskinslb_mean, redskinsdl_mean, redskinssecondary_mean])\n",
    "redskins_defense_mean"
   ]
  },
  {
   "cell_type": "code",
   "execution_count": 49,
   "metadata": {},
   "outputs": [],
   "source": [
    "redskins['lb_mean'] = redskinslb_mean\n",
    "redskins['dl_mean'] = redskinsdl_mean\n",
    "redskins['secondary_mean'] = redskinssecondary_mean\n",
    "redskins['defense_rating'] = redskins_defense_mean"
   ]
  },
  {
   "cell_type": "code",
   "execution_count": 50,
   "metadata": {},
   "outputs": [
    {
     "data": {
      "text/plain": [
       "(71.89971901234567, 73.94789563492064, 70.17817685185184, 70.98974722222222)"
      ]
     },
     "execution_count": 50,
     "metadata": {},
     "output_type": "execute_result"
    }
   ],
   "source": [
    "cowboys_defense_mean, eagles_defense_mean, giants_defense_mean, redskins_defense_mean"
   ]
  },
  {
   "cell_type": "code",
   "execution_count": 123,
   "metadata": {},
   "outputs": [
    {
     "data": {
      "text/html": [
       "<div>\n",
       "<style scoped>\n",
       "    .dataframe tbody tr th:only-of-type {\n",
       "        vertical-align: middle;\n",
       "    }\n",
       "\n",
       "    .dataframe tbody tr th {\n",
       "        vertical-align: top;\n",
       "    }\n",
       "\n",
       "    .dataframe thead th {\n",
       "        text-align: right;\n",
       "    }\n",
       "</style>\n",
       "<table border=\"1\" class=\"dataframe\">\n",
       "  <thead>\n",
       "    <tr style=\"text-align: right;\">\n",
       "      <th></th>\n",
       "      <th>Team</th>\n",
       "      <th>Jersey #</th>\n",
       "      <th>Name</th>\n",
       "      <th>Age</th>\n",
       "      <th>Position</th>\n",
       "      <th>Overall</th>\n",
       "      <th>Awareness</th>\n",
       "      <th>Agility</th>\n",
       "      <th>Speed</th>\n",
       "      <th>Acceleration</th>\n",
       "      <th>...</th>\n",
       "      <th>Birthdate</th>\n",
       "      <th>Years Pro</th>\n",
       "      <th>Handedness</th>\n",
       "      <th>College</th>\n",
       "      <th>Total Salary</th>\n",
       "      <th>Signing Bonus</th>\n",
       "      <th>lb_mean</th>\n",
       "      <th>dl_mean</th>\n",
       "      <th>secondary_mean</th>\n",
       "      <th>defense_rating</th>\n",
       "    </tr>\n",
       "  </thead>\n",
       "  <tbody>\n",
       "    <tr>\n",
       "      <th>16</th>\n",
       "      <td>Cowboys</td>\n",
       "      <td>72</td>\n",
       "      <td>Travis Frederick</td>\n",
       "      <td>27</td>\n",
       "      <td>C</td>\n",
       "      <td>96</td>\n",
       "      <td>98</td>\n",
       "      <td>69</td>\n",
       "      <td>56</td>\n",
       "      <td>80</td>\n",
       "      <td>...</td>\n",
       "      <td>1991-03-18 00:00:00</td>\n",
       "      <td>5</td>\n",
       "      <td>Right</td>\n",
       "      <td>Wisconsin</td>\n",
       "      <td>39190000</td>\n",
       "      <td>6370000</td>\n",
       "      <td>70.262983</td>\n",
       "      <td>73.21787</td>\n",
       "      <td>72.218303</td>\n",
       "      <td>71.899719</td>\n",
       "    </tr>\n",
       "    <tr>\n",
       "      <th>17</th>\n",
       "      <td>Cowboys</td>\n",
       "      <td>50</td>\n",
       "      <td>Sean Lee</td>\n",
       "      <td>32</td>\n",
       "      <td>ROLB</td>\n",
       "      <td>96</td>\n",
       "      <td>97</td>\n",
       "      <td>81</td>\n",
       "      <td>83</td>\n",
       "      <td>88</td>\n",
       "      <td>...</td>\n",
       "      <td>1986-07-22 00:00:00</td>\n",
       "      <td>8</td>\n",
       "      <td>Right</td>\n",
       "      <td>Penn State</td>\n",
       "      <td>15300000</td>\n",
       "      <td>9700000</td>\n",
       "      <td>70.262983</td>\n",
       "      <td>73.21787</td>\n",
       "      <td>72.218303</td>\n",
       "      <td>71.899719</td>\n",
       "    </tr>\n",
       "    <tr>\n",
       "      <th>18</th>\n",
       "      <td>Cowboys</td>\n",
       "      <td>70</td>\n",
       "      <td>Zack Martin</td>\n",
       "      <td>27</td>\n",
       "      <td>RG</td>\n",
       "      <td>96</td>\n",
       "      <td>93</td>\n",
       "      <td>65</td>\n",
       "      <td>70</td>\n",
       "      <td>81</td>\n",
       "      <td>...</td>\n",
       "      <td>1990-11-20 00:00:00</td>\n",
       "      <td>4</td>\n",
       "      <td>Right</td>\n",
       "      <td>Notre Dame</td>\n",
       "      <td>72341000</td>\n",
       "      <td>20000000</td>\n",
       "      <td>70.262983</td>\n",
       "      <td>73.21787</td>\n",
       "      <td>72.218303</td>\n",
       "      <td>71.899719</td>\n",
       "    </tr>\n",
       "    <tr>\n",
       "      <th>24</th>\n",
       "      <td>Cowboys</td>\n",
       "      <td>77</td>\n",
       "      <td>Tyron Smith</td>\n",
       "      <td>27</td>\n",
       "      <td>LT</td>\n",
       "      <td>95</td>\n",
       "      <td>97</td>\n",
       "      <td>78</td>\n",
       "      <td>74</td>\n",
       "      <td>85</td>\n",
       "      <td>...</td>\n",
       "      <td>1990-12-12 00:00:00</td>\n",
       "      <td>7</td>\n",
       "      <td>Right</td>\n",
       "      <td>USC</td>\n",
       "      <td>71600000</td>\n",
       "      <td>14000000</td>\n",
       "      <td>70.262983</td>\n",
       "      <td>73.21787</td>\n",
       "      <td>72.218303</td>\n",
       "      <td>71.899719</td>\n",
       "    </tr>\n",
       "    <tr>\n",
       "      <th>47</th>\n",
       "      <td>Cowboys</td>\n",
       "      <td>21</td>\n",
       "      <td>Ezekiel Elliott</td>\n",
       "      <td>23</td>\n",
       "      <td>HB</td>\n",
       "      <td>92</td>\n",
       "      <td>93</td>\n",
       "      <td>95</td>\n",
       "      <td>92</td>\n",
       "      <td>91</td>\n",
       "      <td>...</td>\n",
       "      <td>1995-07-22 00:00:00</td>\n",
       "      <td>2</td>\n",
       "      <td>Right</td>\n",
       "      <td>Ohio State</td>\n",
       "      <td>24800000</td>\n",
       "      <td>16200000</td>\n",
       "      <td>70.262983</td>\n",
       "      <td>73.21787</td>\n",
       "      <td>72.218303</td>\n",
       "      <td>71.899719</td>\n",
       "    </tr>\n",
       "  </tbody>\n",
       "</table>\n",
       "<p>5 rows × 71 columns</p>\n",
       "</div>"
      ],
      "text/plain": [
       "       Team  Jersey #              Name  Age Position  Overall  Awareness  \\\n",
       "16  Cowboys        72  Travis Frederick   27        C       96         98   \n",
       "17  Cowboys        50          Sean Lee   32     ROLB       96         97   \n",
       "18  Cowboys        70       Zack Martin   27       RG       96         93   \n",
       "24  Cowboys        77       Tyron Smith   27       LT       95         97   \n",
       "47  Cowboys        21   Ezekiel Elliott   23       HB       92         93   \n",
       "\n",
       "    Agility  Speed  Acceleration       ...                  Birthdate  \\\n",
       "16       69     56            80       ...        1991-03-18 00:00:00   \n",
       "17       81     83            88       ...        1986-07-22 00:00:00   \n",
       "18       65     70            81       ...        1990-11-20 00:00:00   \n",
       "24       78     74            85       ...        1990-12-12 00:00:00   \n",
       "47       95     92            91       ...        1995-07-22 00:00:00   \n",
       "\n",
       "    Years Pro  Handedness     College  Total Salary  Signing Bonus    lb_mean  \\\n",
       "16          5       Right   Wisconsin      39190000        6370000  70.262983   \n",
       "17          8       Right  Penn State      15300000        9700000  70.262983   \n",
       "18          4       Right  Notre Dame      72341000       20000000  70.262983   \n",
       "24          7       Right         USC      71600000       14000000  70.262983   \n",
       "47          2       Right  Ohio State      24800000       16200000  70.262983   \n",
       "\n",
       "     dl_mean  secondary_mean  defense_rating  \n",
       "16  73.21787       72.218303       71.899719  \n",
       "17  73.21787       72.218303       71.899719  \n",
       "18  73.21787       72.218303       71.899719  \n",
       "24  73.21787       72.218303       71.899719  \n",
       "47  73.21787       72.218303       71.899719  \n",
       "\n",
       "[5 rows x 71 columns]"
      ]
     },
     "execution_count": 123,
     "metadata": {},
     "output_type": "execute_result"
    }
   ],
   "source": [
    "nfc_east = pd.concat([cowboys, eagles, giants, redskins], axis=0)\n",
    "nfc_east.head()"
   ]
  },
  {
   "cell_type": "code",
   "execution_count": 51,
   "metadata": {},
   "outputs": [],
   "source": [
    "####NFC West Defenses"
   ]
  },
  {
   "cell_type": "code",
   "execution_count": 52,
   "metadata": {},
   "outputs": [
    {
     "data": {
      "text/plain": [
       "71.54680333333333"
      ]
     },
     "execution_count": 52,
     "metadata": {},
     "output_type": "execute_result"
    }
   ],
   "source": [
    "ninersdt = niners[niners['Position'] == 'DT']\n",
    "ninersre = niners[niners['Position'] == 'RE']\n",
    "ninersle = niners[niners['Position'] == 'LE']\n",
    "ninersdt['Predicted Rating'] = modeldt(ninersdt)\n",
    "ninersre['Predicted Rating'] = modelre(ninersre)\n",
    "ninersle['Predicted Rating'] = modelle(ninersle)\n",
    "ninersdt_mean = np.mean(ninersdt['Predicted Rating'])\n",
    "ninersre_mean = np.mean(ninersre['Predicted Rating'])\n",
    "ninersle_mean = np.mean(ninersle['Predicted Rating'])\n",
    "ninersdl_mean = np.mean([ninersdt_mean, ninersre_mean, ninersle_mean])\n",
    "ninersdl_mean"
   ]
  },
  {
   "cell_type": "code",
   "execution_count": 53,
   "metadata": {},
   "outputs": [
    {
     "name": "stdout",
     "output_type": "stream",
     "text": [
      "70.27834166666668 73.2728 66.4671 71.095125\n"
     ]
    }
   ],
   "source": [
    "ninersmlb = niners[niners['Position'] == 'MLB']\n",
    "ninersrolb = niners[niners['Position'] == 'ROLB']\n",
    "ninerslolb = niners[niners['Position'] == 'LOLB']\n",
    "ninersmlb['Predicted Rating'] = modelmlb(ninersmlb)\n",
    "ninersrolb['Predicted Rating'] = modelrolb(ninersrolb)\n",
    "ninerslolb['Predicted Rating'] = modellolb(ninerslolb)\n",
    "ninersmlb_mean = np.mean(ninersmlb['Predicted Rating'])\n",
    "ninersrolb_mean = np.mean(ninersrolb['Predicted Rating'])\n",
    "ninerslolb_mean = np.mean(ninerslolb['Predicted Rating'])\n",
    "ninerslb_mean = np.mean([ninersmlb_mean, ninersrolb_mean, ninerslolb_mean])\n",
    "print(ninerslb_mean, ninersmlb_mean, ninerslolb_mean, ninersrolb_mean) "
   ]
  },
  {
   "cell_type": "code",
   "execution_count": 54,
   "metadata": {},
   "outputs": [
    {
     "name": "stdout",
     "output_type": "stream",
     "text": [
      "70.24074583333332 70.2867625 71.40769999999999 69.02777499999999\n"
     ]
    }
   ],
   "source": [
    "ninerscb = niners[niners['Position'] == 'CB']\n",
    "ninersfs = niners[niners['Position'] == 'FS']\n",
    "ninersss = niners[niners['Position'] == 'SS']\n",
    "ninerscb['Predicted Rating'] = modelcb(ninerscb)\n",
    "ninersss['Predicted Rating'] = modelss(ninersss)\n",
    "ninersfs['Predicted Rating'] = modelfs(ninersfs)\n",
    "ninersss_mean = np.mean(ninersss['Predicted Rating'])\n",
    "ninerscb_mean = np.mean(ninerscb['Predicted Rating'])\n",
    "ninersfs_mean = np.mean(ninersfs['Predicted Rating'])\n",
    "ninerssecondary_mean = np.mean([ninerscb_mean, ninersss_mean, ninersfs_mean])\n",
    "print(ninerssecondary_mean, ninerscb_mean, ninersfs_mean, ninersss_mean) "
   ]
  },
  {
   "cell_type": "code",
   "execution_count": 55,
   "metadata": {},
   "outputs": [
    {
     "data": {
      "text/plain": [
       "70.68863027777779"
      ]
     },
     "execution_count": 55,
     "metadata": {},
     "output_type": "execute_result"
    }
   ],
   "source": [
    "niners_defense_mean = np.mean([ninerslb_mean, ninersdl_mean, ninerssecondary_mean])\n",
    "niners_defense_mean"
   ]
  },
  {
   "cell_type": "code",
   "execution_count": 56,
   "metadata": {},
   "outputs": [],
   "source": [
    "niners['lb_mean'] = ninerslb_mean\n",
    "niners['dl_mean'] = ninersdl_mean\n",
    "niners['secondary_mean'] = ninerssecondary_mean\n",
    "niners['defense_rating'] = niners_defense_mean"
   ]
  },
  {
   "cell_type": "code",
   "execution_count": 57,
   "metadata": {},
   "outputs": [
    {
     "data": {
      "text/plain": [
       "70.782495"
      ]
     },
     "execution_count": 57,
     "metadata": {},
     "output_type": "execute_result"
    }
   ],
   "source": [
    "cardinalsdt = cardinals[cardinals['Position'] == 'DT']\n",
    "cardinalsre = cardinals[cardinals['Position'] == 'RE']\n",
    "cardinalsle = cardinals[cardinals['Position'] == 'LE']\n",
    "cardinalsdt['Predicted Rating'] = modeldt(cardinalsdt)\n",
    "cardinalsre['Predicted Rating'] = modelre(cardinalsre)\n",
    "cardinalsle['Predicted Rating'] = modelle(cardinalsle)\n",
    "cardinalsdt_mean = np.mean(cardinalsdt['Predicted Rating'])\n",
    "cardinalsre_mean = np.mean(cardinalsre['Predicted Rating'])\n",
    "cardinalsle_mean = np.mean(cardinalsle['Predicted Rating'])\n",
    "cardinalsdl_mean = np.mean([cardinalsdt_mean, cardinalsre_mean, cardinalsle_mean])\n",
    "cardinalsdl_mean"
   ]
  },
  {
   "cell_type": "code",
   "execution_count": 58,
   "metadata": {},
   "outputs": [
    {
     "name": "stdout",
     "output_type": "stream",
     "text": [
      "68.13138333333335 73.7116 64.6868 65.99575\n"
     ]
    }
   ],
   "source": [
    "cardinalsmlb = cardinals[cardinals['Position'] == 'MLB']\n",
    "cardinalsrolb = cardinals[cardinals['Position'] == 'ROLB']\n",
    "cardinalslolb = cardinals[cardinals['Position'] == 'LOLB']\n",
    "cardinalsmlb['Predicted Rating'] = modelmlb(cardinalsmlb)\n",
    "cardinalsrolb['Predicted Rating'] = modelrolb(cardinalsrolb)\n",
    "cardinalslolb['Predicted Rating'] = modellolb(cardinalslolb)\n",
    "cardinalsmlb_mean = np.mean(cardinalsmlb['Predicted Rating'])\n",
    "cardinalsrolb_mean = np.mean(cardinalsrolb['Predicted Rating'])\n",
    "cardinalslolb_mean = np.mean(cardinalslolb['Predicted Rating'])\n",
    "cardinalslb_mean = np.mean([cardinalsmlb_mean, cardinalsrolb_mean, cardinalslolb_mean])\n",
    "print(cardinalslb_mean, cardinalsmlb_mean, cardinalslolb_mean, cardinalsrolb_mean) "
   ]
  },
  {
   "cell_type": "code",
   "execution_count": 59,
   "metadata": {},
   "outputs": [
    {
     "name": "stdout",
     "output_type": "stream",
     "text": [
      "69.59532638888888 68.76126249999999 73.21914999999998 66.80556666666666\n"
     ]
    }
   ],
   "source": [
    "cardinalscb = cardinals[cardinals['Position'] == 'CB']\n",
    "cardinalsfs = cardinals[cardinals['Position'] == 'FS']\n",
    "cardinalsss = cardinals[cardinals['Position'] == 'SS']\n",
    "cardinalscb['Predicted Rating'] = modelcb(cardinalscb)\n",
    "cardinalsss['Predicted Rating'] = modelss(cardinalsss)\n",
    "cardinalsfs['Predicted Rating'] = modelfs(cardinalsfs)\n",
    "cardinalsss_mean = np.mean(cardinalsss['Predicted Rating'])\n",
    "cardinalscb_mean = np.mean(cardinalscb['Predicted Rating'])\n",
    "cardinalsfs_mean = np.mean(cardinalsfs['Predicted Rating'])\n",
    "cardinalssecondary_mean = np.mean([cardinalscb_mean, cardinalsss_mean, cardinalsfs_mean])\n",
    "print(cardinalssecondary_mean, cardinalscb_mean, cardinalsfs_mean, cardinalsss_mean) "
   ]
  },
  {
   "cell_type": "code",
   "execution_count": 60,
   "metadata": {},
   "outputs": [
    {
     "data": {
      "text/plain": [
       "69.50306824074075"
      ]
     },
     "execution_count": 60,
     "metadata": {},
     "output_type": "execute_result"
    }
   ],
   "source": [
    "cardinals_defense_mean = np.mean([cardinalslb_mean, cardinalsdl_mean, cardinalssecondary_mean])\n",
    "cardinals_defense_mean"
   ]
  },
  {
   "cell_type": "code",
   "execution_count": 61,
   "metadata": {},
   "outputs": [],
   "source": [
    "cardinals['lb_mean'] = cardinalslb_mean\n",
    "cardinals['dl_mean'] = cardinalsdl_mean\n",
    "cardinals['secondary_mean'] = cardinalssecondary_mean\n",
    "cardinals['defense_rating'] = cardinals_defense_mean"
   ]
  },
  {
   "cell_type": "code",
   "execution_count": 62,
   "metadata": {},
   "outputs": [
    {
     "data": {
      "text/plain": [
       "74.58724722222222"
      ]
     },
     "execution_count": 62,
     "metadata": {},
     "output_type": "execute_result"
    }
   ],
   "source": [
    "ramsdt = rams[rams['Position'] == 'DT']\n",
    "ramsre = rams[rams['Position'] == 'RE']\n",
    "ramsle = rams[rams['Position'] == 'LE']\n",
    "ramsdt['Predicted Rating'] = modeldt(ramsdt)\n",
    "ramsre['Predicted Rating'] = modelre(ramsre)\n",
    "ramsle['Predicted Rating'] = modelle(ramsle)\n",
    "ramsdt_mean = np.mean(ramsdt['Predicted Rating'])\n",
    "ramsre_mean = np.mean(ramsre['Predicted Rating'])\n",
    "ramsle_mean = np.mean(ramsle['Predicted Rating'])\n",
    "ramsdl_mean = np.mean([ramsdt_mean, ramsre_mean, ramsle_mean])\n",
    "ramsdl_mean"
   ]
  },
  {
   "cell_type": "code",
   "execution_count": 63,
   "metadata": {},
   "outputs": [
    {
     "name": "stdout",
     "output_type": "stream",
     "text": [
      "67.01012023809524 67.32198571428572 67.7946 65.913775\n"
     ]
    }
   ],
   "source": [
    "ramsmlb = rams[rams['Position'] == 'MLB']\n",
    "ramsrolb = rams[rams['Position'] == 'ROLB']\n",
    "ramslolb = rams[rams['Position'] == 'LOLB']\n",
    "ramsmlb['Predicted Rating'] = modelmlb(ramsmlb)\n",
    "ramsrolb['Predicted Rating'] = modelrolb(ramsrolb)\n",
    "ramslolb['Predicted Rating'] = modellolb(ramslolb)\n",
    "ramsmlb_mean = np.mean(ramsmlb['Predicted Rating'])\n",
    "ramsrolb_mean = np.mean(ramsrolb['Predicted Rating'])\n",
    "ramslolb_mean = np.mean(ramslolb['Predicted Rating'])\n",
    "ramslb_mean = np.mean([ramsmlb_mean, ramsrolb_mean, ramslolb_mean])\n",
    "print(ramslb_mean, ramsmlb_mean, ramslolb_mean, ramsrolb_mean) "
   ]
  },
  {
   "cell_type": "code",
   "execution_count": 64,
   "metadata": {},
   "outputs": [
    {
     "name": "stdout",
     "output_type": "stream",
     "text": [
      "73.90496250000001 75.11763750000001 71.33640000000001 75.26085\n"
     ]
    }
   ],
   "source": [
    "ramscb = rams[rams['Position'] == 'CB']\n",
    "ramsfs = rams[rams['Position'] == 'FS']\n",
    "ramsss = rams[rams['Position'] == 'SS']\n",
    "ramscb['Predicted Rating'] = modelcb(ramscb)\n",
    "ramsss['Predicted Rating'] = modelss(ramsss)\n",
    "ramsfs['Predicted Rating'] = modelfs(ramsfs)\n",
    "ramsss_mean = np.mean(ramsss['Predicted Rating'])\n",
    "ramscb_mean = np.mean(ramscb['Predicted Rating'])\n",
    "ramsfs_mean = np.mean(ramsfs['Predicted Rating'])\n",
    "ramssecondary_mean = np.mean([ramscb_mean, ramsss_mean, ramsfs_mean])\n",
    "print(ramssecondary_mean, ramscb_mean, ramsfs_mean, ramsss_mean) "
   ]
  },
  {
   "cell_type": "code",
   "execution_count": 65,
   "metadata": {},
   "outputs": [
    {
     "data": {
      "text/plain": [
       "71.83410998677249"
      ]
     },
     "execution_count": 65,
     "metadata": {},
     "output_type": "execute_result"
    }
   ],
   "source": [
    "rams_defense_mean = np.mean([ramslb_mean, ramsdl_mean, ramssecondary_mean])\n",
    "rams_defense_mean"
   ]
  },
  {
   "cell_type": "code",
   "execution_count": 66,
   "metadata": {},
   "outputs": [],
   "source": [
    "rams['lb_mean'] = ramslb_mean\n",
    "rams['dl_mean'] = ramsdl_mean\n",
    "rams['secondary_mean'] = ramssecondary_mean\n",
    "rams['defense_rating'] = rams_defense_mean"
   ]
  },
  {
   "cell_type": "code",
   "execution_count": null,
   "metadata": {},
   "outputs": [],
   "source": []
  },
  {
   "cell_type": "code",
   "execution_count": 67,
   "metadata": {},
   "outputs": [
    {
     "data": {
      "text/plain": [
       "71.85600000000001"
      ]
     },
     "execution_count": 67,
     "metadata": {},
     "output_type": "execute_result"
    }
   ],
   "source": [
    "seahawksdt = seahawks[seahawks['Position'] == 'DT']\n",
    "seahawksre = seahawks[seahawks['Position'] == 'RE']\n",
    "seahawksle = seahawks[seahawks['Position'] == 'LE']\n",
    "seahawksdt['Predicted Rating'] = modeldt(seahawksdt)\n",
    "seahawksre['Predicted Rating'] = modelre(seahawksre)\n",
    "seahawksle['Predicted Rating'] = modelle(seahawksle)\n",
    "seahawksdt_mean = np.mean(seahawksdt['Predicted Rating'])\n",
    "seahawksre_mean = np.mean(seahawksre['Predicted Rating'])\n",
    "seahawksle_mean = np.mean(seahawksle['Predicted Rating'])\n",
    "seahawksdl_mean = np.mean([seahawksdt_mean, seahawksre_mean, seahawksle_mean])\n",
    "seahawksdl_mean"
   ]
  },
  {
   "cell_type": "code",
   "execution_count": 68,
   "metadata": {},
   "outputs": [
    {
     "name": "stdout",
     "output_type": "stream",
     "text": [
      "77.0513111111111 92.55139999999999 68.45286666666665 70.14966666666668\n"
     ]
    }
   ],
   "source": [
    "seahawksmlb = seahawks[seahawks['Position'] == 'MLB']\n",
    "seahawksrolb = seahawks[seahawks['Position'] == 'ROLB']\n",
    "seahawkslolb = seahawks[seahawks['Position'] == 'LOLB']\n",
    "seahawksmlb['Predicted Rating'] = modelmlb(seahawksmlb)\n",
    "seahawksrolb['Predicted Rating'] = modelrolb(seahawksrolb)\n",
    "seahawkslolb['Predicted Rating'] = modellolb(seahawkslolb)\n",
    "seahawksmlb_mean = np.mean(seahawksmlb['Predicted Rating'])\n",
    "seahawksrolb_mean = np.mean(seahawksrolb['Predicted Rating'])\n",
    "seahawkslolb_mean = np.mean(seahawkslolb['Predicted Rating'])\n",
    "seahawkslb_mean = np.mean([seahawksmlb_mean, seahawksrolb_mean, seahawkslolb_mean])\n",
    "print(seahawkslb_mean, seahawksmlb_mean, seahawkslolb_mean, seahawksrolb_mean) "
   ]
  },
  {
   "cell_type": "code",
   "execution_count": 69,
   "metadata": {},
   "outputs": [
    {
     "name": "stdout",
     "output_type": "stream",
     "text": [
      "73.47217063492063 70.97572857142856 76.61663333333334 72.82414999999999\n"
     ]
    }
   ],
   "source": [
    "seahawkscb = seahawks[seahawks['Position'] == 'CB']\n",
    "seahawksfs = seahawks[seahawks['Position'] == 'FS']\n",
    "seahawksss = seahawks[seahawks['Position'] == 'SS']\n",
    "seahawkscb['Predicted Rating'] = modelcb(seahawkscb)\n",
    "seahawksss['Predicted Rating'] = modelss(seahawksss)\n",
    "seahawksfs['Predicted Rating'] = modelfs(seahawksfs)\n",
    "seahawksss_mean = np.mean(seahawksss['Predicted Rating'])\n",
    "seahawkscb_mean = np.mean(seahawkscb['Predicted Rating'])\n",
    "seahawksfs_mean = np.mean(seahawksfs['Predicted Rating'])\n",
    "seahawkssecondary_mean = np.mean([seahawkscb_mean, seahawksss_mean, seahawksfs_mean])\n",
    "print(seahawkssecondary_mean, seahawkscb_mean, seahawksfs_mean, seahawksss_mean) "
   ]
  },
  {
   "cell_type": "code",
   "execution_count": 70,
   "metadata": {},
   "outputs": [
    {
     "data": {
      "text/plain": [
       "74.12649391534391"
      ]
     },
     "execution_count": 70,
     "metadata": {},
     "output_type": "execute_result"
    }
   ],
   "source": [
    "seahawks_defense_mean = np.mean([seahawkslb_mean, seahawksdl_mean, seahawkssecondary_mean])\n",
    "seahawks_defense_mean"
   ]
  },
  {
   "cell_type": "code",
   "execution_count": 124,
   "metadata": {},
   "outputs": [],
   "source": [
    "seahawks['lb_mean'] = seahawkslb_mean\n",
    "seahawks['dl_mean'] = seahawksdl_mean\n",
    "seahawks['secondary_mean'] = seahawkssecondary_mean\n",
    "seahawks['defense_rating'] = seahawks_defense_mean"
   ]
  },
  {
   "cell_type": "code",
   "execution_count": null,
   "metadata": {},
   "outputs": [],
   "source": []
  },
  {
   "cell_type": "code",
   "execution_count": null,
   "metadata": {},
   "outputs": [],
   "source": []
  },
  {
   "cell_type": "code",
   "execution_count": 72,
   "metadata": {},
   "outputs": [],
   "source": [
    "#NFC NORTH Defense"
   ]
  },
  {
   "cell_type": "code",
   "execution_count": 73,
   "metadata": {},
   "outputs": [
    {
     "data": {
      "text/plain": [
       "71.52403055555556"
      ]
     },
     "execution_count": 73,
     "metadata": {},
     "output_type": "execute_result"
    }
   ],
   "source": [
    "bearsdt = bears[bears['Position'] == 'DT']\n",
    "bearsre = bears[bears['Position'] == 'RE']\n",
    "bearsle = bears[bears['Position'] == 'LE']\n",
    "bearsdt['Predicted Rating'] = modeldt(bearsdt)\n",
    "bearsre['Predicted Rating'] = modelre(bearsre)\n",
    "bearsle['Predicted Rating'] = modelle(bearsle)\n",
    "bearsdt_mean = np.mean(bearsdt['Predicted Rating'])\n",
    "bearsre_mean = np.mean(bearsre['Predicted Rating'])\n",
    "bearsle_mean = np.mean(bearsle['Predicted Rating'])\n",
    "bearsdl_mean = np.mean([bearsdt_mean, bearsre_mean, bearsle_mean])\n",
    "bearsdl_mean"
   ]
  },
  {
   "cell_type": "code",
   "execution_count": 74,
   "metadata": {},
   "outputs": [
    {
     "name": "stdout",
     "output_type": "stream",
     "text": [
      "70.83030000000001 71.57316666666667 68.92920000000001 71.98853333333334\n"
     ]
    }
   ],
   "source": [
    "bearsmlb = bears[bears['Position'] == 'MLB']\n",
    "bearsrolb = bears[bears['Position'] == 'ROLB']\n",
    "bearslolb = bears[bears['Position'] == 'LOLB']\n",
    "bearsmlb['Predicted Rating'] = modelmlb(bearsmlb)\n",
    "bearsrolb['Predicted Rating'] = modelrolb(bearsrolb)\n",
    "bearslolb['Predicted Rating'] = modellolb(bearslolb)\n",
    "bearsmlb_mean = np.mean(bearsmlb['Predicted Rating'])\n",
    "bearsrolb_mean = np.mean(bearsrolb['Predicted Rating'])\n",
    "bearslolb_mean = np.mean(bearslolb['Predicted Rating'])\n",
    "bearslb_mean = np.mean([bearsmlb_mean, bearsrolb_mean, bearslolb_mean])\n",
    "print(bearslb_mean, bearsmlb_mean, bearslolb_mean, bearsrolb_mean) "
   ]
  },
  {
   "cell_type": "code",
   "execution_count": 75,
   "metadata": {},
   "outputs": [
    {
     "name": "stdout",
     "output_type": "stream",
     "text": [
      "71.58992962962962 70.69635555555554 72.6144 71.45903333333332\n"
     ]
    }
   ],
   "source": [
    "bearscb = bears[bears['Position'] == 'CB']\n",
    "bearsfs = bears[bears['Position'] == 'FS']\n",
    "bearsss = bears[bears['Position'] == 'SS']\n",
    "bearscb['Predicted Rating'] = modelcb(bearscb)\n",
    "bearsss['Predicted Rating'] = modelss(bearsss)\n",
    "bearsfs['Predicted Rating'] = modelfs(bearsfs)\n",
    "bearsss_mean = np.mean(bearsss['Predicted Rating'])\n",
    "bearscb_mean = np.mean(bearscb['Predicted Rating'])\n",
    "bearsfs_mean = np.mean(bearsfs['Predicted Rating'])\n",
    "bearssecondary_mean = np.mean([bearscb_mean, bearsss_mean, bearsfs_mean])\n",
    "print(bearssecondary_mean, bearscb_mean, bearsfs_mean, bearsss_mean) "
   ]
  },
  {
   "cell_type": "code",
   "execution_count": 76,
   "metadata": {},
   "outputs": [
    {
     "data": {
      "text/plain": [
       "71.31475339506174"
      ]
     },
     "execution_count": 76,
     "metadata": {},
     "output_type": "execute_result"
    }
   ],
   "source": [
    "bears_defense_mean = np.mean([bearslb_mean, bearsdl_mean, bearssecondary_mean])\n",
    "bears_defense_mean"
   ]
  },
  {
   "cell_type": "code",
   "execution_count": 77,
   "metadata": {},
   "outputs": [],
   "source": [
    "bears['lb_mean'] = bearslb_mean\n",
    "bears['dl_mean'] = bearsdl_mean\n",
    "bears['secondary_mean'] = bearssecondary_mean\n",
    "bears['defense_rating'] = bears_defense_mean"
   ]
  },
  {
   "cell_type": "code",
   "execution_count": null,
   "metadata": {},
   "outputs": [],
   "source": []
  },
  {
   "cell_type": "code",
   "execution_count": 78,
   "metadata": {},
   "outputs": [
    {
     "data": {
      "text/plain": [
       "70.61033166666668"
      ]
     },
     "execution_count": 78,
     "metadata": {},
     "output_type": "execute_result"
    }
   ],
   "source": [
    "lionsdt = lions[lions['Position'] == 'DT']\n",
    "lionsre = lions[lions['Position'] == 'RE']\n",
    "lionsle = lions[lions['Position'] == 'LE']\n",
    "lionsdt['Predicted Rating'] = modeldt(lionsdt)\n",
    "lionsre['Predicted Rating'] = modelre(lionsre)\n",
    "lionsle['Predicted Rating'] = modelle(lionsle)\n",
    "lionsdt_mean = np.mean(lionsdt['Predicted Rating'])\n",
    "lionsre_mean = np.mean(lionsre['Predicted Rating'])\n",
    "lionsle_mean = np.mean(lionsle['Predicted Rating'])\n",
    "lionsdl_mean = np.mean([lionsdt_mean, lionsre_mean, lionsle_mean])\n",
    "lionsdl_mean"
   ]
  },
  {
   "cell_type": "code",
   "execution_count": 79,
   "metadata": {},
   "outputs": [
    {
     "name": "stdout",
     "output_type": "stream",
     "text": [
      "70.211 67.72663333333334 69.6703 73.23606666666666\n"
     ]
    }
   ],
   "source": [
    "lionsmlb = lions[lions['Position'] == 'MLB']\n",
    "lionsrolb = lions[lions['Position'] == 'ROLB']\n",
    "lionslolb = lions[lions['Position'] == 'LOLB']\n",
    "lionsmlb['Predicted Rating'] = modelmlb(lionsmlb)\n",
    "lionsrolb['Predicted Rating'] = modelrolb(lionsrolb)\n",
    "lionslolb['Predicted Rating'] = modellolb(lionslolb)\n",
    "lionsmlb_mean = np.mean(lionsmlb['Predicted Rating'])\n",
    "lionsrolb_mean = np.mean(lionsrolb['Predicted Rating'])\n",
    "lionslolb_mean = np.mean(lionslolb['Predicted Rating'])\n",
    "lionslb_mean = np.mean([lionsmlb_mean, lionsrolb_mean, lionslolb_mean])\n",
    "print(lionslb_mean, lionsmlb_mean, lionslolb_mean, lionsrolb_mean) "
   ]
  },
  {
   "cell_type": "code",
   "execution_count": 80,
   "metadata": {},
   "outputs": [
    {
     "name": "stdout",
     "output_type": "stream",
     "text": [
      "72.28704047619048 73.53137142857143 73.18920000000001 70.14055\n"
     ]
    }
   ],
   "source": [
    "lionscb = lions[lions['Position'] == 'CB']\n",
    "lionsfs = lions[lions['Position'] == 'FS']\n",
    "lionsss = lions[lions['Position'] == 'SS']\n",
    "lionscb['Predicted Rating'] = modelcb(lionscb)\n",
    "lionsss['Predicted Rating'] = modelss(lionsss)\n",
    "lionsfs['Predicted Rating'] = modelfs(lionsfs)\n",
    "lionsss_mean = np.mean(lionsss['Predicted Rating'])\n",
    "lionscb_mean = np.mean(lionscb['Predicted Rating'])\n",
    "lionsfs_mean = np.mean(lionsfs['Predicted Rating'])\n",
    "lionssecondary_mean = np.mean([lionscb_mean, lionsss_mean, lionsfs_mean])\n",
    "print(lionssecondary_mean, lionscb_mean, lionsfs_mean, lionsss_mean) "
   ]
  },
  {
   "cell_type": "code",
   "execution_count": 81,
   "metadata": {},
   "outputs": [
    {
     "data": {
      "text/plain": [
       "71.03612404761905"
      ]
     },
     "execution_count": 81,
     "metadata": {},
     "output_type": "execute_result"
    }
   ],
   "source": [
    "lions_defense_mean = np.mean([lionslb_mean, lionsdl_mean, lionssecondary_mean])\n",
    "lions_defense_mean"
   ]
  },
  {
   "cell_type": "code",
   "execution_count": 82,
   "metadata": {},
   "outputs": [],
   "source": [
    "lions['lb_mean'] = lionslb_mean\n",
    "lions['dl_mean'] = lionsdl_mean\n",
    "lions['secondary_mean'] = lionssecondary_mean\n",
    "lions['defense_rating'] = lions_defense_mean"
   ]
  },
  {
   "cell_type": "code",
   "execution_count": 83,
   "metadata": {},
   "outputs": [
    {
     "data": {
      "text/plain": [
       "72.56238333333333"
      ]
     },
     "execution_count": 83,
     "metadata": {},
     "output_type": "execute_result"
    }
   ],
   "source": [
    "packersdt = packers[packers['Position'] == 'DT']\n",
    "packersre = packers[packers['Position'] == 'RE']\n",
    "packersle = packers[packers['Position'] == 'LE']\n",
    "packersdt['Predicted Rating'] = modeldt(packersdt)\n",
    "packersre['Predicted Rating'] = modelre(packersre)\n",
    "packersle['Predicted Rating'] = modelle(packersle)\n",
    "packersdt_mean = np.mean(packersdt['Predicted Rating'])\n",
    "packersre_mean = np.mean(packersre['Predicted Rating'])\n",
    "packersle_mean = np.mean(packersle['Predicted Rating'])\n",
    "packersdl_mean = np.mean([packersdt_mean, packersre_mean, packersle_mean])\n",
    "packersdl_mean"
   ]
  },
  {
   "cell_type": "code",
   "execution_count": 84,
   "metadata": {},
   "outputs": [
    {
     "name": "stdout",
     "output_type": "stream",
     "text": [
      "69.90115277777778 70.964475 67.71695 71.02203333333334\n"
     ]
    }
   ],
   "source": [
    "packersmlb = packers[packers['Position'] == 'MLB']\n",
    "packersrolb = packers[packers['Position'] == 'ROLB']\n",
    "packerslolb = packers[packers['Position'] == 'LOLB']\n",
    "packersmlb['Predicted Rating'] = modelmlb(packersmlb)\n",
    "packersrolb['Predicted Rating'] = modelrolb(packersrolb)\n",
    "packerslolb['Predicted Rating'] = modellolb(packerslolb)\n",
    "packersmlb_mean = np.mean(packersmlb['Predicted Rating'])\n",
    "packersrolb_mean = np.mean(packersrolb['Predicted Rating'])\n",
    "packerslolb_mean = np.mean(packerslolb['Predicted Rating'])\n",
    "packerslb_mean = np.mean([packersmlb_mean, packersrolb_mean, packerslolb_mean])\n",
    "print(packerslb_mean, packersmlb_mean, packerslolb_mean, packersrolb_mean) "
   ]
  },
  {
   "cell_type": "code",
   "execution_count": 85,
   "metadata": {},
   "outputs": [
    {
     "name": "stdout",
     "output_type": "stream",
     "text": [
      "69.37087777777776 70.42629999999998 70.31683333333332 67.3695\n"
     ]
    }
   ],
   "source": [
    "packerscb = packers[packers['Position'] == 'CB']\n",
    "packersfs = packers[packers['Position'] == 'FS']\n",
    "packersss = packers[packers['Position'] == 'SS']\n",
    "packerscb['Predicted Rating'] = modelcb(packerscb)\n",
    "packersss['Predicted Rating'] = modelss(packersss)\n",
    "packersfs['Predicted Rating'] = modelfs(packersfs)\n",
    "packersss_mean = np.mean(packersss['Predicted Rating'])\n",
    "packerscb_mean = np.mean(packerscb['Predicted Rating'])\n",
    "packersfs_mean = np.mean(packersfs['Predicted Rating'])\n",
    "packerssecondary_mean = np.mean([packerscb_mean, packersss_mean, packersfs_mean])\n",
    "print(packerssecondary_mean, packerscb_mean, packersfs_mean, packersss_mean) "
   ]
  },
  {
   "cell_type": "code",
   "execution_count": 86,
   "metadata": {},
   "outputs": [
    {
     "data": {
      "text/plain": [
       "70.6114712962963"
      ]
     },
     "execution_count": 86,
     "metadata": {},
     "output_type": "execute_result"
    }
   ],
   "source": [
    "packers_defense_mean = np.mean([packerslb_mean, packersdl_mean, packerssecondary_mean])\n",
    "packers_defense_mean"
   ]
  },
  {
   "cell_type": "code",
   "execution_count": 87,
   "metadata": {},
   "outputs": [],
   "source": [
    "packers['lb_mean'] = packerslb_mean\n",
    "packers['dl_mean'] = packersdl_mean\n",
    "packers['secondary_mean'] = packerssecondary_mean\n",
    "packers['defense_rating'] = packers_defense_mean"
   ]
  },
  {
   "cell_type": "code",
   "execution_count": 88,
   "metadata": {},
   "outputs": [
    {
     "data": {
      "text/plain": [
       "72.08215833333334"
      ]
     },
     "execution_count": 88,
     "metadata": {},
     "output_type": "execute_result"
    }
   ],
   "source": [
    "vikingsdt = vikings[vikings['Position'] == 'DT']\n",
    "vikingsre = vikings[vikings['Position'] == 'RE']\n",
    "vikingsle = vikings[vikings['Position'] == 'LE']\n",
    "vikingsdt['Predicted Rating'] = modeldt(vikingsdt)\n",
    "vikingsre['Predicted Rating'] = modelre(vikingsre)\n",
    "vikingsle['Predicted Rating'] = modelle(vikingsle)\n",
    "vikingsdt_mean = np.mean(vikingsdt['Predicted Rating'])\n",
    "vikingsre_mean = np.mean(vikingsre['Predicted Rating'])\n",
    "vikingsle_mean = np.mean(vikingsle['Predicted Rating'])\n",
    "vikingsdl_mean = np.mean([vikingsdt_mean, vikingsre_mean, vikingsle_mean])\n",
    "vikingsdl_mean"
   ]
  },
  {
   "cell_type": "code",
   "execution_count": 89,
   "metadata": {},
   "outputs": [
    {
     "name": "stdout",
     "output_type": "stream",
     "text": [
      "70.19754444444445 68.12929999999999 66.85643333333334 75.6069\n"
     ]
    }
   ],
   "source": [
    "vikingsmlb = vikings[vikings['Position'] == 'MLB']\n",
    "vikingsrolb = vikings[vikings['Position'] == 'ROLB']\n",
    "vikingslolb = vikings[vikings['Position'] == 'LOLB']\n",
    "vikingsmlb['Predicted Rating'] = modelmlb(vikingsmlb)\n",
    "vikingsrolb['Predicted Rating'] = modelrolb(vikingsrolb)\n",
    "vikingslolb['Predicted Rating'] = modellolb(vikingslolb)\n",
    "vikingsmlb_mean = np.mean(vikingsmlb['Predicted Rating'])\n",
    "vikingsrolb_mean = np.mean(vikingsrolb['Predicted Rating'])\n",
    "vikingslolb_mean = np.mean(vikingslolb['Predicted Rating'])\n",
    "vikingslb_mean = np.mean([vikingsmlb_mean, vikingsrolb_mean, vikingslolb_mean])\n",
    "print(vikingslb_mean, vikingsmlb_mean, vikingslolb_mean, vikingsrolb_mean) "
   ]
  },
  {
   "cell_type": "code",
   "execution_count": 90,
   "metadata": {},
   "outputs": [
    {
     "name": "stdout",
     "output_type": "stream",
     "text": [
      "75.79947916666667 73.4056875 83.34065000000001 70.65209999999999\n"
     ]
    }
   ],
   "source": [
    "vikingscb = vikings[vikings['Position'] == 'CB']\n",
    "vikingsfs = vikings[vikings['Position'] == 'FS']\n",
    "vikingsss = vikings[vikings['Position'] == 'SS']\n",
    "vikingscb['Predicted Rating'] = modelcb(vikingscb)\n",
    "vikingsss['Predicted Rating'] = modelss(vikingsss)\n",
    "vikingsfs['Predicted Rating'] = modelfs(vikingsfs)\n",
    "vikingsss_mean = np.mean(vikingsss['Predicted Rating'])\n",
    "vikingscb_mean = np.mean(vikingscb['Predicted Rating'])\n",
    "vikingsfs_mean = np.mean(vikingsfs['Predicted Rating'])\n",
    "vikingssecondary_mean = np.mean([vikingscb_mean, vikingsss_mean, vikingsfs_mean])\n",
    "print(vikingssecondary_mean, vikingscb_mean, vikingsfs_mean, vikingsss_mean) "
   ]
  },
  {
   "cell_type": "code",
   "execution_count": 91,
   "metadata": {},
   "outputs": [
    {
     "data": {
      "text/plain": [
       "72.69306064814816"
      ]
     },
     "execution_count": 91,
     "metadata": {},
     "output_type": "execute_result"
    }
   ],
   "source": [
    "vikings_defense_mean = np.mean([vikingslb_mean, vikingsdl_mean, vikingssecondary_mean])\n",
    "vikings_defense_mean"
   ]
  },
  {
   "cell_type": "code",
   "execution_count": 92,
   "metadata": {},
   "outputs": [],
   "source": [
    "vikings['lb_mean'] = vikingslb_mean\n",
    "vikings['dl_mean'] = vikingsdl_mean\n",
    "vikings['secondary_mean'] = vikingssecondary_mean\n",
    "vikings['defense_rating'] = vikings_defense_mean"
   ]
  },
  {
   "cell_type": "code",
   "execution_count": null,
   "metadata": {},
   "outputs": [],
   "source": []
  },
  {
   "cell_type": "code",
   "execution_count": 93,
   "metadata": {},
   "outputs": [],
   "source": [
    "####NFC SOUTH"
   ]
  },
  {
   "cell_type": "code",
   "execution_count": 94,
   "metadata": {},
   "outputs": [
    {
     "data": {
      "text/plain": [
       "72.831"
      ]
     },
     "execution_count": 94,
     "metadata": {},
     "output_type": "execute_result"
    }
   ],
   "source": [
    "buccaneersdt = buccaneers[buccaneers['Position'] == 'DT']\n",
    "buccaneersre = buccaneers[buccaneers['Position'] == 'RE']\n",
    "buccaneersle = buccaneers[buccaneers['Position'] == 'LE']\n",
    "buccaneersdt['Predicted Rating'] = modeldt(buccaneersdt)\n",
    "buccaneersre['Predicted Rating'] = modelre(buccaneersre)\n",
    "buccaneersle['Predicted Rating'] = modelle(buccaneersle)\n",
    "buccaneersdt_mean = np.mean(buccaneersdt['Predicted Rating'])\n",
    "buccaneersre_mean = np.mean(buccaneersre['Predicted Rating'])\n",
    "buccaneersle_mean = np.mean(buccaneersle['Predicted Rating'])\n",
    "buccaneersdl_mean = np.mean([buccaneersdt_mean, buccaneersre_mean, buccaneersle_mean])\n",
    "buccaneersdl_mean"
   ]
  },
  {
   "cell_type": "code",
   "execution_count": 95,
   "metadata": {},
   "outputs": [
    {
     "name": "stdout",
     "output_type": "stream",
     "text": [
      "70.49145555555555 69.39243333333333 68.4355 73.64643333333332\n"
     ]
    }
   ],
   "source": [
    "buccaneersmlb = buccaneers[buccaneers['Position'] == 'MLB']\n",
    "buccaneersrolb = buccaneers[buccaneers['Position'] == 'ROLB']\n",
    "buccaneerslolb = buccaneers[buccaneers['Position'] == 'LOLB']\n",
    "buccaneersmlb['Predicted Rating'] = modelmlb(buccaneersmlb)\n",
    "buccaneersrolb['Predicted Rating'] = modelrolb(buccaneersrolb)\n",
    "buccaneerslolb['Predicted Rating'] = modellolb(buccaneerslolb)\n",
    "buccaneersmlb_mean = np.mean(buccaneersmlb['Predicted Rating'])\n",
    "buccaneersrolb_mean = np.mean(buccaneersrolb['Predicted Rating'])\n",
    "buccaneerslolb_mean = np.mean(buccaneerslolb['Predicted Rating'])\n",
    "buccaneerslb_mean = np.mean([buccaneersmlb_mean, buccaneersrolb_mean, buccaneerslolb_mean])\n",
    "print(buccaneerslb_mean, buccaneersmlb_mean, buccaneerslolb_mean, buccaneersrolb_mean) "
   ]
  },
  {
   "cell_type": "code",
   "execution_count": 96,
   "metadata": {},
   "outputs": [
    {
     "name": "stdout",
     "output_type": "stream",
     "text": [
      "69.69411626984127 72.98685714285715 69.16336666666668 66.932125\n"
     ]
    }
   ],
   "source": [
    "buccaneerscb = buccaneers[buccaneers['Position'] == 'CB']\n",
    "buccaneersfs = buccaneers[buccaneers['Position'] == 'FS']\n",
    "buccaneersss = buccaneers[buccaneers['Position'] == 'SS']\n",
    "buccaneerscb['Predicted Rating'] = modelcb(buccaneerscb)\n",
    "buccaneersss['Predicted Rating'] = modelss(buccaneersss)\n",
    "buccaneersfs['Predicted Rating'] = modelfs(buccaneersfs)\n",
    "buccaneersss_mean = np.mean(buccaneersss['Predicted Rating'])\n",
    "buccaneerscb_mean = np.mean(buccaneerscb['Predicted Rating'])\n",
    "buccaneersfs_mean = np.mean(buccaneersfs['Predicted Rating'])\n",
    "buccaneerssecondary_mean = np.mean([buccaneerscb_mean, buccaneersss_mean, buccaneersfs_mean])\n",
    "print(buccaneerssecondary_mean, buccaneerscb_mean, buccaneersfs_mean, buccaneersss_mean) "
   ]
  },
  {
   "cell_type": "code",
   "execution_count": 97,
   "metadata": {},
   "outputs": [
    {
     "data": {
      "text/plain": [
       "71.00552394179896"
      ]
     },
     "execution_count": 97,
     "metadata": {},
     "output_type": "execute_result"
    }
   ],
   "source": [
    "buccaneers_defense_mean = np.mean([buccaneerslb_mean, buccaneersdl_mean, buccaneerssecondary_mean])\n",
    "buccaneers_defense_mean"
   ]
  },
  {
   "cell_type": "code",
   "execution_count": 98,
   "metadata": {},
   "outputs": [],
   "source": [
    "buccaneers['lb_mean'] = buccaneerslb_mean\n",
    "buccaneers['dl_mean'] = buccaneersdl_mean\n",
    "buccaneers['secondary_mean'] = buccaneerssecondary_mean\n",
    "buccaneers['defense_rating'] = buccaneers_defense_mean"
   ]
  },
  {
   "cell_type": "code",
   "execution_count": 99,
   "metadata": {},
   "outputs": [
    {
     "data": {
      "text/plain": [
       "70.95448809523809"
      ]
     },
     "execution_count": 99,
     "metadata": {},
     "output_type": "execute_result"
    }
   ],
   "source": [
    "falconsdt = falcons[falcons['Position'] == 'DT']\n",
    "falconsre = falcons[falcons['Position'] == 'RE']\n",
    "falconsle = falcons[falcons['Position'] == 'LE']\n",
    "falconsdt['Predicted Rating'] = modeldt(falconsdt)\n",
    "falconsre['Predicted Rating'] = modelre(falconsre)\n",
    "falconsle['Predicted Rating'] = modelle(falconsle)\n",
    "falconsdt_mean = np.mean(falconsdt['Predicted Rating'])\n",
    "falconsre_mean = np.mean(falconsre['Predicted Rating'])\n",
    "falconsle_mean = np.mean(falconsle['Predicted Rating'])\n",
    "falconsdl_mean = np.mean([falconsdt_mean, falconsre_mean, falconsle_mean])\n",
    "falconsdl_mean"
   ]
  },
  {
   "cell_type": "code",
   "execution_count": 100,
   "metadata": {},
   "outputs": [
    {
     "name": "stdout",
     "output_type": "stream",
     "text": [
      "66.77071111111111 65.42813333333334 63.87346666666667 71.01053333333333\n"
     ]
    }
   ],
   "source": [
    "falconsmlb = falcons[falcons['Position'] == 'MLB']\n",
    "falconsrolb = falcons[falcons['Position'] == 'ROLB']\n",
    "falconslolb = falcons[falcons['Position'] == 'LOLB']\n",
    "falconsmlb['Predicted Rating'] = modelmlb(falconsmlb)\n",
    "falconsrolb['Predicted Rating'] = modelrolb(falconsrolb)\n",
    "falconslolb['Predicted Rating'] = modellolb(falconslolb)\n",
    "falconsmlb_mean = np.mean(falconsmlb['Predicted Rating'])\n",
    "falconsrolb_mean = np.mean(falconsrolb['Predicted Rating'])\n",
    "falconslolb_mean = np.mean(falconslolb['Predicted Rating'])\n",
    "falconslb_mean = np.mean([falconsmlb_mean, falconsrolb_mean, falconslolb_mean])\n",
    "print(falconslb_mean, falconsmlb_mean, falconslolb_mean, falconsrolb_mean) "
   ]
  },
  {
   "cell_type": "code",
   "execution_count": 101,
   "metadata": {},
   "outputs": [
    {
     "name": "stdout",
     "output_type": "stream",
     "text": [
      "74.76074999999999 75.085925 74.43507499999998 74.76124999999999\n"
     ]
    }
   ],
   "source": [
    "falconscb = falcons[falcons['Position'] == 'CB']\n",
    "falconsfs = falcons[falcons['Position'] == 'FS']\n",
    "falconsss = falcons[falcons['Position'] == 'SS']\n",
    "falconscb['Predicted Rating'] = modelcb(falconscb)\n",
    "falconsss['Predicted Rating'] = modelss(falconsss)\n",
    "falconsfs['Predicted Rating'] = modelfs(falconsfs)\n",
    "falconsss_mean = np.mean(falconsss['Predicted Rating'])\n",
    "falconscb_mean = np.mean(falconscb['Predicted Rating'])\n",
    "falconsfs_mean = np.mean(falconsfs['Predicted Rating'])\n",
    "falconssecondary_mean = np.mean([falconscb_mean, falconsss_mean, falconsfs_mean])\n",
    "print(falconssecondary_mean, falconscb_mean, falconsfs_mean, falconsss_mean) "
   ]
  },
  {
   "cell_type": "code",
   "execution_count": 102,
   "metadata": {},
   "outputs": [
    {
     "data": {
      "text/plain": [
       "70.82864973544973"
      ]
     },
     "execution_count": 102,
     "metadata": {},
     "output_type": "execute_result"
    }
   ],
   "source": [
    "falcons_defense_mean = np.mean([falconslb_mean, falconsdl_mean, falconssecondary_mean])\n",
    "falcons_defense_mean"
   ]
  },
  {
   "cell_type": "code",
   "execution_count": 103,
   "metadata": {},
   "outputs": [],
   "source": [
    "falcons['lb_mean'] = falconslb_mean\n",
    "falcons['dl_mean'] = falconsdl_mean\n",
    "falcons['secondary_mean'] = falconssecondary_mean\n",
    "falcons['defense_rating'] = falcons_defense_mean"
   ]
  },
  {
   "cell_type": "code",
   "execution_count": 104,
   "metadata": {},
   "outputs": [
    {
     "data": {
      "text/plain": [
       "72.1806561111111"
      ]
     },
     "execution_count": 104,
     "metadata": {},
     "output_type": "execute_result"
    }
   ],
   "source": [
    "panthersdt = panthers[panthers['Position'] == 'DT']\n",
    "panthersre = panthers[panthers['Position'] == 'RE']\n",
    "panthersle = panthers[panthers['Position'] == 'LE']\n",
    "panthersdt['Predicted Rating'] = modeldt(panthersdt)\n",
    "panthersre['Predicted Rating'] = modelre(panthersre)\n",
    "panthersle['Predicted Rating'] = modelle(panthersle)\n",
    "panthersdt_mean = np.mean(panthersdt['Predicted Rating'])\n",
    "panthersre_mean = np.mean(panthersre['Predicted Rating'])\n",
    "panthersle_mean = np.mean(panthersle['Predicted Rating'])\n",
    "panthersdl_mean = np.mean([panthersdt_mean, panthersre_mean, panthersle_mean])\n",
    "panthersdl_mean"
   ]
  },
  {
   "cell_type": "code",
   "execution_count": 105,
   "metadata": {},
   "outputs": [
    {
     "name": "stdout",
     "output_type": "stream",
     "text": [
      "76.358925 72.606175 70.50439999999999 85.9662\n"
     ]
    }
   ],
   "source": [
    "panthersmlb = panthers[panthers['Position'] == 'MLB']\n",
    "panthersrolb = panthers[panthers['Position'] == 'ROLB']\n",
    "pantherslolb = panthers[panthers['Position'] == 'LOLB']\n",
    "panthersmlb['Predicted Rating'] = modelmlb(panthersmlb)\n",
    "panthersrolb['Predicted Rating'] = modelrolb(panthersrolb)\n",
    "pantherslolb['Predicted Rating'] = modellolb(pantherslolb)\n",
    "panthersmlb_mean = np.mean(panthersmlb['Predicted Rating'])\n",
    "panthersrolb_mean = np.mean(panthersrolb['Predicted Rating'])\n",
    "pantherslolb_mean = np.mean(pantherslolb['Predicted Rating'])\n",
    "pantherslb_mean = np.mean([panthersmlb_mean, panthersrolb_mean, pantherslolb_mean])\n",
    "print(pantherslb_mean, panthersmlb_mean, pantherslolb_mean, panthersrolb_mean) "
   ]
  },
  {
   "cell_type": "code",
   "execution_count": 106,
   "metadata": {},
   "outputs": [
    {
     "name": "stdout",
     "output_type": "stream",
     "text": [
      "70.46456203703703 70.82571111111112 69.68594999999999 70.882025\n"
     ]
    }
   ],
   "source": [
    "pantherscb = panthers[panthers['Position'] == 'CB']\n",
    "panthersfs = panthers[panthers['Position'] == 'FS']\n",
    "panthersss = panthers[panthers['Position'] == 'SS']\n",
    "pantherscb['Predicted Rating'] = modelcb(pantherscb)\n",
    "panthersss['Predicted Rating'] = modelss(panthersss)\n",
    "panthersfs['Predicted Rating'] = modelfs(panthersfs)\n",
    "panthersss_mean = np.mean(panthersss['Predicted Rating'])\n",
    "pantherscb_mean = np.mean(pantherscb['Predicted Rating'])\n",
    "panthersfs_mean = np.mean(panthersfs['Predicted Rating'])\n",
    "pantherssecondary_mean = np.mean([pantherscb_mean, panthersss_mean, panthersfs_mean])\n",
    "print(pantherssecondary_mean, pantherscb_mean, panthersfs_mean, panthersss_mean) "
   ]
  },
  {
   "cell_type": "code",
   "execution_count": 107,
   "metadata": {},
   "outputs": [
    {
     "data": {
      "text/plain": [
       "73.0013810493827"
      ]
     },
     "execution_count": 107,
     "metadata": {},
     "output_type": "execute_result"
    }
   ],
   "source": [
    "panthers_defense_mean = np.mean([pantherslb_mean, panthersdl_mean, pantherssecondary_mean])\n",
    "panthers_defense_mean"
   ]
  },
  {
   "cell_type": "code",
   "execution_count": 108,
   "metadata": {},
   "outputs": [],
   "source": [
    "panthers['lb_mean'] = pantherslb_mean\n",
    "panthers['dl_mean'] = panthersdl_mean\n",
    "panthers['secondary_mean'] = pantherssecondary_mean\n",
    "panthers['defense_rating'] = panthers_defense_mean"
   ]
  },
  {
   "cell_type": "code",
   "execution_count": 109,
   "metadata": {},
   "outputs": [
    {
     "data": {
      "text/plain": [
       "73.28057420634921"
      ]
     },
     "execution_count": 109,
     "metadata": {},
     "output_type": "execute_result"
    }
   ],
   "source": [
    "saintsdt = saints[saints['Position'] == 'DT']\n",
    "saintsre = saints[saints['Position'] == 'RE']\n",
    "saintsle = saints[saints['Position'] == 'LE']\n",
    "saintsdt['Predicted Rating'] = modeldt(saintsdt)\n",
    "saintsre['Predicted Rating'] = modelre(saintsre)\n",
    "saintsle['Predicted Rating'] = modelle(saintsle)\n",
    "saintsdt_mean = np.mean(saintsdt['Predicted Rating'])\n",
    "saintsre_mean = np.mean(saintsre['Predicted Rating'])\n",
    "saintsle_mean = np.mean(saintsle['Predicted Rating'])\n",
    "saintsdl_mean = np.mean([saintsdt_mean, saintsre_mean, saintsle_mean])\n",
    "saintsdl_mean"
   ]
  },
  {
   "cell_type": "code",
   "execution_count": 110,
   "metadata": {},
   "outputs": [
    {
     "name": "stdout",
     "output_type": "stream",
     "text": [
      "76.01378888888888 80.8706 70.87716666666667 76.2936\n"
     ]
    }
   ],
   "source": [
    "saintsmlb = saints[saints['Position'] == 'MLB']\n",
    "saintsrolb = saints[saints['Position'] == 'ROLB']\n",
    "saintslolb = saints[saints['Position'] == 'LOLB']\n",
    "saintsmlb['Predicted Rating'] = modelmlb(saintsmlb)\n",
    "saintsrolb['Predicted Rating'] = modelrolb(saintsrolb)\n",
    "saintslolb['Predicted Rating'] = modellolb(saintslolb)\n",
    "saintsmlb_mean = np.mean(saintsmlb['Predicted Rating'])\n",
    "saintsrolb_mean = np.mean(saintsrolb['Predicted Rating'])\n",
    "saintslolb_mean = np.mean(saintslolb['Predicted Rating'])\n",
    "saintslb_mean = np.mean([saintsmlb_mean, saintsrolb_mean, saintslolb_mean])\n",
    "print(saintslb_mean, saintsmlb_mean, saintslolb_mean, saintsrolb_mean) "
   ]
  },
  {
   "cell_type": "code",
   "execution_count": 111,
   "metadata": {},
   "outputs": [
    {
     "name": "stdout",
     "output_type": "stream",
     "text": [
      "71.87889305555554 73.53661249999999 68.77866666666667 73.3214\n"
     ]
    }
   ],
   "source": [
    "saintscb = saints[saints['Position'] == 'CB']\n",
    "saintsfs = saints[saints['Position'] == 'FS']\n",
    "saintsss = saints[saints['Position'] == 'SS']\n",
    "saintscb['Predicted Rating'] = modelcb(saintscb)\n",
    "saintsss['Predicted Rating'] = modelss(saintsss)\n",
    "saintsfs['Predicted Rating'] = modelfs(saintsfs)\n",
    "saintsss_mean = np.mean(saintsss['Predicted Rating'])\n",
    "saintscb_mean = np.mean(saintscb['Predicted Rating'])\n",
    "saintsfs_mean = np.mean(saintsfs['Predicted Rating'])\n",
    "saintssecondary_mean = np.mean([saintscb_mean, saintsss_mean, saintsfs_mean])\n",
    "print(saintssecondary_mean, saintscb_mean, saintsfs_mean, saintsss_mean) "
   ]
  },
  {
   "cell_type": "code",
   "execution_count": 112,
   "metadata": {},
   "outputs": [
    {
     "data": {
      "text/plain": [
       "73.72441871693121"
      ]
     },
     "execution_count": 112,
     "metadata": {},
     "output_type": "execute_result"
    }
   ],
   "source": [
    "saints_defense_mean = np.mean([saintslb_mean, saintsdl_mean, saintssecondary_mean])\n",
    "saints_defense_mean"
   ]
  },
  {
   "cell_type": "code",
   "execution_count": 113,
   "metadata": {},
   "outputs": [],
   "source": [
    "saints['lb_mean'] = saintslb_mean\n",
    "saints['dl_mean'] = saintsdl_mean\n",
    "saints['secondary_mean'] = saintssecondary_mean\n",
    "saints['defense_rating'] = saints_defense_mean"
   ]
  },
  {
   "cell_type": "code",
   "execution_count": 114,
   "metadata": {},
   "outputs": [
    {
     "data": {
      "text/html": [
       "<div>\n",
       "<style scoped>\n",
       "    .dataframe tbody tr th:only-of-type {\n",
       "        vertical-align: middle;\n",
       "    }\n",
       "\n",
       "    .dataframe tbody tr th {\n",
       "        vertical-align: top;\n",
       "    }\n",
       "\n",
       "    .dataframe thead th {\n",
       "        text-align: right;\n",
       "    }\n",
       "</style>\n",
       "<table border=\"1\" class=\"dataframe\">\n",
       "  <thead>\n",
       "    <tr style=\"text-align: right;\">\n",
       "      <th></th>\n",
       "      <th>Team</th>\n",
       "      <th>Jersey #</th>\n",
       "      <th>Name</th>\n",
       "      <th>Age</th>\n",
       "      <th>Position</th>\n",
       "      <th>Overall</th>\n",
       "      <th>Awareness</th>\n",
       "      <th>Agility</th>\n",
       "      <th>Speed</th>\n",
       "      <th>Acceleration</th>\n",
       "      <th>...</th>\n",
       "      <th>Birthdate</th>\n",
       "      <th>Years Pro</th>\n",
       "      <th>Handedness</th>\n",
       "      <th>College</th>\n",
       "      <th>Total Salary</th>\n",
       "      <th>Signing Bonus</th>\n",
       "      <th>lb_mean</th>\n",
       "      <th>dl_mean</th>\n",
       "      <th>secondary_mean</th>\n",
       "      <th>defense_rating</th>\n",
       "    </tr>\n",
       "  </thead>\n",
       "  <tbody>\n",
       "    <tr>\n",
       "      <th>26</th>\n",
       "      <td>Saints</td>\n",
       "      <td>94</td>\n",
       "      <td>Cameron Jordan</td>\n",
       "      <td>29</td>\n",
       "      <td>LE</td>\n",
       "      <td>95</td>\n",
       "      <td>97</td>\n",
       "      <td>79</td>\n",
       "      <td>78</td>\n",
       "      <td>85</td>\n",
       "      <td>...</td>\n",
       "      <td>1989-07-10 00:00:00</td>\n",
       "      <td>7</td>\n",
       "      <td>Right</td>\n",
       "      <td>California</td>\n",
       "      <td>55000000</td>\n",
       "      <td>18700000</td>\n",
       "      <td>76.013789</td>\n",
       "      <td>73.280574</td>\n",
       "      <td>71.878893</td>\n",
       "      <td>73.724419</td>\n",
       "    </tr>\n",
       "    <tr>\n",
       "      <th>66</th>\n",
       "      <td>Saints</td>\n",
       "      <td>9</td>\n",
       "      <td>Drew Brees</td>\n",
       "      <td>39</td>\n",
       "      <td>QB</td>\n",
       "      <td>91</td>\n",
       "      <td>99</td>\n",
       "      <td>63</td>\n",
       "      <td>69</td>\n",
       "      <td>73</td>\n",
       "      <td>...</td>\n",
       "      <td>1979-01-15 00:00:00</td>\n",
       "      <td>17</td>\n",
       "      <td>Right</td>\n",
       "      <td>Purdue</td>\n",
       "      <td>36500000</td>\n",
       "      <td>21000000</td>\n",
       "      <td>76.013789</td>\n",
       "      <td>73.280574</td>\n",
       "      <td>71.878893</td>\n",
       "      <td>73.724419</td>\n",
       "    </tr>\n",
       "    <tr>\n",
       "      <th>68</th>\n",
       "      <td>Saints</td>\n",
       "      <td>13</td>\n",
       "      <td>Michael Thomas</td>\n",
       "      <td>25</td>\n",
       "      <td>WR</td>\n",
       "      <td>91</td>\n",
       "      <td>97</td>\n",
       "      <td>91</td>\n",
       "      <td>89</td>\n",
       "      <td>92</td>\n",
       "      <td>...</td>\n",
       "      <td>1993-03-03 00:00:00</td>\n",
       "      <td>2</td>\n",
       "      <td>Right</td>\n",
       "      <td>Ohio State</td>\n",
       "      <td>5118000</td>\n",
       "      <td>1920000</td>\n",
       "      <td>76.013789</td>\n",
       "      <td>73.280574</td>\n",
       "      <td>71.878893</td>\n",
       "      <td>73.724419</td>\n",
       "    </tr>\n",
       "    <tr>\n",
       "      <th>81</th>\n",
       "      <td>Saints</td>\n",
       "      <td>23</td>\n",
       "      <td>Marshon Lattimore</td>\n",
       "      <td>22</td>\n",
       "      <td>CB</td>\n",
       "      <td>90</td>\n",
       "      <td>86</td>\n",
       "      <td>91</td>\n",
       "      <td>94</td>\n",
       "      <td>94</td>\n",
       "      <td>...</td>\n",
       "      <td>1996-05-20 00:00:00</td>\n",
       "      <td>1</td>\n",
       "      <td>Right</td>\n",
       "      <td>Ohio State</td>\n",
       "      <td>15430000</td>\n",
       "      <td>9360000</td>\n",
       "      <td>76.013789</td>\n",
       "      <td>73.280574</td>\n",
       "      <td>71.878893</td>\n",
       "      <td>73.724419</td>\n",
       "    </tr>\n",
       "    <tr>\n",
       "      <th>130</th>\n",
       "      <td>Saints</td>\n",
       "      <td>41</td>\n",
       "      <td>Alvin Kamara</td>\n",
       "      <td>23</td>\n",
       "      <td>HB</td>\n",
       "      <td>88</td>\n",
       "      <td>82</td>\n",
       "      <td>93</td>\n",
       "      <td>90</td>\n",
       "      <td>93</td>\n",
       "      <td>...</td>\n",
       "      <td>1995-07-25 00:00:00</td>\n",
       "      <td>1</td>\n",
       "      <td>Right</td>\n",
       "      <td>Tennessee</td>\n",
       "      <td>3868000</td>\n",
       "      <td>970000</td>\n",
       "      <td>76.013789</td>\n",
       "      <td>73.280574</td>\n",
       "      <td>71.878893</td>\n",
       "      <td>73.724419</td>\n",
       "    </tr>\n",
       "  </tbody>\n",
       "</table>\n",
       "<p>5 rows × 71 columns</p>\n",
       "</div>"
      ],
      "text/plain": [
       "       Team  Jersey #               Name  Age Position  Overall  Awareness  \\\n",
       "26   Saints        94     Cameron Jordan   29       LE       95         97   \n",
       "66   Saints         9         Drew Brees   39       QB       91         99   \n",
       "68   Saints        13     Michael Thomas   25       WR       91         97   \n",
       "81   Saints        23  Marshon Lattimore   22       CB       90         86   \n",
       "130  Saints        41       Alvin Kamara   23       HB       88         82   \n",
       "\n",
       "     Agility  Speed  Acceleration       ...                  Birthdate  \\\n",
       "26        79     78            85       ...        1989-07-10 00:00:00   \n",
       "66        63     69            73       ...        1979-01-15 00:00:00   \n",
       "68        91     89            92       ...        1993-03-03 00:00:00   \n",
       "81        91     94            94       ...        1996-05-20 00:00:00   \n",
       "130       93     90            93       ...        1995-07-25 00:00:00   \n",
       "\n",
       "     Years Pro  Handedness     College  Total Salary  Signing Bonus  \\\n",
       "26           7       Right  California      55000000       18700000   \n",
       "66          17       Right      Purdue      36500000       21000000   \n",
       "68           2       Right  Ohio State       5118000        1920000   \n",
       "81           1       Right  Ohio State      15430000        9360000   \n",
       "130          1       Right   Tennessee       3868000         970000   \n",
       "\n",
       "       lb_mean    dl_mean  secondary_mean  defense_rating  \n",
       "26   76.013789  73.280574       71.878893       73.724419  \n",
       "66   76.013789  73.280574       71.878893       73.724419  \n",
       "68   76.013789  73.280574       71.878893       73.724419  \n",
       "81   76.013789  73.280574       71.878893       73.724419  \n",
       "130  76.013789  73.280574       71.878893       73.724419  \n",
       "\n",
       "[5 rows x 71 columns]"
      ]
     },
     "execution_count": 114,
     "metadata": {},
     "output_type": "execute_result"
    }
   ],
   "source": [
    "saints.head()"
   ]
  },
  {
   "cell_type": "code",
   "execution_count": 115,
   "metadata": {},
   "outputs": [
    {
     "data": {
      "text/html": [
       "<div>\n",
       "<style scoped>\n",
       "    .dataframe tbody tr th:only-of-type {\n",
       "        vertical-align: middle;\n",
       "    }\n",
       "\n",
       "    .dataframe tbody tr th {\n",
       "        vertical-align: top;\n",
       "    }\n",
       "\n",
       "    .dataframe thead th {\n",
       "        text-align: right;\n",
       "    }\n",
       "</style>\n",
       "<table border=\"1\" class=\"dataframe\">\n",
       "  <thead>\n",
       "    <tr style=\"text-align: right;\">\n",
       "      <th></th>\n",
       "      <th>Name</th>\n",
       "      <th>lb_mean</th>\n",
       "      <th>dl_mean</th>\n",
       "      <th>secondary_mean</th>\n",
       "      <th>Name</th>\n",
       "      <th>lb_mean</th>\n",
       "      <th>dl_mean</th>\n",
       "      <th>secondary_mean</th>\n",
       "    </tr>\n",
       "  </thead>\n",
       "  <tbody>\n",
       "  </tbody>\n",
       "</table>\n",
       "</div>"
      ],
      "text/plain": [
       "Empty DataFrame\n",
       "Columns: [Name, lb_mean, dl_mean, secondary_mean, Name, lb_mean, dl_mean, secondary_mean]\n",
       "Index: []"
      ]
     },
     "execution_count": 115,
     "metadata": {},
     "output_type": "execute_result"
    }
   ],
   "source": [
    "cowboys1 = pd.concat([cowboys[['Name', 'lb_mean', 'dl_mean', 'secondary_mean']],eagles[['Name', 'lb_mean', 'dl_mean', 'secondary_mean']]], axis=1)\n",
    "cowboys1.head(0)"
   ]
  },
  {
   "cell_type": "code",
   "execution_count": 125,
   "metadata": {},
   "outputs": [],
   "source": [
    "nfc = pd.concat([cowboys, eagles, giants, redskins, niners, cardinals, rams, seahawks, bears, lions, packers, \n",
    "                vikings, buccaneers, falcons, panthers, saints], axis=0)\n",
    "df = pd.merge(df, nfc)"
   ]
  },
  {
   "cell_type": "code",
   "execution_count": 126,
   "metadata": {},
   "outputs": [
    {
     "data": {
      "text/plain": [
       "array(['Team', 'Jersey #', 'Name', 'Age', 'Position', 'Overall',\n",
       "       'Awareness', 'Agility', 'Speed', 'Acceleration', 'Strength',\n",
       "       'Stamina', 'Jumping', 'Injury', 'Throw Power',\n",
       "       'Throw Accuracy Short', 'Throw Accuracy Mid',\n",
       "       'Throw Accuracy Deep', 'Throw on the Run', 'Throw Under Pressure',\n",
       "       'Playaction', 'Break Sack', 'Carrying', 'BC Vision',\n",
       "       'Break Tackle', 'Elusiveness', 'Spin Move', 'Trucking',\n",
       "       'Juke Move', 'Stiff Arm', 'Lead Block', 'Catch', 'Spec. Catch',\n",
       "       'Catch in Traffic', 'Short Route Runing', 'Medium Route Running',\n",
       "       'Deep Route Running', 'Release', 'Run Block', 'Pass Block',\n",
       "       'Run Block Power', 'Pass Block Power', 'Run Block Finesse',\n",
       "       'Pass Block Finesse', 'Impact Blocking', 'Power Moves',\n",
       "       'Finesse Moves', 'Block Shedding', 'Tackle', 'Play Recognition',\n",
       "       'Pursuit', 'Hit Power', 'Man Coverage', 'Zone Coverage', 'Press',\n",
       "       'Toughness', 'Kick Return', 'Kick Power', 'Kick Accuracy',\n",
       "       'Height', 'Weight', 'Birthdate', 'Years Pro', 'Handedness',\n",
       "       'College', 'Total Salary', 'Signing Bonus', 'lb_mean', 'dl_mean',\n",
       "       'secondary_mean', 'defense_rating'], dtype=object)"
      ]
     },
     "execution_count": 126,
     "metadata": {},
     "output_type": "execute_result"
    }
   ],
   "source": [
    "df.columns.values"
   ]
  },
  {
   "cell_type": "code",
   "execution_count": 129,
   "metadata": {},
   "outputs": [
    {
     "data": {
      "text/html": [
       "<div>\n",
       "<style scoped>\n",
       "    .dataframe tbody tr th:only-of-type {\n",
       "        vertical-align: middle;\n",
       "    }\n",
       "\n",
       "    .dataframe tbody tr th {\n",
       "        vertical-align: top;\n",
       "    }\n",
       "\n",
       "    .dataframe thead th {\n",
       "        text-align: right;\n",
       "    }\n",
       "</style>\n",
       "<table border=\"1\" class=\"dataframe\">\n",
       "  <thead>\n",
       "    <tr style=\"text-align: right;\">\n",
       "      <th></th>\n",
       "      <th>Team</th>\n",
       "      <th>Jersey #</th>\n",
       "      <th>Name</th>\n",
       "      <th>Age</th>\n",
       "      <th>Position</th>\n",
       "      <th>Overall</th>\n",
       "      <th>Awareness</th>\n",
       "      <th>Agility</th>\n",
       "      <th>Speed</th>\n",
       "      <th>Acceleration</th>\n",
       "      <th>...</th>\n",
       "      <th>Birthdate</th>\n",
       "      <th>Years Pro</th>\n",
       "      <th>Handedness</th>\n",
       "      <th>College</th>\n",
       "      <th>Total Salary</th>\n",
       "      <th>Signing Bonus</th>\n",
       "      <th>lb_mean</th>\n",
       "      <th>dl_mean</th>\n",
       "      <th>secondary_mean</th>\n",
       "      <th>defense_rating</th>\n",
       "    </tr>\n",
       "  </thead>\n",
       "  <tbody>\n",
       "    <tr>\n",
       "      <th>0</th>\n",
       "      <td>Packers</td>\n",
       "      <td>12</td>\n",
       "      <td>Aaron Rodgers</td>\n",
       "      <td>34</td>\n",
       "      <td>QB</td>\n",
       "      <td>99</td>\n",
       "      <td>99</td>\n",
       "      <td>82</td>\n",
       "      <td>79</td>\n",
       "      <td>82</td>\n",
       "      <td>...</td>\n",
       "      <td>1983-12-02 00:00:00</td>\n",
       "      <td>13</td>\n",
       "      <td>Right</td>\n",
       "      <td>California</td>\n",
       "      <td>91000000</td>\n",
       "      <td>33250000</td>\n",
       "      <td>69.901153</td>\n",
       "      <td>72.562383</td>\n",
       "      <td>69.370878</td>\n",
       "      <td>70.611471</td>\n",
       "    </tr>\n",
       "    <tr>\n",
       "      <th>1</th>\n",
       "      <td>Panthers</td>\n",
       "      <td>59</td>\n",
       "      <td>Luke Kuechly</td>\n",
       "      <td>27</td>\n",
       "      <td>MLB</td>\n",
       "      <td>99</td>\n",
       "      <td>99</td>\n",
       "      <td>83</td>\n",
       "      <td>86</td>\n",
       "      <td>89</td>\n",
       "      <td>...</td>\n",
       "      <td>1991-04-20 00:00:00</td>\n",
       "      <td>6</td>\n",
       "      <td>Right</td>\n",
       "      <td>Boston College</td>\n",
       "      <td>62000000</td>\n",
       "      <td>19000000</td>\n",
       "      <td>76.358925</td>\n",
       "      <td>72.180656</td>\n",
       "      <td>70.464562</td>\n",
       "      <td>73.001381</td>\n",
       "    </tr>\n",
       "    <tr>\n",
       "      <th>2</th>\n",
       "      <td>Rams</td>\n",
       "      <td>99</td>\n",
       "      <td>Aaron Donald</td>\n",
       "      <td>27</td>\n",
       "      <td>RE</td>\n",
       "      <td>99</td>\n",
       "      <td>99</td>\n",
       "      <td>82</td>\n",
       "      <td>83</td>\n",
       "      <td>90</td>\n",
       "      <td>...</td>\n",
       "      <td>1991-05-23 00:00:00</td>\n",
       "      <td>4</td>\n",
       "      <td>Right</td>\n",
       "      <td>Pittsburgh</td>\n",
       "      <td>8694000</td>\n",
       "      <td>1420000</td>\n",
       "      <td>67.010120</td>\n",
       "      <td>74.587247</td>\n",
       "      <td>73.904963</td>\n",
       "      <td>71.834110</td>\n",
       "    </tr>\n",
       "    <tr>\n",
       "      <th>3</th>\n",
       "      <td>Falcons</td>\n",
       "      <td>11</td>\n",
       "      <td>Julio Jones</td>\n",
       "      <td>29</td>\n",
       "      <td>WR</td>\n",
       "      <td>98</td>\n",
       "      <td>99</td>\n",
       "      <td>96</td>\n",
       "      <td>93</td>\n",
       "      <td>92</td>\n",
       "      <td>...</td>\n",
       "      <td>1989-02-03 00:00:00</td>\n",
       "      <td>7</td>\n",
       "      <td>Right</td>\n",
       "      <td>Alabama</td>\n",
       "      <td>71500000</td>\n",
       "      <td>12000000</td>\n",
       "      <td>66.770711</td>\n",
       "      <td>70.954488</td>\n",
       "      <td>74.760750</td>\n",
       "      <td>70.828650</td>\n",
       "    </tr>\n",
       "    <tr>\n",
       "      <th>4</th>\n",
       "      <td>Packers</td>\n",
       "      <td>69</td>\n",
       "      <td>David Bakhtiari</td>\n",
       "      <td>26</td>\n",
       "      <td>LT</td>\n",
       "      <td>97</td>\n",
       "      <td>99</td>\n",
       "      <td>69</td>\n",
       "      <td>69</td>\n",
       "      <td>80</td>\n",
       "      <td>...</td>\n",
       "      <td>1991-09-30 00:00:00</td>\n",
       "      <td>5</td>\n",
       "      <td>Right</td>\n",
       "      <td>Colorado</td>\n",
       "      <td>22000000</td>\n",
       "      <td>15000000</td>\n",
       "      <td>69.901153</td>\n",
       "      <td>72.562383</td>\n",
       "      <td>69.370878</td>\n",
       "      <td>70.611471</td>\n",
       "    </tr>\n",
       "  </tbody>\n",
       "</table>\n",
       "<p>5 rows × 71 columns</p>\n",
       "</div>"
      ],
      "text/plain": [
       "       Team  Jersey #             Name  Age Position  Overall  Awareness  \\\n",
       "0   Packers        12    Aaron Rodgers   34       QB       99         99   \n",
       "1  Panthers        59     Luke Kuechly   27      MLB       99         99   \n",
       "2      Rams        99     Aaron Donald   27       RE       99         99   \n",
       "3   Falcons        11      Julio Jones   29       WR       98         99   \n",
       "4   Packers        69  David Bakhtiari   26       LT       97         99   \n",
       "\n",
       "   Agility  Speed  Acceleration       ...                  Birthdate  \\\n",
       "0       82     79            82       ...        1983-12-02 00:00:00   \n",
       "1       83     86            89       ...        1991-04-20 00:00:00   \n",
       "2       82     83            90       ...        1991-05-23 00:00:00   \n",
       "3       96     93            92       ...        1989-02-03 00:00:00   \n",
       "4       69     69            80       ...        1991-09-30 00:00:00   \n",
       "\n",
       "   Years Pro  Handedness         College  Total Salary  Signing Bonus  \\\n",
       "0         13       Right      California      91000000       33250000   \n",
       "1          6       Right  Boston College      62000000       19000000   \n",
       "2          4       Right      Pittsburgh       8694000        1420000   \n",
       "3          7       Right         Alabama      71500000       12000000   \n",
       "4          5       Right        Colorado      22000000       15000000   \n",
       "\n",
       "     lb_mean    dl_mean  secondary_mean  defense_rating  \n",
       "0  69.901153  72.562383       69.370878       70.611471  \n",
       "1  76.358925  72.180656       70.464562       73.001381  \n",
       "2  67.010120  74.587247       73.904963       71.834110  \n",
       "3  66.770711  70.954488       74.760750       70.828650  \n",
       "4  69.901153  72.562383       69.370878       70.611471  \n",
       "\n",
       "[5 rows x 71 columns]"
      ]
     },
     "execution_count": 129,
     "metadata": {},
     "output_type": "execute_result"
    }
   ],
   "source": [
    "df.head()"
   ]
  },
  {
   "cell_type": "code",
   "execution_count": null,
   "metadata": {},
   "outputs": [],
   "source": [
    "##NFC Offense"
   ]
  },
  {
   "cell_type": "code",
   "execution_count": 131,
   "metadata": {},
   "outputs": [
    {
     "name": "stdout",
     "output_type": "stream",
     "text": [
      "82\n"
     ]
    }
   ],
   "source": [
    "cowboysqb = cowboys[cowboys['Position'] == 'QB']\n",
    "cowboysqbstarter = cowboysqb['Overall'].max()\n",
    "print(cowboysqbstarter)"
   ]
  },
  {
   "cell_type": "code",
   "execution_count": 148,
   "metadata": {},
   "outputs": [],
   "source": [
    "def cleaner(a, b, c, d):\n",
    "    x = a[a['Position'] == b]\n",
    "    x[b + 'Starter Overall'] = x['Overall'].max()\n",
    "    x[b+'Average Overall'] = np.mean(x['Overall'])\n",
    "    x[b + 'Starter' + c] = x['Pass Block'].max()\n",
    "    x[b +'Average'+ c] = np.mean(x['Pass Block'])\n",
    "    x[b+'Starter'+d] = x['Run Block'].max()\n",
    "    x[b+'Average'+ d] = np.mean(x['Run Block'])\n",
    "    return x"
   ]
  },
  {
   "cell_type": "code",
   "execution_count": 162,
   "metadata": {},
   "outputs": [],
   "source": [
    "def cleaner1(a, b, c, d, e):\n",
    "    y = a[a['Team'] == e]\n",
    "    x = y[y['Position'] == b]\n",
    "    x[b + 'Starter Overall'] = x['Overall'].max()\n",
    "    x[b+'Average Overall'] = np.mean(x['Overall'])\n",
    "    x[b + 'Starter' + c] = x[c].max()\n",
    "    x[b +'Average'+ c] = np.mean(x[c])\n",
    "    x[b+'Starter'+d] = x[d].max()\n",
    "    x[b+'Average'+ d] = np.mean(x[d])\n",
    "    return x"
   ]
  },
  {
   "cell_type": "code",
   "execution_count": null,
   "metadata": {},
   "outputs": [],
   "source": [
    "lg = cleaner1(df, 'LG', 'Pass Block', 'Run Block', )"
   ]
  },
  {
   "cell_type": "code",
   "execution_count": 159,
   "metadata": {},
   "outputs": [
    {
     "data": {
      "text/plain": [
       "array(['Acceleration', 'Age', 'Agility', 'Awareness', 'BC Vision',\n",
       "       'Birthdate', 'Block Shedding', 'Break Sack', 'Break Tackle',\n",
       "       'CAverage Overall', 'CAveragePass Block', 'CAverageRun Block',\n",
       "       'CStarter Overall', 'CStarterPass Block', 'CStarterRun Block',\n",
       "       'Carrying', 'Catch', 'Catch in Traffic', 'College',\n",
       "       'Deep Route Running', 'Elusiveness', 'Finesse Moves', 'Handedness',\n",
       "       'Height', 'Hit Power', 'Impact Blocking', 'Injury', 'Jersey #',\n",
       "       'Juke Move', 'Jumping', 'Kick Accuracy', 'Kick Power',\n",
       "       'Kick Return', 'LGAverage Overall', 'LGAveragePass Block',\n",
       "       'LGAverageRun Block', 'LGStarter Overall', 'LGStarterPass Block',\n",
       "       'LGStarterRun Block', 'LTAverage Overall', 'LTAveragePass Block',\n",
       "       'LTAverageRun Block', 'LTStarter Overall', 'LTStarterPass Block',\n",
       "       'LTStarterRun Block', 'Lead Block', 'Man Coverage',\n",
       "       'Medium Route Running', 'Name', 'Overall', 'Pass Block',\n",
       "       'Pass Block Finesse', 'Pass Block Power', 'Play Recognition',\n",
       "       'Playaction', 'Position', 'Power Moves', 'Press', 'Pursuit',\n",
       "       'RGAverage Overall', 'RGAveragePass Block', 'RGAverageRun Block',\n",
       "       'RGStarter Overall', 'RGStarterPass Block', 'RGStarterRun Block',\n",
       "       'RTAverage Overall', 'RTAveragePass Block', 'RTAverageRun Block',\n",
       "       'RTStarter Overall', 'RTStarterPass Block', 'RTStarterRun Block',\n",
       "       'Release', 'Run Block', 'Run Block Finesse', 'Run Block Power',\n",
       "       'Short Route Runing', 'Signing Bonus', 'Spec. Catch', 'Speed',\n",
       "       'Spin Move', 'Stamina', 'Stiff Arm', 'Strength', 'Tackle', 'Team',\n",
       "       'Throw Accuracy Deep', 'Throw Accuracy Mid',\n",
       "       'Throw Accuracy Short', 'Throw Power', 'Throw Under Pressure',\n",
       "       'Throw on the Run', 'Total Salary', 'Toughness', 'Trucking',\n",
       "       'Weight', 'Years Pro', 'Zone Coverage', 'defense_rating',\n",
       "       'dl_mean', 'lb_mean', 'secondary_mean'], dtype=object)"
      ]
     },
     "execution_count": 159,
     "metadata": {},
     "output_type": "execute_result"
    }
   ],
   "source": [
    "cowboyslt = cleaner(cowboys, 'LT', 'Pass Block', 'Run Block')\n",
    "cowboyslg = cleaner(cowboys, 'LG', 'Pass Block', 'Run Block')\n",
    "cowboysc = cleaner(cowboys, 'C', 'Pass Block', 'Run Block')\n",
    "cowboysrg = cleaner(cowboys, 'RG', 'Pass Block', 'Run Block')\n",
    "cowboysrt = cleaner(cowboys, 'RT', 'Pass Block', 'Run Block')\n",
    "cowboysline = pd.concat([cowboyslt, cowboyslg, cowboysc, cowboysrg, cowboysrt])\n",
    "cowboysline.columns.values"
   ]
  },
  {
   "cell_type": "code",
   "execution_count": 160,
   "metadata": {},
   "outputs": [],
   "source": [
    "eagleslt = cleaner(eagles, 'LT', 'Pass Block', 'Run Block')\n",
    "eagleslg = cleaner(eagles, 'LG', 'Pass Block', 'Run Block')\n",
    "eaglesc = cleaner(eagles, 'C', 'Pass Block', 'Run Block')\n",
    "eaglesrg = cleaner(eagles, 'RG', 'Pass Block', 'Run Block')\n",
    "eaglesrt = cleaner(eagles, 'RT', 'Pass Block', 'Run Block')\n",
    "eaglesline = pd.concat([eagleslt, eagleslg, eaglesc, eaglesrg, eaglesrt])"
   ]
  },
  {
   "cell_type": "code",
   "execution_count": null,
   "metadata": {},
   "outputs": [],
   "source": []
  },
  {
   "cell_type": "code",
   "execution_count": 151,
   "metadata": {},
   "outputs": [
    {
     "data": {
      "text/html": [
       "<div>\n",
       "<style scoped>\n",
       "    .dataframe tbody tr th:only-of-type {\n",
       "        vertical-align: middle;\n",
       "    }\n",
       "\n",
       "    .dataframe tbody tr th {\n",
       "        vertical-align: top;\n",
       "    }\n",
       "\n",
       "    .dataframe thead th {\n",
       "        text-align: right;\n",
       "    }\n",
       "</style>\n",
       "<table border=\"1\" class=\"dataframe\">\n",
       "  <thead>\n",
       "    <tr style=\"text-align: right;\">\n",
       "      <th></th>\n",
       "      <th>Team</th>\n",
       "      <th>Jersey #</th>\n",
       "      <th>Name</th>\n",
       "      <th>Age</th>\n",
       "      <th>Position</th>\n",
       "      <th>Overall</th>\n",
       "      <th>Awareness</th>\n",
       "      <th>Agility</th>\n",
       "      <th>Speed</th>\n",
       "      <th>Acceleration</th>\n",
       "      <th>...</th>\n",
       "      <th>lb_mean</th>\n",
       "      <th>dl_mean</th>\n",
       "      <th>secondary_mean</th>\n",
       "      <th>defense_rating</th>\n",
       "      <th>LTStarter Overall</th>\n",
       "      <th>LTAverage Overall</th>\n",
       "      <th>LTStarterPass Block</th>\n",
       "      <th>LTAveragePass Block</th>\n",
       "      <th>LTStarterRun Block</th>\n",
       "      <th>LTAverageRun Block</th>\n",
       "    </tr>\n",
       "  </thead>\n",
       "  <tbody>\n",
       "    <tr>\n",
       "      <th>283</th>\n",
       "      <td>Giants</td>\n",
       "      <td>76</td>\n",
       "      <td>Nate Solder</td>\n",
       "      <td>30</td>\n",
       "      <td>LT</td>\n",
       "      <td>83</td>\n",
       "      <td>90</td>\n",
       "      <td>74</td>\n",
       "      <td>72</td>\n",
       "      <td>82</td>\n",
       "      <td>...</td>\n",
       "      <td>68.318783</td>\n",
       "      <td>71.585678</td>\n",
       "      <td>70.630069</td>\n",
       "      <td>70.178177</td>\n",
       "      <td>83</td>\n",
       "      <td>69.666667</td>\n",
       "      <td>78</td>\n",
       "      <td>72.333333</td>\n",
       "      <td>85</td>\n",
       "      <td>77.0</td>\n",
       "    </tr>\n",
       "    <tr>\n",
       "      <th>1705</th>\n",
       "      <td>Giants</td>\n",
       "      <td>63</td>\n",
       "      <td>Chad Wheeler</td>\n",
       "      <td>24</td>\n",
       "      <td>LT</td>\n",
       "      <td>67</td>\n",
       "      <td>68</td>\n",
       "      <td>70</td>\n",
       "      <td>63</td>\n",
       "      <td>75</td>\n",
       "      <td>...</td>\n",
       "      <td>68.318783</td>\n",
       "      <td>71.585678</td>\n",
       "      <td>70.630069</td>\n",
       "      <td>70.178177</td>\n",
       "      <td>83</td>\n",
       "      <td>69.666667</td>\n",
       "      <td>78</td>\n",
       "      <td>72.333333</td>\n",
       "      <td>85</td>\n",
       "      <td>77.0</td>\n",
       "    </tr>\n",
       "    <tr>\n",
       "      <th>2301</th>\n",
       "      <td>Giants</td>\n",
       "      <td>65</td>\n",
       "      <td>Nick Gates</td>\n",
       "      <td>22</td>\n",
       "      <td>LT</td>\n",
       "      <td>59</td>\n",
       "      <td>51</td>\n",
       "      <td>64</td>\n",
       "      <td>57</td>\n",
       "      <td>76</td>\n",
       "      <td>...</td>\n",
       "      <td>68.318783</td>\n",
       "      <td>71.585678</td>\n",
       "      <td>70.630069</td>\n",
       "      <td>70.178177</td>\n",
       "      <td>83</td>\n",
       "      <td>69.666667</td>\n",
       "      <td>78</td>\n",
       "      <td>72.333333</td>\n",
       "      <td>85</td>\n",
       "      <td>77.0</td>\n",
       "    </tr>\n",
       "  </tbody>\n",
       "</table>\n",
       "<p>3 rows × 77 columns</p>\n",
       "</div>"
      ],
      "text/plain": [
       "        Team  Jersey #          Name  Age Position  Overall  Awareness  \\\n",
       "283   Giants        76   Nate Solder   30       LT       83         90   \n",
       "1705  Giants        63  Chad Wheeler   24       LT       67         68   \n",
       "2301  Giants        65    Nick Gates   22       LT       59         51   \n",
       "\n",
       "      Agility  Speed  Acceleration         ...            lb_mean    dl_mean  \\\n",
       "283        74     72            82         ...          68.318783  71.585678   \n",
       "1705       70     63            75         ...          68.318783  71.585678   \n",
       "2301       64     57            76         ...          68.318783  71.585678   \n",
       "\n",
       "      secondary_mean  defense_rating  LTStarter Overall  LTAverage Overall  \\\n",
       "283        70.630069       70.178177                 83          69.666667   \n",
       "1705       70.630069       70.178177                 83          69.666667   \n",
       "2301       70.630069       70.178177                 83          69.666667   \n",
       "\n",
       "      LTStarterPass Block  LTAveragePass Block  LTStarterRun Block  \\\n",
       "283                    78            72.333333                  85   \n",
       "1705                   78            72.333333                  85   \n",
       "2301                   78            72.333333                  85   \n",
       "\n",
       "      LTAverageRun Block  \n",
       "283                 77.0  \n",
       "1705                77.0  \n",
       "2301                77.0  \n",
       "\n",
       "[3 rows x 77 columns]"
      ]
     },
     "execution_count": 151,
     "metadata": {},
     "output_type": "execute_result"
    }
   ],
   "source": [
    "giantslt = cleaner(giants, 'LT', 'Pass Block', 'Run Block')\n",
    "giantslg = cleaner(giants, 'LG', 'Pass Block', 'Run Block')\n",
    "giantsc = cleaner(giants, 'C', 'Pass Block', 'Run Block')\n",
    "giantsrg = cleaner(giants, 'RG', 'Pass Block', 'Run Block')\n",
    "giantsrt = cleaner(giants, 'RT', 'Pass Block', 'Run Block')\n",
    "giantslt.head()"
   ]
  },
  {
   "cell_type": "code",
   "execution_count": 152,
   "metadata": {},
   "outputs": [
    {
     "data": {
      "text/html": [
       "<div>\n",
       "<style scoped>\n",
       "    .dataframe tbody tr th:only-of-type {\n",
       "        vertical-align: middle;\n",
       "    }\n",
       "\n",
       "    .dataframe tbody tr th {\n",
       "        vertical-align: top;\n",
       "    }\n",
       "\n",
       "    .dataframe thead th {\n",
       "        text-align: right;\n",
       "    }\n",
       "</style>\n",
       "<table border=\"1\" class=\"dataframe\">\n",
       "  <thead>\n",
       "    <tr style=\"text-align: right;\">\n",
       "      <th></th>\n",
       "      <th>Team</th>\n",
       "      <th>Jersey #</th>\n",
       "      <th>Name</th>\n",
       "      <th>Age</th>\n",
       "      <th>Position</th>\n",
       "      <th>Overall</th>\n",
       "      <th>Awareness</th>\n",
       "      <th>Agility</th>\n",
       "      <th>Speed</th>\n",
       "      <th>Acceleration</th>\n",
       "      <th>...</th>\n",
       "      <th>lb_mean</th>\n",
       "      <th>dl_mean</th>\n",
       "      <th>secondary_mean</th>\n",
       "      <th>defense_rating</th>\n",
       "      <th>LTStarter Overall</th>\n",
       "      <th>LTAverage Overall</th>\n",
       "      <th>LTStarterPass Block</th>\n",
       "      <th>LTAveragePass Block</th>\n",
       "      <th>LTStarterRun Block</th>\n",
       "      <th>LTAverageRun Block</th>\n",
       "    </tr>\n",
       "  </thead>\n",
       "  <tbody>\n",
       "    <tr>\n",
       "      <th>32</th>\n",
       "      <td>Redskins</td>\n",
       "      <td>71</td>\n",
       "      <td>Trent Williams</td>\n",
       "      <td>30</td>\n",
       "      <td>LT</td>\n",
       "      <td>94</td>\n",
       "      <td>96</td>\n",
       "      <td>71</td>\n",
       "      <td>76</td>\n",
       "      <td>82</td>\n",
       "      <td>...</td>\n",
       "      <td>72.928878</td>\n",
       "      <td>69.883439</td>\n",
       "      <td>70.156925</td>\n",
       "      <td>70.989747</td>\n",
       "      <td>94</td>\n",
       "      <td>77.666667</td>\n",
       "      <td>91</td>\n",
       "      <td>79.666667</td>\n",
       "      <td>87</td>\n",
       "      <td>80.0</td>\n",
       "    </tr>\n",
       "    <tr>\n",
       "      <th>1208</th>\n",
       "      <td>Redskins</td>\n",
       "      <td>79</td>\n",
       "      <td>Ty Nsekhe</td>\n",
       "      <td>32</td>\n",
       "      <td>LT</td>\n",
       "      <td>71</td>\n",
       "      <td>78</td>\n",
       "      <td>63</td>\n",
       "      <td>73</td>\n",
       "      <td>81</td>\n",
       "      <td>...</td>\n",
       "      <td>72.928878</td>\n",
       "      <td>69.883439</td>\n",
       "      <td>70.156925</td>\n",
       "      <td>70.989747</td>\n",
       "      <td>94</td>\n",
       "      <td>77.666667</td>\n",
       "      <td>91</td>\n",
       "      <td>79.666667</td>\n",
       "      <td>87</td>\n",
       "      <td>80.0</td>\n",
       "    </tr>\n",
       "    <tr>\n",
       "      <th>1577</th>\n",
       "      <td>Redskins</td>\n",
       "      <td>72</td>\n",
       "      <td>Geron Christian</td>\n",
       "      <td>21</td>\n",
       "      <td>LT</td>\n",
       "      <td>68</td>\n",
       "      <td>58</td>\n",
       "      <td>73</td>\n",
       "      <td>63</td>\n",
       "      <td>78</td>\n",
       "      <td>...</td>\n",
       "      <td>72.928878</td>\n",
       "      <td>69.883439</td>\n",
       "      <td>70.156925</td>\n",
       "      <td>70.989747</td>\n",
       "      <td>94</td>\n",
       "      <td>77.666667</td>\n",
       "      <td>91</td>\n",
       "      <td>79.666667</td>\n",
       "      <td>87</td>\n",
       "      <td>80.0</td>\n",
       "    </tr>\n",
       "  </tbody>\n",
       "</table>\n",
       "<p>3 rows × 77 columns</p>\n",
       "</div>"
      ],
      "text/plain": [
       "          Team  Jersey #             Name  Age Position  Overall  Awareness  \\\n",
       "32    Redskins        71   Trent Williams   30       LT       94         96   \n",
       "1208  Redskins        79        Ty Nsekhe   32       LT       71         78   \n",
       "1577  Redskins        72  Geron Christian   21       LT       68         58   \n",
       "\n",
       "      Agility  Speed  Acceleration         ...            lb_mean    dl_mean  \\\n",
       "32         71     76            82         ...          72.928878  69.883439   \n",
       "1208       63     73            81         ...          72.928878  69.883439   \n",
       "1577       73     63            78         ...          72.928878  69.883439   \n",
       "\n",
       "      secondary_mean  defense_rating  LTStarter Overall  LTAverage Overall  \\\n",
       "32         70.156925       70.989747                 94          77.666667   \n",
       "1208       70.156925       70.989747                 94          77.666667   \n",
       "1577       70.156925       70.989747                 94          77.666667   \n",
       "\n",
       "      LTStarterPass Block  LTAveragePass Block  LTStarterRun Block  \\\n",
       "32                     91            79.666667                  87   \n",
       "1208                   91            79.666667                  87   \n",
       "1577                   91            79.666667                  87   \n",
       "\n",
       "      LTAverageRun Block  \n",
       "32                  80.0  \n",
       "1208                80.0  \n",
       "1577                80.0  \n",
       "\n",
       "[3 rows x 77 columns]"
      ]
     },
     "execution_count": 152,
     "metadata": {},
     "output_type": "execute_result"
    }
   ],
   "source": [
    "redskinslt = cleaner(redskins, 'LT', 'Pass Block', 'Run Block')\n",
    "redskinslg = cleaner(redskins, 'LG', 'Pass Block', 'Run Block')\n",
    "redskinsc = cleaner(redskins, 'C', 'Pass Block', 'Run Block')\n",
    "redskinsrg = cleaner(redskins, 'RG', 'Pass Block', 'Run Block')\n",
    "redskinsrt = cleaner(redskins, 'RT', 'Pass Block', 'Run Block')\n",
    "redskinslt.head()"
   ]
  },
  {
   "cell_type": "code",
   "execution_count": null,
   "metadata": {},
   "outputs": [],
   "source": []
  },
  {
   "cell_type": "code",
   "execution_count": null,
   "metadata": {},
   "outputs": [],
   "source": [
    "def olinecleaner"
   ]
  },
  {
   "cell_type": "code",
   "execution_count": null,
   "metadata": {},
   "outputs": [],
   "source": []
  },
  {
   "cell_type": "code",
   "execution_count": null,
   "metadata": {},
   "outputs": [],
   "source": []
  },
  {
   "cell_type": "code",
   "execution_count": null,
   "metadata": {},
   "outputs": [],
   "source": []
  },
  {
   "cell_type": "code",
   "execution_count": null,
   "metadata": {},
   "outputs": [],
   "source": []
  },
  {
   "cell_type": "code",
   "execution_count": null,
   "metadata": {},
   "outputs": [],
   "source": []
  },
  {
   "cell_type": "code",
   "execution_count": null,
   "metadata": {},
   "outputs": [],
   "source": []
  },
  {
   "cell_type": "code",
   "execution_count": null,
   "metadata": {},
   "outputs": [],
   "source": []
  },
  {
   "cell_type": "code",
   "execution_count": null,
   "metadata": {},
   "outputs": [],
   "source": []
  },
  {
   "cell_type": "code",
   "execution_count": null,
   "metadata": {},
   "outputs": [],
   "source": []
  },
  {
   "cell_type": "code",
   "execution_count": null,
   "metadata": {},
   "outputs": [],
   "source": []
  },
  {
   "cell_type": "code",
   "execution_count": null,
   "metadata": {},
   "outputs": [],
   "source": []
  }
 ],
 "metadata": {
  "kernelspec": {
   "display_name": "Python 3",
   "language": "python",
   "name": "python3"
  },
  "language_info": {
   "codemirror_mode": {
    "name": "ipython",
    "version": 3
   },
   "file_extension": ".py",
   "mimetype": "text/x-python",
   "name": "python",
   "nbconvert_exporter": "python",
   "pygments_lexer": "ipython3",
   "version": "3.6.4"
  }
 },
 "nbformat": 4,
 "nbformat_minor": 2
}
