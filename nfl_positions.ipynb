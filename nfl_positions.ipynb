{
 "cells": [
  {
   "cell_type": "code",
   "execution_count": 1,
   "metadata": {},
   "outputs": [],
   "source": [
    "import numpy as np\n",
    "import pandas as pd\n",
    "import matplotlib.pyplot as plt\n",
    "\n",
    "pd.options.mode.chained_assignment = None"
   ]
  },
  {
   "cell_type": "code",
   "execution_count": null,
   "metadata": {},
   "outputs": [],
   "source": []
  },
  {
   "cell_type": "code",
   "execution_count": 204,
   "metadata": {},
   "outputs": [],
   "source": [
    "df = pd.read_excel('C:\\\\Users\\\\tilleymusprime\\\\Desktop\\\\Full Madden 19 Ratings.xlsx')"
   ]
  },
  {
   "cell_type": "code",
   "execution_count": 199,
   "metadata": {},
   "outputs": [
    {
     "data": {
      "text/plain": [
       "array(['Team', 'Jersey #', 'Name', 'Age', 'Position', 'Overall',\n",
       "       'Awareness', 'Agility', 'Speed', 'Acceleration', 'Strength',\n",
       "       'Stamina', 'Jumping', 'Injury', 'Throw Power',\n",
       "       'Throw Accuracy Short', 'Throw Accuracy Mid',\n",
       "       'Throw Accuracy Deep', 'Throw on the Run', 'Throw Under Pressure',\n",
       "       'Playaction', 'Break Sack', 'Carrying', 'BC Vision',\n",
       "       'Break Tackle', 'Elusiveness', 'Spin Move', 'Trucking',\n",
       "       'Juke Move', 'Stiff Arm', 'Lead Block', 'Catch', 'Spec. Catch',\n",
       "       'Catch in Traffic', 'Short Route Runing', 'Medium Route Running',\n",
       "       'Deep Route Running', 'Release', 'Run Block', 'Pass Block',\n",
       "       'Run Block Power', 'Pass Block Power', 'Run Block Finesse',\n",
       "       'Pass Block Finesse', 'Impact Blocking', 'Power Moves',\n",
       "       'Finesse Moves', 'Block Shedding', 'Tackle', 'Play Recognition',\n",
       "       'Pursuit', 'Hit Power', 'Man Coverage', 'Zone Coverage', 'Press',\n",
       "       'Toughness', 'Kick Return', 'Kick Power', 'Kick Accuracy',\n",
       "       'Height', 'Weight', 'Birthdate', 'Years Pro', 'Handedness',\n",
       "       'College', 'Total Salary', 'Signing Bonus'], dtype=object)"
      ]
     },
     "execution_count": 199,
     "metadata": {},
     "output_type": "execute_result"
    }
   ],
   "source": [
    "df.columns.values"
   ]
  },
  {
   "cell_type": "code",
   "execution_count": 200,
   "metadata": {},
   "outputs": [
    {
     "data": {
      "text/plain": [
       "(2368, 67)"
      ]
     },
     "execution_count": 200,
     "metadata": {},
     "output_type": "execute_result"
    }
   ],
   "source": [
    "df.shape"
   ]
  },
  {
   "cell_type": "code",
   "execution_count": 5,
   "metadata": {},
   "outputs": [],
   "source": [
    "for x in df:\n",
    "    y = df[df['Team'] == 'x']"
   ]
  },
  {
   "cell_type": "code",
   "execution_count": 6,
   "metadata": {},
   "outputs": [
    {
     "data": {
      "text/html": [
       "<div>\n",
       "<style scoped>\n",
       "    .dataframe tbody tr th:only-of-type {\n",
       "        vertical-align: middle;\n",
       "    }\n",
       "\n",
       "    .dataframe tbody tr th {\n",
       "        vertical-align: top;\n",
       "    }\n",
       "\n",
       "    .dataframe thead th {\n",
       "        text-align: right;\n",
       "    }\n",
       "</style>\n",
       "<table border=\"1\" class=\"dataframe\">\n",
       "  <thead>\n",
       "    <tr style=\"text-align: right;\">\n",
       "      <th></th>\n",
       "      <th>Team</th>\n",
       "      <th>Jersey #</th>\n",
       "      <th>Name</th>\n",
       "      <th>Age</th>\n",
       "      <th>Position</th>\n",
       "      <th>Overall</th>\n",
       "      <th>Awareness</th>\n",
       "      <th>Agility</th>\n",
       "      <th>Speed</th>\n",
       "      <th>Acceleration</th>\n",
       "      <th>...</th>\n",
       "      <th>Kick Power</th>\n",
       "      <th>Kick Accuracy</th>\n",
       "      <th>Height</th>\n",
       "      <th>Weight</th>\n",
       "      <th>Birthdate</th>\n",
       "      <th>Years Pro</th>\n",
       "      <th>Handedness</th>\n",
       "      <th>College</th>\n",
       "      <th>Total Salary</th>\n",
       "      <th>Signing Bonus</th>\n",
       "    </tr>\n",
       "  </thead>\n",
       "  <tbody>\n",
       "  </tbody>\n",
       "</table>\n",
       "<p>0 rows × 67 columns</p>\n",
       "</div>"
      ],
      "text/plain": [
       "Empty DataFrame\n",
       "Columns: [Team, Jersey #, Name, Age, Position, Overall, Awareness, Agility, Speed, Acceleration, Strength, Stamina, Jumping, Injury, Throw Power, Throw Accuracy Short, Throw Accuracy Mid, Throw Accuracy Deep, Throw on the Run, Throw Under Pressure, Playaction, Break Sack, Carrying, BC Vision, Break Tackle, Elusiveness, Spin Move, Trucking, Juke Move, Stiff Arm, Lead Block, Catch, Spec. Catch, Catch in Traffic, Short Route Runing, Medium Route Running, Deep Route Running, Release, Run Block, Pass Block, Run Block Power, Pass Block Power, Run Block Finesse, Pass Block Finesse, Impact Blocking, Power Moves, Finesse Moves, Block Shedding, Tackle, Play Recognition, Pursuit, Hit Power, Man Coverage, Zone Coverage, Press, Toughness, Kick Return, Kick Power, Kick Accuracy, Height, Weight, Birthdate, Years Pro, Handedness, College, Total Salary, Signing Bonus]\n",
       "Index: []\n",
       "\n",
       "[0 rows x 67 columns]"
      ]
     },
     "execution_count": 6,
     "metadata": {},
     "output_type": "execute_result"
    }
   ],
   "source": [
    "y"
   ]
  },
  {
   "cell_type": "code",
   "execution_count": null,
   "metadata": {},
   "outputs": [],
   "source": []
  },
  {
   "cell_type": "code",
   "execution_count": 205,
   "metadata": {},
   "outputs": [],
   "source": [
    "cowboys = df[df['Team'] == 'Cowboys']\n",
    "niners = df[df['Team'] == '49ers']\n",
    "bears = df[df['Team'] == 'Bears']\n",
    "bengals = df[df['Team'] == 'Bengals']\n",
    "bills = df[df['Team'] == 'Bills']\n",
    "broncos = df[df['Team'] == 'Broncos']\n",
    "browns = df[df['Team'] == 'Browns']\n",
    "buccaneers = df[df['Team'] == 'Buccaneers']\n",
    "cardinals = df[df['Team'] == 'Cardinals']\n",
    "chargers = df[df['Team'] == 'Chargers']\n",
    "chiefs = df[df['Team'] == 'Chiefs']\n",
    "colts = df[df['Team'] == 'Colts']\n",
    "dolphins = df[df['Team'] == 'Dolphins']\n",
    "eagles = df[df['Team'] == 'Eagles']\n",
    "falcons = df[df['Team'] == 'Falcons']\n",
    "giants = df[df['Team'] == 'Giants']\n",
    "jaguars = df[df['Team'] == 'Jaguars']\n",
    "jets = df[df['Team'] == 'Jets']\n",
    "lions = df[df['Team'] == 'Lions']\n",
    "packers = df[df['Team'] == 'Packers']\n",
    "panthers = df[df['Team'] == 'Panthers']\n",
    "patriots = df[df['Team'] == 'Patriots']\n",
    "raiders = df[df['Team'] == 'Raiders']\n",
    "rams = df[df['Team'] == 'Rams']\n",
    "ravens = df[df['Team'] == 'Ravens']\n",
    "redskins = df[df['Team'] == 'Redskins']\n",
    "saints = df[df['Team'] == 'Saints']\n",
    "seahawks = df[df['Team'] == 'Seahawks']\n",
    "steelers = df[df['Team'] == 'Steelers']\n",
    "texans = df[df['Team'] == 'Texans']\n",
    "titans = df[df['Team'] == 'Titans']\n",
    "vikings = df[df['Team'] == 'Vikings']"
   ]
  },
  {
   "cell_type": "code",
   "execution_count": null,
   "metadata": {},
   "outputs": [],
   "source": []
  },
  {
   "cell_type": "code",
   "execution_count": null,
   "metadata": {},
   "outputs": [],
   "source": []
  },
  {
   "cell_type": "code",
   "execution_count": 206,
   "metadata": {},
   "outputs": [],
   "source": [
    "def modelqb(x):\n",
    "    pv=0.3681*x['Awareness']+ 0.0876*x['Play Action'] -0.1561*x['Stamina']+ 0.2824*x['Throw Accuracy Mid'] + 0.4140*x['Throw on the Run']\n",
    "    return pv"
   ]
  },
  {
   "cell_type": "code",
   "execution_count": 207,
   "metadata": {},
   "outputs": [],
   "source": [
    "def modelhb(x):\n",
    "    pv=0.2959*x['Awareness']+ 0.2176*x['Ball Carrier Vision']+ 0.1988*x['Carrying']+ 0.1989*x['Juke Move']+ 0.0464* x['Route Running']\n",
    "    return pv"
   ]
  },
  {
   "cell_type": "code",
   "execution_count": 208,
   "metadata": {},
   "outputs": [],
   "source": [
    "def modelte(x):\n",
    "    pv= 0.4861*x['Catching'] -0.0706*x['Jumping'] + 0.1107*x['Release'] + 0.2881*x['Route Running']+ 0.2144*x['Stiff Arm']\n",
    "    return pv"
   ]
  },
  {
   "cell_type": "code",
   "execution_count": 209,
   "metadata": {},
   "outputs": [],
   "source": [
    "def modelwr(x):\n",
    "    pv= 0.2671*x['Awareness']+ 0.1801*x['Ball Carrier Vision']+ 0.1971*x['Catch In Traffic'] + 0.1556*x['Release']+ 0.1740*x['Route Running']\n",
    "    return pv"
   ]
  },
  {
   "cell_type": "code",
   "execution_count": 210,
   "metadata": {},
   "outputs": [],
   "source": [
    "def modelrt(x):\n",
    "    pv=0.3561*x['Awareness']+ 0.0865*x['Impact Blocking']+ 0.2429*x['Pass Block']+ 0.2875*x['Run Block']\n",
    "    return pv"
   ]
  },
  {
   "cell_type": "code",
   "execution_count": 211,
   "metadata": {},
   "outputs": [],
   "source": [
    "def modelrg(x):\n",
    "    pv = 0.3832*x['Awareness']+ 0.1057*x['Impact Blocking']+ 0.3457*x['Pass Block']+ 0.2180*x['Run Block'] - 0.0776*x['Strength']\n",
    "    return pv"
   ]
  },
  {
   "cell_type": "code",
   "execution_count": 212,
   "metadata": {},
   "outputs": [],
   "source": [
    "def modelc(x):\n",
    "    pv = (0.395*x['Awareness'])+(0.3362*x['Pass Block'])+(0.2182*x['Run Block'])\n",
    "    return pv"
   ]
  },
  {
   "cell_type": "code",
   "execution_count": 213,
   "metadata": {},
   "outputs": [],
   "source": [
    "def modellg(x):\n",
    "    pv=0.3240*x['Awareness']+ 0.1756*x['Impact Blocking']+ 0.4625*x['Pass Block']\n",
    "    return pv"
   ]
  },
  {
   "cell_type": "code",
   "execution_count": 214,
   "metadata": {},
   "outputs": [],
   "source": [
    "def modellt(x):\n",
    "    pv = 0.3305*x['Awareness']+ 0.1838*x['Impact Blocking'] + 0.4364*x['Pass Block']\n",
    "    return pv"
   ]
  },
  {
   "cell_type": "code",
   "execution_count": 215,
   "metadata": {},
   "outputs": [],
   "source": [
    "def modelre(x):\n",
    "    predicted_value = (0.4737 * x['Awareness']) + (0.4280 * x['Pursuit']) + (0.1094 * x['Tackle'])-(0.0716 * x['Pass Block'])\n",
    "    return predicted_value"
   ]
  },
  {
   "cell_type": "code",
   "execution_count": 216,
   "metadata": {},
   "outputs": [],
   "source": [
    "def modeldt(x):\n",
    "    pv= 0.4257*x['Awareness']+ 0.2553*x['Pursuit']+ 0.2858*x['Tackle']\n",
    "    return pv"
   ]
  },
  {
   "cell_type": "code",
   "execution_count": 217,
   "metadata": {},
   "outputs": [],
   "source": [
    "def modelle(x):\n",
    "    pv=0.4811*x['Play Recognition'] + 0.4957*x['Pursuit']\n",
    "    return pv"
   ]
  },
  {
   "cell_type": "code",
   "execution_count": 218,
   "metadata": {},
   "outputs": [],
   "source": [
    "def modelmlb(x):\n",
    "    pv=0.2514*x['Block Shedding']+ 0.1328*x['Man Coverage'] + 0.5093*x['Play Recognition'] + 0.0733*x['Pursuit'] - 0.1607*x['Stamina']+ 0.1949*x['Tackle']\n",
    "    return pv"
   ]
  },
  {
   "cell_type": "code",
   "execution_count": 219,
   "metadata": {},
   "outputs": [],
   "source": [
    "def modelrolb(x):\n",
    "    predicted_values = (0.4707 * x['Awareness']) + (0.2411 * x['Tackle']) + 0.2547*x['Pursuit']\n",
    "    return predicted_values"
   ]
  },
  {
   "cell_type": "code",
   "execution_count": 220,
   "metadata": {},
   "outputs": [],
   "source": [
    "def modellolb(x):\n",
    "    pv = 0.4769*x['Awareness'] + 0.1128*x['Block Shedding']+ 0.2223* x['Pursuit']+ 0.1527*x['Tackle']\n",
    "    return pv"
   ]
  },
  {
   "cell_type": "code",
   "execution_count": 221,
   "metadata": {},
   "outputs": [],
   "source": [
    "def modelfs(x):\n",
    "    pv = 0.3850*x['Awareness']+ 0.1465*x['Stamina'] + 0.4447*x['Zone Coverage']\n",
    "    return pv"
   ]
  },
  {
   "cell_type": "code",
   "execution_count": 222,
   "metadata": {},
   "outputs": [],
   "source": [
    "def modelcb(x):\n",
    "    pv = (0.3870*x['Awareness'])+(0.1122*x['Impact Blocking'])+(0.3388*x['Man Coverage'])+(0.2595*x['Zone Coverage'])-0.0556*x['Stamina']\n",
    "    return pv"
   ]
  },
  {
   "cell_type": "code",
   "execution_count": 223,
   "metadata": {},
   "outputs": [],
   "source": [
    "def modelss(x):\n",
    "    pv = (0.4607*x['Awareness'])+(0.1388*x['Pursuit'])+(0.2140*x['Tackle'])+(0.2163*x['Zone Coverage'])\n",
    "    return pv"
   ]
  },
  {
   "cell_type": "code",
   "execution_count": null,
   "metadata": {},
   "outputs": [],
   "source": []
  },
  {
   "cell_type": "code",
   "execution_count": 224,
   "metadata": {},
   "outputs": [],
   "source": [
    "#Here are the new models for position groups"
   ]
  },
  {
   "cell_type": "code",
   "execution_count": 225,
   "metadata": {},
   "outputs": [],
   "source": [
    "def dline(x, y, z):\n",
    "    y = np.mean(x) + np.mean(y) + np.mean(z)\n",
    "    return y"
   ]
  },
  {
   "cell_type": "code",
   "execution_count": 226,
   "metadata": {},
   "outputs": [],
   "source": [
    "def modeldt(x):\n",
    "    pv= 0.4257*x['Awareness']+ 0.2553*x['Pursuit']+ 0.2858*x['Tackle']\n",
    "    return pv"
   ]
  },
  {
   "cell_type": "code",
   "execution_count": null,
   "metadata": {},
   "outputs": [],
   "source": []
  },
  {
   "cell_type": "code",
   "execution_count": 227,
   "metadata": {},
   "outputs": [],
   "source": [
    "####NFC East Defenses"
   ]
  },
  {
   "cell_type": "code",
   "execution_count": 228,
   "metadata": {},
   "outputs": [
    {
     "data": {
      "text/plain": [
       "73.21787037037036"
      ]
     },
     "execution_count": 228,
     "metadata": {},
     "output_type": "execute_result"
    }
   ],
   "source": [
    "cowboysdt = cowboys[cowboys['Position'] == 'DT']\n",
    "cowboysre = cowboys[cowboys['Position'] == 'RE']\n",
    "cowboysle = cowboys[cowboys['Position'] == 'LE']\n",
    "cowboysdt['Predicted Rating'] = modeldt(cowboysdt)\n",
    "cowboysre['Predicted Rating'] = modelre(cowboysre)\n",
    "cowboysle['Predicted Rating'] = modelle(cowboysle)\n",
    "cowboysdt_mean = np.mean(cowboysdt['Predicted Rating'])\n",
    "cowboysre_mean = np.mean(cowboysre['Predicted Rating'])\n",
    "cowboysle_mean = np.mean(cowboysle['Predicted Rating'])\n",
    "cowboysdl_mean = np.mean([cowboysdt_mean, cowboysre_mean, cowboysle_mean])\n",
    "cowboysdl_mean"
   ]
  },
  {
   "cell_type": "code",
   "execution_count": 229,
   "metadata": {},
   "outputs": [
    {
     "name": "stdout",
     "output_type": "stream",
     "text": [
      "70.26298333333334 71.28399999999999 67.001925 72.50302500000001\n"
     ]
    }
   ],
   "source": [
    "cowboysmlb = cowboys[cowboys['Position'] == 'MLB']\n",
    "cowboysrolb = cowboys[cowboys['Position'] == 'ROLB']\n",
    "cowboyslolb = cowboys[cowboys['Position'] == 'LOLB']\n",
    "cowboysmlb['Predicted Rating'] = modelmlb(cowboysmlb)\n",
    "cowboysrolb['Predicted Rating'] = modelrolb(cowboysrolb)\n",
    "cowboyslolb['Predicted Rating'] = modellolb(cowboyslolb)\n",
    "cowboysmlb_mean = np.mean(cowboysmlb['Predicted Rating'])\n",
    "cowboysrolb_mean = np.mean(cowboysrolb['Predicted Rating'])\n",
    "cowboyslolb_mean = np.mean(cowboyslolb['Predicted Rating'])\n",
    "cowboyslb_mean = np.mean([cowboysmlb_mean, cowboysrolb_mean, cowboyslolb_mean])\n",
    "cowboysmlb_diff = cowboys\n",
    "print(cowboyslb_mean, cowboysmlb_mean, cowboyslolb_mean, cowboysrolb_mean) "
   ]
  },
  {
   "cell_type": "code",
   "execution_count": 230,
   "metadata": {},
   "outputs": [
    {
     "name": "stdout",
     "output_type": "stream",
     "text": [
      "72.21830333333334 74.25135999999999 68.1369 74.26665\n"
     ]
    }
   ],
   "source": [
    "cowboyscb = cowboys[cowboys['Position'] == 'CB']\n",
    "cowboysfs = cowboys[cowboys['Position'] == 'FS']\n",
    "cowboysss = cowboys[cowboys['Position'] == 'SS']\n",
    "cowboyscb['Predicted Rating'] = modelcb(cowboyscb)\n",
    "cowboysss['Predicted Rating'] = modelss(cowboysss)\n",
    "cowboysfs['Predicted Rating'] = modelfs(cowboysfs)\n",
    "cowboysss_mean = np.mean(cowboysss['Predicted Rating'])\n",
    "cowboyscb_mean = np.mean(cowboyscb['Predicted Rating'])\n",
    "cowboysfs_mean = np.mean(cowboysfs['Predicted Rating'])\n",
    "cowboyssecondary_mean = np.mean([cowboyscb_mean, cowboysss_mean, cowboysfs_mean])\n",
    "print(cowboyssecondary_mean, cowboyscb_mean, cowboysfs_mean, cowboysss_mean) "
   ]
  },
  {
   "cell_type": "code",
   "execution_count": 231,
   "metadata": {},
   "outputs": [
    {
     "data": {
      "text/plain": [
       "71.89971901234567"
      ]
     },
     "execution_count": 231,
     "metadata": {},
     "output_type": "execute_result"
    }
   ],
   "source": [
    "cowboys_defense_mean = np.mean([cowboyslb_mean, cowboysdl_mean, cowboyssecondary_mean])\n",
    "cowboys_defense_mean"
   ]
  },
  {
   "cell_type": "code",
   "execution_count": 232,
   "metadata": {},
   "outputs": [],
   "source": [
    "cowboys['lb_mean'] = cowboyslb_mean\n",
    "cowboys['dl_mean'] = cowboysdl_mean\n",
    "cowboys['secondary_mean'] = cowboyssecondary_mean\n",
    "cowboys['defense_rating'] = cowboys_defense_mean"
   ]
  },
  {
   "cell_type": "code",
   "execution_count": 233,
   "metadata": {},
   "outputs": [
    {
     "data": {
      "text/plain": [
       "73.99409603174604"
      ]
     },
     "execution_count": 233,
     "metadata": {},
     "output_type": "execute_result"
    }
   ],
   "source": [
    "eaglesdt = eagles[eagles['Position'] == 'DT']\n",
    "eaglesre = eagles[eagles['Position'] == 'RE']\n",
    "eaglesle = eagles[eagles['Position'] == 'LE']\n",
    "eaglesdt['Predicted Rating'] = modeldt(eaglesdt)\n",
    "eaglesre['Predicted Rating'] = modelre(eaglesre)\n",
    "eaglesle['Predicted Rating'] = modelle(eaglesle)\n",
    "eaglesdt_mean = np.mean(eaglesdt['Predicted Rating'])\n",
    "eaglesre_mean = np.mean(eaglesre['Predicted Rating'])\n",
    "eaglesle_mean = np.mean(eaglesle['Predicted Rating'])\n",
    "eaglesdl_mean = np.mean([eaglesdt_mean, eaglesre_mean, eaglesle_mean])\n",
    "eaglesdl_mean"
   ]
  },
  {
   "cell_type": "code",
   "execution_count": 234,
   "metadata": {},
   "outputs": [
    {
     "name": "stdout",
     "output_type": "stream",
     "text": [
      "70.66432777777777 69.47196666666667 72.31746666666665 70.20355\n"
     ]
    }
   ],
   "source": [
    "eaglesmlb = eagles[eagles['Position'] == 'MLB']\n",
    "eaglesrolb = eagles[eagles['Position'] == 'ROLB']\n",
    "eagleslolb = eagles[eagles['Position'] == 'LOLB']\n",
    "eaglesmlb['Predicted Rating'] = modelmlb(eaglesmlb)\n",
    "eaglesrolb['Predicted Rating'] = modelrolb(eaglesrolb)\n",
    "eagleslolb['Predicted Rating'] = modellolb(eagleslolb)\n",
    "eaglesmlb_mean = np.mean(eaglesmlb['Predicted Rating'])\n",
    "eaglesrolb_mean = np.mean(eaglesrolb['Predicted Rating'])\n",
    "eagleslolb_mean = np.mean(eagleslolb['Predicted Rating'])\n",
    "eagleslb_mean = np.mean([eaglesmlb_mean, eaglesrolb_mean, eagleslolb_mean])\n",
    "print(eagleslb_mean, eaglesmlb_mean, eagleslolb_mean, eaglesrolb_mean) "
   ]
  },
  {
   "cell_type": "code",
   "execution_count": 235,
   "metadata": {},
   "outputs": [
    {
     "name": "stdout",
     "output_type": "stream",
     "text": [
      "77.1852630952381 72.3723142857143 68.195975 90.9875\n"
     ]
    }
   ],
   "source": [
    "eaglescb = eagles[eagles['Position'] == 'CB']\n",
    "eaglesfs = eagles[eagles['Position'] == 'FS']\n",
    "eaglesss = eagles[eagles['Position'] == 'SS']\n",
    "eaglescb['Predicted Rating'] = modelcb(eaglescb)\n",
    "eaglesss['Predicted Rating'] = modelss(eaglesss)\n",
    "eaglesfs['Predicted Rating'] = modelfs(eaglesfs)\n",
    "eaglesss_mean = np.mean(eaglesss['Predicted Rating'])\n",
    "eaglescb_mean = np.mean(eaglescb['Predicted Rating'])\n",
    "eaglesfs_mean = np.mean(eaglesfs['Predicted Rating'])\n",
    "eaglessecondary_mean = np.mean([eaglescb_mean, eaglesss_mean, eaglesfs_mean])\n",
    "print(eaglessecondary_mean, eaglescb_mean, eaglesfs_mean, eaglesss_mean) "
   ]
  },
  {
   "cell_type": "code",
   "execution_count": 236,
   "metadata": {},
   "outputs": [
    {
     "data": {
      "text/plain": [
       "73.94789563492064"
      ]
     },
     "execution_count": 236,
     "metadata": {},
     "output_type": "execute_result"
    }
   ],
   "source": [
    "eagles_defense_mean = np.mean([eagleslb_mean, eaglesdl_mean, eaglessecondary_mean])\n",
    "eagles_defense_mean"
   ]
  },
  {
   "cell_type": "code",
   "execution_count": 237,
   "metadata": {},
   "outputs": [],
   "source": [
    "eagles['lb_mean'] = eagleslb_mean\n",
    "eagles['dl_mean'] = eaglesdl_mean\n",
    "eagles['secondary_mean'] = eaglessecondary_mean\n",
    "eagles['defense_rating'] = eagles_defense_mean"
   ]
  },
  {
   "cell_type": "code",
   "execution_count": 238,
   "metadata": {},
   "outputs": [
    {
     "data": {
      "text/plain": [
       "71.58567777777779"
      ]
     },
     "execution_count": 238,
     "metadata": {},
     "output_type": "execute_result"
    }
   ],
   "source": [
    "giantsdt = giants[giants['Position'] == 'DT']\n",
    "giantsre = giants[giants['Position'] == 'RE']\n",
    "giantsle = giants[giants['Position'] == 'LE']\n",
    "giantsdt['Predicted Rating'] = modeldt(giantsdt)\n",
    "giantsre['Predicted Rating'] = modelre(giantsre)\n",
    "giantsle['Predicted Rating'] = modelle(giantsle)\n",
    "giantsdt_mean = np.mean(giantsdt['Predicted Rating'])\n",
    "giantsre_mean = np.mean(giantsre['Predicted Rating'])\n",
    "giantsle_mean = np.mean(giantsle['Predicted Rating'])\n",
    "giantsdl_mean = np.mean([giantsdt_mean, giantsre_mean, giantsle_mean])\n",
    "giantsdl_mean"
   ]
  },
  {
   "cell_type": "code",
   "execution_count": 239,
   "metadata": {},
   "outputs": [
    {
     "name": "stdout",
     "output_type": "stream",
     "text": [
      "68.31878333333333 67.51686666666666 65.82315 71.61633333333333\n"
     ]
    }
   ],
   "source": [
    "giantsmlb = giants[giants['Position'] == 'MLB']\n",
    "giantsrolb = giants[giants['Position'] == 'ROLB']\n",
    "giantslolb = giants[giants['Position'] == 'LOLB']\n",
    "giantsmlb['Predicted Rating'] = modelmlb(giantsmlb)\n",
    "giantsrolb['Predicted Rating'] = modelrolb(giantsrolb)\n",
    "giantslolb['Predicted Rating'] = modellolb(giantslolb)\n",
    "giantsmlb_mean = np.mean(giantsmlb['Predicted Rating'])\n",
    "giantsrolb_mean = np.mean(giantsrolb['Predicted Rating'])\n",
    "giantslolb_mean = np.mean(giantslolb['Predicted Rating'])\n",
    "giantslb_mean = np.mean([giantsmlb_mean, giantsrolb_mean, giantslolb_mean])\n",
    "print(giantslb_mean, giantsmlb_mean, giantslolb_mean, giantsrolb_mean) "
   ]
  },
  {
   "cell_type": "code",
   "execution_count": 240,
   "metadata": {},
   "outputs": [
    {
     "name": "stdout",
     "output_type": "stream",
     "text": [
      "70.63006944444443 69.916225 66.88905 75.08493333333332\n"
     ]
    }
   ],
   "source": [
    "giantscb = giants[giants['Position'] == 'CB']\n",
    "giantsfs = giants[giants['Position'] == 'FS']\n",
    "giantsss = giants[giants['Position'] == 'SS']\n",
    "giantscb['Predicted Rating'] = modelcb(giantscb)\n",
    "giantsss['Predicted Rating'] = modelss(giantsss)\n",
    "giantsfs['Predicted Rating'] = modelfs(giantsfs)\n",
    "giantsss_mean = np.mean(giantsss['Predicted Rating'])\n",
    "giantscb_mean = np.mean(giantscb['Predicted Rating'])\n",
    "giantsfs_mean = np.mean(giantsfs['Predicted Rating'])\n",
    "giantssecondary_mean = np.mean([giantscb_mean, giantsss_mean, giantsfs_mean])\n",
    "print(giantssecondary_mean, giantscb_mean, giantsfs_mean, giantsss_mean) "
   ]
  },
  {
   "cell_type": "code",
   "execution_count": 241,
   "metadata": {},
   "outputs": [
    {
     "data": {
      "text/plain": [
       "70.17817685185184"
      ]
     },
     "execution_count": 241,
     "metadata": {},
     "output_type": "execute_result"
    }
   ],
   "source": [
    "giants_defense_mean = np.mean([giantslb_mean, giantsdl_mean, giantssecondary_mean])\n",
    "giants_defense_mean"
   ]
  },
  {
   "cell_type": "code",
   "execution_count": 242,
   "metadata": {},
   "outputs": [],
   "source": [
    "giants['lb_mean'] = giantslb_mean\n",
    "giants['dl_mean'] = giantsdl_mean\n",
    "giants['secondary_mean'] = giantssecondary_mean\n",
    "giants['defense_rating'] = giants_defense_mean"
   ]
  },
  {
   "cell_type": "code",
   "execution_count": 243,
   "metadata": {},
   "outputs": [
    {
     "data": {
      "text/plain": [
       "69.8834388888889"
      ]
     },
     "execution_count": 243,
     "metadata": {},
     "output_type": "execute_result"
    }
   ],
   "source": [
    "redskinsdt = redskins[redskins['Position'] == 'DT']\n",
    "redskinsre = redskins[redskins['Position'] == 'RE']\n",
    "redskinsle = redskins[redskins['Position'] == 'LE']\n",
    "redskinsdt['Predicted Rating'] = modeldt(redskinsdt)\n",
    "redskinsre['Predicted Rating'] = modelre(redskinsre)\n",
    "redskinsle['Predicted Rating'] = modelle(redskinsle)\n",
    "redskinsdt_mean = np.mean(redskinsdt['Predicted Rating'])\n",
    "redskinsre_mean = np.mean(redskinsre['Predicted Rating'])\n",
    "redskinsle_mean = np.mean(redskinsle['Predicted Rating'])\n",
    "redskinsdl_mean = np.mean([redskinsdt_mean, redskinsre_mean, redskinsle_mean])\n",
    "redskinsdl_mean"
   ]
  },
  {
   "cell_type": "code",
   "execution_count": 244,
   "metadata": {},
   "outputs": [
    {
     "name": "stdout",
     "output_type": "stream",
     "text": [
      "72.92887777777777 71.53301666666665 74.31766666666667 72.93595\n"
     ]
    }
   ],
   "source": [
    "redskinsmlb = redskins[redskins['Position'] == 'MLB']\n",
    "redskinsrolb = redskins[redskins['Position'] == 'ROLB']\n",
    "redskinslolb = redskins[redskins['Position'] == 'LOLB']\n",
    "redskinsmlb['Predicted Rating'] = modelmlb(redskinsmlb)\n",
    "redskinsrolb['Predicted Rating'] = modelrolb(redskinsrolb)\n",
    "redskinslolb['Predicted Rating'] = modellolb(redskinslolb)\n",
    "redskinsmlb_mean = np.mean(redskinsmlb['Predicted Rating'])\n",
    "redskinsrolb_mean = np.mean(redskinsrolb['Predicted Rating'])\n",
    "redskinslolb_mean = np.mean(redskinslolb['Predicted Rating'])\n",
    "redskinslb_mean = np.mean([redskinsmlb_mean, redskinsrolb_mean, redskinslolb_mean])\n",
    "print(redskinslb_mean, redskinsmlb_mean, redskinslolb_mean, redskinsrolb_mean) "
   ]
  },
  {
   "cell_type": "code",
   "execution_count": 245,
   "metadata": {},
   "outputs": [
    {
     "name": "stdout",
     "output_type": "stream",
     "text": [
      "70.156925 72.1284 68.65390000000001 69.688475\n"
     ]
    }
   ],
   "source": [
    "redskinscb = redskins[redskins['Position'] == 'CB']\n",
    "redskinsfs = redskins[redskins['Position'] == 'FS']\n",
    "redskinsss = redskins[redskins['Position'] == 'SS']\n",
    "redskinscb['Predicted Rating'] = modelcb(redskinscb)\n",
    "redskinsss['Predicted Rating'] = modelss(redskinsss)\n",
    "redskinsfs['Predicted Rating'] = modelfs(redskinsfs)\n",
    "redskinsss_mean = np.mean(redskinsss['Predicted Rating'])\n",
    "redskinscb_mean = np.mean(redskinscb['Predicted Rating'])\n",
    "redskinsfs_mean = np.mean(redskinsfs['Predicted Rating'])\n",
    "redskinssecondary_mean = np.mean([redskinscb_mean, redskinsss_mean, redskinsfs_mean])\n",
    "print(redskinssecondary_mean, redskinscb_mean, redskinsfs_mean, redskinsss_mean) "
   ]
  },
  {
   "cell_type": "code",
   "execution_count": 246,
   "metadata": {},
   "outputs": [
    {
     "data": {
      "text/plain": [
       "70.98974722222222"
      ]
     },
     "execution_count": 246,
     "metadata": {},
     "output_type": "execute_result"
    }
   ],
   "source": [
    "redskins_defense_mean = np.mean([redskinslb_mean, redskinsdl_mean, redskinssecondary_mean])\n",
    "redskins_defense_mean"
   ]
  },
  {
   "cell_type": "code",
   "execution_count": 247,
   "metadata": {},
   "outputs": [],
   "source": [
    "redskins['lb_mean'] = redskinslb_mean\n",
    "redskins['dl_mean'] = redskinsdl_mean\n",
    "redskins['secondary_mean'] = redskinssecondary_mean\n",
    "redskins['defense_rating'] = redskins_defense_mean"
   ]
  },
  {
   "cell_type": "code",
   "execution_count": 50,
   "metadata": {},
   "outputs": [
    {
     "data": {
      "text/plain": [
       "(71.89971901234567, 73.94789563492064, 70.17817685185184, 70.98974722222222)"
      ]
     },
     "execution_count": 50,
     "metadata": {},
     "output_type": "execute_result"
    }
   ],
   "source": [
    "cowboys_defense_mean, eagles_defense_mean, giants_defense_mean, redskins_defense_mean"
   ]
  },
  {
   "cell_type": "code",
   "execution_count": 203,
   "metadata": {},
   "outputs": [
    {
     "data": {
      "text/html": [
       "<div>\n",
       "<style scoped>\n",
       "    .dataframe tbody tr th:only-of-type {\n",
       "        vertical-align: middle;\n",
       "    }\n",
       "\n",
       "    .dataframe tbody tr th {\n",
       "        vertical-align: top;\n",
       "    }\n",
       "\n",
       "    .dataframe thead th {\n",
       "        text-align: right;\n",
       "    }\n",
       "</style>\n",
       "<table border=\"1\" class=\"dataframe\">\n",
       "  <thead>\n",
       "    <tr style=\"text-align: right;\">\n",
       "      <th></th>\n",
       "      <th>Team</th>\n",
       "      <th>Jersey #</th>\n",
       "      <th>Name</th>\n",
       "      <th>Age</th>\n",
       "      <th>Position</th>\n",
       "      <th>Overall</th>\n",
       "      <th>Awareness</th>\n",
       "      <th>Agility</th>\n",
       "      <th>Speed</th>\n",
       "      <th>Acceleration</th>\n",
       "      <th>...</th>\n",
       "      <th>Birthdate</th>\n",
       "      <th>Years Pro</th>\n",
       "      <th>Handedness</th>\n",
       "      <th>College</th>\n",
       "      <th>Total Salary</th>\n",
       "      <th>Signing Bonus</th>\n",
       "      <th>lb_mean</th>\n",
       "      <th>dl_mean</th>\n",
       "      <th>secondary_mean</th>\n",
       "      <th>defense_rating</th>\n",
       "    </tr>\n",
       "  </thead>\n",
       "  <tbody>\n",
       "    <tr>\n",
       "      <th>1841</th>\n",
       "      <td>Redskins</td>\n",
       "      <td>22</td>\n",
       "      <td>Deshazor Everett</td>\n",
       "      <td>26</td>\n",
       "      <td>SS</td>\n",
       "      <td>66</td>\n",
       "      <td>68</td>\n",
       "      <td>85</td>\n",
       "      <td>87</td>\n",
       "      <td>89</td>\n",
       "      <td>...</td>\n",
       "      <td>1992-02-22 00:00:00</td>\n",
       "      <td>3</td>\n",
       "      <td>Right</td>\n",
       "      <td>Texas AM</td>\n",
       "      <td>2100000</td>\n",
       "      <td>470000</td>\n",
       "      <td>72.928878</td>\n",
       "      <td>69.883439</td>\n",
       "      <td>70.156925</td>\n",
       "      <td>70.989747</td>\n",
       "    </tr>\n",
       "    <tr>\n",
       "      <th>1842</th>\n",
       "      <td>Redskins</td>\n",
       "      <td>51</td>\n",
       "      <td>Shaun Dion Hamilton</td>\n",
       "      <td>22</td>\n",
       "      <td>MLB</td>\n",
       "      <td>66</td>\n",
       "      <td>60</td>\n",
       "      <td>80</td>\n",
       "      <td>81</td>\n",
       "      <td>82</td>\n",
       "      <td>...</td>\n",
       "      <td>1995-09-11 00:00:00</td>\n",
       "      <td>0</td>\n",
       "      <td>Right</td>\n",
       "      <td>Alabama</td>\n",
       "      <td>2568013</td>\n",
       "      <td>150000</td>\n",
       "      <td>72.928878</td>\n",
       "      <td>69.883439</td>\n",
       "      <td>70.156925</td>\n",
       "      <td>70.989747</td>\n",
       "    </tr>\n",
       "    <tr>\n",
       "      <th>1843</th>\n",
       "      <td>Redskins</td>\n",
       "      <td>20</td>\n",
       "      <td>Danny Johnson</td>\n",
       "      <td>22</td>\n",
       "      <td>CB</td>\n",
       "      <td>66</td>\n",
       "      <td>52</td>\n",
       "      <td>82</td>\n",
       "      <td>91</td>\n",
       "      <td>91</td>\n",
       "      <td>...</td>\n",
       "      <td>1995-11-17 00:00:00</td>\n",
       "      <td>0</td>\n",
       "      <td>Right</td>\n",
       "      <td>Southern</td>\n",
       "      <td>1710000</td>\n",
       "      <td>0</td>\n",
       "      <td>72.928878</td>\n",
       "      <td>69.883439</td>\n",
       "      <td>70.156925</td>\n",
       "      <td>70.989747</td>\n",
       "    </tr>\n",
       "    <tr>\n",
       "      <th>1847</th>\n",
       "      <td>Redskins</td>\n",
       "      <td>97</td>\n",
       "      <td>Tim Settle</td>\n",
       "      <td>21</td>\n",
       "      <td>DT</td>\n",
       "      <td>66</td>\n",
       "      <td>51</td>\n",
       "      <td>57</td>\n",
       "      <td>64</td>\n",
       "      <td>78</td>\n",
       "      <td>...</td>\n",
       "      <td>1997-07-11 00:00:00</td>\n",
       "      <td>0</td>\n",
       "      <td>Right</td>\n",
       "      <td>Virginia Tech</td>\n",
       "      <td>2602171</td>\n",
       "      <td>180000</td>\n",
       "      <td>72.928878</td>\n",
       "      <td>69.883439</td>\n",
       "      <td>70.156925</td>\n",
       "      <td>70.989747</td>\n",
       "    </tr>\n",
       "    <tr>\n",
       "      <th>1937</th>\n",
       "      <td>Redskins</td>\n",
       "      <td>13</td>\n",
       "      <td>Maurice Harris</td>\n",
       "      <td>25</td>\n",
       "      <td>WR</td>\n",
       "      <td>65</td>\n",
       "      <td>63</td>\n",
       "      <td>87</td>\n",
       "      <td>87</td>\n",
       "      <td>89</td>\n",
       "      <td>...</td>\n",
       "      <td>1992-11-11 00:00:00</td>\n",
       "      <td>2</td>\n",
       "      <td>Right</td>\n",
       "      <td>California</td>\n",
       "      <td>630000</td>\n",
       "      <td>0</td>\n",
       "      <td>72.928878</td>\n",
       "      <td>69.883439</td>\n",
       "      <td>70.156925</td>\n",
       "      <td>70.989747</td>\n",
       "    </tr>\n",
       "    <tr>\n",
       "      <th>1938</th>\n",
       "      <td>Redskins</td>\n",
       "      <td>34</td>\n",
       "      <td>Byron Marshall</td>\n",
       "      <td>24</td>\n",
       "      <td>HB</td>\n",
       "      <td>65</td>\n",
       "      <td>55</td>\n",
       "      <td>87</td>\n",
       "      <td>88</td>\n",
       "      <td>88</td>\n",
       "      <td>...</td>\n",
       "      <td>1994-04-01 00:00:00</td>\n",
       "      <td>2</td>\n",
       "      <td>Right</td>\n",
       "      <td>Oregon</td>\n",
       "      <td>630000</td>\n",
       "      <td>0</td>\n",
       "      <td>72.928878</td>\n",
       "      <td>69.883439</td>\n",
       "      <td>70.156925</td>\n",
       "      <td>70.989747</td>\n",
       "    </tr>\n",
       "    <tr>\n",
       "      <th>1939</th>\n",
       "      <td>Redskins</td>\n",
       "      <td>12</td>\n",
       "      <td>Colt McCoy</td>\n",
       "      <td>31</td>\n",
       "      <td>QB</td>\n",
       "      <td>65</td>\n",
       "      <td>71</td>\n",
       "      <td>81</td>\n",
       "      <td>76</td>\n",
       "      <td>85</td>\n",
       "      <td>...</td>\n",
       "      <td>1986-09-05 00:00:00</td>\n",
       "      <td>8</td>\n",
       "      <td>Right</td>\n",
       "      <td>Texas</td>\n",
       "      <td>3200000</td>\n",
       "      <td>1800000</td>\n",
       "      <td>72.928878</td>\n",
       "      <td>69.883439</td>\n",
       "      <td>70.156925</td>\n",
       "      <td>70.989747</td>\n",
       "    </tr>\n",
       "    <tr>\n",
       "      <th>2038</th>\n",
       "      <td>Redskins</td>\n",
       "      <td>40</td>\n",
       "      <td>Josh Harvey-Clemons</td>\n",
       "      <td>24</td>\n",
       "      <td>MLB</td>\n",
       "      <td>64</td>\n",
       "      <td>63</td>\n",
       "      <td>85</td>\n",
       "      <td>81</td>\n",
       "      <td>86</td>\n",
       "      <td>...</td>\n",
       "      <td>1994-02-20 00:00:00</td>\n",
       "      <td>1</td>\n",
       "      <td>Right</td>\n",
       "      <td>Louisville</td>\n",
       "      <td>2439000</td>\n",
       "      <td>80000</td>\n",
       "      <td>72.928878</td>\n",
       "      <td>69.883439</td>\n",
       "      <td>70.156925</td>\n",
       "      <td>70.989747</td>\n",
       "    </tr>\n",
       "    <tr>\n",
       "      <th>2039</th>\n",
       "      <td>Redskins</td>\n",
       "      <td>15</td>\n",
       "      <td>Simmie Cobbs Jr</td>\n",
       "      <td>23</td>\n",
       "      <td>WR</td>\n",
       "      <td>64</td>\n",
       "      <td>52</td>\n",
       "      <td>92</td>\n",
       "      <td>85</td>\n",
       "      <td>89</td>\n",
       "      <td>...</td>\n",
       "      <td>1995-08-25 00:00:00</td>\n",
       "      <td>0</td>\n",
       "      <td>Right</td>\n",
       "      <td>Indiana</td>\n",
       "      <td>1710000</td>\n",
       "      <td>0</td>\n",
       "      <td>72.928878</td>\n",
       "      <td>69.883439</td>\n",
       "      <td>70.156925</td>\n",
       "      <td>70.989747</td>\n",
       "    </tr>\n",
       "    <tr>\n",
       "      <th>2042</th>\n",
       "      <td>Redskins</td>\n",
       "      <td>67</td>\n",
       "      <td>Kyle Kalis</td>\n",
       "      <td>24</td>\n",
       "      <td>LG</td>\n",
       "      <td>64</td>\n",
       "      <td>59</td>\n",
       "      <td>59</td>\n",
       "      <td>55</td>\n",
       "      <td>74</td>\n",
       "      <td>...</td>\n",
       "      <td>1993-12-21 00:00:00</td>\n",
       "      <td>1</td>\n",
       "      <td>Right</td>\n",
       "      <td>Michigan</td>\n",
       "      <td>1020000</td>\n",
       "      <td>0</td>\n",
       "      <td>72.928878</td>\n",
       "      <td>69.883439</td>\n",
       "      <td>70.156925</td>\n",
       "      <td>70.989747</td>\n",
       "    </tr>\n",
       "    <tr>\n",
       "      <th>2109</th>\n",
       "      <td>Redskins</td>\n",
       "      <td>60</td>\n",
       "      <td>Alex Balducci</td>\n",
       "      <td>24</td>\n",
       "      <td>RG</td>\n",
       "      <td>63</td>\n",
       "      <td>49</td>\n",
       "      <td>52</td>\n",
       "      <td>72</td>\n",
       "      <td>84</td>\n",
       "      <td>...</td>\n",
       "      <td>1994-03-01 00:00:00</td>\n",
       "      <td>2</td>\n",
       "      <td>Right</td>\n",
       "      <td>Oregon</td>\n",
       "      <td>630000</td>\n",
       "      <td>0</td>\n",
       "      <td>72.928878</td>\n",
       "      <td>69.883439</td>\n",
       "      <td>70.156925</td>\n",
       "      <td>70.989747</td>\n",
       "    </tr>\n",
       "    <tr>\n",
       "      <th>2110</th>\n",
       "      <td>Redskins</td>\n",
       "      <td>19</td>\n",
       "      <td>Robert Davis</td>\n",
       "      <td>23</td>\n",
       "      <td>WR</td>\n",
       "      <td>63</td>\n",
       "      <td>51</td>\n",
       "      <td>85</td>\n",
       "      <td>91</td>\n",
       "      <td>90</td>\n",
       "      <td>...</td>\n",
       "      <td>1995-04-02 00:00:00</td>\n",
       "      <td>1</td>\n",
       "      <td>Right</td>\n",
       "      <td>Georgia State</td>\n",
       "      <td>1665000</td>\n",
       "      <td>0</td>\n",
       "      <td>72.928878</td>\n",
       "      <td>69.883439</td>\n",
       "      <td>70.156925</td>\n",
       "      <td>70.989747</td>\n",
       "    </tr>\n",
       "    <tr>\n",
       "      <th>2112</th>\n",
       "      <td>Redskins</td>\n",
       "      <td>39</td>\n",
       "      <td>Kenny Ladler</td>\n",
       "      <td>26</td>\n",
       "      <td>SS</td>\n",
       "      <td>63</td>\n",
       "      <td>53</td>\n",
       "      <td>80</td>\n",
       "      <td>83</td>\n",
       "      <td>91</td>\n",
       "      <td>...</td>\n",
       "      <td>1992-06-23 00:00:00</td>\n",
       "      <td>3</td>\n",
       "      <td>Right</td>\n",
       "      <td>Vanderbilt</td>\n",
       "      <td>1200000</td>\n",
       "      <td>0</td>\n",
       "      <td>72.928878</td>\n",
       "      <td>69.883439</td>\n",
       "      <td>70.156925</td>\n",
       "      <td>70.989747</td>\n",
       "    </tr>\n",
       "    <tr>\n",
       "      <th>2181</th>\n",
       "      <td>Redskins</td>\n",
       "      <td>37</td>\n",
       "      <td>Fish Smithson</td>\n",
       "      <td>24</td>\n",
       "      <td>FS</td>\n",
       "      <td>62</td>\n",
       "      <td>55</td>\n",
       "      <td>84</td>\n",
       "      <td>87</td>\n",
       "      <td>89</td>\n",
       "      <td>...</td>\n",
       "      <td>1994-03-18 00:00:00</td>\n",
       "      <td>1</td>\n",
       "      <td>Right</td>\n",
       "      <td>Kansas</td>\n",
       "      <td>1020000</td>\n",
       "      <td>0</td>\n",
       "      <td>72.928878</td>\n",
       "      <td>69.883439</td>\n",
       "      <td>70.156925</td>\n",
       "      <td>70.989747</td>\n",
       "    </tr>\n",
       "    <tr>\n",
       "      <th>2182</th>\n",
       "      <td>Redskins</td>\n",
       "      <td>60</td>\n",
       "      <td>Isaiah Williams</td>\n",
       "      <td>25</td>\n",
       "      <td>LG</td>\n",
       "      <td>62</td>\n",
       "      <td>56</td>\n",
       "      <td>59</td>\n",
       "      <td>65</td>\n",
       "      <td>78</td>\n",
       "      <td>...</td>\n",
       "      <td>1993-05-05 00:00:00</td>\n",
       "      <td>3</td>\n",
       "      <td>Right</td>\n",
       "      <td>Akron</td>\n",
       "      <td>1200000</td>\n",
       "      <td>0</td>\n",
       "      <td>72.928878</td>\n",
       "      <td>69.883439</td>\n",
       "      <td>70.156925</td>\n",
       "      <td>70.989747</td>\n",
       "    </tr>\n",
       "    <tr>\n",
       "      <th>2229</th>\n",
       "      <td>Redskins</td>\n",
       "      <td>41</td>\n",
       "      <td>Quin Blanding</td>\n",
       "      <td>22</td>\n",
       "      <td>SS</td>\n",
       "      <td>61</td>\n",
       "      <td>52</td>\n",
       "      <td>85</td>\n",
       "      <td>85</td>\n",
       "      <td>91</td>\n",
       "      <td>...</td>\n",
       "      <td>1996-05-01 00:00:00</td>\n",
       "      <td>0</td>\n",
       "      <td>Right</td>\n",
       "      <td>Virginia</td>\n",
       "      <td>1710000</td>\n",
       "      <td>0</td>\n",
       "      <td>72.928878</td>\n",
       "      <td>69.883439</td>\n",
       "      <td>70.156925</td>\n",
       "      <td>70.989747</td>\n",
       "    </tr>\n",
       "    <tr>\n",
       "      <th>2230</th>\n",
       "      <td>Redskins</td>\n",
       "      <td>68</td>\n",
       "      <td>Tyler Catalina</td>\n",
       "      <td>25</td>\n",
       "      <td>RG</td>\n",
       "      <td>61</td>\n",
       "      <td>60</td>\n",
       "      <td>64</td>\n",
       "      <td>61</td>\n",
       "      <td>78</td>\n",
       "      <td>...</td>\n",
       "      <td>1993-01-24 00:00:00</td>\n",
       "      <td>1</td>\n",
       "      <td>Right</td>\n",
       "      <td>Georgia</td>\n",
       "      <td>1665000</td>\n",
       "      <td>0</td>\n",
       "      <td>72.928878</td>\n",
       "      <td>69.883439</td>\n",
       "      <td>70.156925</td>\n",
       "      <td>70.989747</td>\n",
       "    </tr>\n",
       "    <tr>\n",
       "      <th>2233</th>\n",
       "      <td>Redskins</td>\n",
       "      <td>45</td>\n",
       "      <td>Pete Robertson</td>\n",
       "      <td>25</td>\n",
       "      <td>LOLB</td>\n",
       "      <td>61</td>\n",
       "      <td>53</td>\n",
       "      <td>73</td>\n",
       "      <td>72</td>\n",
       "      <td>83</td>\n",
       "      <td>...</td>\n",
       "      <td>1992-12-02 00:00:00</td>\n",
       "      <td>2</td>\n",
       "      <td>Right</td>\n",
       "      <td>Texas Tech</td>\n",
       "      <td>1665000</td>\n",
       "      <td>0</td>\n",
       "      <td>72.928878</td>\n",
       "      <td>69.883439</td>\n",
       "      <td>70.156925</td>\n",
       "      <td>70.989747</td>\n",
       "    </tr>\n",
       "    <tr>\n",
       "      <th>2276</th>\n",
       "      <td>Redskins</td>\n",
       "      <td>74</td>\n",
       "      <td>Demetrius Rhaney</td>\n",
       "      <td>26</td>\n",
       "      <td>C</td>\n",
       "      <td>60</td>\n",
       "      <td>50</td>\n",
       "      <td>71</td>\n",
       "      <td>75</td>\n",
       "      <td>82</td>\n",
       "      <td>...</td>\n",
       "      <td>1992-06-22 00:00:00</td>\n",
       "      <td>4</td>\n",
       "      <td>Right</td>\n",
       "      <td>Tennessee St.</td>\n",
       "      <td>705000</td>\n",
       "      <td>0</td>\n",
       "      <td>72.928878</td>\n",
       "      <td>69.883439</td>\n",
       "      <td>70.156925</td>\n",
       "      <td>70.989747</td>\n",
       "    </tr>\n",
       "    <tr>\n",
       "      <th>2340</th>\n",
       "      <td>Redskins</td>\n",
       "      <td>57</td>\n",
       "      <td>Nick Sundberg</td>\n",
       "      <td>31</td>\n",
       "      <td>C</td>\n",
       "      <td>54</td>\n",
       "      <td>65</td>\n",
       "      <td>69</td>\n",
       "      <td>68</td>\n",
       "      <td>70</td>\n",
       "      <td>...</td>\n",
       "      <td>1987-07-29 00:00:00</td>\n",
       "      <td>8</td>\n",
       "      <td>Right</td>\n",
       "      <td>California</td>\n",
       "      <td>3900000</td>\n",
       "      <td>100000</td>\n",
       "      <td>72.928878</td>\n",
       "      <td>69.883439</td>\n",
       "      <td>70.156925</td>\n",
       "      <td>70.989747</td>\n",
       "    </tr>\n",
       "  </tbody>\n",
       "</table>\n",
       "<p>20 rows × 71 columns</p>\n",
       "</div>"
      ],
      "text/plain": [
       "          Team  Jersey #                 Name  Age Position  Overall  \\\n",
       "1841  Redskins        22     Deshazor Everett   26       SS       66   \n",
       "1842  Redskins        51  Shaun Dion Hamilton   22      MLB       66   \n",
       "1843  Redskins        20        Danny Johnson   22       CB       66   \n",
       "1847  Redskins        97           Tim Settle   21       DT       66   \n",
       "1937  Redskins        13       Maurice Harris   25       WR       65   \n",
       "1938  Redskins        34       Byron Marshall   24       HB       65   \n",
       "1939  Redskins        12           Colt McCoy   31       QB       65   \n",
       "2038  Redskins        40  Josh Harvey-Clemons   24      MLB       64   \n",
       "2039  Redskins        15      Simmie Cobbs Jr   23       WR       64   \n",
       "2042  Redskins        67           Kyle Kalis   24       LG       64   \n",
       "2109  Redskins        60        Alex Balducci   24       RG       63   \n",
       "2110  Redskins        19         Robert Davis   23       WR       63   \n",
       "2112  Redskins        39         Kenny Ladler   26       SS       63   \n",
       "2181  Redskins        37        Fish Smithson   24       FS       62   \n",
       "2182  Redskins        60      Isaiah Williams   25       LG       62   \n",
       "2229  Redskins        41        Quin Blanding   22       SS       61   \n",
       "2230  Redskins        68       Tyler Catalina   25       RG       61   \n",
       "2233  Redskins        45       Pete Robertson   25     LOLB       61   \n",
       "2276  Redskins        74     Demetrius Rhaney   26        C       60   \n",
       "2340  Redskins        57        Nick Sundberg   31        C       54   \n",
       "\n",
       "      Awareness  Agility  Speed  Acceleration       ...        \\\n",
       "1841         68       85     87            89       ...         \n",
       "1842         60       80     81            82       ...         \n",
       "1843         52       82     91            91       ...         \n",
       "1847         51       57     64            78       ...         \n",
       "1937         63       87     87            89       ...         \n",
       "1938         55       87     88            88       ...         \n",
       "1939         71       81     76            85       ...         \n",
       "2038         63       85     81            86       ...         \n",
       "2039         52       92     85            89       ...         \n",
       "2042         59       59     55            74       ...         \n",
       "2109         49       52     72            84       ...         \n",
       "2110         51       85     91            90       ...         \n",
       "2112         53       80     83            91       ...         \n",
       "2181         55       84     87            89       ...         \n",
       "2182         56       59     65            78       ...         \n",
       "2229         52       85     85            91       ...         \n",
       "2230         60       64     61            78       ...         \n",
       "2233         53       73     72            83       ...         \n",
       "2276         50       71     75            82       ...         \n",
       "2340         65       69     68            70       ...         \n",
       "\n",
       "                Birthdate  Years Pro  Handedness        College  Total Salary  \\\n",
       "1841  1992-02-22 00:00:00          3       Right       Texas AM       2100000   \n",
       "1842  1995-09-11 00:00:00          0       Right        Alabama       2568013   \n",
       "1843  1995-11-17 00:00:00          0       Right       Southern       1710000   \n",
       "1847  1997-07-11 00:00:00          0       Right  Virginia Tech       2602171   \n",
       "1937  1992-11-11 00:00:00          2       Right     California        630000   \n",
       "1938  1994-04-01 00:00:00          2       Right         Oregon        630000   \n",
       "1939  1986-09-05 00:00:00          8       Right          Texas       3200000   \n",
       "2038  1994-02-20 00:00:00          1       Right     Louisville       2439000   \n",
       "2039  1995-08-25 00:00:00          0       Right        Indiana       1710000   \n",
       "2042  1993-12-21 00:00:00          1       Right       Michigan       1020000   \n",
       "2109  1994-03-01 00:00:00          2       Right         Oregon        630000   \n",
       "2110  1995-04-02 00:00:00          1       Right  Georgia State       1665000   \n",
       "2112  1992-06-23 00:00:00          3       Right     Vanderbilt       1200000   \n",
       "2181  1994-03-18 00:00:00          1       Right         Kansas       1020000   \n",
       "2182  1993-05-05 00:00:00          3       Right          Akron       1200000   \n",
       "2229  1996-05-01 00:00:00          0       Right       Virginia       1710000   \n",
       "2230  1993-01-24 00:00:00          1       Right        Georgia       1665000   \n",
       "2233  1992-12-02 00:00:00          2       Right     Texas Tech       1665000   \n",
       "2276  1992-06-22 00:00:00          4       Right  Tennessee St.        705000   \n",
       "2340  1987-07-29 00:00:00          8       Right     California       3900000   \n",
       "\n",
       "      Signing Bonus    lb_mean    dl_mean  secondary_mean  defense_rating  \n",
       "1841         470000  72.928878  69.883439       70.156925       70.989747  \n",
       "1842         150000  72.928878  69.883439       70.156925       70.989747  \n",
       "1843              0  72.928878  69.883439       70.156925       70.989747  \n",
       "1847         180000  72.928878  69.883439       70.156925       70.989747  \n",
       "1937              0  72.928878  69.883439       70.156925       70.989747  \n",
       "1938              0  72.928878  69.883439       70.156925       70.989747  \n",
       "1939        1800000  72.928878  69.883439       70.156925       70.989747  \n",
       "2038          80000  72.928878  69.883439       70.156925       70.989747  \n",
       "2039              0  72.928878  69.883439       70.156925       70.989747  \n",
       "2042              0  72.928878  69.883439       70.156925       70.989747  \n",
       "2109              0  72.928878  69.883439       70.156925       70.989747  \n",
       "2110              0  72.928878  69.883439       70.156925       70.989747  \n",
       "2112              0  72.928878  69.883439       70.156925       70.989747  \n",
       "2181              0  72.928878  69.883439       70.156925       70.989747  \n",
       "2182              0  72.928878  69.883439       70.156925       70.989747  \n",
       "2229              0  72.928878  69.883439       70.156925       70.989747  \n",
       "2230              0  72.928878  69.883439       70.156925       70.989747  \n",
       "2233              0  72.928878  69.883439       70.156925       70.989747  \n",
       "2276              0  72.928878  69.883439       70.156925       70.989747  \n",
       "2340         100000  72.928878  69.883439       70.156925       70.989747  \n",
       "\n",
       "[20 rows x 71 columns]"
      ]
     },
     "execution_count": 203,
     "metadata": {},
     "output_type": "execute_result"
    }
   ],
   "source": [
    "nfc_east = pd.concat([cowboys, eagles, giants, redskins], axis=0)\n",
    "nfc_east.tail(20)"
   ]
  },
  {
   "cell_type": "code",
   "execution_count": 52,
   "metadata": {},
   "outputs": [],
   "source": [
    "####NFC West Defenses"
   ]
  },
  {
   "cell_type": "code",
   "execution_count": 53,
   "metadata": {},
   "outputs": [
    {
     "data": {
      "text/plain": [
       "71.54680333333333"
      ]
     },
     "execution_count": 53,
     "metadata": {},
     "output_type": "execute_result"
    }
   ],
   "source": [
    "ninersdt = niners[niners['Position'] == 'DT']\n",
    "ninersre = niners[niners['Position'] == 'RE']\n",
    "ninersle = niners[niners['Position'] == 'LE']\n",
    "ninersdt['Predicted Rating'] = modeldt(ninersdt)\n",
    "ninersre['Predicted Rating'] = modelre(ninersre)\n",
    "ninersle['Predicted Rating'] = modelle(ninersle)\n",
    "ninersdt_mean = np.mean(ninersdt['Predicted Rating'])\n",
    "ninersre_mean = np.mean(ninersre['Predicted Rating'])\n",
    "ninersle_mean = np.mean(ninersle['Predicted Rating'])\n",
    "ninersdl_mean = np.mean([ninersdt_mean, ninersre_mean, ninersle_mean])\n",
    "ninersdl_mean"
   ]
  },
  {
   "cell_type": "code",
   "execution_count": 54,
   "metadata": {},
   "outputs": [
    {
     "name": "stdout",
     "output_type": "stream",
     "text": [
      "70.27834166666668 73.2728 66.4671 71.095125\n"
     ]
    }
   ],
   "source": [
    "ninersmlb = niners[niners['Position'] == 'MLB']\n",
    "ninersrolb = niners[niners['Position'] == 'ROLB']\n",
    "ninerslolb = niners[niners['Position'] == 'LOLB']\n",
    "ninersmlb['Predicted Rating'] = modelmlb(ninersmlb)\n",
    "ninersrolb['Predicted Rating'] = modelrolb(ninersrolb)\n",
    "ninerslolb['Predicted Rating'] = modellolb(ninerslolb)\n",
    "ninersmlb_mean = np.mean(ninersmlb['Predicted Rating'])\n",
    "ninersrolb_mean = np.mean(ninersrolb['Predicted Rating'])\n",
    "ninerslolb_mean = np.mean(ninerslolb['Predicted Rating'])\n",
    "ninerslb_mean = np.mean([ninersmlb_mean, ninersrolb_mean, ninerslolb_mean])\n",
    "print(ninerslb_mean, ninersmlb_mean, ninerslolb_mean, ninersrolb_mean) "
   ]
  },
  {
   "cell_type": "code",
   "execution_count": 55,
   "metadata": {},
   "outputs": [
    {
     "name": "stdout",
     "output_type": "stream",
     "text": [
      "70.24074583333332 70.2867625 71.40769999999999 69.02777499999999\n"
     ]
    }
   ],
   "source": [
    "ninerscb = niners[niners['Position'] == 'CB']\n",
    "ninersfs = niners[niners['Position'] == 'FS']\n",
    "ninersss = niners[niners['Position'] == 'SS']\n",
    "ninerscb['Predicted Rating'] = modelcb(ninerscb)\n",
    "ninersss['Predicted Rating'] = modelss(ninersss)\n",
    "ninersfs['Predicted Rating'] = modelfs(ninersfs)\n",
    "ninersss_mean = np.mean(ninersss['Predicted Rating'])\n",
    "ninerscb_mean = np.mean(ninerscb['Predicted Rating'])\n",
    "ninersfs_mean = np.mean(ninersfs['Predicted Rating'])\n",
    "ninerssecondary_mean = np.mean([ninerscb_mean, ninersss_mean, ninersfs_mean])\n",
    "print(ninerssecondary_mean, ninerscb_mean, ninersfs_mean, ninersss_mean) "
   ]
  },
  {
   "cell_type": "code",
   "execution_count": 56,
   "metadata": {},
   "outputs": [
    {
     "data": {
      "text/plain": [
       "70.68863027777779"
      ]
     },
     "execution_count": 56,
     "metadata": {},
     "output_type": "execute_result"
    }
   ],
   "source": [
    "niners_defense_mean = np.mean([ninerslb_mean, ninersdl_mean, ninerssecondary_mean])\n",
    "niners_defense_mean"
   ]
  },
  {
   "cell_type": "code",
   "execution_count": 57,
   "metadata": {},
   "outputs": [],
   "source": [
    "niners['lb_mean'] = ninerslb_mean\n",
    "niners['dl_mean'] = ninersdl_mean\n",
    "niners['secondary_mean'] = ninerssecondary_mean\n",
    "niners['defense_rating'] = niners_defense_mean"
   ]
  },
  {
   "cell_type": "code",
   "execution_count": 58,
   "metadata": {},
   "outputs": [
    {
     "data": {
      "text/plain": [
       "70.782495"
      ]
     },
     "execution_count": 58,
     "metadata": {},
     "output_type": "execute_result"
    }
   ],
   "source": [
    "cardinalsdt = cardinals[cardinals['Position'] == 'DT']\n",
    "cardinalsre = cardinals[cardinals['Position'] == 'RE']\n",
    "cardinalsle = cardinals[cardinals['Position'] == 'LE']\n",
    "cardinalsdt['Predicted Rating'] = modeldt(cardinalsdt)\n",
    "cardinalsre['Predicted Rating'] = modelre(cardinalsre)\n",
    "cardinalsle['Predicted Rating'] = modelle(cardinalsle)\n",
    "cardinalsdt_mean = np.mean(cardinalsdt['Predicted Rating'])\n",
    "cardinalsre_mean = np.mean(cardinalsre['Predicted Rating'])\n",
    "cardinalsle_mean = np.mean(cardinalsle['Predicted Rating'])\n",
    "cardinalsdl_mean = np.mean([cardinalsdt_mean, cardinalsre_mean, cardinalsle_mean])\n",
    "cardinalsdl_mean"
   ]
  },
  {
   "cell_type": "code",
   "execution_count": 59,
   "metadata": {},
   "outputs": [
    {
     "name": "stdout",
     "output_type": "stream",
     "text": [
      "68.13138333333335 73.7116 64.6868 65.99575\n"
     ]
    }
   ],
   "source": [
    "cardinalsmlb = cardinals[cardinals['Position'] == 'MLB']\n",
    "cardinalsrolb = cardinals[cardinals['Position'] == 'ROLB']\n",
    "cardinalslolb = cardinals[cardinals['Position'] == 'LOLB']\n",
    "cardinalsmlb['Predicted Rating'] = modelmlb(cardinalsmlb)\n",
    "cardinalsrolb['Predicted Rating'] = modelrolb(cardinalsrolb)\n",
    "cardinalslolb['Predicted Rating'] = modellolb(cardinalslolb)\n",
    "cardinalsmlb_mean = np.mean(cardinalsmlb['Predicted Rating'])\n",
    "cardinalsrolb_mean = np.mean(cardinalsrolb['Predicted Rating'])\n",
    "cardinalslolb_mean = np.mean(cardinalslolb['Predicted Rating'])\n",
    "cardinalslb_mean = np.mean([cardinalsmlb_mean, cardinalsrolb_mean, cardinalslolb_mean])\n",
    "print(cardinalslb_mean, cardinalsmlb_mean, cardinalslolb_mean, cardinalsrolb_mean) "
   ]
  },
  {
   "cell_type": "code",
   "execution_count": 60,
   "metadata": {},
   "outputs": [
    {
     "name": "stdout",
     "output_type": "stream",
     "text": [
      "69.59532638888888 68.76126249999999 73.21914999999998 66.80556666666666\n"
     ]
    }
   ],
   "source": [
    "cardinalscb = cardinals[cardinals['Position'] == 'CB']\n",
    "cardinalsfs = cardinals[cardinals['Position'] == 'FS']\n",
    "cardinalsss = cardinals[cardinals['Position'] == 'SS']\n",
    "cardinalscb['Predicted Rating'] = modelcb(cardinalscb)\n",
    "cardinalsss['Predicted Rating'] = modelss(cardinalsss)\n",
    "cardinalsfs['Predicted Rating'] = modelfs(cardinalsfs)\n",
    "cardinalsss_mean = np.mean(cardinalsss['Predicted Rating'])\n",
    "cardinalscb_mean = np.mean(cardinalscb['Predicted Rating'])\n",
    "cardinalsfs_mean = np.mean(cardinalsfs['Predicted Rating'])\n",
    "cardinalssecondary_mean = np.mean([cardinalscb_mean, cardinalsss_mean, cardinalsfs_mean])\n",
    "print(cardinalssecondary_mean, cardinalscb_mean, cardinalsfs_mean, cardinalsss_mean) "
   ]
  },
  {
   "cell_type": "code",
   "execution_count": 61,
   "metadata": {},
   "outputs": [
    {
     "data": {
      "text/plain": [
       "69.50306824074075"
      ]
     },
     "execution_count": 61,
     "metadata": {},
     "output_type": "execute_result"
    }
   ],
   "source": [
    "cardinals_defense_mean = np.mean([cardinalslb_mean, cardinalsdl_mean, cardinalssecondary_mean])\n",
    "cardinals_defense_mean"
   ]
  },
  {
   "cell_type": "code",
   "execution_count": 62,
   "metadata": {},
   "outputs": [],
   "source": [
    "cardinals['lb_mean'] = cardinalslb_mean\n",
    "cardinals['dl_mean'] = cardinalsdl_mean\n",
    "cardinals['secondary_mean'] = cardinalssecondary_mean\n",
    "cardinals['defense_rating'] = cardinals_defense_mean"
   ]
  },
  {
   "cell_type": "code",
   "execution_count": 63,
   "metadata": {},
   "outputs": [
    {
     "data": {
      "text/plain": [
       "74.58724722222222"
      ]
     },
     "execution_count": 63,
     "metadata": {},
     "output_type": "execute_result"
    }
   ],
   "source": [
    "ramsdt = rams[rams['Position'] == 'DT']\n",
    "ramsre = rams[rams['Position'] == 'RE']\n",
    "ramsle = rams[rams['Position'] == 'LE']\n",
    "ramsdt['Predicted Rating'] = modeldt(ramsdt)\n",
    "ramsre['Predicted Rating'] = modelre(ramsre)\n",
    "ramsle['Predicted Rating'] = modelle(ramsle)\n",
    "ramsdt_mean = np.mean(ramsdt['Predicted Rating'])\n",
    "ramsre_mean = np.mean(ramsre['Predicted Rating'])\n",
    "ramsle_mean = np.mean(ramsle['Predicted Rating'])\n",
    "ramsdl_mean = np.mean([ramsdt_mean, ramsre_mean, ramsle_mean])\n",
    "ramsdl_mean"
   ]
  },
  {
   "cell_type": "code",
   "execution_count": 64,
   "metadata": {},
   "outputs": [
    {
     "name": "stdout",
     "output_type": "stream",
     "text": [
      "67.01012023809524 67.32198571428572 67.7946 65.913775\n"
     ]
    }
   ],
   "source": [
    "ramsmlb = rams[rams['Position'] == 'MLB']\n",
    "ramsrolb = rams[rams['Position'] == 'ROLB']\n",
    "ramslolb = rams[rams['Position'] == 'LOLB']\n",
    "ramsmlb['Predicted Rating'] = modelmlb(ramsmlb)\n",
    "ramsrolb['Predicted Rating'] = modelrolb(ramsrolb)\n",
    "ramslolb['Predicted Rating'] = modellolb(ramslolb)\n",
    "ramsmlb_mean = np.mean(ramsmlb['Predicted Rating'])\n",
    "ramsrolb_mean = np.mean(ramsrolb['Predicted Rating'])\n",
    "ramslolb_mean = np.mean(ramslolb['Predicted Rating'])\n",
    "ramslb_mean = np.mean([ramsmlb_mean, ramsrolb_mean, ramslolb_mean])\n",
    "print(ramslb_mean, ramsmlb_mean, ramslolb_mean, ramsrolb_mean) "
   ]
  },
  {
   "cell_type": "code",
   "execution_count": 65,
   "metadata": {},
   "outputs": [
    {
     "name": "stdout",
     "output_type": "stream",
     "text": [
      "73.90496250000001 75.11763750000001 71.33640000000001 75.26085\n"
     ]
    }
   ],
   "source": [
    "ramscb = rams[rams['Position'] == 'CB']\n",
    "ramsfs = rams[rams['Position'] == 'FS']\n",
    "ramsss = rams[rams['Position'] == 'SS']\n",
    "ramscb['Predicted Rating'] = modelcb(ramscb)\n",
    "ramsss['Predicted Rating'] = modelss(ramsss)\n",
    "ramsfs['Predicted Rating'] = modelfs(ramsfs)\n",
    "ramsss_mean = np.mean(ramsss['Predicted Rating'])\n",
    "ramscb_mean = np.mean(ramscb['Predicted Rating'])\n",
    "ramsfs_mean = np.mean(ramsfs['Predicted Rating'])\n",
    "ramssecondary_mean = np.mean([ramscb_mean, ramsss_mean, ramsfs_mean])\n",
    "print(ramssecondary_mean, ramscb_mean, ramsfs_mean, ramsss_mean) "
   ]
  },
  {
   "cell_type": "code",
   "execution_count": 66,
   "metadata": {},
   "outputs": [
    {
     "data": {
      "text/plain": [
       "71.83410998677249"
      ]
     },
     "execution_count": 66,
     "metadata": {},
     "output_type": "execute_result"
    }
   ],
   "source": [
    "rams_defense_mean = np.mean([ramslb_mean, ramsdl_mean, ramssecondary_mean])\n",
    "rams_defense_mean"
   ]
  },
  {
   "cell_type": "code",
   "execution_count": 67,
   "metadata": {},
   "outputs": [],
   "source": [
    "rams['lb_mean'] = ramslb_mean\n",
    "rams['dl_mean'] = ramsdl_mean\n",
    "rams['secondary_mean'] = ramssecondary_mean\n",
    "rams['defense_rating'] = rams_defense_mean"
   ]
  },
  {
   "cell_type": "code",
   "execution_count": null,
   "metadata": {},
   "outputs": [],
   "source": []
  },
  {
   "cell_type": "code",
   "execution_count": 68,
   "metadata": {},
   "outputs": [
    {
     "data": {
      "text/plain": [
       "71.85600000000001"
      ]
     },
     "execution_count": 68,
     "metadata": {},
     "output_type": "execute_result"
    }
   ],
   "source": [
    "seahawksdt = seahawks[seahawks['Position'] == 'DT']\n",
    "seahawksre = seahawks[seahawks['Position'] == 'RE']\n",
    "seahawksle = seahawks[seahawks['Position'] == 'LE']\n",
    "seahawksdt['Predicted Rating'] = modeldt(seahawksdt)\n",
    "seahawksre['Predicted Rating'] = modelre(seahawksre)\n",
    "seahawksle['Predicted Rating'] = modelle(seahawksle)\n",
    "seahawksdt_mean = np.mean(seahawksdt['Predicted Rating'])\n",
    "seahawksre_mean = np.mean(seahawksre['Predicted Rating'])\n",
    "seahawksle_mean = np.mean(seahawksle['Predicted Rating'])\n",
    "seahawksdl_mean = np.mean([seahawksdt_mean, seahawksre_mean, seahawksle_mean])\n",
    "seahawksdl_mean"
   ]
  },
  {
   "cell_type": "code",
   "execution_count": 69,
   "metadata": {},
   "outputs": [
    {
     "name": "stdout",
     "output_type": "stream",
     "text": [
      "77.0513111111111 92.55139999999999 68.45286666666665 70.14966666666668\n"
     ]
    }
   ],
   "source": [
    "seahawksmlb = seahawks[seahawks['Position'] == 'MLB']\n",
    "seahawksrolb = seahawks[seahawks['Position'] == 'ROLB']\n",
    "seahawkslolb = seahawks[seahawks['Position'] == 'LOLB']\n",
    "seahawksmlb['Predicted Rating'] = modelmlb(seahawksmlb)\n",
    "seahawksrolb['Predicted Rating'] = modelrolb(seahawksrolb)\n",
    "seahawkslolb['Predicted Rating'] = modellolb(seahawkslolb)\n",
    "seahawksmlb_mean = np.mean(seahawksmlb['Predicted Rating'])\n",
    "seahawksrolb_mean = np.mean(seahawksrolb['Predicted Rating'])\n",
    "seahawkslolb_mean = np.mean(seahawkslolb['Predicted Rating'])\n",
    "seahawkslb_mean = np.mean([seahawksmlb_mean, seahawksrolb_mean, seahawkslolb_mean])\n",
    "print(seahawkslb_mean, seahawksmlb_mean, seahawkslolb_mean, seahawksrolb_mean) "
   ]
  },
  {
   "cell_type": "code",
   "execution_count": 70,
   "metadata": {},
   "outputs": [
    {
     "name": "stdout",
     "output_type": "stream",
     "text": [
      "73.47217063492063 70.97572857142856 76.61663333333334 72.82414999999999\n"
     ]
    }
   ],
   "source": [
    "seahawkscb = seahawks[seahawks['Position'] == 'CB']\n",
    "seahawksfs = seahawks[seahawks['Position'] == 'FS']\n",
    "seahawksss = seahawks[seahawks['Position'] == 'SS']\n",
    "seahawkscb['Predicted Rating'] = modelcb(seahawkscb)\n",
    "seahawksss['Predicted Rating'] = modelss(seahawksss)\n",
    "seahawksfs['Predicted Rating'] = modelfs(seahawksfs)\n",
    "seahawksss_mean = np.mean(seahawksss['Predicted Rating'])\n",
    "seahawkscb_mean = np.mean(seahawkscb['Predicted Rating'])\n",
    "seahawksfs_mean = np.mean(seahawksfs['Predicted Rating'])\n",
    "seahawkssecondary_mean = np.mean([seahawkscb_mean, seahawksss_mean, seahawksfs_mean])\n",
    "print(seahawkssecondary_mean, seahawkscb_mean, seahawksfs_mean, seahawksss_mean) "
   ]
  },
  {
   "cell_type": "code",
   "execution_count": 71,
   "metadata": {},
   "outputs": [
    {
     "data": {
      "text/plain": [
       "74.12649391534391"
      ]
     },
     "execution_count": 71,
     "metadata": {},
     "output_type": "execute_result"
    }
   ],
   "source": [
    "seahawks_defense_mean = np.mean([seahawkslb_mean, seahawksdl_mean, seahawkssecondary_mean])\n",
    "seahawks_defense_mean"
   ]
  },
  {
   "cell_type": "code",
   "execution_count": 72,
   "metadata": {},
   "outputs": [],
   "source": [
    "seahawks['lb_mean'] = seahawkslb_mean\n",
    "seahawks['dl_mean'] = seahawksdl_mean\n",
    "seahawks['secondary_mean'] = seahawkssecondary_mean\n",
    "seahawks['defense_rating'] = seahawks_defense_mean"
   ]
  },
  {
   "cell_type": "code",
   "execution_count": null,
   "metadata": {},
   "outputs": [],
   "source": []
  },
  {
   "cell_type": "code",
   "execution_count": 249,
   "metadata": {
    "scrolled": true
   },
   "outputs": [
    {
     "data": {
      "text/html": [
       "<div>\n",
       "<style scoped>\n",
       "    .dataframe tbody tr th:only-of-type {\n",
       "        vertical-align: middle;\n",
       "    }\n",
       "\n",
       "    .dataframe tbody tr th {\n",
       "        vertical-align: top;\n",
       "    }\n",
       "\n",
       "    .dataframe thead th {\n",
       "        text-align: right;\n",
       "    }\n",
       "</style>\n",
       "<table border=\"1\" class=\"dataframe\">\n",
       "  <thead>\n",
       "    <tr style=\"text-align: right;\">\n",
       "      <th></th>\n",
       "      <th>Team</th>\n",
       "      <th>Jersey #</th>\n",
       "      <th>Name</th>\n",
       "      <th>Age</th>\n",
       "      <th>Position</th>\n",
       "      <th>Overall</th>\n",
       "      <th>Awareness</th>\n",
       "      <th>Agility</th>\n",
       "      <th>Speed</th>\n",
       "      <th>Acceleration</th>\n",
       "      <th>...</th>\n",
       "      <th>Kick Power</th>\n",
       "      <th>Kick Accuracy</th>\n",
       "      <th>Height</th>\n",
       "      <th>Weight</th>\n",
       "      <th>Birthdate</th>\n",
       "      <th>Years Pro</th>\n",
       "      <th>Handedness</th>\n",
       "      <th>College</th>\n",
       "      <th>Total Salary</th>\n",
       "      <th>Signing Bonus</th>\n",
       "    </tr>\n",
       "  </thead>\n",
       "  <tbody>\n",
       "    <tr>\n",
       "      <th>2071</th>\n",
       "      <td>Cardinals</td>\n",
       "      <td>32</td>\n",
       "      <td>Lou Young</td>\n",
       "      <td>26</td>\n",
       "      <td>CB</td>\n",
       "      <td>64</td>\n",
       "      <td>52</td>\n",
       "      <td>86</td>\n",
       "      <td>90</td>\n",
       "      <td>92</td>\n",
       "      <td>...</td>\n",
       "      <td>15</td>\n",
       "      <td>14</td>\n",
       "      <td>73</td>\n",
       "      <td>205</td>\n",
       "      <td>1991-10-09 00:00:00</td>\n",
       "      <td>3</td>\n",
       "      <td>Right</td>\n",
       "      <td>Georgia Tech</td>\n",
       "      <td>630000</td>\n",
       "      <td>0</td>\n",
       "    </tr>\n",
       "    <tr>\n",
       "      <th>2131</th>\n",
       "      <td>Cardinals</td>\n",
       "      <td>48</td>\n",
       "      <td>Derrick Coleman</td>\n",
       "      <td>27</td>\n",
       "      <td>FB</td>\n",
       "      <td>63</td>\n",
       "      <td>69</td>\n",
       "      <td>77</td>\n",
       "      <td>87</td>\n",
       "      <td>86</td>\n",
       "      <td>...</td>\n",
       "      <td>25</td>\n",
       "      <td>24</td>\n",
       "      <td>72</td>\n",
       "      <td>233</td>\n",
       "      <td>1990-10-18 00:00:00</td>\n",
       "      <td>5</td>\n",
       "      <td>Right</td>\n",
       "      <td>UCLA</td>\n",
       "      <td>790000</td>\n",
       "      <td>0</td>\n",
       "    </tr>\n",
       "    <tr>\n",
       "      <th>2133</th>\n",
       "      <td>Cardinals</td>\n",
       "      <td>94</td>\n",
       "      <td>Alec James</td>\n",
       "      <td>23</td>\n",
       "      <td>LE</td>\n",
       "      <td>63</td>\n",
       "      <td>50</td>\n",
       "      <td>73</td>\n",
       "      <td>77</td>\n",
       "      <td>83</td>\n",
       "      <td>...</td>\n",
       "      <td>13</td>\n",
       "      <td>11</td>\n",
       "      <td>75</td>\n",
       "      <td>272</td>\n",
       "      <td>1994-09-30 00:00:00</td>\n",
       "      <td>0</td>\n",
       "      <td>Right</td>\n",
       "      <td>Wisconsin</td>\n",
       "      <td>1710000</td>\n",
       "      <td>0</td>\n",
       "    </tr>\n",
       "    <tr>\n",
       "      <th>2137</th>\n",
       "      <td>Cardinals</td>\n",
       "      <td>49</td>\n",
       "      <td>Matthew Oplinger</td>\n",
       "      <td>22</td>\n",
       "      <td>LOLB</td>\n",
       "      <td>63</td>\n",
       "      <td>47</td>\n",
       "      <td>73</td>\n",
       "      <td>80</td>\n",
       "      <td>87</td>\n",
       "      <td>...</td>\n",
       "      <td>14</td>\n",
       "      <td>12</td>\n",
       "      <td>74</td>\n",
       "      <td>250</td>\n",
       "      <td>1996-02-23 00:00:00</td>\n",
       "      <td>0</td>\n",
       "      <td>Right</td>\n",
       "      <td>Yale</td>\n",
       "      <td>1710000</td>\n",
       "      <td>0</td>\n",
       "    </tr>\n",
       "    <tr>\n",
       "      <th>2138</th>\n",
       "      <td>Cardinals</td>\n",
       "      <td>35</td>\n",
       "      <td>Elijhaa Penny</td>\n",
       "      <td>25</td>\n",
       "      <td>HB</td>\n",
       "      <td>63</td>\n",
       "      <td>66</td>\n",
       "      <td>85</td>\n",
       "      <td>81</td>\n",
       "      <td>85</td>\n",
       "      <td>...</td>\n",
       "      <td>17</td>\n",
       "      <td>15</td>\n",
       "      <td>74</td>\n",
       "      <td>234</td>\n",
       "      <td>1993-08-17 00:00:00</td>\n",
       "      <td>2</td>\n",
       "      <td>Right</td>\n",
       "      <td>Idaho</td>\n",
       "      <td>555000</td>\n",
       "      <td>0</td>\n",
       "    </tr>\n",
       "    <tr>\n",
       "      <th>2140</th>\n",
       "      <td>Cardinals</td>\n",
       "      <td>68</td>\n",
       "      <td>Greg Pyke</td>\n",
       "      <td>25</td>\n",
       "      <td>LG</td>\n",
       "      <td>63</td>\n",
       "      <td>52</td>\n",
       "      <td>57</td>\n",
       "      <td>63</td>\n",
       "      <td>81</td>\n",
       "      <td>...</td>\n",
       "      <td>14</td>\n",
       "      <td>13</td>\n",
       "      <td>78</td>\n",
       "      <td>325</td>\n",
       "      <td>1993-06-04 00:00:00</td>\n",
       "      <td>1</td>\n",
       "      <td>Right</td>\n",
       "      <td>Georgia</td>\n",
       "      <td>480000</td>\n",
       "      <td>0</td>\n",
       "    </tr>\n",
       "    <tr>\n",
       "      <th>2141</th>\n",
       "      <td>Cardinals</td>\n",
       "      <td>81</td>\n",
       "      <td>Beau Sandland</td>\n",
       "      <td>25</td>\n",
       "      <td>TE</td>\n",
       "      <td>63</td>\n",
       "      <td>46</td>\n",
       "      <td>81</td>\n",
       "      <td>81</td>\n",
       "      <td>86</td>\n",
       "      <td>...</td>\n",
       "      <td>21</td>\n",
       "      <td>19</td>\n",
       "      <td>77</td>\n",
       "      <td>252</td>\n",
       "      <td>1993-02-23 00:00:00</td>\n",
       "      <td>2</td>\n",
       "      <td>Right</td>\n",
       "      <td>Montana State</td>\n",
       "      <td>480000</td>\n",
       "      <td>0</td>\n",
       "    </tr>\n",
       "    <tr>\n",
       "      <th>2196</th>\n",
       "      <td>Cardinals</td>\n",
       "      <td>92</td>\n",
       "      <td>Dennis Gardeck</td>\n",
       "      <td>24</td>\n",
       "      <td>ROLB</td>\n",
       "      <td>62</td>\n",
       "      <td>46</td>\n",
       "      <td>72</td>\n",
       "      <td>85</td>\n",
       "      <td>87</td>\n",
       "      <td>...</td>\n",
       "      <td>14</td>\n",
       "      <td>17</td>\n",
       "      <td>72</td>\n",
       "      <td>242</td>\n",
       "      <td>1994-08-09 00:00:00</td>\n",
       "      <td>0</td>\n",
       "      <td>Right</td>\n",
       "      <td>Sioux Falls</td>\n",
       "      <td>1710000</td>\n",
       "      <td>0</td>\n",
       "    </tr>\n",
       "    <tr>\n",
       "      <th>2200</th>\n",
       "      <td>Cardinals</td>\n",
       "      <td>34</td>\n",
       "      <td>Tavierre Thomas</td>\n",
       "      <td>22</td>\n",
       "      <td>CB</td>\n",
       "      <td>62</td>\n",
       "      <td>46</td>\n",
       "      <td>80</td>\n",
       "      <td>93</td>\n",
       "      <td>91</td>\n",
       "      <td>...</td>\n",
       "      <td>18</td>\n",
       "      <td>14</td>\n",
       "      <td>72</td>\n",
       "      <td>202</td>\n",
       "      <td>1996-03-11 00:00:00</td>\n",
       "      <td>0</td>\n",
       "      <td>Right</td>\n",
       "      <td>Ferris State</td>\n",
       "      <td>1710000</td>\n",
       "      <td>0</td>\n",
       "    </tr>\n",
       "    <tr>\n",
       "      <th>2250</th>\n",
       "      <td>Cardinals</td>\n",
       "      <td>61</td>\n",
       "      <td>Moubarak Djeri</td>\n",
       "      <td>22</td>\n",
       "      <td>LE</td>\n",
       "      <td>61</td>\n",
       "      <td>45</td>\n",
       "      <td>69</td>\n",
       "      <td>72</td>\n",
       "      <td>85</td>\n",
       "      <td>...</td>\n",
       "      <td>14</td>\n",
       "      <td>12</td>\n",
       "      <td>75</td>\n",
       "      <td>275</td>\n",
       "      <td>1995-12-30 00:00:00</td>\n",
       "      <td>0</td>\n",
       "      <td>Right</td>\n",
       "      <td>NaN</td>\n",
       "      <td>1710000</td>\n",
       "      <td>0</td>\n",
       "    </tr>\n",
       "    <tr>\n",
       "      <th>2252</th>\n",
       "      <td>Cardinals</td>\n",
       "      <td>60</td>\n",
       "      <td>Will House</td>\n",
       "      <td>23</td>\n",
       "      <td>RG</td>\n",
       "      <td>61</td>\n",
       "      <td>43</td>\n",
       "      <td>55</td>\n",
       "      <td>67</td>\n",
       "      <td>77</td>\n",
       "      <td>...</td>\n",
       "      <td>15</td>\n",
       "      <td>12</td>\n",
       "      <td>75</td>\n",
       "      <td>314</td>\n",
       "      <td>1995-05-14 00:00:00</td>\n",
       "      <td>0</td>\n",
       "      <td>Right</td>\n",
       "      <td>Southern Nazarene</td>\n",
       "      <td>1710000</td>\n",
       "      <td>0</td>\n",
       "    </tr>\n",
       "    <tr>\n",
       "      <th>2255</th>\n",
       "      <td>Cardinals</td>\n",
       "      <td>47</td>\n",
       "      <td>Ezekiel Turner</td>\n",
       "      <td>22</td>\n",
       "      <td>SS</td>\n",
       "      <td>61</td>\n",
       "      <td>53</td>\n",
       "      <td>84</td>\n",
       "      <td>84</td>\n",
       "      <td>90</td>\n",
       "      <td>...</td>\n",
       "      <td>16</td>\n",
       "      <td>14</td>\n",
       "      <td>74</td>\n",
       "      <td>214</td>\n",
       "      <td>1996-06-09 00:00:00</td>\n",
       "      <td>0</td>\n",
       "      <td>Right</td>\n",
       "      <td>Washington</td>\n",
       "      <td>1710000</td>\n",
       "      <td>0</td>\n",
       "    </tr>\n",
       "    <tr>\n",
       "      <th>2256</th>\n",
       "      <td>Cardinals</td>\n",
       "      <td>89</td>\n",
       "      <td>Andrew Vollert</td>\n",
       "      <td>23</td>\n",
       "      <td>TE</td>\n",
       "      <td>61</td>\n",
       "      <td>45</td>\n",
       "      <td>82</td>\n",
       "      <td>85</td>\n",
       "      <td>87</td>\n",
       "      <td>...</td>\n",
       "      <td>17</td>\n",
       "      <td>13</td>\n",
       "      <td>77</td>\n",
       "      <td>245</td>\n",
       "      <td>1995-03-15 00:00:00</td>\n",
       "      <td>0</td>\n",
       "      <td>Right</td>\n",
       "      <td>Weber State</td>\n",
       "      <td>1710000</td>\n",
       "      <td>0</td>\n",
       "    </tr>\n",
       "    <tr>\n",
       "      <th>2289</th>\n",
       "      <td>Cardinals</td>\n",
       "      <td>66</td>\n",
       "      <td>Josh Allen</td>\n",
       "      <td>26</td>\n",
       "      <td>C</td>\n",
       "      <td>60</td>\n",
       "      <td>47</td>\n",
       "      <td>67</td>\n",
       "      <td>66</td>\n",
       "      <td>77</td>\n",
       "      <td>...</td>\n",
       "      <td>24</td>\n",
       "      <td>21</td>\n",
       "      <td>75</td>\n",
       "      <td>315</td>\n",
       "      <td>1991-10-30 00:00:00</td>\n",
       "      <td>4</td>\n",
       "      <td>Right</td>\n",
       "      <td>UL Monroe</td>\n",
       "      <td>1350000</td>\n",
       "      <td>0</td>\n",
       "    </tr>\n",
       "    <tr>\n",
       "      <th>2290</th>\n",
       "      <td>Cardinals</td>\n",
       "      <td>59</td>\n",
       "      <td>Vontarrius Dora</td>\n",
       "      <td>25</td>\n",
       "      <td>LOLB</td>\n",
       "      <td>60</td>\n",
       "      <td>55</td>\n",
       "      <td>74</td>\n",
       "      <td>72</td>\n",
       "      <td>83</td>\n",
       "      <td>...</td>\n",
       "      <td>30</td>\n",
       "      <td>30</td>\n",
       "      <td>76</td>\n",
       "      <td>256</td>\n",
       "      <td>1992-09-07 00:00:00</td>\n",
       "      <td>2</td>\n",
       "      <td>Right</td>\n",
       "      <td>LA. Tech</td>\n",
       "      <td>1050000</td>\n",
       "      <td>0</td>\n",
       "    </tr>\n",
       "    <tr>\n",
       "      <th>2291</th>\n",
       "      <td>Cardinals</td>\n",
       "      <td>38</td>\n",
       "      <td>A.J. Howard</td>\n",
       "      <td>22</td>\n",
       "      <td>SS</td>\n",
       "      <td>60</td>\n",
       "      <td>48</td>\n",
       "      <td>80</td>\n",
       "      <td>89</td>\n",
       "      <td>90</td>\n",
       "      <td>...</td>\n",
       "      <td>19</td>\n",
       "      <td>15</td>\n",
       "      <td>71</td>\n",
       "      <td>203</td>\n",
       "      <td>1995-12-23 00:00:00</td>\n",
       "      <td>0</td>\n",
       "      <td>Right</td>\n",
       "      <td>Appalach. St.</td>\n",
       "      <td>1710000</td>\n",
       "      <td>0</td>\n",
       "    </tr>\n",
       "    <tr>\n",
       "      <th>2292</th>\n",
       "      <td>Cardinals</td>\n",
       "      <td>62</td>\n",
       "      <td>Daniel Munyer</td>\n",
       "      <td>26</td>\n",
       "      <td>C</td>\n",
       "      <td>60</td>\n",
       "      <td>49</td>\n",
       "      <td>69</td>\n",
       "      <td>64</td>\n",
       "      <td>81</td>\n",
       "      <td>...</td>\n",
       "      <td>12</td>\n",
       "      <td>11</td>\n",
       "      <td>73</td>\n",
       "      <td>305</td>\n",
       "      <td>1992-03-04 00:00:00</td>\n",
       "      <td>3</td>\n",
       "      <td>Right</td>\n",
       "      <td>Colorado</td>\n",
       "      <td>480000</td>\n",
       "      <td>0</td>\n",
       "    </tr>\n",
       "    <tr>\n",
       "      <th>2293</th>\n",
       "      <td>Cardinals</td>\n",
       "      <td>97</td>\n",
       "      <td>Owen Obasuyi</td>\n",
       "      <td>22</td>\n",
       "      <td>DT</td>\n",
       "      <td>60</td>\n",
       "      <td>50</td>\n",
       "      <td>56</td>\n",
       "      <td>67</td>\n",
       "      <td>81</td>\n",
       "      <td>...</td>\n",
       "      <td>17</td>\n",
       "      <td>13</td>\n",
       "      <td>76</td>\n",
       "      <td>308</td>\n",
       "      <td>1996-05-07 00:00:00</td>\n",
       "      <td>0</td>\n",
       "      <td>Right</td>\n",
       "      <td>Hampton</td>\n",
       "      <td>1710000</td>\n",
       "      <td>0</td>\n",
       "    </tr>\n",
       "    <tr>\n",
       "      <th>2325</th>\n",
       "      <td>Cardinals</td>\n",
       "      <td>19</td>\n",
       "      <td>Carlton Agudosi</td>\n",
       "      <td>24</td>\n",
       "      <td>WR</td>\n",
       "      <td>58</td>\n",
       "      <td>50</td>\n",
       "      <td>86</td>\n",
       "      <td>85</td>\n",
       "      <td>89</td>\n",
       "      <td>...</td>\n",
       "      <td>19</td>\n",
       "      <td>15</td>\n",
       "      <td>78</td>\n",
       "      <td>220</td>\n",
       "      <td>1994-02-01 00:00:00</td>\n",
       "      <td>1</td>\n",
       "      <td>Right</td>\n",
       "      <td>Rutgers</td>\n",
       "      <td>1050000</td>\n",
       "      <td>0</td>\n",
       "    </tr>\n",
       "    <tr>\n",
       "      <th>2353</th>\n",
       "      <td>Cardinals</td>\n",
       "      <td>46</td>\n",
       "      <td>Aaron Brewer</td>\n",
       "      <td>28</td>\n",
       "      <td>TE</td>\n",
       "      <td>44</td>\n",
       "      <td>67</td>\n",
       "      <td>65</td>\n",
       "      <td>71</td>\n",
       "      <td>84</td>\n",
       "      <td>...</td>\n",
       "      <td>13</td>\n",
       "      <td>13</td>\n",
       "      <td>77</td>\n",
       "      <td>232</td>\n",
       "      <td>1990-07-05 00:00:00</td>\n",
       "      <td>6</td>\n",
       "      <td>Right</td>\n",
       "      <td>San Diego St.</td>\n",
       "      <td>3850000</td>\n",
       "      <td>270000</td>\n",
       "    </tr>\n",
       "  </tbody>\n",
       "</table>\n",
       "<p>20 rows × 67 columns</p>\n",
       "</div>"
      ],
      "text/plain": [
       "           Team  Jersey #              Name  Age Position  Overall  Awareness  \\\n",
       "2071  Cardinals        32         Lou Young   26       CB       64         52   \n",
       "2131  Cardinals        48   Derrick Coleman   27       FB       63         69   \n",
       "2133  Cardinals        94        Alec James   23       LE       63         50   \n",
       "2137  Cardinals        49  Matthew Oplinger   22     LOLB       63         47   \n",
       "2138  Cardinals        35     Elijhaa Penny   25       HB       63         66   \n",
       "2140  Cardinals        68         Greg Pyke   25       LG       63         52   \n",
       "2141  Cardinals        81     Beau Sandland   25       TE       63         46   \n",
       "2196  Cardinals        92    Dennis Gardeck   24     ROLB       62         46   \n",
       "2200  Cardinals        34   Tavierre Thomas   22       CB       62         46   \n",
       "2250  Cardinals        61    Moubarak Djeri   22       LE       61         45   \n",
       "2252  Cardinals        60        Will House   23       RG       61         43   \n",
       "2255  Cardinals        47    Ezekiel Turner   22       SS       61         53   \n",
       "2256  Cardinals        89    Andrew Vollert   23       TE       61         45   \n",
       "2289  Cardinals        66        Josh Allen   26        C       60         47   \n",
       "2290  Cardinals        59   Vontarrius Dora   25     LOLB       60         55   \n",
       "2291  Cardinals        38       A.J. Howard   22       SS       60         48   \n",
       "2292  Cardinals        62     Daniel Munyer   26        C       60         49   \n",
       "2293  Cardinals        97      Owen Obasuyi   22       DT       60         50   \n",
       "2325  Cardinals        19   Carlton Agudosi   24       WR       58         50   \n",
       "2353  Cardinals        46      Aaron Brewer   28       TE       44         67   \n",
       "\n",
       "      Agility  Speed  Acceleration      ...        Kick Power  Kick Accuracy  \\\n",
       "2071       86     90            92      ...                15             14   \n",
       "2131       77     87            86      ...                25             24   \n",
       "2133       73     77            83      ...                13             11   \n",
       "2137       73     80            87      ...                14             12   \n",
       "2138       85     81            85      ...                17             15   \n",
       "2140       57     63            81      ...                14             13   \n",
       "2141       81     81            86      ...                21             19   \n",
       "2196       72     85            87      ...                14             17   \n",
       "2200       80     93            91      ...                18             14   \n",
       "2250       69     72            85      ...                14             12   \n",
       "2252       55     67            77      ...                15             12   \n",
       "2255       84     84            90      ...                16             14   \n",
       "2256       82     85            87      ...                17             13   \n",
       "2289       67     66            77      ...                24             21   \n",
       "2290       74     72            83      ...                30             30   \n",
       "2291       80     89            90      ...                19             15   \n",
       "2292       69     64            81      ...                12             11   \n",
       "2293       56     67            81      ...                17             13   \n",
       "2325       86     85            89      ...                19             15   \n",
       "2353       65     71            84      ...                13             13   \n",
       "\n",
       "      Height  Weight            Birthdate  Years Pro  Handedness  \\\n",
       "2071      73     205  1991-10-09 00:00:00          3       Right   \n",
       "2131      72     233  1990-10-18 00:00:00          5       Right   \n",
       "2133      75     272  1994-09-30 00:00:00          0       Right   \n",
       "2137      74     250  1996-02-23 00:00:00          0       Right   \n",
       "2138      74     234  1993-08-17 00:00:00          2       Right   \n",
       "2140      78     325  1993-06-04 00:00:00          1       Right   \n",
       "2141      77     252  1993-02-23 00:00:00          2       Right   \n",
       "2196      72     242  1994-08-09 00:00:00          0       Right   \n",
       "2200      72     202  1996-03-11 00:00:00          0       Right   \n",
       "2250      75     275  1995-12-30 00:00:00          0       Right   \n",
       "2252      75     314  1995-05-14 00:00:00          0       Right   \n",
       "2255      74     214  1996-06-09 00:00:00          0       Right   \n",
       "2256      77     245  1995-03-15 00:00:00          0       Right   \n",
       "2289      75     315  1991-10-30 00:00:00          4       Right   \n",
       "2290      76     256  1992-09-07 00:00:00          2       Right   \n",
       "2291      71     203  1995-12-23 00:00:00          0       Right   \n",
       "2292      73     305  1992-03-04 00:00:00          3       Right   \n",
       "2293      76     308  1996-05-07 00:00:00          0       Right   \n",
       "2325      78     220  1994-02-01 00:00:00          1       Right   \n",
       "2353      77     232  1990-07-05 00:00:00          6       Right   \n",
       "\n",
       "                College  Total Salary  Signing Bonus  \n",
       "2071       Georgia Tech        630000              0  \n",
       "2131               UCLA        790000              0  \n",
       "2133          Wisconsin       1710000              0  \n",
       "2137               Yale       1710000              0  \n",
       "2138              Idaho        555000              0  \n",
       "2140            Georgia        480000              0  \n",
       "2141      Montana State        480000              0  \n",
       "2196        Sioux Falls       1710000              0  \n",
       "2200       Ferris State       1710000              0  \n",
       "2250                NaN       1710000              0  \n",
       "2252  Southern Nazarene       1710000              0  \n",
       "2255         Washington       1710000              0  \n",
       "2256        Weber State       1710000              0  \n",
       "2289          UL Monroe       1350000              0  \n",
       "2290           LA. Tech       1050000              0  \n",
       "2291      Appalach. St.       1710000              0  \n",
       "2292           Colorado        480000              0  \n",
       "2293            Hampton       1710000              0  \n",
       "2325            Rutgers       1050000              0  \n",
       "2353      San Diego St.       3850000         270000  \n",
       "\n",
       "[20 rows x 67 columns]"
      ]
     },
     "execution_count": 249,
     "metadata": {},
     "output_type": "execute_result"
    }
   ],
   "source": [
    "nfc_west = pd.concat([niners, seahawks, rams, cardinals], axis=0)\n"
   ]
  },
  {
   "cell_type": "code",
   "execution_count": 73,
   "metadata": {},
   "outputs": [],
   "source": [
    "#NFC NORTH Defense"
   ]
  },
  {
   "cell_type": "code",
   "execution_count": 74,
   "metadata": {},
   "outputs": [
    {
     "data": {
      "text/plain": [
       "71.52403055555556"
      ]
     },
     "execution_count": 74,
     "metadata": {},
     "output_type": "execute_result"
    }
   ],
   "source": [
    "bearsdt = bears[bears['Position'] == 'DT']\n",
    "bearsre = bears[bears['Position'] == 'RE']\n",
    "bearsle = bears[bears['Position'] == 'LE']\n",
    "bearsdt['Predicted Rating'] = modeldt(bearsdt)\n",
    "bearsre['Predicted Rating'] = modelre(bearsre)\n",
    "bearsle['Predicted Rating'] = modelle(bearsle)\n",
    "bearsdt_mean = np.mean(bearsdt['Predicted Rating'])\n",
    "bearsre_mean = np.mean(bearsre['Predicted Rating'])\n",
    "bearsle_mean = np.mean(bearsle['Predicted Rating'])\n",
    "bearsdl_mean = np.mean([bearsdt_mean, bearsre_mean, bearsle_mean])\n",
    "bearsdl_mean"
   ]
  },
  {
   "cell_type": "code",
   "execution_count": 75,
   "metadata": {},
   "outputs": [
    {
     "name": "stdout",
     "output_type": "stream",
     "text": [
      "70.83030000000001 71.57316666666667 68.92920000000001 71.98853333333334\n"
     ]
    }
   ],
   "source": [
    "bearsmlb = bears[bears['Position'] == 'MLB']\n",
    "bearsrolb = bears[bears['Position'] == 'ROLB']\n",
    "bearslolb = bears[bears['Position'] == 'LOLB']\n",
    "bearsmlb['Predicted Rating'] = modelmlb(bearsmlb)\n",
    "bearsrolb['Predicted Rating'] = modelrolb(bearsrolb)\n",
    "bearslolb['Predicted Rating'] = modellolb(bearslolb)\n",
    "bearsmlb_mean = np.mean(bearsmlb['Predicted Rating'])\n",
    "bearsrolb_mean = np.mean(bearsrolb['Predicted Rating'])\n",
    "bearslolb_mean = np.mean(bearslolb['Predicted Rating'])\n",
    "bearslb_mean = np.mean([bearsmlb_mean, bearsrolb_mean, bearslolb_mean])\n",
    "print(bearslb_mean, bearsmlb_mean, bearslolb_mean, bearsrolb_mean) "
   ]
  },
  {
   "cell_type": "code",
   "execution_count": 76,
   "metadata": {},
   "outputs": [
    {
     "name": "stdout",
     "output_type": "stream",
     "text": [
      "71.58992962962962 70.69635555555554 72.6144 71.45903333333332\n"
     ]
    }
   ],
   "source": [
    "bearscb = bears[bears['Position'] == 'CB']\n",
    "bearsfs = bears[bears['Position'] == 'FS']\n",
    "bearsss = bears[bears['Position'] == 'SS']\n",
    "bearscb['Predicted Rating'] = modelcb(bearscb)\n",
    "bearsss['Predicted Rating'] = modelss(bearsss)\n",
    "bearsfs['Predicted Rating'] = modelfs(bearsfs)\n",
    "bearsss_mean = np.mean(bearsss['Predicted Rating'])\n",
    "bearscb_mean = np.mean(bearscb['Predicted Rating'])\n",
    "bearsfs_mean = np.mean(bearsfs['Predicted Rating'])\n",
    "bearssecondary_mean = np.mean([bearscb_mean, bearsss_mean, bearsfs_mean])\n",
    "print(bearssecondary_mean, bearscb_mean, bearsfs_mean, bearsss_mean) "
   ]
  },
  {
   "cell_type": "code",
   "execution_count": 77,
   "metadata": {},
   "outputs": [
    {
     "data": {
      "text/plain": [
       "71.31475339506174"
      ]
     },
     "execution_count": 77,
     "metadata": {},
     "output_type": "execute_result"
    }
   ],
   "source": [
    "bears_defense_mean = np.mean([bearslb_mean, bearsdl_mean, bearssecondary_mean])\n",
    "bears_defense_mean"
   ]
  },
  {
   "cell_type": "code",
   "execution_count": 78,
   "metadata": {},
   "outputs": [],
   "source": [
    "bears['lb_mean'] = bearslb_mean\n",
    "bears['dl_mean'] = bearsdl_mean\n",
    "bears['secondary_mean'] = bearssecondary_mean\n",
    "bears['defense_rating'] = bears_defense_mean"
   ]
  },
  {
   "cell_type": "code",
   "execution_count": null,
   "metadata": {},
   "outputs": [],
   "source": []
  },
  {
   "cell_type": "code",
   "execution_count": 79,
   "metadata": {},
   "outputs": [
    {
     "data": {
      "text/plain": [
       "70.61033166666668"
      ]
     },
     "execution_count": 79,
     "metadata": {},
     "output_type": "execute_result"
    }
   ],
   "source": [
    "lionsdt = lions[lions['Position'] == 'DT']\n",
    "lionsre = lions[lions['Position'] == 'RE']\n",
    "lionsle = lions[lions['Position'] == 'LE']\n",
    "lionsdt['Predicted Rating'] = modeldt(lionsdt)\n",
    "lionsre['Predicted Rating'] = modelre(lionsre)\n",
    "lionsle['Predicted Rating'] = modelle(lionsle)\n",
    "lionsdt_mean = np.mean(lionsdt['Predicted Rating'])\n",
    "lionsre_mean = np.mean(lionsre['Predicted Rating'])\n",
    "lionsle_mean = np.mean(lionsle['Predicted Rating'])\n",
    "lionsdl_mean = np.mean([lionsdt_mean, lionsre_mean, lionsle_mean])\n",
    "lionsdl_mean"
   ]
  },
  {
   "cell_type": "code",
   "execution_count": 80,
   "metadata": {},
   "outputs": [
    {
     "name": "stdout",
     "output_type": "stream",
     "text": [
      "70.211 67.72663333333334 69.6703 73.23606666666666\n"
     ]
    }
   ],
   "source": [
    "lionsmlb = lions[lions['Position'] == 'MLB']\n",
    "lionsrolb = lions[lions['Position'] == 'ROLB']\n",
    "lionslolb = lions[lions['Position'] == 'LOLB']\n",
    "lionsmlb['Predicted Rating'] = modelmlb(lionsmlb)\n",
    "lionsrolb['Predicted Rating'] = modelrolb(lionsrolb)\n",
    "lionslolb['Predicted Rating'] = modellolb(lionslolb)\n",
    "lionsmlb_mean = np.mean(lionsmlb['Predicted Rating'])\n",
    "lionsrolb_mean = np.mean(lionsrolb['Predicted Rating'])\n",
    "lionslolb_mean = np.mean(lionslolb['Predicted Rating'])\n",
    "lionslb_mean = np.mean([lionsmlb_mean, lionsrolb_mean, lionslolb_mean])\n",
    "print(lionslb_mean, lionsmlb_mean, lionslolb_mean, lionsrolb_mean) "
   ]
  },
  {
   "cell_type": "code",
   "execution_count": 81,
   "metadata": {},
   "outputs": [
    {
     "name": "stdout",
     "output_type": "stream",
     "text": [
      "72.28704047619048 73.53137142857143 73.18920000000001 70.14055\n"
     ]
    }
   ],
   "source": [
    "lionscb = lions[lions['Position'] == 'CB']\n",
    "lionsfs = lions[lions['Position'] == 'FS']\n",
    "lionsss = lions[lions['Position'] == 'SS']\n",
    "lionscb['Predicted Rating'] = modelcb(lionscb)\n",
    "lionsss['Predicted Rating'] = modelss(lionsss)\n",
    "lionsfs['Predicted Rating'] = modelfs(lionsfs)\n",
    "lionsss_mean = np.mean(lionsss['Predicted Rating'])\n",
    "lionscb_mean = np.mean(lionscb['Predicted Rating'])\n",
    "lionsfs_mean = np.mean(lionsfs['Predicted Rating'])\n",
    "lionssecondary_mean = np.mean([lionscb_mean, lionsss_mean, lionsfs_mean])\n",
    "print(lionssecondary_mean, lionscb_mean, lionsfs_mean, lionsss_mean) "
   ]
  },
  {
   "cell_type": "code",
   "execution_count": 82,
   "metadata": {},
   "outputs": [
    {
     "data": {
      "text/plain": [
       "71.03612404761905"
      ]
     },
     "execution_count": 82,
     "metadata": {},
     "output_type": "execute_result"
    }
   ],
   "source": [
    "lions_defense_mean = np.mean([lionslb_mean, lionsdl_mean, lionssecondary_mean])\n",
    "lions_defense_mean"
   ]
  },
  {
   "cell_type": "code",
   "execution_count": 83,
   "metadata": {},
   "outputs": [],
   "source": [
    "lions['lb_mean'] = lionslb_mean\n",
    "lions['dl_mean'] = lionsdl_mean\n",
    "lions['secondary_mean'] = lionssecondary_mean\n",
    "lions['defense_rating'] = lions_defense_mean"
   ]
  },
  {
   "cell_type": "code",
   "execution_count": 84,
   "metadata": {},
   "outputs": [
    {
     "data": {
      "text/plain": [
       "72.56238333333333"
      ]
     },
     "execution_count": 84,
     "metadata": {},
     "output_type": "execute_result"
    }
   ],
   "source": [
    "packersdt = packers[packers['Position'] == 'DT']\n",
    "packersre = packers[packers['Position'] == 'RE']\n",
    "packersle = packers[packers['Position'] == 'LE']\n",
    "packersdt['Predicted Rating'] = modeldt(packersdt)\n",
    "packersre['Predicted Rating'] = modelre(packersre)\n",
    "packersle['Predicted Rating'] = modelle(packersle)\n",
    "packersdt_mean = np.mean(packersdt['Predicted Rating'])\n",
    "packersre_mean = np.mean(packersre['Predicted Rating'])\n",
    "packersle_mean = np.mean(packersle['Predicted Rating'])\n",
    "packersdl_mean = np.mean([packersdt_mean, packersre_mean, packersle_mean])\n",
    "packersdl_mean"
   ]
  },
  {
   "cell_type": "code",
   "execution_count": 85,
   "metadata": {},
   "outputs": [
    {
     "name": "stdout",
     "output_type": "stream",
     "text": [
      "69.90115277777778 70.964475 67.71695 71.02203333333334\n"
     ]
    }
   ],
   "source": [
    "packersmlb = packers[packers['Position'] == 'MLB']\n",
    "packersrolb = packers[packers['Position'] == 'ROLB']\n",
    "packerslolb = packers[packers['Position'] == 'LOLB']\n",
    "packersmlb['Predicted Rating'] = modelmlb(packersmlb)\n",
    "packersrolb['Predicted Rating'] = modelrolb(packersrolb)\n",
    "packerslolb['Predicted Rating'] = modellolb(packerslolb)\n",
    "packersmlb_mean = np.mean(packersmlb['Predicted Rating'])\n",
    "packersrolb_mean = np.mean(packersrolb['Predicted Rating'])\n",
    "packerslolb_mean = np.mean(packerslolb['Predicted Rating'])\n",
    "packerslb_mean = np.mean([packersmlb_mean, packersrolb_mean, packerslolb_mean])\n",
    "print(packerslb_mean, packersmlb_mean, packerslolb_mean, packersrolb_mean) "
   ]
  },
  {
   "cell_type": "code",
   "execution_count": 86,
   "metadata": {},
   "outputs": [
    {
     "name": "stdout",
     "output_type": "stream",
     "text": [
      "69.37087777777776 70.42629999999998 70.31683333333332 67.3695\n"
     ]
    }
   ],
   "source": [
    "packerscb = packers[packers['Position'] == 'CB']\n",
    "packersfs = packers[packers['Position'] == 'FS']\n",
    "packersss = packers[packers['Position'] == 'SS']\n",
    "packerscb['Predicted Rating'] = modelcb(packerscb)\n",
    "packersss['Predicted Rating'] = modelss(packersss)\n",
    "packersfs['Predicted Rating'] = modelfs(packersfs)\n",
    "packersss_mean = np.mean(packersss['Predicted Rating'])\n",
    "packerscb_mean = np.mean(packerscb['Predicted Rating'])\n",
    "packersfs_mean = np.mean(packersfs['Predicted Rating'])\n",
    "packerssecondary_mean = np.mean([packerscb_mean, packersss_mean, packersfs_mean])\n",
    "print(packerssecondary_mean, packerscb_mean, packersfs_mean, packersss_mean) "
   ]
  },
  {
   "cell_type": "code",
   "execution_count": 87,
   "metadata": {},
   "outputs": [
    {
     "data": {
      "text/plain": [
       "70.6114712962963"
      ]
     },
     "execution_count": 87,
     "metadata": {},
     "output_type": "execute_result"
    }
   ],
   "source": [
    "packers_defense_mean = np.mean([packerslb_mean, packersdl_mean, packerssecondary_mean])\n",
    "packers_defense_mean"
   ]
  },
  {
   "cell_type": "code",
   "execution_count": 88,
   "metadata": {},
   "outputs": [],
   "source": [
    "packers['lb_mean'] = packerslb_mean\n",
    "packers['dl_mean'] = packersdl_mean\n",
    "packers['secondary_mean'] = packerssecondary_mean\n",
    "packers['defense_rating'] = packers_defense_mean"
   ]
  },
  {
   "cell_type": "code",
   "execution_count": 89,
   "metadata": {},
   "outputs": [
    {
     "data": {
      "text/plain": [
       "72.08215833333334"
      ]
     },
     "execution_count": 89,
     "metadata": {},
     "output_type": "execute_result"
    }
   ],
   "source": [
    "vikingsdt = vikings[vikings['Position'] == 'DT']\n",
    "vikingsre = vikings[vikings['Position'] == 'RE']\n",
    "vikingsle = vikings[vikings['Position'] == 'LE']\n",
    "vikingsdt['Predicted Rating'] = modeldt(vikingsdt)\n",
    "vikingsre['Predicted Rating'] = modelre(vikingsre)\n",
    "vikingsle['Predicted Rating'] = modelle(vikingsle)\n",
    "vikingsdt_mean = np.mean(vikingsdt['Predicted Rating'])\n",
    "vikingsre_mean = np.mean(vikingsre['Predicted Rating'])\n",
    "vikingsle_mean = np.mean(vikingsle['Predicted Rating'])\n",
    "vikingsdl_mean = np.mean([vikingsdt_mean, vikingsre_mean, vikingsle_mean])\n",
    "vikingsdl_mean"
   ]
  },
  {
   "cell_type": "code",
   "execution_count": 90,
   "metadata": {},
   "outputs": [
    {
     "name": "stdout",
     "output_type": "stream",
     "text": [
      "70.19754444444445 68.12929999999999 66.85643333333334 75.6069\n"
     ]
    }
   ],
   "source": [
    "vikingsmlb = vikings[vikings['Position'] == 'MLB']\n",
    "vikingsrolb = vikings[vikings['Position'] == 'ROLB']\n",
    "vikingslolb = vikings[vikings['Position'] == 'LOLB']\n",
    "vikingsmlb['Predicted Rating'] = modelmlb(vikingsmlb)\n",
    "vikingsrolb['Predicted Rating'] = modelrolb(vikingsrolb)\n",
    "vikingslolb['Predicted Rating'] = modellolb(vikingslolb)\n",
    "vikingsmlb_mean = np.mean(vikingsmlb['Predicted Rating'])\n",
    "vikingsrolb_mean = np.mean(vikingsrolb['Predicted Rating'])\n",
    "vikingslolb_mean = np.mean(vikingslolb['Predicted Rating'])\n",
    "vikingslb_mean = np.mean([vikingsmlb_mean, vikingsrolb_mean, vikingslolb_mean])\n",
    "print(vikingslb_mean, vikingsmlb_mean, vikingslolb_mean, vikingsrolb_mean) "
   ]
  },
  {
   "cell_type": "code",
   "execution_count": 91,
   "metadata": {},
   "outputs": [
    {
     "name": "stdout",
     "output_type": "stream",
     "text": [
      "75.79947916666667 73.4056875 83.34065000000001 70.65209999999999\n"
     ]
    }
   ],
   "source": [
    "vikingscb = vikings[vikings['Position'] == 'CB']\n",
    "vikingsfs = vikings[vikings['Position'] == 'FS']\n",
    "vikingsss = vikings[vikings['Position'] == 'SS']\n",
    "vikingscb['Predicted Rating'] = modelcb(vikingscb)\n",
    "vikingsss['Predicted Rating'] = modelss(vikingsss)\n",
    "vikingsfs['Predicted Rating'] = modelfs(vikingsfs)\n",
    "vikingsss_mean = np.mean(vikingsss['Predicted Rating'])\n",
    "vikingscb_mean = np.mean(vikingscb['Predicted Rating'])\n",
    "vikingsfs_mean = np.mean(vikingsfs['Predicted Rating'])\n",
    "vikingssecondary_mean = np.mean([vikingscb_mean, vikingsss_mean, vikingsfs_mean])\n",
    "print(vikingssecondary_mean, vikingscb_mean, vikingsfs_mean, vikingsss_mean) "
   ]
  },
  {
   "cell_type": "code",
   "execution_count": 92,
   "metadata": {},
   "outputs": [
    {
     "data": {
      "text/plain": [
       "72.69306064814816"
      ]
     },
     "execution_count": 92,
     "metadata": {},
     "output_type": "execute_result"
    }
   ],
   "source": [
    "vikings_defense_mean = np.mean([vikingslb_mean, vikingsdl_mean, vikingssecondary_mean])\n",
    "vikings_defense_mean"
   ]
  },
  {
   "cell_type": "code",
   "execution_count": 93,
   "metadata": {},
   "outputs": [],
   "source": [
    "vikings['lb_mean'] = vikingslb_mean\n",
    "vikings['dl_mean'] = vikingsdl_mean\n",
    "vikings['secondary_mean'] = vikingssecondary_mean\n",
    "vikings['defense_rating'] = vikings_defense_mean"
   ]
  },
  {
   "cell_type": "code",
   "execution_count": 250,
   "metadata": {},
   "outputs": [],
   "source": [
    "nfc_north = pd.concat([bears, vikings, packers, lions], axis=0)"
   ]
  },
  {
   "cell_type": "code",
   "execution_count": 94,
   "metadata": {},
   "outputs": [],
   "source": [
    "####NFC SOUTH"
   ]
  },
  {
   "cell_type": "code",
   "execution_count": 95,
   "metadata": {},
   "outputs": [
    {
     "data": {
      "text/plain": [
       "72.831"
      ]
     },
     "execution_count": 95,
     "metadata": {},
     "output_type": "execute_result"
    }
   ],
   "source": [
    "buccaneersdt = buccaneers[buccaneers['Position'] == 'DT']\n",
    "buccaneersre = buccaneers[buccaneers['Position'] == 'RE']\n",
    "buccaneersle = buccaneers[buccaneers['Position'] == 'LE']\n",
    "buccaneersdt['Predicted Rating'] = modeldt(buccaneersdt)\n",
    "buccaneersre['Predicted Rating'] = modelre(buccaneersre)\n",
    "buccaneersle['Predicted Rating'] = modelle(buccaneersle)\n",
    "buccaneersdt_mean = np.mean(buccaneersdt['Predicted Rating'])\n",
    "buccaneersre_mean = np.mean(buccaneersre['Predicted Rating'])\n",
    "buccaneersle_mean = np.mean(buccaneersle['Predicted Rating'])\n",
    "buccaneersdl_mean = np.mean([buccaneersdt_mean, buccaneersre_mean, buccaneersle_mean])\n",
    "buccaneersdl_mean"
   ]
  },
  {
   "cell_type": "code",
   "execution_count": 96,
   "metadata": {},
   "outputs": [
    {
     "name": "stdout",
     "output_type": "stream",
     "text": [
      "70.49145555555555 69.39243333333333 68.4355 73.64643333333332\n"
     ]
    }
   ],
   "source": [
    "buccaneersmlb = buccaneers[buccaneers['Position'] == 'MLB']\n",
    "buccaneersrolb = buccaneers[buccaneers['Position'] == 'ROLB']\n",
    "buccaneerslolb = buccaneers[buccaneers['Position'] == 'LOLB']\n",
    "buccaneersmlb['Predicted Rating'] = modelmlb(buccaneersmlb)\n",
    "buccaneersrolb['Predicted Rating'] = modelrolb(buccaneersrolb)\n",
    "buccaneerslolb['Predicted Rating'] = modellolb(buccaneerslolb)\n",
    "buccaneersmlb_mean = np.mean(buccaneersmlb['Predicted Rating'])\n",
    "buccaneersrolb_mean = np.mean(buccaneersrolb['Predicted Rating'])\n",
    "buccaneerslolb_mean = np.mean(buccaneerslolb['Predicted Rating'])\n",
    "buccaneerslb_mean = np.mean([buccaneersmlb_mean, buccaneersrolb_mean, buccaneerslolb_mean])\n",
    "print(buccaneerslb_mean, buccaneersmlb_mean, buccaneerslolb_mean, buccaneersrolb_mean) "
   ]
  },
  {
   "cell_type": "code",
   "execution_count": 97,
   "metadata": {},
   "outputs": [
    {
     "name": "stdout",
     "output_type": "stream",
     "text": [
      "69.69411626984127 72.98685714285715 69.16336666666668 66.932125\n"
     ]
    }
   ],
   "source": [
    "buccaneerscb = buccaneers[buccaneers['Position'] == 'CB']\n",
    "buccaneersfs = buccaneers[buccaneers['Position'] == 'FS']\n",
    "buccaneersss = buccaneers[buccaneers['Position'] == 'SS']\n",
    "buccaneerscb['Predicted Rating'] = modelcb(buccaneerscb)\n",
    "buccaneersss['Predicted Rating'] = modelss(buccaneersss)\n",
    "buccaneersfs['Predicted Rating'] = modelfs(buccaneersfs)\n",
    "buccaneersss_mean = np.mean(buccaneersss['Predicted Rating'])\n",
    "buccaneerscb_mean = np.mean(buccaneerscb['Predicted Rating'])\n",
    "buccaneersfs_mean = np.mean(buccaneersfs['Predicted Rating'])\n",
    "buccaneerssecondary_mean = np.mean([buccaneerscb_mean, buccaneersss_mean, buccaneersfs_mean])\n",
    "print(buccaneerssecondary_mean, buccaneerscb_mean, buccaneersfs_mean, buccaneersss_mean) "
   ]
  },
  {
   "cell_type": "code",
   "execution_count": 98,
   "metadata": {},
   "outputs": [
    {
     "data": {
      "text/plain": [
       "71.00552394179896"
      ]
     },
     "execution_count": 98,
     "metadata": {},
     "output_type": "execute_result"
    }
   ],
   "source": [
    "buccaneers_defense_mean = np.mean([buccaneerslb_mean, buccaneersdl_mean, buccaneerssecondary_mean])\n",
    "buccaneers_defense_mean"
   ]
  },
  {
   "cell_type": "code",
   "execution_count": 99,
   "metadata": {},
   "outputs": [],
   "source": [
    "buccaneers['lb_mean'] = buccaneerslb_mean\n",
    "buccaneers['dl_mean'] = buccaneersdl_mean\n",
    "buccaneers['secondary_mean'] = buccaneerssecondary_mean\n",
    "buccaneers['defense_rating'] = buccaneers_defense_mean"
   ]
  },
  {
   "cell_type": "code",
   "execution_count": 100,
   "metadata": {},
   "outputs": [
    {
     "data": {
      "text/plain": [
       "70.95448809523809"
      ]
     },
     "execution_count": 100,
     "metadata": {},
     "output_type": "execute_result"
    }
   ],
   "source": [
    "falconsdt = falcons[falcons['Position'] == 'DT']\n",
    "falconsre = falcons[falcons['Position'] == 'RE']\n",
    "falconsle = falcons[falcons['Position'] == 'LE']\n",
    "falconsdt['Predicted Rating'] = modeldt(falconsdt)\n",
    "falconsre['Predicted Rating'] = modelre(falconsre)\n",
    "falconsle['Predicted Rating'] = modelle(falconsle)\n",
    "falconsdt_mean = np.mean(falconsdt['Predicted Rating'])\n",
    "falconsre_mean = np.mean(falconsre['Predicted Rating'])\n",
    "falconsle_mean = np.mean(falconsle['Predicted Rating'])\n",
    "falconsdl_mean = np.mean([falconsdt_mean, falconsre_mean, falconsle_mean])\n",
    "falconsdl_mean"
   ]
  },
  {
   "cell_type": "code",
   "execution_count": 101,
   "metadata": {},
   "outputs": [
    {
     "name": "stdout",
     "output_type": "stream",
     "text": [
      "66.77071111111111 65.42813333333334 63.87346666666667 71.01053333333333\n"
     ]
    }
   ],
   "source": [
    "falconsmlb = falcons[falcons['Position'] == 'MLB']\n",
    "falconsrolb = falcons[falcons['Position'] == 'ROLB']\n",
    "falconslolb = falcons[falcons['Position'] == 'LOLB']\n",
    "falconsmlb['Predicted Rating'] = modelmlb(falconsmlb)\n",
    "falconsrolb['Predicted Rating'] = modelrolb(falconsrolb)\n",
    "falconslolb['Predicted Rating'] = modellolb(falconslolb)\n",
    "falconsmlb_mean = np.mean(falconsmlb['Predicted Rating'])\n",
    "falconsrolb_mean = np.mean(falconsrolb['Predicted Rating'])\n",
    "falconslolb_mean = np.mean(falconslolb['Predicted Rating'])\n",
    "falconslb_mean = np.mean([falconsmlb_mean, falconsrolb_mean, falconslolb_mean])\n",
    "print(falconslb_mean, falconsmlb_mean, falconslolb_mean, falconsrolb_mean) "
   ]
  },
  {
   "cell_type": "code",
   "execution_count": 102,
   "metadata": {},
   "outputs": [
    {
     "name": "stdout",
     "output_type": "stream",
     "text": [
      "74.76074999999999 75.085925 74.43507499999998 74.76124999999999\n"
     ]
    }
   ],
   "source": [
    "falconscb = falcons[falcons['Position'] == 'CB']\n",
    "falconsfs = falcons[falcons['Position'] == 'FS']\n",
    "falconsss = falcons[falcons['Position'] == 'SS']\n",
    "falconscb['Predicted Rating'] = modelcb(falconscb)\n",
    "falconsss['Predicted Rating'] = modelss(falconsss)\n",
    "falconsfs['Predicted Rating'] = modelfs(falconsfs)\n",
    "falconsss_mean = np.mean(falconsss['Predicted Rating'])\n",
    "falconscb_mean = np.mean(falconscb['Predicted Rating'])\n",
    "falconsfs_mean = np.mean(falconsfs['Predicted Rating'])\n",
    "falconssecondary_mean = np.mean([falconscb_mean, falconsss_mean, falconsfs_mean])\n",
    "print(falconssecondary_mean, falconscb_mean, falconsfs_mean, falconsss_mean) "
   ]
  },
  {
   "cell_type": "code",
   "execution_count": 103,
   "metadata": {},
   "outputs": [
    {
     "data": {
      "text/plain": [
       "70.82864973544973"
      ]
     },
     "execution_count": 103,
     "metadata": {},
     "output_type": "execute_result"
    }
   ],
   "source": [
    "falcons_defense_mean = np.mean([falconslb_mean, falconsdl_mean, falconssecondary_mean])\n",
    "falcons_defense_mean"
   ]
  },
  {
   "cell_type": "code",
   "execution_count": 104,
   "metadata": {},
   "outputs": [],
   "source": [
    "falcons['lb_mean'] = falconslb_mean\n",
    "falcons['dl_mean'] = falconsdl_mean\n",
    "falcons['secondary_mean'] = falconssecondary_mean\n",
    "falcons['defense_rating'] = falcons_defense_mean"
   ]
  },
  {
   "cell_type": "code",
   "execution_count": 105,
   "metadata": {},
   "outputs": [
    {
     "data": {
      "text/plain": [
       "72.1806561111111"
      ]
     },
     "execution_count": 105,
     "metadata": {},
     "output_type": "execute_result"
    }
   ],
   "source": [
    "panthersdt = panthers[panthers['Position'] == 'DT']\n",
    "panthersre = panthers[panthers['Position'] == 'RE']\n",
    "panthersle = panthers[panthers['Position'] == 'LE']\n",
    "panthersdt['Predicted Rating'] = modeldt(panthersdt)\n",
    "panthersre['Predicted Rating'] = modelre(panthersre)\n",
    "panthersle['Predicted Rating'] = modelle(panthersle)\n",
    "panthersdt_mean = np.mean(panthersdt['Predicted Rating'])\n",
    "panthersre_mean = np.mean(panthersre['Predicted Rating'])\n",
    "panthersle_mean = np.mean(panthersle['Predicted Rating'])\n",
    "panthersdl_mean = np.mean([panthersdt_mean, panthersre_mean, panthersle_mean])\n",
    "panthersdl_mean"
   ]
  },
  {
   "cell_type": "code",
   "execution_count": 106,
   "metadata": {},
   "outputs": [
    {
     "name": "stdout",
     "output_type": "stream",
     "text": [
      "76.358925 72.606175 70.50439999999999 85.9662\n"
     ]
    }
   ],
   "source": [
    "panthersmlb = panthers[panthers['Position'] == 'MLB']\n",
    "panthersrolb = panthers[panthers['Position'] == 'ROLB']\n",
    "pantherslolb = panthers[panthers['Position'] == 'LOLB']\n",
    "panthersmlb['Predicted Rating'] = modelmlb(panthersmlb)\n",
    "panthersrolb['Predicted Rating'] = modelrolb(panthersrolb)\n",
    "pantherslolb['Predicted Rating'] = modellolb(pantherslolb)\n",
    "panthersmlb_mean = np.mean(panthersmlb['Predicted Rating'])\n",
    "panthersrolb_mean = np.mean(panthersrolb['Predicted Rating'])\n",
    "pantherslolb_mean = np.mean(pantherslolb['Predicted Rating'])\n",
    "pantherslb_mean = np.mean([panthersmlb_mean, panthersrolb_mean, pantherslolb_mean])\n",
    "print(pantherslb_mean, panthersmlb_mean, pantherslolb_mean, panthersrolb_mean) "
   ]
  },
  {
   "cell_type": "code",
   "execution_count": 107,
   "metadata": {},
   "outputs": [
    {
     "name": "stdout",
     "output_type": "stream",
     "text": [
      "70.46456203703703 70.82571111111112 69.68594999999999 70.882025\n"
     ]
    }
   ],
   "source": [
    "pantherscb = panthers[panthers['Position'] == 'CB']\n",
    "panthersfs = panthers[panthers['Position'] == 'FS']\n",
    "panthersss = panthers[panthers['Position'] == 'SS']\n",
    "pantherscb['Predicted Rating'] = modelcb(pantherscb)\n",
    "panthersss['Predicted Rating'] = modelss(panthersss)\n",
    "panthersfs['Predicted Rating'] = modelfs(panthersfs)\n",
    "panthersss_mean = np.mean(panthersss['Predicted Rating'])\n",
    "pantherscb_mean = np.mean(pantherscb['Predicted Rating'])\n",
    "panthersfs_mean = np.mean(panthersfs['Predicted Rating'])\n",
    "pantherssecondary_mean = np.mean([pantherscb_mean, panthersss_mean, panthersfs_mean])\n",
    "print(pantherssecondary_mean, pantherscb_mean, panthersfs_mean, panthersss_mean) "
   ]
  },
  {
   "cell_type": "code",
   "execution_count": 108,
   "metadata": {},
   "outputs": [
    {
     "data": {
      "text/plain": [
       "73.0013810493827"
      ]
     },
     "execution_count": 108,
     "metadata": {},
     "output_type": "execute_result"
    }
   ],
   "source": [
    "panthers_defense_mean = np.mean([pantherslb_mean, panthersdl_mean, pantherssecondary_mean])\n",
    "panthers_defense_mean"
   ]
  },
  {
   "cell_type": "code",
   "execution_count": 109,
   "metadata": {},
   "outputs": [],
   "source": [
    "panthers['lb_mean'] = pantherslb_mean\n",
    "panthers['dl_mean'] = panthersdl_mean\n",
    "panthers['secondary_mean'] = pantherssecondary_mean\n",
    "panthers['defense_rating'] = panthers_defense_mean"
   ]
  },
  {
   "cell_type": "code",
   "execution_count": 110,
   "metadata": {},
   "outputs": [
    {
     "data": {
      "text/plain": [
       "73.28057420634921"
      ]
     },
     "execution_count": 110,
     "metadata": {},
     "output_type": "execute_result"
    }
   ],
   "source": [
    "saintsdt = saints[saints['Position'] == 'DT']\n",
    "saintsre = saints[saints['Position'] == 'RE']\n",
    "saintsle = saints[saints['Position'] == 'LE']\n",
    "saintsdt['Predicted Rating'] = modeldt(saintsdt)\n",
    "saintsre['Predicted Rating'] = modelre(saintsre)\n",
    "saintsle['Predicted Rating'] = modelle(saintsle)\n",
    "saintsdt_mean = np.mean(saintsdt['Predicted Rating'])\n",
    "saintsre_mean = np.mean(saintsre['Predicted Rating'])\n",
    "saintsle_mean = np.mean(saintsle['Predicted Rating'])\n",
    "saintsdl_mean = np.mean([saintsdt_mean, saintsre_mean, saintsle_mean])\n",
    "saintsdl_mean"
   ]
  },
  {
   "cell_type": "code",
   "execution_count": 111,
   "metadata": {},
   "outputs": [
    {
     "name": "stdout",
     "output_type": "stream",
     "text": [
      "76.01378888888888 80.8706 70.87716666666667 76.2936\n"
     ]
    }
   ],
   "source": [
    "saintsmlb = saints[saints['Position'] == 'MLB']\n",
    "saintsrolb = saints[saints['Position'] == 'ROLB']\n",
    "saintslolb = saints[saints['Position'] == 'LOLB']\n",
    "saintsmlb['Predicted Rating'] = modelmlb(saintsmlb)\n",
    "saintsrolb['Predicted Rating'] = modelrolb(saintsrolb)\n",
    "saintslolb['Predicted Rating'] = modellolb(saintslolb)\n",
    "saintsmlb_mean = np.mean(saintsmlb['Predicted Rating'])\n",
    "saintsrolb_mean = np.mean(saintsrolb['Predicted Rating'])\n",
    "saintslolb_mean = np.mean(saintslolb['Predicted Rating'])\n",
    "saintslb_mean = np.mean([saintsmlb_mean, saintsrolb_mean, saintslolb_mean])\n",
    "print(saintslb_mean, saintsmlb_mean, saintslolb_mean, saintsrolb_mean) "
   ]
  },
  {
   "cell_type": "code",
   "execution_count": 112,
   "metadata": {},
   "outputs": [
    {
     "name": "stdout",
     "output_type": "stream",
     "text": [
      "71.87889305555554 73.53661249999999 68.77866666666667 73.3214\n"
     ]
    }
   ],
   "source": [
    "saintscb = saints[saints['Position'] == 'CB']\n",
    "saintsfs = saints[saints['Position'] == 'FS']\n",
    "saintsss = saints[saints['Position'] == 'SS']\n",
    "saintscb['Predicted Rating'] = modelcb(saintscb)\n",
    "saintsss['Predicted Rating'] = modelss(saintsss)\n",
    "saintsfs['Predicted Rating'] = modelfs(saintsfs)\n",
    "saintsss_mean = np.mean(saintsss['Predicted Rating'])\n",
    "saintscb_mean = np.mean(saintscb['Predicted Rating'])\n",
    "saintsfs_mean = np.mean(saintsfs['Predicted Rating'])\n",
    "saintssecondary_mean = np.mean([saintscb_mean, saintsss_mean, saintsfs_mean])\n",
    "print(saintssecondary_mean, saintscb_mean, saintsfs_mean, saintsss_mean) "
   ]
  },
  {
   "cell_type": "code",
   "execution_count": 113,
   "metadata": {},
   "outputs": [
    {
     "data": {
      "text/plain": [
       "73.72441871693121"
      ]
     },
     "execution_count": 113,
     "metadata": {},
     "output_type": "execute_result"
    }
   ],
   "source": [
    "saints_defense_mean = np.mean([saintslb_mean, saintsdl_mean, saintssecondary_mean])\n",
    "saints_defense_mean"
   ]
  },
  {
   "cell_type": "code",
   "execution_count": 251,
   "metadata": {},
   "outputs": [],
   "source": [
    "saints['lb_mean'] = saintslb_mean\n",
    "saints['dl_mean'] = saintsdl_mean\n",
    "saints['secondary_mean'] = saintssecondary_mean\n",
    "saints['defense_rating'] = saints_defense_mean"
   ]
  },
  {
   "cell_type": "code",
   "execution_count": 253,
   "metadata": {},
   "outputs": [],
   "source": [
    "nfc_south = pd.concat([saints, buccaneers, falcons, panthers], axis=0)"
   ]
  },
  {
   "cell_type": "code",
   "execution_count": 254,
   "metadata": {},
   "outputs": [],
   "source": [
    "nfc_defense = pd.concat([nfc_east, nfc_west, nfc_south, nfc_north])"
   ]
  },
  {
   "cell_type": "code",
   "execution_count": 256,
   "metadata": {},
   "outputs": [],
   "source": [
    "nfc_defense.to_csv('C:\\\\Users\\\\tilleymusprime\\\\Desktop\\\\nfc_defense.csv')"
   ]
  },
  {
   "cell_type": "code",
   "execution_count": 257,
   "metadata": {},
   "outputs": [],
   "source": [
    "##AFC Defenses"
   ]
  },
  {
   "cell_type": "code",
   "execution_count": 258,
   "metadata": {},
   "outputs": [],
   "source": [
    "#AFC NORTH"
   ]
  },
  {
   "cell_type": "code",
   "execution_count": 259,
   "metadata": {},
   "outputs": [
    {
     "data": {
      "text/plain": [
       "74.77348333333333"
      ]
     },
     "execution_count": 259,
     "metadata": {},
     "output_type": "execute_result"
    }
   ],
   "source": [
    "ravensdt = ravens[ravens['Position'] == 'DT']\n",
    "ravensre = ravens[ravens['Position'] == 'RE']\n",
    "ravensle = ravens[ravens['Position'] == 'LE']\n",
    "ravensdt['Predicted Rating'] = modeldt(ravensdt)\n",
    "ravensre['Predicted Rating'] = modelre(ravensre)\n",
    "ravensle['Predicted Rating'] = modelle(ravensle)\n",
    "ravensdt_mean = np.mean(ravensdt['Predicted Rating'])\n",
    "ravensre_mean = np.mean(ravensre['Predicted Rating'])\n",
    "ravensle_mean = np.mean(ravensle['Predicted Rating'])\n",
    "ravensdl_mean = np.mean([ravensdt_mean, ravensre_mean, ravensle_mean])\n",
    "ravensdl_mean"
   ]
  },
  {
   "cell_type": "code",
   "execution_count": 260,
   "metadata": {},
   "outputs": [
    {
     "name": "stdout",
     "output_type": "stream",
     "text": [
      "71.83172777777777 68.11578333333334 71.41223333333333 75.96716666666667\n"
     ]
    }
   ],
   "source": [
    "ravensmlb = ravens[ravens['Position'] == 'MLB']\n",
    "ravensrolb = ravens[ravens['Position'] == 'ROLB']\n",
    "ravenslolb = ravens[ravens['Position'] == 'LOLB']\n",
    "ravensmlb['Predicted Rating'] = modelmlb(ravensmlb)\n",
    "ravensrolb['Predicted Rating'] = modelrolb(ravensrolb)\n",
    "ravenslolb['Predicted Rating'] = modellolb(ravenslolb)\n",
    "ravensmlb_mean = np.mean(ravensmlb['Predicted Rating'])\n",
    "ravensrolb_mean = np.mean(ravensrolb['Predicted Rating'])\n",
    "ravenslolb_mean = np.mean(ravenslolb['Predicted Rating'])\n",
    "ravenslb_mean = np.mean([ravensmlb_mean, ravensrolb_mean, ravenslolb_mean])\n",
    "print(ravenslb_mean, ravensmlb_mean, ravenslolb_mean, ravensrolb_mean) "
   ]
  },
  {
   "cell_type": "code",
   "execution_count": 261,
   "metadata": {},
   "outputs": [
    {
     "name": "stdout",
     "output_type": "stream",
     "text": [
      "75.22433703703703 73.09501111111112 71.37424999999999 81.20375\n"
     ]
    }
   ],
   "source": [
    "ravenscb = ravens[ravens['Position'] == 'CB']\n",
    "ravensfs = ravens[ravens['Position'] == 'FS']\n",
    "ravensss = ravens[ravens['Position'] == 'SS']\n",
    "ravenscb['Predicted Rating'] = modelcb(ravenscb)\n",
    "ravensss['Predicted Rating'] = modelss(ravensss)\n",
    "ravensfs['Predicted Rating'] = modelfs(ravensfs)\n",
    "ravensss_mean = np.mean(ravensss['Predicted Rating'])\n",
    "ravenscb_mean = np.mean(ravenscb['Predicted Rating'])\n",
    "ravensfs_mean = np.mean(ravensfs['Predicted Rating'])\n",
    "ravenssecondary_mean = np.mean([ravenscb_mean, ravensss_mean, ravensfs_mean])\n",
    "print(ravenssecondary_mean, ravenscb_mean, ravensfs_mean, ravensss_mean) "
   ]
  },
  {
   "cell_type": "code",
   "execution_count": 267,
   "metadata": {},
   "outputs": [
    {
     "data": {
      "text/plain": [
       "73.94318271604938"
      ]
     },
     "execution_count": 267,
     "metadata": {},
     "output_type": "execute_result"
    }
   ],
   "source": [
    "ravens_defense_mean = np.mean([ravenslb_mean, ravensdl_mean, ravenssecondary_mean])\n",
    "ravens_defense_mean"
   ]
  },
  {
   "cell_type": "code",
   "execution_count": 268,
   "metadata": {},
   "outputs": [],
   "source": [
    "ravens['lb_mean'] = ravenslb_mean\n",
    "ravens['dl_mean'] = ravensdl_mean\n",
    "ravens['secondary_mean'] = ravenssecondary_mean\n",
    "ravens['defense_rating'] = ravens_defense_mean"
   ]
  },
  {
   "cell_type": "code",
   "execution_count": 263,
   "metadata": {},
   "outputs": [
    {
     "data": {
      "text/plain": [
       "72.78975000000001"
      ]
     },
     "execution_count": 263,
     "metadata": {},
     "output_type": "execute_result"
    }
   ],
   "source": [
    "brownsdt = browns[browns['Position'] == 'DT']\n",
    "brownsre = browns[browns['Position'] == 'RE']\n",
    "brownsle = browns[browns['Position'] == 'LE']\n",
    "brownsdt['Predicted Rating'] = modeldt(brownsdt)\n",
    "brownsre['Predicted Rating'] = modelre(brownsre)\n",
    "brownsle['Predicted Rating'] = modelle(brownsle)\n",
    "brownsdt_mean = np.mean(brownsdt['Predicted Rating'])\n",
    "brownsre_mean = np.mean(brownsre['Predicted Rating'])\n",
    "brownsle_mean = np.mean(brownsle['Predicted Rating'])\n",
    "brownsdl_mean = np.mean([brownsdt_mean, brownsre_mean, brownsle_mean])\n",
    "brownsdl_mean"
   ]
  },
  {
   "cell_type": "code",
   "execution_count": 264,
   "metadata": {},
   "outputs": [
    {
     "name": "stdout",
     "output_type": "stream",
     "text": [
      "71.72767499999999 71.85867499999999 69.6311 73.69325\n"
     ]
    }
   ],
   "source": [
    "brownsmlb = browns[browns['Position'] == 'MLB']\n",
    "brownsrolb = browns[browns['Position'] == 'ROLB']\n",
    "brownslolb = browns[browns['Position'] == 'LOLB']\n",
    "brownsmlb['Predicted Rating'] = modelmlb(brownsmlb)\n",
    "brownsrolb['Predicted Rating'] = modelrolb(brownsrolb)\n",
    "brownslolb['Predicted Rating'] = modellolb(brownslolb)\n",
    "brownsmlb_mean = np.mean(brownsmlb['Predicted Rating'])\n",
    "brownsrolb_mean = np.mean(brownsrolb['Predicted Rating'])\n",
    "brownslolb_mean = np.mean(brownslolb['Predicted Rating'])\n",
    "brownslb_mean = np.mean([brownsmlb_mean, brownsrolb_mean, brownslolb_mean])\n",
    "print(brownslb_mean, brownsmlb_mean, brownslolb_mean, brownsrolb_mean) "
   ]
  },
  {
   "cell_type": "code",
   "execution_count": 265,
   "metadata": {},
   "outputs": [
    {
     "name": "stdout",
     "output_type": "stream",
     "text": [
      "72.14508111111111 71.14421 71.324 73.96703333333333\n"
     ]
    }
   ],
   "source": [
    "brownscb = browns[browns['Position'] == 'CB']\n",
    "brownsfs = browns[browns['Position'] == 'FS']\n",
    "brownsss = browns[browns['Position'] == 'SS']\n",
    "brownscb['Predicted Rating'] = modelcb(brownscb)\n",
    "brownsss['Predicted Rating'] = modelss(brownsss)\n",
    "brownsfs['Predicted Rating'] = modelfs(brownsfs)\n",
    "brownsss_mean = np.mean(brownsss['Predicted Rating'])\n",
    "brownscb_mean = np.mean(brownscb['Predicted Rating'])\n",
    "brownsfs_mean = np.mean(brownsfs['Predicted Rating'])\n",
    "brownssecondary_mean = np.mean([brownscb_mean, brownsss_mean, brownsfs_mean])\n",
    "print(brownssecondary_mean, brownscb_mean, brownsfs_mean, brownsss_mean) "
   ]
  },
  {
   "cell_type": "code",
   "execution_count": 266,
   "metadata": {},
   "outputs": [
    {
     "data": {
      "text/plain": [
       "72.22083537037037"
      ]
     },
     "execution_count": 266,
     "metadata": {},
     "output_type": "execute_result"
    }
   ],
   "source": [
    "browns_defense_mean = np.mean([brownslb_mean, brownsdl_mean, brownssecondary_mean])\n",
    "browns_defense_mean"
   ]
  },
  {
   "cell_type": "code",
   "execution_count": 269,
   "metadata": {},
   "outputs": [],
   "source": [
    "browns['lb_mean'] = brownslb_mean\n",
    "browns['dl_mean'] = brownsdl_mean\n",
    "browns['secondary_mean'] = brownssecondary_mean\n",
    "browns['defense_rating'] = browns_defense_mean"
   ]
  },
  {
   "cell_type": "code",
   "execution_count": 270,
   "metadata": {},
   "outputs": [
    {
     "data": {
      "text/plain": [
       "74.40940555555555"
      ]
     },
     "execution_count": 270,
     "metadata": {},
     "output_type": "execute_result"
    }
   ],
   "source": [
    "bengalsdt = bengals[bengals['Position'] == 'DT']\n",
    "bengalsre = bengals[bengals['Position'] == 'RE']\n",
    "bengalsle = bengals[bengals['Position'] == 'LE']\n",
    "bengalsdt['Predicted Rating'] = modeldt(bengalsdt)\n",
    "bengalsre['Predicted Rating'] = modelre(bengalsre)\n",
    "bengalsle['Predicted Rating'] = modelle(bengalsle)\n",
    "bengalsdt_mean = np.mean(bengalsdt['Predicted Rating'])\n",
    "bengalsre_mean = np.mean(bengalsre['Predicted Rating'])\n",
    "bengalsle_mean = np.mean(bengalsle['Predicted Rating'])\n",
    "bengalsdl_mean = np.mean([bengalsdt_mean, bengalsre_mean, bengalsle_mean])\n",
    "bengalsdl_mean"
   ]
  },
  {
   "cell_type": "code",
   "execution_count": 271,
   "metadata": {},
   "outputs": [
    {
     "name": "stdout",
     "output_type": "stream",
     "text": [
      "70.63295833333333 67.487325 70.00625 74.4053\n"
     ]
    }
   ],
   "source": [
    "bengalsmlb = bengals[bengals['Position'] == 'MLB']\n",
    "bengalsrolb = bengals[bengals['Position'] == 'ROLB']\n",
    "bengalslolb = bengals[bengals['Position'] == 'LOLB']\n",
    "bengalsmlb['Predicted Rating'] = modelmlb(bengalsmlb)\n",
    "bengalsrolb['Predicted Rating'] = modelrolb(bengalsrolb)\n",
    "bengalslolb['Predicted Rating'] = modellolb(bengalslolb)\n",
    "bengalsmlb_mean = np.mean(bengalsmlb['Predicted Rating'])\n",
    "bengalsrolb_mean = np.mean(bengalsrolb['Predicted Rating'])\n",
    "bengalslolb_mean = np.mean(bengalslolb['Predicted Rating'])\n",
    "bengalslb_mean = np.mean([bengalsmlb_mean, bengalsrolb_mean, bengalslolb_mean])\n",
    "print(bengalslb_mean, bengalsmlb_mean, bengalslolb_mean, bengalsrolb_mean) "
   ]
  },
  {
   "cell_type": "code",
   "execution_count": 272,
   "metadata": {},
   "outputs": [
    {
     "name": "stdout",
     "output_type": "stream",
     "text": [
      "71.1013253968254 71.48184285714287 72.17309999999999 69.64903333333335\n"
     ]
    }
   ],
   "source": [
    "bengalscb = bengals[bengals['Position'] == 'CB']\n",
    "bengalsfs = bengals[bengals['Position'] == 'FS']\n",
    "bengalsss = bengals[bengals['Position'] == 'SS']\n",
    "bengalscb['Predicted Rating'] = modelcb(bengalscb)\n",
    "bengalsss['Predicted Rating'] = modelss(bengalsss)\n",
    "bengalsfs['Predicted Rating'] = modelfs(bengalsfs)\n",
    "bengalsss_mean = np.mean(bengalsss['Predicted Rating'])\n",
    "bengalscb_mean = np.mean(bengalscb['Predicted Rating'])\n",
    "bengalsfs_mean = np.mean(bengalsfs['Predicted Rating'])\n",
    "bengalssecondary_mean = np.mean([bengalscb_mean, bengalsss_mean, bengalsfs_mean])\n",
    "print(bengalssecondary_mean, bengalscb_mean, bengalsfs_mean, bengalsss_mean) "
   ]
  },
  {
   "cell_type": "code",
   "execution_count": 273,
   "metadata": {},
   "outputs": [
    {
     "data": {
      "text/plain": [
       "72.04789642857143"
      ]
     },
     "execution_count": 273,
     "metadata": {},
     "output_type": "execute_result"
    }
   ],
   "source": [
    "bengals_defense_mean = np.mean([bengalslb_mean, bengalsdl_mean, bengalssecondary_mean])\n",
    "bengals_defense_mean"
   ]
  },
  {
   "cell_type": "code",
   "execution_count": 274,
   "metadata": {},
   "outputs": [],
   "source": [
    "bengals['lb_mean'] = bengalslb_mean\n",
    "bengals['dl_mean'] = bengalsdl_mean\n",
    "bengals['secondary_mean'] = bengalssecondary_mean\n",
    "bengals['defense_rating'] = bengals_defense_mean"
   ]
  },
  {
   "cell_type": "code",
   "execution_count": 275,
   "metadata": {},
   "outputs": [
    {
     "data": {
      "text/plain": [
       "73.83018333333334"
      ]
     },
     "execution_count": 275,
     "metadata": {},
     "output_type": "execute_result"
    }
   ],
   "source": [
    "steelersdt = steelers[steelers['Position'] == 'DT']\n",
    "steelersre = steelers[steelers['Position'] == 'RE']\n",
    "steelersle = steelers[steelers['Position'] == 'LE']\n",
    "steelersdt['Predicted Rating'] = modeldt(steelersdt)\n",
    "steelersre['Predicted Rating'] = modelre(steelersre)\n",
    "steelersle['Predicted Rating'] = modelle(steelersle)\n",
    "steelersdt_mean = np.mean(steelersdt['Predicted Rating'])\n",
    "steelersre_mean = np.mean(steelersre['Predicted Rating'])\n",
    "steelersle_mean = np.mean(steelersle['Predicted Rating'])\n",
    "steelersdl_mean = np.mean([steelersdt_mean, steelersre_mean, steelersle_mean])\n",
    "steelersdl_mean"
   ]
  },
  {
   "cell_type": "code",
   "execution_count": 277,
   "metadata": {},
   "outputs": [
    {
     "name": "stdout",
     "output_type": "stream",
     "text": [
      "69.42003095238096 69.53984285714286 68.87235000000001 69.8479\n"
     ]
    }
   ],
   "source": [
    "steelersmlb = steelers[steelers['Position'] == 'MLB']\n",
    "steelersrolb = steelers[steelers['Position'] == 'ROLB']\n",
    "steelerslolb = steelers[steelers['Position'] == 'LOLB']\n",
    "steelersmlb['Predicted Rating'] = modelmlb(steelersmlb)\n",
    "steelersrolb['Predicted Rating'] = modelrolb(steelersrolb)\n",
    "steelerslolb['Predicted Rating'] = modellolb(steelerslolb)\n",
    "steelersmlb_mean = np.mean(steelersmlb['Predicted Rating'])\n",
    "steelersrolb_mean = np.mean(steelersrolb['Predicted Rating'])\n",
    "steelerslolb_mean = np.mean(steelerslolb['Predicted Rating'])\n",
    "steelerslb_mean = np.mean([steelersmlb_mean, steelersrolb_mean, steelerslolb_mean])\n",
    "print(steelerslb_mean, steelersmlb_mean, steelerslolb_mean, steelersrolb_mean) "
   ]
  },
  {
   "cell_type": "code",
   "execution_count": 278,
   "metadata": {},
   "outputs": [
    {
     "name": "stdout",
     "output_type": "stream",
     "text": [
      "71.35090833333334 71.8138 70.125 72.11392500000001\n"
     ]
    }
   ],
   "source": [
    "steelerscb = steelers[steelers['Position'] == 'CB']\n",
    "steelersfs = steelers[steelers['Position'] == 'FS']\n",
    "steelersss = steelers[steelers['Position'] == 'SS']\n",
    "steelerscb['Predicted Rating'] = modelcb(steelerscb)\n",
    "steelersss['Predicted Rating'] = modelss(steelersss)\n",
    "steelersfs['Predicted Rating'] = modelfs(steelersfs)\n",
    "steelersss_mean = np.mean(steelersss['Predicted Rating'])\n",
    "steelerscb_mean = np.mean(steelerscb['Predicted Rating'])\n",
    "steelersfs_mean = np.mean(steelersfs['Predicted Rating'])\n",
    "steelerssecondary_mean = np.mean([steelerscb_mean, steelersss_mean, steelersfs_mean])\n",
    "print(steelerssecondary_mean, steelerscb_mean, steelersfs_mean, steelersss_mean) "
   ]
  },
  {
   "cell_type": "code",
   "execution_count": 279,
   "metadata": {},
   "outputs": [
    {
     "data": {
      "text/plain": [
       "71.53370753968254"
      ]
     },
     "execution_count": 279,
     "metadata": {},
     "output_type": "execute_result"
    }
   ],
   "source": [
    "steelers_defense_mean = np.mean([steelerslb_mean, steelersdl_mean, steelerssecondary_mean])\n",
    "steelers_defense_mean"
   ]
  },
  {
   "cell_type": "code",
   "execution_count": 280,
   "metadata": {},
   "outputs": [],
   "source": [
    "steelers['lb_mean'] = steelerslb_mean\n",
    "steelers['dl_mean'] = steelersdl_mean\n",
    "steelers['secondary_mean'] = steelerssecondary_mean\n",
    "steelers['defense_rating'] = steelers_defense_mean"
   ]
  },
  {
   "cell_type": "code",
   "execution_count": 281,
   "metadata": {},
   "outputs": [],
   "source": [
    "afc_north_defense = pd.concat([browns, ravens, bengals, steelers], axis=0)"
   ]
  },
  {
   "cell_type": "code",
   "execution_count": 282,
   "metadata": {},
   "outputs": [],
   "source": [
    "###AFC SOUTH Defense\n"
   ]
  },
  {
   "cell_type": "code",
   "execution_count": 283,
   "metadata": {},
   "outputs": [
    {
     "data": {
      "text/plain": [
       "74.58626111111111"
      ]
     },
     "execution_count": 283,
     "metadata": {},
     "output_type": "execute_result"
    }
   ],
   "source": [
    "texansdt = texans[texans['Position'] == 'DT']\n",
    "texansre = texans[texans['Position'] == 'RE']\n",
    "texansle = texans[texans['Position'] == 'LE']\n",
    "texansdt['Predicted Rating'] = modeldt(texansdt)\n",
    "texansre['Predicted Rating'] = modelre(texansre)\n",
    "texansle['Predicted Rating'] = modelle(texansle)\n",
    "texansdt_mean = np.mean(texansdt['Predicted Rating'])\n",
    "texansre_mean = np.mean(texansre['Predicted Rating'])\n",
    "texansle_mean = np.mean(texansle['Predicted Rating'])\n",
    "texansdl_mean = np.mean([texansdt_mean, texansre_mean, texansle_mean])\n",
    "texansdl_mean"
   ]
  },
  {
   "cell_type": "code",
   "execution_count": 284,
   "metadata": {},
   "outputs": [
    {
     "name": "stdout",
     "output_type": "stream",
     "text": [
      "70.7278 73.406125 68.929375 69.8479\n"
     ]
    }
   ],
   "source": [
    "texansmlb = texans[texans['Position'] == 'MLB']\n",
    "texansrolb = texans[texans['Position'] == 'ROLB']\n",
    "texanslolb = texans[texans['Position'] == 'LOLB']\n",
    "texansmlb['Predicted Rating'] = modelmlb(texansmlb)\n",
    "texansrolb['Predicted Rating'] = modelrolb(texansrolb)\n",
    "texanslolb['Predicted Rating'] = modellolb(texanslolb)\n",
    "texansmlb_mean = np.mean(texansmlb['Predicted Rating'])\n",
    "texansrolb_mean = np.mean(steelersrolb['Predicted Rating'])\n",
    "texanslolb_mean = np.mean(texanslolb['Predicted Rating'])\n",
    "texanslb_mean = np.mean([texansmlb_mean, texansrolb_mean, texanslolb_mean])\n",
    "print(texanslb_mean, texansmlb_mean, texanslolb_mean, texansrolb_mean) "
   ]
  },
  {
   "cell_type": "code",
   "execution_count": 285,
   "metadata": {},
   "outputs": [
    {
     "name": "stdout",
     "output_type": "stream",
     "text": [
      "75.2539861111111 73.243625 78.88126666666666 73.63706666666666\n"
     ]
    }
   ],
   "source": [
    "texanscb = texans[texans['Position'] == 'CB']\n",
    "texansfs = texans[texans['Position'] == 'FS']\n",
    "texansss = texans[texans['Position'] == 'SS']\n",
    "texanscb['Predicted Rating'] = modelcb(texanscb)\n",
    "texansss['Predicted Rating'] = modelss(texansss)\n",
    "texansfs['Predicted Rating'] = modelfs(texansfs)\n",
    "texansss_mean = np.mean(texansss['Predicted Rating'])\n",
    "texanscb_mean = np.mean(texanscb['Predicted Rating'])\n",
    "texansfs_mean = np.mean(texansfs['Predicted Rating'])\n",
    "texanssecondary_mean = np.mean([texanscb_mean, texansss_mean, texansfs_mean])\n",
    "print(texanssecondary_mean, texanscb_mean, texansfs_mean, texansss_mean) "
   ]
  },
  {
   "cell_type": "code",
   "execution_count": 286,
   "metadata": {},
   "outputs": [
    {
     "data": {
      "text/plain": [
       "73.5226824074074"
      ]
     },
     "execution_count": 286,
     "metadata": {},
     "output_type": "execute_result"
    }
   ],
   "source": [
    "texans_defense_mean = np.mean([texanslb_mean, texansdl_mean, texanssecondary_mean])\n",
    "texans_defense_mean"
   ]
  },
  {
   "cell_type": "code",
   "execution_count": 287,
   "metadata": {},
   "outputs": [],
   "source": [
    "texans['lb_mean'] = texanslb_mean\n",
    "texans['dl_mean'] = texansdl_mean\n",
    "texans['secondary_mean'] = texanssecondary_mean\n",
    "texans['defense_rating'] = texans_defense_mean"
   ]
  },
  {
   "cell_type": "code",
   "execution_count": 288,
   "metadata": {},
   "outputs": [
    {
     "data": {
      "text/plain": [
       "73.52759666666667"
      ]
     },
     "execution_count": 288,
     "metadata": {},
     "output_type": "execute_result"
    }
   ],
   "source": [
    "coltsdt = colts[colts['Position'] == 'DT']\n",
    "coltsre = colts[colts['Position'] == 'RE']\n",
    "coltsle = colts[colts['Position'] == 'LE']\n",
    "coltsdt['Predicted Rating'] = modeldt(coltsdt)\n",
    "coltsre['Predicted Rating'] = modelre(coltsre)\n",
    "coltsle['Predicted Rating'] = modelle(coltsle)\n",
    "coltsdt_mean = np.mean(coltsdt['Predicted Rating'])\n",
    "coltsre_mean = np.mean(coltsre['Predicted Rating'])\n",
    "coltsle_mean = np.mean(coltsle['Predicted Rating'])\n",
    "coltsdl_mean = np.mean([coltsdt_mean, coltsre_mean, coltsle_mean])\n",
    "coltsdl_mean"
   ]
  },
  {
   "cell_type": "code",
   "execution_count": 289,
   "metadata": {},
   "outputs": [
    {
     "name": "stdout",
     "output_type": "stream",
     "text": [
      "68.29469166666667 66.54115 71.5751 66.767825\n"
     ]
    }
   ],
   "source": [
    "coltsmlb = colts[colts['Position'] == 'MLB']\n",
    "coltsrolb = colts[colts['Position'] == 'ROLB']\n",
    "coltslolb = colts[colts['Position'] == 'LOLB']\n",
    "coltsmlb['Predicted Rating'] = modelmlb(coltsmlb)\n",
    "coltsrolb['Predicted Rating'] = modelrolb(coltsrolb)\n",
    "coltslolb['Predicted Rating'] = modellolb(coltslolb)\n",
    "coltsmlb_mean = np.mean(coltsmlb['Predicted Rating'])\n",
    "coltsrolb_mean = np.mean(coltsrolb['Predicted Rating'])\n",
    "coltslolb_mean = np.mean(coltslolb['Predicted Rating'])\n",
    "coltslb_mean = np.mean([coltsmlb_mean, coltsrolb_mean, coltslolb_mean])\n",
    "print(coltslb_mean, coltsmlb_mean, coltslolb_mean, coltsrolb_mean) "
   ]
  },
  {
   "cell_type": "code",
   "execution_count": 290,
   "metadata": {},
   "outputs": [
    {
     "name": "stdout",
     "output_type": "stream",
     "text": [
      "72.67332777777777 69.21815 71.22593333333333 77.57589999999999\n"
     ]
    }
   ],
   "source": [
    "coltscb = colts[colts['Position'] == 'CB']\n",
    "coltsfs = colts[colts['Position'] == 'FS']\n",
    "coltsss = colts[colts['Position'] == 'SS']\n",
    "coltscb['Predicted Rating'] = modelcb(coltscb)\n",
    "coltsss['Predicted Rating'] = modelss(coltsss)\n",
    "coltsfs['Predicted Rating'] = modelfs(coltsfs)\n",
    "coltsss_mean = np.mean(coltsss['Predicted Rating'])\n",
    "coltscb_mean = np.mean(coltscb['Predicted Rating'])\n",
    "coltsfs_mean = np.mean(coltsfs['Predicted Rating'])\n",
    "coltssecondary_mean = np.mean([coltscb_mean, coltsss_mean, coltsfs_mean])\n",
    "print(coltssecondary_mean, coltscb_mean, coltsfs_mean, coltsss_mean) "
   ]
  },
  {
   "cell_type": "code",
   "execution_count": 292,
   "metadata": {},
   "outputs": [
    {
     "data": {
      "text/plain": [
       "71.49853870370372"
      ]
     },
     "execution_count": 292,
     "metadata": {},
     "output_type": "execute_result"
    }
   ],
   "source": [
    "colts_defense_mean = np.mean([coltslb_mean, coltsdl_mean, coltssecondary_mean])\n",
    "colts_defense_mean"
   ]
  },
  {
   "cell_type": "code",
   "execution_count": 294,
   "metadata": {},
   "outputs": [],
   "source": [
    "colts['lb_mean'] = coltslb_mean\n",
    "colts['dl_mean'] = coltsdl_mean\n",
    "colts['secondary_mean'] = coltssecondary_mean\n",
    "colts['defense_rating'] = colts_defense_mean"
   ]
  },
  {
   "cell_type": "code",
   "execution_count": 295,
   "metadata": {},
   "outputs": [
    {
     "data": {
      "text/plain": [
       "74.77590000000001"
      ]
     },
     "execution_count": 295,
     "metadata": {},
     "output_type": "execute_result"
    }
   ],
   "source": [
    "titansdt = titans[titans['Position'] == 'DT']\n",
    "titansre = titans[titans['Position'] == 'RE']\n",
    "titansle = titans[titans['Position'] == 'LE']\n",
    "titansdt['Predicted Rating'] = modeldt(titansdt)\n",
    "titansre['Predicted Rating'] = modelre(titansre)\n",
    "titansle['Predicted Rating'] = modelle(titansle)\n",
    "titansdt_mean = np.mean(titansdt['Predicted Rating'])\n",
    "titansre_mean = np.mean(titansre['Predicted Rating'])\n",
    "titansle_mean = np.mean(titansle['Predicted Rating'])\n",
    "titansdl_mean = np.mean([titansdt_mean, titansre_mean, titansle_mean])\n",
    "titansdl_mean"
   ]
  },
  {
   "cell_type": "code",
   "execution_count": 296,
   "metadata": {},
   "outputs": [
    {
     "name": "stdout",
     "output_type": "stream",
     "text": [
      "69.76270357142857 68.28978571428571 71.5751 69.423225\n"
     ]
    }
   ],
   "source": [
    "titansmlb = titans[titans['Position'] == 'MLB']\n",
    "titansrolb = titans[titans['Position'] == 'ROLB']\n",
    "titanslolb = colts[colts['Position'] == 'LOLB']\n",
    "titansmlb['Predicted Rating'] = modelmlb(titansmlb)\n",
    "titansrolb['Predicted Rating'] = modelrolb(titansrolb)\n",
    "titanslolb['Predicted Rating'] = modellolb(titanslolb)\n",
    "titansmlb_mean = np.mean(titansmlb['Predicted Rating'])\n",
    "titansrolb_mean = np.mean(titansrolb['Predicted Rating'])\n",
    "titanslolb_mean = np.mean(titanslolb['Predicted Rating'])\n",
    "titanslb_mean = np.mean([titansmlb_mean, titansrolb_mean, titanslolb_mean])\n",
    "print(titanslb_mean, titansmlb_mean, titanslolb_mean, titansrolb_mean) "
   ]
  },
  {
   "cell_type": "code",
   "execution_count": 298,
   "metadata": {},
   "outputs": [
    {
     "name": "stdout",
     "output_type": "stream",
     "text": [
      "72.0346 71.71353333333333 74.83946666666667 69.5508\n"
     ]
    }
   ],
   "source": [
    "titanscb = titans[titans['Position'] == 'CB']\n",
    "titansfs = titans[titans['Position'] == 'FS']\n",
    "titansss = titans[titans['Position'] == 'SS']\n",
    "titanscb['Predicted Rating'] = modelcb(titanscb)\n",
    "titansss['Predicted Rating'] = modelss(titansss)\n",
    "titansfs['Predicted Rating'] = modelfs(titansfs)\n",
    "titansss_mean = np.mean(titansss['Predicted Rating'])\n",
    "titanscb_mean = np.mean(titanscb['Predicted Rating'])\n",
    "titansfs_mean = np.mean(titansfs['Predicted Rating'])\n",
    "titanssecondary_mean = np.mean([titanscb_mean, titansss_mean, titansfs_mean])\n",
    "print(titanssecondary_mean, titanscb_mean, titansfs_mean, titansss_mean) "
   ]
  },
  {
   "cell_type": "code",
   "execution_count": 299,
   "metadata": {},
   "outputs": [
    {
     "data": {
      "text/plain": [
       "72.19106785714285"
      ]
     },
     "execution_count": 299,
     "metadata": {},
     "output_type": "execute_result"
    }
   ],
   "source": [
    "titans_defense_mean = np.mean([titanslb_mean, titansdl_mean, titansecondary_mean])\n",
    "titans_defense_mean"
   ]
  },
  {
   "cell_type": "code",
   "execution_count": 300,
   "metadata": {},
   "outputs": [],
   "source": [
    "titans['lb_mean'] = titanslb_mean\n",
    "titans['dl_mean'] = titansdl_mean\n",
    "titans['secondary_mean'] = titanssecondary_mean\n",
    "titans['defense_rating'] = titans_defense_mean"
   ]
  },
  {
   "cell_type": "code",
   "execution_count": 301,
   "metadata": {},
   "outputs": [
    {
     "data": {
      "text/plain": [
       "72.22613333333335"
      ]
     },
     "execution_count": 301,
     "metadata": {},
     "output_type": "execute_result"
    }
   ],
   "source": [
    "jaguarsdt = jaguars[jaguars['Position'] == 'DT']\n",
    "jaguarsre = jaguars[jaguars['Position'] == 'RE']\n",
    "jaguarsle = jaguars[jaguars['Position'] == 'LE']\n",
    "jaguarsdt['Predicted Rating'] = modeldt(jaguarsdt)\n",
    "jaguarsre['Predicted Rating'] = modelre(jaguarsre)\n",
    "jaguarsle['Predicted Rating'] = modelle(jaguarsle)\n",
    "jaguarsdt_mean = np.mean(jaguarsdt['Predicted Rating'])\n",
    "jaguarsre_mean = np.mean(jaguarsre['Predicted Rating'])\n",
    "jaguarsle_mean = np.mean(jaguarsle['Predicted Rating'])\n",
    "jaguarsdl_mean = np.mean([jaguarsdt_mean, jaguarsre_mean, jaguarsle_mean])\n",
    "jaguarsdl_mean"
   ]
  },
  {
   "cell_type": "code",
   "execution_count": 302,
   "metadata": {},
   "outputs": [
    {
     "name": "stdout",
     "output_type": "stream",
     "text": [
      "68.56105555555554 63.49629999999999 69.61293333333333 72.57393333333333\n"
     ]
    }
   ],
   "source": [
    "jaguarsmlb = jaguars[jaguars['Position'] == 'MLB']\n",
    "jaguarsrolb = jaguars[jaguars['Position'] == 'ROLB']\n",
    "jaguarslolb = jaguars[jaguars['Position'] == 'LOLB']\n",
    "jaguarsmlb['Predicted Rating'] = modelmlb(jaguarsmlb)\n",
    "jaguarsrolb['Predicted Rating'] = modelrolb(jaguarsrolb)\n",
    "jaguarslolb['Predicted Rating'] = modellolb(jaguarslolb)\n",
    "jaguarsmlb_mean = np.mean(jaguarsmlb['Predicted Rating'])\n",
    "jaguarsrolb_mean = np.mean(jaguarsrolb['Predicted Rating'])\n",
    "jaguarslolb_mean = np.mean(jaguarslolb['Predicted Rating'])\n",
    "jaguarslb_mean = np.mean([jaguarsmlb_mean, jaguarsrolb_mean, jaguarslolb_mean])\n",
    "print(jaguarslb_mean, jaguarsmlb_mean, jaguarslolb_mean, jaguarsrolb_mean) "
   ]
  },
  {
   "cell_type": "code",
   "execution_count": 303,
   "metadata": {},
   "outputs": [
    {
     "name": "stdout",
     "output_type": "stream",
     "text": [
      "74.69853055555556 72.99312499999999 76.5604 74.54206666666666\n"
     ]
    }
   ],
   "source": [
    "jaguarscb = jaguars[jaguars['Position'] == 'CB']\n",
    "jaguarsfs = jaguars[jaguars['Position'] == 'FS']\n",
    "jaguarsss = jaguars[jaguars['Position'] == 'SS']\n",
    "jaguarscb['Predicted Rating'] = modelcb(jaguarscb)\n",
    "jaguarsss['Predicted Rating'] = modelss(jaguarsss)\n",
    "jaguarsfs['Predicted Rating'] = modelfs(jaguarsfs)\n",
    "jaguarsss_mean = np.mean(jaguarsss['Predicted Rating'])\n",
    "jaguarscb_mean = np.mean(jaguarscb['Predicted Rating'])\n",
    "jaguarsfs_mean = np.mean(jaguarsfs['Predicted Rating'])\n",
    "jaguarssecondary_mean = np.mean([jaguarscb_mean, jaguarsss_mean, jaguarsfs_mean])\n",
    "print(jaguarssecondary_mean, jaguarscb_mean, jaguarsfs_mean, jaguarsss_mean) "
   ]
  },
  {
   "cell_type": "code",
   "execution_count": 304,
   "metadata": {},
   "outputs": [
    {
     "data": {
      "text/plain": [
       "71.82857314814815"
      ]
     },
     "execution_count": 304,
     "metadata": {},
     "output_type": "execute_result"
    }
   ],
   "source": [
    "jaguars_defense_mean = np.mean([jaguarslb_mean, jaguarsdl_mean, jaguarssecondary_mean])\n",
    "jaguars_defense_mean"
   ]
  },
  {
   "cell_type": "code",
   "execution_count": 305,
   "metadata": {},
   "outputs": [],
   "source": [
    "jaguars['lb_mean'] = jaguarslb_mean\n",
    "jaguars['dl_mean'] = jaguarsdl_mean\n",
    "jaguars['secondary_mean'] = jaguarssecondary_mean\n",
    "jaguars['defense_rating'] = jaguars_defense_mean"
   ]
  },
  {
   "cell_type": "code",
   "execution_count": 306,
   "metadata": {},
   "outputs": [],
   "source": [
    "afc_south_defense = pd.concat([texans, colts, titans, jaguars])"
   ]
  },
  {
   "cell_type": "code",
   "execution_count": 307,
   "metadata": {},
   "outputs": [],
   "source": [
    "##AFC WEST"
   ]
  },
  {
   "cell_type": "code",
   "execution_count": 308,
   "metadata": {},
   "outputs": [
    {
     "data": {
      "text/plain": [
       "72.68711666666667"
      ]
     },
     "execution_count": 308,
     "metadata": {},
     "output_type": "execute_result"
    }
   ],
   "source": [
    "broncosdt = broncos[broncos['Position'] == 'DT']\n",
    "broncosre = broncos[broncos['Position'] == 'RE']\n",
    "broncosle = broncos[broncos['Position'] == 'LE']\n",
    "broncosdt['Predicted Rating'] = modeldt(broncosdt)\n",
    "broncosre['Predicted Rating'] = modelre(broncosre)\n",
    "broncosle['Predicted Rating'] = modelle(broncosle)\n",
    "broncosdt_mean = np.mean(broncosdt['Predicted Rating'])\n",
    "broncosre_mean = np.mean(broncosre['Predicted Rating'])\n",
    "broncosle_mean = np.mean(broncosle['Predicted Rating'])\n",
    "broncosdl_mean = np.mean([broncosdt_mean, broncosre_mean, broncosle_mean])\n",
    "broncosdl_mean"
   ]
  },
  {
   "cell_type": "code",
   "execution_count": 309,
   "metadata": {},
   "outputs": [
    {
     "name": "stdout",
     "output_type": "stream",
     "text": [
      "72.20451666666668 69.05398333333333 72.3028 75.25676666666668\n"
     ]
    }
   ],
   "source": [
    "broncosmlb = broncos[broncos['Position'] == 'MLB']\n",
    "broncosrolb = broncos[broncos['Position'] == 'ROLB']\n",
    "broncoslolb = broncos[broncos['Position'] == 'LOLB']\n",
    "broncosmlb['Predicted Rating'] = modelmlb(broncosmlb)\n",
    "broncosrolb['Predicted Rating'] = modelrolb(broncosrolb)\n",
    "broncoslolb['Predicted Rating'] = modellolb(broncoslolb)\n",
    "broncosmlb_mean = np.mean(broncosmlb['Predicted Rating'])\n",
    "broncosrolb_mean = np.mean(broncosrolb['Predicted Rating'])\n",
    "broncoslolb_mean = np.mean(broncoslolb['Predicted Rating'])\n",
    "broncoslb_mean = np.mean([broncosmlb_mean, broncosrolb_mean, broncoslolb_mean])\n",
    "print(broncoslb_mean, broncosmlb_mean, broncoslolb_mean, broncosrolb_mean) "
   ]
  },
  {
   "cell_type": "code",
   "execution_count": 310,
   "metadata": {},
   "outputs": [
    {
     "name": "stdout",
     "output_type": "stream",
     "text": [
      "72.70877777777777 71.6296 72.51099999999998 73.98573333333333\n"
     ]
    }
   ],
   "source": [
    "broncoscb = broncos[broncos['Position'] == 'CB']\n",
    "broncosfs = broncos[broncos['Position'] == 'FS']\n",
    "broncosss = broncos[broncos['Position'] == 'SS']\n",
    "broncoscb['Predicted Rating'] = modelcb(broncoscb)\n",
    "broncosss['Predicted Rating'] = modelss(broncosss)\n",
    "broncosfs['Predicted Rating'] = modelfs(broncosfs)\n",
    "broncosss_mean = np.mean(broncosss['Predicted Rating'])\n",
    "broncoscb_mean = np.mean(broncoscb['Predicted Rating'])\n",
    "broncosfs_mean = np.mean(broncosfs['Predicted Rating'])\n",
    "broncossecondary_mean = np.mean([broncoscb_mean, broncosss_mean, broncosfs_mean])\n",
    "print(broncossecondary_mean, broncoscb_mean, broncosfs_mean, broncosss_mean) "
   ]
  },
  {
   "cell_type": "code",
   "execution_count": 311,
   "metadata": {},
   "outputs": [
    {
     "data": {
      "text/plain": [
       "72.53347037037037"
      ]
     },
     "execution_count": 311,
     "metadata": {},
     "output_type": "execute_result"
    }
   ],
   "source": [
    "broncos_defense_mean = np.mean([broncoslb_mean, broncosdl_mean, broncossecondary_mean])\n",
    "broncos_defense_mean"
   ]
  },
  {
   "cell_type": "code",
   "execution_count": 312,
   "metadata": {},
   "outputs": [],
   "source": [
    "broncos['lb_mean'] = broncoslb_mean\n",
    "broncos['dl_mean'] = broncosdl_mean\n",
    "broncos['secondary_mean'] = broncossecondary_mean\n",
    "broncos['defense_rating'] = broncos_defense_mean"
   ]
  },
  {
   "cell_type": "code",
   "execution_count": 313,
   "metadata": {},
   "outputs": [
    {
     "data": {
      "text/plain": [
       "71.8425388888889"
      ]
     },
     "execution_count": 313,
     "metadata": {},
     "output_type": "execute_result"
    }
   ],
   "source": [
    "chargersdt = chargers[chargers['Position'] == 'DT']\n",
    "chargersre = chargers[chargers['Position'] == 'RE']\n",
    "chargersle = chargers[chargers['Position'] == 'LE']\n",
    "chargersdt['Predicted Rating'] = modeldt(chargersdt)\n",
    "chargersre['Predicted Rating'] = modelre(chargersre)\n",
    "chargersle['Predicted Rating'] = modelle(chargersle)\n",
    "chargersdt_mean = np.mean(chargersdt['Predicted Rating'])\n",
    "chargersre_mean = np.mean(chargersre['Predicted Rating'])\n",
    "chargersle_mean = np.mean(chargersle['Predicted Rating'])\n",
    "chargersdl_mean = np.mean([chargersdt_mean, chargersre_mean, chargersle_mean])\n",
    "chargersdl_mean"
   ]
  },
  {
   "cell_type": "code",
   "execution_count": 314,
   "metadata": {},
   "outputs": [
    {
     "name": "stdout",
     "output_type": "stream",
     "text": [
      "67.90785555555556 62.40293333333333 68.32393333333333 72.99669999999999\n"
     ]
    }
   ],
   "source": [
    "chargersmlb = chargers[chargers['Position'] == 'MLB']\n",
    "chargersrolb = chargers[chargers['Position'] == 'ROLB']\n",
    "chargerslolb = chargers[chargers['Position'] == 'LOLB']\n",
    "chargersmlb['Predicted Rating'] = modelmlb(chargersmlb)\n",
    "chargersrolb['Predicted Rating'] = modelrolb(chargersrolb)\n",
    "chargerslolb['Predicted Rating'] = modellolb(chargerslolb)\n",
    "chargersmlb_mean = np.mean(chargersmlb['Predicted Rating'])\n",
    "chargersrolb_mean = np.mean(chargersrolb['Predicted Rating'])\n",
    "chargerslolb_mean = np.mean(chargerslolb['Predicted Rating'])\n",
    "chargerslb_mean = np.mean([chargersmlb_mean, chargersrolb_mean, chargerslolb_mean])\n",
    "print(chargerslb_mean, chargersmlb_mean, chargerslolb_mean, chargersrolb_mean) "
   ]
  },
  {
   "cell_type": "code",
   "execution_count": 315,
   "metadata": {},
   "outputs": [
    {
     "name": "stdout",
     "output_type": "stream",
     "text": [
      "74.67312083333333 75.9570625 78.6308 69.4315\n"
     ]
    }
   ],
   "source": [
    "chargerscb = chargers[chargers['Position'] == 'CB']\n",
    "chargersfs = chargers[chargers['Position'] == 'FS']\n",
    "chargersss = chargers[chargers['Position'] == 'SS']\n",
    "chargerscb['Predicted Rating'] = modelcb(chargerscb)\n",
    "chargersss['Predicted Rating'] = modelss(chargersss)\n",
    "chargersfs['Predicted Rating'] = modelfs(chargersfs)\n",
    "chargersss_mean = np.mean(chargersss['Predicted Rating'])\n",
    "chargerscb_mean = np.mean(chargerscb['Predicted Rating'])\n",
    "chargersfs_mean = np.mean(chargersfs['Predicted Rating'])\n",
    "chargerssecondary_mean = np.mean([chargerscb_mean, chargersss_mean, chargersfs_mean])\n",
    "print(chargerssecondary_mean, chargerscb_mean, chargersfs_mean, chargersss_mean) "
   ]
  },
  {
   "cell_type": "code",
   "execution_count": 316,
   "metadata": {},
   "outputs": [
    {
     "data": {
      "text/plain": [
       "71.4745050925926"
      ]
     },
     "execution_count": 316,
     "metadata": {},
     "output_type": "execute_result"
    }
   ],
   "source": [
    "chargers_defense_mean = np.mean([chargerslb_mean, chargersdl_mean, chargerssecondary_mean])\n",
    "chargers_defense_mean"
   ]
  },
  {
   "cell_type": "code",
   "execution_count": 317,
   "metadata": {},
   "outputs": [],
   "source": [
    "chargers['lb_mean'] = chargerslb_mean\n",
    "chargers['dl_mean'] = chargersdl_mean\n",
    "chargers['secondary_mean'] = chargerssecondary_mean\n",
    "chargers['defense_rating'] = chargers_defense_mean"
   ]
  },
  {
   "cell_type": "code",
   "execution_count": 319,
   "metadata": {},
   "outputs": [
    {
     "data": {
      "text/plain": [
       "70.49980555555555"
      ]
     },
     "execution_count": 319,
     "metadata": {},
     "output_type": "execute_result"
    }
   ],
   "source": [
    "chiefsdt = chiefs[chiefs['Position'] == 'DT']\n",
    "chiefsre = chiefs[chiefs['Position'] == 'RE']\n",
    "chiefsle = chiefs[chiefs['Position'] == 'LE']\n",
    "chiefsdt['Predicted Rating'] = modeldt(chiefsdt)\n",
    "chiefsre['Predicted Rating'] = modelre(chiefsre)\n",
    "chiefsle['Predicted Rating'] = modelle(chiefsle)\n",
    "chiefsdt_mean = np.mean(chiefsdt['Predicted Rating'])\n",
    "chiefsre_mean = np.mean(chiefsre['Predicted Rating'])\n",
    "chiefsle_mean = np.mean(chiefsle['Predicted Rating'])\n",
    "chiefsdl_mean = np.mean([chiefsdt_mean, chiefsre_mean, chiefsle_mean])\n",
    "chiefsdl_mean"
   ]
  },
  {
   "cell_type": "code",
   "execution_count": 320,
   "metadata": {},
   "outputs": [
    {
     "name": "stdout",
     "output_type": "stream",
     "text": [
      "71.56831666666666 67.33706666666666 76.52645000000001 70.84143333333333\n"
     ]
    }
   ],
   "source": [
    "chiefsmlb = chiefs[chiefs['Position'] == 'MLB']\n",
    "chiefsrolb = chiefs[chiefs['Position'] == 'ROLB']\n",
    "chiefslolb = chiefs[chiefs['Position'] == 'LOLB']\n",
    "chiefsmlb['Predicted Rating'] = modelmlb(chiefsmlb)\n",
    "chiefsrolb['Predicted Rating'] = modelrolb(chiefsrolb)\n",
    "chiefslolb['Predicted Rating'] = modellolb(chiefslolb)\n",
    "chiefsmlb_mean = np.mean(chiefsmlb['Predicted Rating'])\n",
    "chiefsrolb_mean = np.mean(chiefsrolb['Predicted Rating'])\n",
    "chiefslolb_mean = np.mean(chiefslolb['Predicted Rating'])\n",
    "chiefslb_mean = np.mean([chiefsmlb_mean, chiefsrolb_mean, chiefslolb_mean])\n",
    "print(chiefslb_mean, chiefsmlb_mean, chiefslolb_mean, chiefsrolb_mean) "
   ]
  },
  {
   "cell_type": "code",
   "execution_count": 321,
   "metadata": {},
   "outputs": [
    {
     "name": "stdout",
     "output_type": "stream",
     "text": [
      "71.7370125 69.82436249999999 69.77275 75.613925\n"
     ]
    }
   ],
   "source": [
    "chiefscb = chiefs[chiefs['Position'] == 'CB']\n",
    "chiefsfs = chiefs[chiefs['Position'] == 'FS']\n",
    "chiefsss = chiefs[chiefs['Position'] == 'SS']\n",
    "chiefscb['Predicted Rating'] = modelcb(chiefscb)\n",
    "chiefsss['Predicted Rating'] = modelss(chiefsss)\n",
    "chiefsfs['Predicted Rating'] = modelfs(chiefsfs)\n",
    "chiefsss_mean = np.mean(chiefsss['Predicted Rating'])\n",
    "chiefscb_mean = np.mean(chiefscb['Predicted Rating'])\n",
    "chiefsfs_mean = np.mean(chiefsfs['Predicted Rating'])\n",
    "chiefssecondary_mean = np.mean([chiefscb_mean, chiefsss_mean, chiefsfs_mean])\n",
    "print(chiefssecondary_mean, chiefscb_mean, chiefsfs_mean, chiefsss_mean) "
   ]
  },
  {
   "cell_type": "code",
   "execution_count": 328,
   "metadata": {},
   "outputs": [
    {
     "data": {
      "text/plain": [
       "71.26837824074073"
      ]
     },
     "execution_count": 328,
     "metadata": {},
     "output_type": "execute_result"
    }
   ],
   "source": [
    "chiefs_defense_mean = np.mean([chiefslb_mean, chiefsdl_mean, chiefssecondary_mean])\n",
    "chiefs_defense_mean"
   ]
  },
  {
   "cell_type": "code",
   "execution_count": 329,
   "metadata": {},
   "outputs": [],
   "source": [
    "chiefs['lb_mean'] = chiefslb_mean\n",
    "chiefs['dl_mean'] = chiefsdl_mean\n",
    "chiefs['secondary_mean'] = chiefssecondary_mean\n",
    "chiefs['defense_rating'] = chiefs_defense_mean"
   ]
  },
  {
   "cell_type": "code",
   "execution_count": 323,
   "metadata": {},
   "outputs": [
    {
     "data": {
      "text/plain": [
       "75.40517361111111"
      ]
     },
     "execution_count": 323,
     "metadata": {},
     "output_type": "execute_result"
    }
   ],
   "source": [
    "raidersdt = raiders[raiders['Position'] == 'DT']\n",
    "raidersre = raiders[raiders['Position'] == 'RE']\n",
    "raidersle = raiders[raiders['Position'] == 'LE']\n",
    "raidersdt['Predicted Rating'] = modeldt(raidersdt)\n",
    "raidersre['Predicted Rating'] = modelre(raidersre)\n",
    "raidersle['Predicted Rating'] = modelle(raidersle)\n",
    "raidersdt_mean = np.mean(raidersdt['Predicted Rating'])\n",
    "raidersre_mean = np.mean(raidersre['Predicted Rating'])\n",
    "raidersle_mean = np.mean(raidersle['Predicted Rating'])\n",
    "raidersdl_mean = np.mean([raidersdt_mean, raidersre_mean, raidersle_mean])\n",
    "raidersdl_mean"
   ]
  },
  {
   "cell_type": "code",
   "execution_count": 324,
   "metadata": {},
   "outputs": [
    {
     "name": "stdout",
     "output_type": "stream",
     "text": [
      "71.73146666666666 70.21196666666665 72.41963333333332 72.5628\n"
     ]
    }
   ],
   "source": [
    "raidersmlb = raiders[raiders['Position'] == 'MLB']\n",
    "raidersrolb = raiders[raiders['Position'] == 'ROLB']\n",
    "raiderslolb = raiders[raiders['Position'] == 'LOLB']\n",
    "raidersmlb['Predicted Rating'] = modelmlb(raidersmlb)\n",
    "raidersrolb['Predicted Rating'] = modelrolb(raidersrolb)\n",
    "raiderslolb['Predicted Rating'] = modellolb(raiderslolb)\n",
    "raidersmlb_mean = np.mean(raidersmlb['Predicted Rating'])\n",
    "raidersrolb_mean = np.mean(raidersrolb['Predicted Rating'])\n",
    "raiderslolb_mean = np.mean(raiderslolb['Predicted Rating'])\n",
    "raiderslb_mean = np.mean([raidersmlb_mean, raidersrolb_mean, raiderslolb_mean])\n",
    "print(raiderslb_mean, raidersmlb_mean, raiderslolb_mean, raidersrolb_mean) "
   ]
  },
  {
   "cell_type": "code",
   "execution_count": 327,
   "metadata": {},
   "outputs": [
    {
     "name": "stdout",
     "output_type": "stream",
     "text": [
      "73.87368571428571 73.99675714285715 74.05156666666666 73.57273333333333\n"
     ]
    }
   ],
   "source": [
    "raiderscb = raiders[raiders['Position'] == 'CB']\n",
    "raidersfs = raiders[raiders['Position'] == 'FS']\n",
    "raidersss = raiders[raiders['Position'] == 'SS']\n",
    "raiderscb['Predicted Rating'] = modelcb(raiderscb)\n",
    "raidersss['Predicted Rating'] = modelss(raidersss)\n",
    "raidersfs['Predicted Rating'] = modelfs(raidersfs)\n",
    "raidersss_mean = np.mean(raidersss['Predicted Rating'])\n",
    "raiderscb_mean = np.mean(raiderscb['Predicted Rating'])\n",
    "raidersfs_mean = np.mean(raidersfs['Predicted Rating'])\n",
    "raiderssecondary_mean = np.mean([raiderscb_mean, raidersss_mean, raidersfs_mean])\n",
    "print(raiderssecondary_mean, raiderscb_mean, raidersfs_mean, raidersss_mean) "
   ]
  },
  {
   "cell_type": "code",
   "execution_count": 331,
   "metadata": {},
   "outputs": [
    {
     "data": {
      "text/plain": [
       "73.67010866402116"
      ]
     },
     "execution_count": 331,
     "metadata": {},
     "output_type": "execute_result"
    }
   ],
   "source": [
    "raiders_defense_mean = np.mean([raiderslb_mean, raidersdl_mean, raiderssecondary_mean])\n",
    "raiders_defense_mean"
   ]
  },
  {
   "cell_type": "code",
   "execution_count": 332,
   "metadata": {},
   "outputs": [],
   "source": [
    "raiders['lb_mean'] = raiderslb_mean\n",
    "raiders['dl_mean'] = raidersdl_mean\n",
    "raiders['secondary_mean'] = raiderssecondary_mean\n",
    "raiders['defense_rating'] = raiders_defense_mean"
   ]
  },
  {
   "cell_type": "code",
   "execution_count": 333,
   "metadata": {},
   "outputs": [],
   "source": [
    "afc_west_defense = pd.concat([broncos, chargers, chiefs, raiders], axis=0)"
   ]
  },
  {
   "cell_type": "code",
   "execution_count": 334,
   "metadata": {},
   "outputs": [],
   "source": [
    "#AFC EAST"
   ]
  },
  {
   "cell_type": "code",
   "execution_count": 335,
   "metadata": {},
   "outputs": [
    {
     "data": {
      "text/plain": [
       "77.26478666666667"
      ]
     },
     "execution_count": 335,
     "metadata": {},
     "output_type": "execute_result"
    }
   ],
   "source": [
    "patriotsdt = patriots[patriots['Position'] == 'DT']\n",
    "patriotsre = patriots[patriots['Position'] == 'RE']\n",
    "patriotsle = patriots[patriots['Position'] == 'LE']\n",
    "patriotsdt['Predicted Rating'] = modeldt(patriotsdt)\n",
    "patriotsre['Predicted Rating'] = modelre(patriotsre)\n",
    "patriotsle['Predicted Rating'] = modelle(patriotsle)\n",
    "patriotsdt_mean = np.mean(patriotsdt['Predicted Rating'])\n",
    "patriotsre_mean = np.mean(patriotsre['Predicted Rating'])\n",
    "patriotsle_mean = np.mean(patriotsle['Predicted Rating'])\n",
    "patriotsdl_mean = np.mean([patriotsdt_mean, patriotsre_mean, patriotsle_mean])\n",
    "patriotsdl_mean"
   ]
  },
  {
   "cell_type": "code",
   "execution_count": 336,
   "metadata": {},
   "outputs": [
    {
     "name": "stdout",
     "output_type": "stream",
     "text": [
      "68.62867222222224 64.58715000000001 69.68130000000001 71.61756666666666\n"
     ]
    }
   ],
   "source": [
    "patriotsmlb = patriots[patriots['Position'] == 'MLB']\n",
    "patriotsrolb = patriots[patriots['Position'] == 'ROLB']\n",
    "patriotslolb = patriots[patriots['Position'] == 'LOLB']\n",
    "patriotsmlb['Predicted Rating'] = modelmlb(patriotsmlb)\n",
    "patriotsrolb['Predicted Rating'] = modelrolb(patriotsrolb)\n",
    "patriotslolb['Predicted Rating'] = modellolb(patriotslolb)\n",
    "patriotsmlb_mean = np.mean(patriotsmlb['Predicted Rating'])\n",
    "patriotsrolb_mean = np.mean(patriotsrolb['Predicted Rating'])\n",
    "patriotslolb_mean = np.mean(patriotslolb['Predicted Rating'])\n",
    "patriotslb_mean = np.mean([patriotsmlb_mean, patriotsrolb_mean, patriotslolb_mean])\n",
    "print(patriotslb_mean, patriotsmlb_mean, patriotslolb_mean, patriotsrolb_mean) "
   ]
  },
  {
   "cell_type": "code",
   "execution_count": 337,
   "metadata": {},
   "outputs": [
    {
     "name": "stdout",
     "output_type": "stream",
     "text": [
      "75.46435555555557 73.99080000000001 78.86876666666667 73.5335\n"
     ]
    }
   ],
   "source": [
    "patriotscb = patriots[patriots['Position'] == 'CB']\n",
    "patriotsfs = patriots[patriots['Position'] == 'FS']\n",
    "patriotsss = patriots[patriots['Position'] == 'SS']\n",
    "patriotscb['Predicted Rating'] = modelcb(patriotscb)\n",
    "patriotsss['Predicted Rating'] = modelss(patriotsss)\n",
    "patriotsfs['Predicted Rating'] = modelfs(patriotsfs)\n",
    "patriotsss_mean = np.mean(patriotsss['Predicted Rating'])\n",
    "patriotscb_mean = np.mean(patriotscb['Predicted Rating'])\n",
    "patriotsfs_mean = np.mean(patriotsfs['Predicted Rating'])\n",
    "patriotssecondary_mean = np.mean([patriotscb_mean, patriotsss_mean, patriotsfs_mean])\n",
    "print(patriotssecondary_mean, patriotscb_mean, patriotsfs_mean, patriotsss_mean) "
   ]
  },
  {
   "cell_type": "code",
   "execution_count": 338,
   "metadata": {},
   "outputs": [
    {
     "data": {
      "text/plain": [
       "73.78593814814816"
      ]
     },
     "execution_count": 338,
     "metadata": {},
     "output_type": "execute_result"
    }
   ],
   "source": [
    "patriots_defense_mean = np.mean([patriotslb_mean, patriotsdl_mean, patriotssecondary_mean])\n",
    "patriots_defense_mean"
   ]
  },
  {
   "cell_type": "code",
   "execution_count": 339,
   "metadata": {},
   "outputs": [],
   "source": [
    "patriots['lb_mean'] = patriotslb_mean\n",
    "patriots['dl_mean'] = patriotsdl_mean\n",
    "patriots['secondary_mean'] = patriotssecondary_mean\n",
    "patriots['defense_rating'] = patriots_defense_mean"
   ]
  },
  {
   "cell_type": "code",
   "execution_count": 340,
   "metadata": {},
   "outputs": [
    {
     "data": {
      "text/plain": [
       "71.31901944444445"
      ]
     },
     "execution_count": 340,
     "metadata": {},
     "output_type": "execute_result"
    }
   ],
   "source": [
    "jetsdt = jets[jets['Position'] == 'DT']\n",
    "jetsre = jets[jets['Position'] == 'RE']\n",
    "jetsle = jets[jets['Position'] == 'LE']\n",
    "jetsdt['Predicted Rating'] = modeldt(jetsdt)\n",
    "jetsre['Predicted Rating'] = modelre(jetsre)\n",
    "jetsle['Predicted Rating'] = modelle(jetsle)\n",
    "jetsdt_mean = np.mean(jetsdt['Predicted Rating'])\n",
    "jetsre_mean = np.mean(jetsre['Predicted Rating'])\n",
    "jetsle_mean = np.mean(jetsle['Predicted Rating'])\n",
    "jetsdl_mean = np.mean([jetsdt_mean, jetsre_mean, jetsle_mean])\n",
    "jetsdl_mean"
   ]
  },
  {
   "cell_type": "code",
   "execution_count": 341,
   "metadata": {},
   "outputs": [
    {
     "name": "stdout",
     "output_type": "stream",
     "text": [
      "72.18913333333332 74.602525 74.568 67.396875\n"
     ]
    }
   ],
   "source": [
    "jetsmlb = jets[jets['Position'] == 'MLB']\n",
    "jetsrolb = jets[jets['Position'] == 'ROLB']\n",
    "jetslolb = jets[jets['Position'] == 'LOLB']\n",
    "jetsmlb['Predicted Rating'] = modelmlb(jetsmlb)\n",
    "jetsrolb['Predicted Rating'] = modelrolb(jetsrolb)\n",
    "jetslolb['Predicted Rating'] = modellolb(jetslolb)\n",
    "jetsmlb_mean = np.mean(jetsmlb['Predicted Rating'])\n",
    "jetsrolb_mean = np.mean(jetsrolb['Predicted Rating'])\n",
    "jetslolb_mean = np.mean(jetslolb['Predicted Rating'])\n",
    "jetslb_mean = np.mean([jetsmlb_mean, jetsrolb_mean, jetslolb_mean])\n",
    "print(jetslb_mean, jetsmlb_mean, jetslolb_mean, jetsrolb_mean) "
   ]
  },
  {
   "cell_type": "code",
   "execution_count": 342,
   "metadata": {},
   "outputs": [
    {
     "name": "stdout",
     "output_type": "stream",
     "text": [
      "71.44592592592592 70.7630111111111 70.40516666666666 73.1696\n"
     ]
    }
   ],
   "source": [
    "jetscb = jets[jets['Position'] == 'CB']\n",
    "jetsfs = jets[jets['Position'] == 'FS']\n",
    "jetsss = jets[jets['Position'] == 'SS']\n",
    "jetscb['Predicted Rating'] = modelcb(jetscb)\n",
    "jetsss['Predicted Rating'] = modelss(jetsss)\n",
    "jetsfs['Predicted Rating'] = modelfs(jetsfs)\n",
    "jetsss_mean = np.mean(jetsss['Predicted Rating'])\n",
    "jetscb_mean = np.mean(jetscb['Predicted Rating'])\n",
    "jetsfs_mean = np.mean(jetsfs['Predicted Rating'])\n",
    "jetssecondary_mean = np.mean([jetscb_mean, jetsss_mean, jetsfs_mean])\n",
    "print(jetssecondary_mean, jetscb_mean, jetsfs_mean, jetsss_mean) "
   ]
  },
  {
   "cell_type": "code",
   "execution_count": 343,
   "metadata": {},
   "outputs": [
    {
     "data": {
      "text/plain": [
       "71.65135956790122"
      ]
     },
     "execution_count": 343,
     "metadata": {},
     "output_type": "execute_result"
    }
   ],
   "source": [
    "jets_defense_mean = np.mean([jetslb_mean, jetsdl_mean, jetssecondary_mean])\n",
    "jets_defense_mean"
   ]
  },
  {
   "cell_type": "code",
   "execution_count": 344,
   "metadata": {},
   "outputs": [],
   "source": [
    "jets['lb_mean'] = jetslb_mean\n",
    "jets['dl_mean'] = jetsdl_mean\n",
    "jets['secondary_mean'] = jetssecondary_mean\n",
    "jets['defense_rating'] = jets_defense_mean"
   ]
  },
  {
   "cell_type": "code",
   "execution_count": 346,
   "metadata": {},
   "outputs": [
    {
     "data": {
      "text/plain": [
       "71.95788222222222"
      ]
     },
     "execution_count": 346,
     "metadata": {},
     "output_type": "execute_result"
    }
   ],
   "source": [
    "dolphinsdt = dolphins[dolphins['Position'] == 'DT']\n",
    "dolphinsre = dolphins[dolphins['Position'] == 'RE']\n",
    "dolphinsle = dolphins[dolphins['Position'] == 'LE']\n",
    "dolphinsdt['Predicted Rating'] = modeldt(dolphinsdt)\n",
    "dolphinsre['Predicted Rating'] = modelre(dolphinsre)\n",
    "dolphinsle['Predicted Rating'] = modelle(dolphinsle)\n",
    "dolphinsdt_mean = np.mean(dolphinsdt['Predicted Rating'])\n",
    "dolphinsre_mean = np.mean(dolphinsre['Predicted Rating'])\n",
    "dolphinsle_mean = np.mean(dolphinsle['Predicted Rating'])\n",
    "dolphinsdl_mean = np.mean([dolphinsdt_mean, dolphinsre_mean, dolphinsle_mean])\n",
    "dolphinsdl_mean"
   ]
  },
  {
   "cell_type": "code",
   "execution_count": 347,
   "metadata": {},
   "outputs": [
    {
     "name": "stdout",
     "output_type": "stream",
     "text": [
      "68.13211388888888 68.02736666666665 68.13165000000001 68.237325\n"
     ]
    }
   ],
   "source": [
    "dolphinsmlb = dolphins[dolphins['Position'] == 'MLB']\n",
    "dolphinsrolb = dolphins[dolphins['Position'] == 'ROLB']\n",
    "dolphinslolb = dolphins[dolphins['Position'] == 'LOLB']\n",
    "dolphinsmlb['Predicted Rating'] = modelmlb(dolphinsmlb)\n",
    "dolphinsrolb['Predicted Rating'] = modelrolb(dolphinsrolb)\n",
    "dolphinslolb['Predicted Rating'] = modellolb(dolphinslolb)\n",
    "dolphinsmlb_mean = np.mean(dolphinsmlb['Predicted Rating'])\n",
    "dolphinsrolb_mean = np.mean(dolphinsrolb['Predicted Rating'])\n",
    "dolphinslolb_mean = np.mean(dolphinslolb['Predicted Rating'])\n",
    "dolphinslb_mean = np.mean([dolphinsmlb_mean, dolphinsrolb_mean, dolphinslolb_mean])\n",
    "print(dolphinslb_mean, dolphinsmlb_mean, dolphinslolb_mean, dolphinsrolb_mean) "
   ]
  },
  {
   "cell_type": "code",
   "execution_count": 348,
   "metadata": {},
   "outputs": [
    {
     "name": "stdout",
     "output_type": "stream",
     "text": [
      "71.80733222222223 70.43923000000001 72.0608 72.92196666666666\n"
     ]
    }
   ],
   "source": [
    "dolphinscb = dolphins[dolphins['Position'] == 'CB']\n",
    "dolphinsfs = dolphins[dolphins['Position'] == 'FS']\n",
    "dolphinsss = dolphins[dolphins['Position'] == 'SS']\n",
    "dolphinscb['Predicted Rating'] = modelcb(dolphinscb)\n",
    "dolphinsss['Predicted Rating'] = modelss(dolphinsss)\n",
    "dolphinsfs['Predicted Rating'] = modelfs(dolphinsfs)\n",
    "dolphinsss_mean = np.mean(dolphinsss['Predicted Rating'])\n",
    "dolphinscb_mean = np.mean(dolphinscb['Predicted Rating'])\n",
    "dolphinsfs_mean = np.mean(dolphinsfs['Predicted Rating'])\n",
    "dolphinssecondary_mean = np.mean([dolphinscb_mean, dolphinsss_mean, dolphinsfs_mean])\n",
    "print(dolphinssecondary_mean, dolphinscb_mean, dolphinsfs_mean, dolphinsss_mean) "
   ]
  },
  {
   "cell_type": "code",
   "execution_count": 349,
   "metadata": {},
   "outputs": [
    {
     "data": {
      "text/plain": [
       "70.63244277777778"
      ]
     },
     "execution_count": 349,
     "metadata": {},
     "output_type": "execute_result"
    }
   ],
   "source": [
    "dolphins_defense_mean = np.mean([dolphinslb_mean, dolphinsdl_mean, dolphinssecondary_mean])\n",
    "dolphins_defense_mean"
   ]
  },
  {
   "cell_type": "code",
   "execution_count": 350,
   "metadata": {},
   "outputs": [],
   "source": [
    "dolphins['lb_mean'] = dolphinslb_mean\n",
    "dolphins['dl_mean'] = dolphinsdl_mean\n",
    "dolphins['secondary_mean'] = dolphinssecondary_mean\n",
    "dolphins['defense_rating'] = dolphins_defense_mean"
   ]
  },
  {
   "cell_type": "code",
   "execution_count": 351,
   "metadata": {},
   "outputs": [
    {
     "data": {
      "text/plain": [
       "72.11118333333333"
      ]
     },
     "execution_count": 351,
     "metadata": {},
     "output_type": "execute_result"
    }
   ],
   "source": [
    "billsdt = bills[bills['Position'] == 'DT']\n",
    "billsre = bills[bills['Position'] == 'RE']\n",
    "billsle = bills[bills['Position'] == 'LE']\n",
    "billsdt['Predicted Rating'] = modeldt(billsdt)\n",
    "billsre['Predicted Rating'] = modelre(billsre)\n",
    "billsle['Predicted Rating'] = modelle(billsle)\n",
    "billsdt_mean = np.mean(billsdt['Predicted Rating'])\n",
    "billsre_mean = np.mean(billsre['Predicted Rating'])\n",
    "billsle_mean = np.mean(billsle['Predicted Rating'])\n",
    "billsdl_mean = np.mean([billsdt_mean, billsre_mean, billsle_mean])\n",
    "billsdl_mean"
   ]
  },
  {
   "cell_type": "code",
   "execution_count": 352,
   "metadata": {},
   "outputs": [
    {
     "name": "stdout",
     "output_type": "stream",
     "text": [
      "70.62671666666667 65.45586666666667 72.70985 73.71443333333333\n"
     ]
    }
   ],
   "source": [
    "billsmlb = bills[bills['Position'] == 'MLB']\n",
    "billsrolb = bills[bills['Position'] == 'ROLB']\n",
    "billslolb = bills[bills['Position'] == 'LOLB']\n",
    "billsmlb['Predicted Rating'] = modelmlb(billsmlb)\n",
    "billsrolb['Predicted Rating'] = modelrolb(billsrolb)\n",
    "billslolb['Predicted Rating'] = modellolb(billslolb)\n",
    "billsmlb_mean = np.mean(billsmlb['Predicted Rating'])\n",
    "billsrolb_mean = np.mean(billsrolb['Predicted Rating'])\n",
    "billslolb_mean = np.mean(billslolb['Predicted Rating'])\n",
    "billslb_mean = np.mean([billsmlb_mean, billsrolb_mean, billslolb_mean])\n",
    "print(billslb_mean, billsmlb_mean, billslolb_mean, billsrolb_mean) "
   ]
  },
  {
   "cell_type": "code",
   "execution_count": 353,
   "metadata": {},
   "outputs": [
    {
     "name": "stdout",
     "output_type": "stream",
     "text": [
      "72.60385000000001 71.9056 73.5795 72.32645\n"
     ]
    }
   ],
   "source": [
    "billscb = bills[bills['Position'] == 'CB']\n",
    "billsfs = bills[bills['Position'] == 'FS']\n",
    "billsss = bills[bills['Position'] == 'SS']\n",
    "billscb['Predicted Rating'] = modelcb(billscb)\n",
    "billsss['Predicted Rating'] = modelss(billsss)\n",
    "billsfs['Predicted Rating'] = modelfs(billsfs)\n",
    "billsss_mean = np.mean(billsss['Predicted Rating'])\n",
    "billscb_mean = np.mean(billscb['Predicted Rating'])\n",
    "billsfs_mean = np.mean(billsfs['Predicted Rating'])\n",
    "billssecondary_mean = np.mean([billscb_mean, billsss_mean, billsfs_mean])\n",
    "print(billssecondary_mean, billscb_mean, billsfs_mean, billsss_mean) "
   ]
  },
  {
   "cell_type": "code",
   "execution_count": 354,
   "metadata": {},
   "outputs": [],
   "source": [
    "afc_east_defense = pd.concat([patriots, jets, dolphins, bills], axis=0)"
   ]
  },
  {
   "cell_type": "code",
   "execution_count": 356,
   "metadata": {},
   "outputs": [],
   "source": [
    "afc_defense = pd.concat([afc_east_defense, afc_west_defense, afc_north_defense, afc_south_defense], axis=0)"
   ]
  },
  {
   "cell_type": "code",
   "execution_count": 357,
   "metadata": {},
   "outputs": [],
   "source": [
    "defense = pd.concat([afc_defense, nfc_defense], axis=0)"
   ]
  },
  {
   "cell_type": "code",
   "execution_count": 370,
   "metadata": {},
   "outputs": [
    {
     "data": {
      "text/plain": [
       "(2368, 71)"
      ]
     },
     "execution_count": 370,
     "metadata": {},
     "output_type": "execute_result"
    }
   ],
   "source": [
    "defense.shape"
   ]
  },
  {
   "cell_type": "code",
   "execution_count": 371,
   "metadata": {},
   "outputs": [],
   "source": [
    "defense.to_csv('C:\\\\Users\\\\tilleymusprime\\\\Desktop\\\\defense.csv')"
   ]
  },
  {
   "cell_type": "code",
   "execution_count": null,
   "metadata": {},
   "outputs": [],
   "source": []
  },
  {
   "cell_type": "code",
   "execution_count": 120,
   "metadata": {},
   "outputs": [],
   "source": [
    "##NFC Offense"
   ]
  },
  {
   "cell_type": "code",
   "execution_count": 369,
   "metadata": {},
   "outputs": [
    {
     "data": {
      "text/plain": [
       "73.81553666666667"
      ]
     },
     "execution_count": 369,
     "metadata": {},
     "output_type": "execute_result"
    }
   ],
   "source": [
    "cowboyslt = cowboys[cowboys['Position'] == 'LT']\n",
    "cowboyslg = cowboys[cowboys['Position'] == 'LG']\n",
    "cowboysc = cowboys[cowboys['Position'] == 'C']\n",
    "cowboysrg = cowboys[cowboys['Position'] == 'RG']\n",
    "cowboysrt = cowboys[cowboys['Position'] == 'RT']\n",
    "cowboyslt['Predicted Rating'] = modellt(cowboyslt)\n",
    "cowboyslg['Predicted Rating'] = modellg(cowboyslg)\n",
    "cowboysc['Predicted Rating'] = modelc(cowboysc)\n",
    "cowboysrg['Predicted Rating'] = modellt(cowboysrg)\n",
    "cowboysrt['Predicted Rating'] = modelrt(cowboysrt)\n",
    "cowboyslt_mean = np.mean(cowboyslt['Predicted Rating'])\n",
    "cowboyslg_mean = np.mean(cowboyslg['Predicted Rating'])\n",
    "cowboysc_mean = np.mean(cowboysc['Predicted Rating'])\n",
    "cowboysrg_mean = np.mean(cowboysrg['Predicted Rating'])\n",
    "cowboysrt_mean = np.mean(cowboysrt['Predicted Rating'])\n",
    "cowboyslinemean = np.mean([cowboyslt_mean, cowboyslg_mean, cowboysc_mean, cowboysrg_mean, cowboysrt_mean])\n",
    "cowboyslinemean"
   ]
  },
  {
   "cell_type": "code",
   "execution_count": null,
   "metadata": {},
   "outputs": [],
   "source": [
    "cowboysqb = cowboys[cowboys['Position'] == 'QB']\n",
    "cowboyshb = cowboys[cowboys['Position'] == 'HB']\n",
    "cowboyswr = cowboys[cowboys['Position'] == 'WR']\n",
    "cowboyste = cowboys[cowboys['Position'] == 'TE']\n",
    "cowboysqb['Predicted Rating'] = modelqb(cowboysqb)\n",
    "cowboyshb['Predicted Rating'] = modelhb(cowboyshb)\n",
    "cowboyswr['Predicted Rating'] = modelwr(cowboyswr)\n",
    "cowboyste['Predicted Rating'] = modelte(cowboyste)\n",
    "cowboysqb_mean = np.mean(cowboysqb['Predicted Rating'])\n",
    "cowboyshb_mean = np.mean(cowboyshb['Predicted Rating'])\n",
    "cowboyste_mean = np.mean(cowboysqte['Predicted Rating'])\n",
    "cowboyswr_mean = np.mean(cowboyswr['Predicted Rating'])\n",
    "cowboyspass_mean = np.mean([cowboyswr_mean, cowboyste_mean, cowboys_mean])\n",
    "print(billssecondary_mean, billscb_mean, billsfs_mean, billsss_mean) "
   ]
  },
  {
   "cell_type": "code",
   "execution_count": null,
   "metadata": {},
   "outputs": [],
   "source": []
  },
  {
   "cell_type": "code",
   "execution_count": null,
   "metadata": {},
   "outputs": [],
   "source": []
  },
  {
   "cell_type": "code",
   "execution_count": null,
   "metadata": {},
   "outputs": [],
   "source": []
  },
  {
   "cell_type": "code",
   "execution_count": null,
   "metadata": {},
   "outputs": [],
   "source": []
  },
  {
   "cell_type": "code",
   "execution_count": 122,
   "metadata": {},
   "outputs": [],
   "source": [
    "def cleaner(a, b, c, d):\n",
    "    x = a[a['Position'] == b]\n",
    "    x[b + 'Starter Overall'] = x['Overall'].max()\n",
    "    x[b+'Average Overall'] = np.mean(x['Overall'])\n",
    "    x[b + 'Starter' + c] = x['Pass Block'].max()\n",
    "    x[b +'Average'+ c] = np.mean(x['Pass Block'])\n",
    "    x[b+'Starter'+d] = x['Run Block'].max()\n",
    "    x[b+'Average'+ d] = np.mean(x['Run Block'])\n",
    "    return x"
   ]
  },
  {
   "cell_type": "code",
   "execution_count": 366,
   "metadata": {},
   "outputs": [],
   "source": [
    "def cleaner1(data, team, pos, att1, att2):\n",
    "    y = data[data['Team'] == team]\n",
    "    x = y[y['Position'] == pos]\n",
    "    x1_max = x['Overall'].max()\n",
    "    x[pos + 'Starter Overall'] = x1_max\n",
    "    x2_mean = np.mean(x['Overall']) \n",
    "    x[pos+'Average Overall'] = x2_mean\n",
    "    x3_max = x[att1].max()\n",
    "    x[pos + 'Starter' + att1] = x3_max\n",
    "    x4_mean = np.mean(x[att1])\n",
    "    x[pos +'Average'+ att1] = x4_mean\n",
    "    x5_mean = np.mean(x[att2])\n",
    "    x[pos+'Starter'+att2] = x5_mean\n",
    "    x6_mean = np.mean(x[att2])\n",
    "    x[pos+'Average'+ att2] =x6_mean\n",
    "    x[pos + 'Starter Overall'] = x[pos + 'Starter Overall'].fillna(x1_max)\n",
    "    x[pos+'Average Overall'] = x[pos+'Average Overall'].fillna(x2_mean)\n",
    "    x[pos + 'Starter' + att1]=  x[pos + 'Starter' + att1].fillna(x3_max)\n",
    "    x[pos +'Average'+ att1] = x[pos +'Average'+ att1].fillna(x4_mean)\n",
    "    x[pos+'Starter'+att2]= x[pos+'Starter'+att2].fillna(x5_mean)\n",
    "    x[pos+'Average'+ att2] = x[pos+'Average'+ att2].fillna(x6_mean)\n",
    "    return x"
   ]
  },
  {
   "cell_type": "code",
   "execution_count": 367,
   "metadata": {},
   "outputs": [
    {
     "name": "stderr",
     "output_type": "stream",
     "text": [
      "C:\\Users\\tilleymusprime\\Anaconda3\\lib\\site-packages\\pandas\\core\\indexes\\base.py:3140: RuntimeWarning: '<' not supported between instances of 'str' and 'int', sort order is undefined for incomparable objects\n",
      "  return this.join(other, how=how, return_indexers=return_indexers)\n"
     ]
    },
    {
     "data": {
      "text/plain": [
       "(0, 73)"
      ]
     },
     "execution_count": 367,
     "metadata": {},
     "output_type": "execute_result"
    }
   ],
   "source": [
    "cowboysqb = cleaner1(df, cowboys, 'QB', 'Throw Accuracy Mid', 'Awareness')\n",
    "cowboysqb.shape"
   ]
  },
  {
   "cell_type": "code",
   "execution_count": 363,
   "metadata": {},
   "outputs": [],
   "source": [
    "def nafill(data, column, cleanervalues):\n",
    "    data[column] = data[column].fillna(cleanervalue)\n",
    "    return data"
   ]
  },
  {
   "cell_type": "code",
   "execution_count": null,
   "metadata": {},
   "outputs": [],
   "source": []
  },
  {
   "cell_type": "code",
   "execution_count": 176,
   "metadata": {},
   "outputs": [
    {
     "data": {
      "text/html": [
       "<div>\n",
       "<style scoped>\n",
       "    .dataframe tbody tr th:only-of-type {\n",
       "        vertical-align: middle;\n",
       "    }\n",
       "\n",
       "    .dataframe tbody tr th {\n",
       "        vertical-align: top;\n",
       "    }\n",
       "\n",
       "    .dataframe thead th {\n",
       "        text-align: right;\n",
       "    }\n",
       "</style>\n",
       "<table border=\"1\" class=\"dataframe\">\n",
       "  <thead>\n",
       "    <tr style=\"text-align: right;\">\n",
       "      <th></th>\n",
       "      <th>Team</th>\n",
       "      <th>Jersey #</th>\n",
       "      <th>Name</th>\n",
       "      <th>Age</th>\n",
       "      <th>Position</th>\n",
       "      <th>Overall</th>\n",
       "      <th>Awareness</th>\n",
       "      <th>Agility</th>\n",
       "      <th>Speed</th>\n",
       "      <th>Acceleration</th>\n",
       "      <th>...</th>\n",
       "      <th>Birthdate</th>\n",
       "      <th>Years Pro</th>\n",
       "      <th>Handedness</th>\n",
       "      <th>College</th>\n",
       "      <th>Total Salary</th>\n",
       "      <th>Signing Bonus</th>\n",
       "      <th>lb_mean</th>\n",
       "      <th>dl_mean</th>\n",
       "      <th>secondary_mean</th>\n",
       "      <th>defense_rating</th>\n",
       "    </tr>\n",
       "  </thead>\n",
       "  <tbody>\n",
       "    <tr>\n",
       "      <th>7</th>\n",
       "      <td>Cowboys</td>\n",
       "      <td>72</td>\n",
       "      <td>Travis Frederick</td>\n",
       "      <td>27</td>\n",
       "      <td>C</td>\n",
       "      <td>96</td>\n",
       "      <td>98</td>\n",
       "      <td>69</td>\n",
       "      <td>56</td>\n",
       "      <td>80</td>\n",
       "      <td>...</td>\n",
       "      <td>1991-03-18 00:00:00</td>\n",
       "      <td>5</td>\n",
       "      <td>Right</td>\n",
       "      <td>Wisconsin</td>\n",
       "      <td>39190000</td>\n",
       "      <td>6370000</td>\n",
       "      <td>70.262983</td>\n",
       "      <td>73.217870</td>\n",
       "      <td>72.218303</td>\n",
       "      <td>71.899719</td>\n",
       "    </tr>\n",
       "    <tr>\n",
       "      <th>26</th>\n",
       "      <td>Eagles</td>\n",
       "      <td>62</td>\n",
       "      <td>Jason Kelce</td>\n",
       "      <td>30</td>\n",
       "      <td>C</td>\n",
       "      <td>92</td>\n",
       "      <td>97</td>\n",
       "      <td>71</td>\n",
       "      <td>74</td>\n",
       "      <td>83</td>\n",
       "      <td>...</td>\n",
       "      <td>1987-11-05 00:00:00</td>\n",
       "      <td>7</td>\n",
       "      <td>Right</td>\n",
       "      <td>Cincinnati</td>\n",
       "      <td>34500000</td>\n",
       "      <td>6000000</td>\n",
       "      <td>70.664328</td>\n",
       "      <td>73.994096</td>\n",
       "      <td>77.185263</td>\n",
       "      <td>73.947896</td>\n",
       "    </tr>\n",
       "    <tr>\n",
       "      <th>49</th>\n",
       "      <td>Falcons</td>\n",
       "      <td>51</td>\n",
       "      <td>Alex Mack</td>\n",
       "      <td>32</td>\n",
       "      <td>C</td>\n",
       "      <td>90</td>\n",
       "      <td>93</td>\n",
       "      <td>61</td>\n",
       "      <td>63</td>\n",
       "      <td>79</td>\n",
       "      <td>...</td>\n",
       "      <td>1985-11-19 00:00:00</td>\n",
       "      <td>9</td>\n",
       "      <td>Right</td>\n",
       "      <td>California</td>\n",
       "      <td>44000000</td>\n",
       "      <td>12500000</td>\n",
       "      <td>66.770711</td>\n",
       "      <td>70.954488</td>\n",
       "      <td>74.760750</td>\n",
       "      <td>70.828650</td>\n",
       "    </tr>\n",
       "    <tr>\n",
       "      <th>183</th>\n",
       "      <td>Saints</td>\n",
       "      <td>60</td>\n",
       "      <td>Max Unger</td>\n",
       "      <td>32</td>\n",
       "      <td>C</td>\n",
       "      <td>82</td>\n",
       "      <td>95</td>\n",
       "      <td>59</td>\n",
       "      <td>60</td>\n",
       "      <td>78</td>\n",
       "      <td>...</td>\n",
       "      <td>1986-04-14 00:00:00</td>\n",
       "      <td>9</td>\n",
       "      <td>Right</td>\n",
       "      <td>Oregon</td>\n",
       "      <td>14300000</td>\n",
       "      <td>7000000</td>\n",
       "      <td>76.013789</td>\n",
       "      <td>73.280574</td>\n",
       "      <td>71.878893</td>\n",
       "      <td>73.724419</td>\n",
       "    </tr>\n",
       "    <tr>\n",
       "      <th>220</th>\n",
       "      <td>49ers</td>\n",
       "      <td>58</td>\n",
       "      <td>Weston Richburg</td>\n",
       "      <td>27</td>\n",
       "      <td>C</td>\n",
       "      <td>81</td>\n",
       "      <td>89</td>\n",
       "      <td>66</td>\n",
       "      <td>68</td>\n",
       "      <td>80</td>\n",
       "      <td>...</td>\n",
       "      <td>1991-07-09 00:00:00</td>\n",
       "      <td>4</td>\n",
       "      <td>Right</td>\n",
       "      <td>Colorado St.</td>\n",
       "      <td>38200000</td>\n",
       "      <td>9300000</td>\n",
       "      <td>70.278342</td>\n",
       "      <td>71.546803</td>\n",
       "      <td>70.240746</td>\n",
       "      <td>70.688630</td>\n",
       "    </tr>\n",
       "    <tr>\n",
       "      <th>297</th>\n",
       "      <td>Buccaneers</td>\n",
       "      <td>66</td>\n",
       "      <td>Ryan Jensen</td>\n",
       "      <td>27</td>\n",
       "      <td>C</td>\n",
       "      <td>78</td>\n",
       "      <td>85</td>\n",
       "      <td>64</td>\n",
       "      <td>62</td>\n",
       "      <td>76</td>\n",
       "      <td>...</td>\n",
       "      <td>1991-05-27 00:00:00</td>\n",
       "      <td>5</td>\n",
       "      <td>Right</td>\n",
       "      <td>CSU-Pueblo</td>\n",
       "      <td>32000000</td>\n",
       "      <td>10000000</td>\n",
       "      <td>70.491456</td>\n",
       "      <td>72.831000</td>\n",
       "      <td>69.694116</td>\n",
       "      <td>71.005524</td>\n",
       "    </tr>\n",
       "    <tr>\n",
       "      <th>300</th>\n",
       "      <td>Seahawks</td>\n",
       "      <td>68</td>\n",
       "      <td>Justin Britt</td>\n",
       "      <td>27</td>\n",
       "      <td>C</td>\n",
       "      <td>78</td>\n",
       "      <td>90</td>\n",
       "      <td>65</td>\n",
       "      <td>66</td>\n",
       "      <td>82</td>\n",
       "      <td>...</td>\n",
       "      <td>1991-05-29 00:00:00</td>\n",
       "      <td>4</td>\n",
       "      <td>Right</td>\n",
       "      <td>Missouri</td>\n",
       "      <td>18400000</td>\n",
       "      <td>6500000</td>\n",
       "      <td>77.051311</td>\n",
       "      <td>71.856000</td>\n",
       "      <td>73.472171</td>\n",
       "      <td>74.126494</td>\n",
       "    </tr>\n",
       "    <tr>\n",
       "      <th>306</th>\n",
       "      <td>Rams</td>\n",
       "      <td>65</td>\n",
       "      <td>John Sullivan</td>\n",
       "      <td>33</td>\n",
       "      <td>C</td>\n",
       "      <td>78</td>\n",
       "      <td>87</td>\n",
       "      <td>61</td>\n",
       "      <td>56</td>\n",
       "      <td>76</td>\n",
       "      <td>...</td>\n",
       "      <td>1985-08-08 00:00:00</td>\n",
       "      <td>10</td>\n",
       "      <td>Right</td>\n",
       "      <td>Notre Dame</td>\n",
       "      <td>8375000</td>\n",
       "      <td>2000000</td>\n",
       "      <td>67.010120</td>\n",
       "      <td>74.587247</td>\n",
       "      <td>73.904963</td>\n",
       "      <td>71.834110</td>\n",
       "    </tr>\n",
       "    <tr>\n",
       "      <th>323</th>\n",
       "      <td>Packers</td>\n",
       "      <td>63</td>\n",
       "      <td>Corey Linsley</td>\n",
       "      <td>27</td>\n",
       "      <td>C</td>\n",
       "      <td>77</td>\n",
       "      <td>88</td>\n",
       "      <td>66</td>\n",
       "      <td>71</td>\n",
       "      <td>80</td>\n",
       "      <td>...</td>\n",
       "      <td>1991-07-27 00:00:00</td>\n",
       "      <td>4</td>\n",
       "      <td>Right</td>\n",
       "      <td>Ohio State</td>\n",
       "      <td>17450000</td>\n",
       "      <td>6000000</td>\n",
       "      <td>69.901153</td>\n",
       "      <td>72.562383</td>\n",
       "      <td>69.370878</td>\n",
       "      <td>70.611471</td>\n",
       "    </tr>\n",
       "    <tr>\n",
       "      <th>360</th>\n",
       "      <td>Lions</td>\n",
       "      <td>77</td>\n",
       "      <td>Frank Ragnow</td>\n",
       "      <td>22</td>\n",
       "      <td>C</td>\n",
       "      <td>76</td>\n",
       "      <td>67</td>\n",
       "      <td>58</td>\n",
       "      <td>73</td>\n",
       "      <td>82</td>\n",
       "      <td>...</td>\n",
       "      <td>1996-05-17 00:00:00</td>\n",
       "      <td>0</td>\n",
       "      <td>Right</td>\n",
       "      <td>Arkansas</td>\n",
       "      <td>11780374</td>\n",
       "      <td>6640000</td>\n",
       "      <td>70.211000</td>\n",
       "      <td>70.610332</td>\n",
       "      <td>72.287040</td>\n",
       "      <td>71.036124</td>\n",
       "    </tr>\n",
       "    <tr>\n",
       "      <th>365</th>\n",
       "      <td>Panthers</td>\n",
       "      <td>67</td>\n",
       "      <td>Ryan Kalil</td>\n",
       "      <td>33</td>\n",
       "      <td>C</td>\n",
       "      <td>76</td>\n",
       "      <td>90</td>\n",
       "      <td>67</td>\n",
       "      <td>69</td>\n",
       "      <td>80</td>\n",
       "      <td>...</td>\n",
       "      <td>1985-03-29 00:00:00</td>\n",
       "      <td>11</td>\n",
       "      <td>Right</td>\n",
       "      <td>USC</td>\n",
       "      <td>20000000</td>\n",
       "      <td>5000000</td>\n",
       "      <td>76.358925</td>\n",
       "      <td>72.180656</td>\n",
       "      <td>70.464562</td>\n",
       "      <td>73.001381</td>\n",
       "    </tr>\n",
       "    <tr>\n",
       "      <th>405</th>\n",
       "      <td>Vikings</td>\n",
       "      <td>65</td>\n",
       "      <td>Pat Elflein</td>\n",
       "      <td>24</td>\n",
       "      <td>C</td>\n",
       "      <td>75</td>\n",
       "      <td>82</td>\n",
       "      <td>60</td>\n",
       "      <td>62</td>\n",
       "      <td>76</td>\n",
       "      <td>...</td>\n",
       "      <td>1994-07-06 00:00:00</td>\n",
       "      <td>1</td>\n",
       "      <td>Right</td>\n",
       "      <td>Ohio State</td>\n",
       "      <td>3793000</td>\n",
       "      <td>940000</td>\n",
       "      <td>70.197544</td>\n",
       "      <td>72.082158</td>\n",
       "      <td>75.799479</td>\n",
       "      <td>72.693061</td>\n",
       "    </tr>\n",
       "    <tr>\n",
       "      <th>439</th>\n",
       "      <td>Bears</td>\n",
       "      <td>68</td>\n",
       "      <td>James Daniels</td>\n",
       "      <td>20</td>\n",
       "      <td>C</td>\n",
       "      <td>74</td>\n",
       "      <td>70</td>\n",
       "      <td>73</td>\n",
       "      <td>61</td>\n",
       "      <td>75</td>\n",
       "      <td>...</td>\n",
       "      <td>1997-09-13 00:00:00</td>\n",
       "      <td>0</td>\n",
       "      <td>Right</td>\n",
       "      <td>Iowa</td>\n",
       "      <td>6950270</td>\n",
       "      <td>3130000</td>\n",
       "      <td>70.830300</td>\n",
       "      <td>71.524031</td>\n",
       "      <td>71.589930</td>\n",
       "      <td>71.314753</td>\n",
       "    </tr>\n",
       "    <tr>\n",
       "      <th>455</th>\n",
       "      <td>Cardinals</td>\n",
       "      <td>53</td>\n",
       "      <td>A.Q. Shipley</td>\n",
       "      <td>32</td>\n",
       "      <td>C</td>\n",
       "      <td>74</td>\n",
       "      <td>86</td>\n",
       "      <td>58</td>\n",
       "      <td>62</td>\n",
       "      <td>80</td>\n",
       "      <td>...</td>\n",
       "      <td>1986-05-22 00:00:00</td>\n",
       "      <td>8</td>\n",
       "      <td>Right</td>\n",
       "      <td>Penn State</td>\n",
       "      <td>2275000</td>\n",
       "      <td>720000</td>\n",
       "      <td>68.131383</td>\n",
       "      <td>70.782495</td>\n",
       "      <td>69.595326</td>\n",
       "      <td>69.503068</td>\n",
       "    </tr>\n",
       "    <tr>\n",
       "      <th>508</th>\n",
       "      <td>Giants</td>\n",
       "      <td>69</td>\n",
       "      <td>Brett Jones</td>\n",
       "      <td>27</td>\n",
       "      <td>C</td>\n",
       "      <td>72</td>\n",
       "      <td>68</td>\n",
       "      <td>58</td>\n",
       "      <td>68</td>\n",
       "      <td>74</td>\n",
       "      <td>...</td>\n",
       "      <td>1991-07-29 00:00:00</td>\n",
       "      <td>4</td>\n",
       "      <td>Right</td>\n",
       "      <td>Regina</td>\n",
       "      <td>2914000</td>\n",
       "      <td>0</td>\n",
       "      <td>68.318783</td>\n",
       "      <td>71.585678</td>\n",
       "      <td>70.630069</td>\n",
       "      <td>70.178177</td>\n",
       "    </tr>\n",
       "    <tr>\n",
       "      <th>566</th>\n",
       "      <td>Lions</td>\n",
       "      <td>60</td>\n",
       "      <td>Graham Glasgow</td>\n",
       "      <td>26</td>\n",
       "      <td>C</td>\n",
       "      <td>71</td>\n",
       "      <td>77</td>\n",
       "      <td>56</td>\n",
       "      <td>68</td>\n",
       "      <td>81</td>\n",
       "      <td>...</td>\n",
       "      <td>1992-08-19 00:00:00</td>\n",
       "      <td>2</td>\n",
       "      <td>Right</td>\n",
       "      <td>Michigan</td>\n",
       "      <td>3100000</td>\n",
       "      <td>640000</td>\n",
       "      <td>70.211000</td>\n",
       "      <td>70.610332</td>\n",
       "      <td>72.287040</td>\n",
       "      <td>71.036124</td>\n",
       "    </tr>\n",
       "    <tr>\n",
       "      <th>640</th>\n",
       "      <td>Panthers</td>\n",
       "      <td>69</td>\n",
       "      <td>Tyler Larsen</td>\n",
       "      <td>27</td>\n",
       "      <td>C</td>\n",
       "      <td>70</td>\n",
       "      <td>70</td>\n",
       "      <td>54</td>\n",
       "      <td>66</td>\n",
       "      <td>71</td>\n",
       "      <td>...</td>\n",
       "      <td>1991-07-08 00:00:00</td>\n",
       "      <td>3</td>\n",
       "      <td>Right</td>\n",
       "      <td>Utah State</td>\n",
       "      <td>630000</td>\n",
       "      <td>0</td>\n",
       "      <td>76.358925</td>\n",
       "      <td>72.180656</td>\n",
       "      <td>70.464562</td>\n",
       "      <td>73.001381</td>\n",
       "    </tr>\n",
       "    <tr>\n",
       "      <th>716</th>\n",
       "      <td>49ers</td>\n",
       "      <td>68</td>\n",
       "      <td>Mike Person</td>\n",
       "      <td>30</td>\n",
       "      <td>C</td>\n",
       "      <td>69</td>\n",
       "      <td>69</td>\n",
       "      <td>58</td>\n",
       "      <td>67</td>\n",
       "      <td>80</td>\n",
       "      <td>...</td>\n",
       "      <td>1988-06-17 00:00:00</td>\n",
       "      <td>7</td>\n",
       "      <td>Right</td>\n",
       "      <td>Montana State</td>\n",
       "      <td>915000</td>\n",
       "      <td>0</td>\n",
       "      <td>70.278342</td>\n",
       "      <td>71.546803</td>\n",
       "      <td>70.240746</td>\n",
       "      <td>70.688630</td>\n",
       "    </tr>\n",
       "    <tr>\n",
       "      <th>742</th>\n",
       "      <td>Redskins</td>\n",
       "      <td>73</td>\n",
       "      <td>Chase Roullier</td>\n",
       "      <td>25</td>\n",
       "      <td>C</td>\n",
       "      <td>68</td>\n",
       "      <td>68</td>\n",
       "      <td>63</td>\n",
       "      <td>59</td>\n",
       "      <td>74</td>\n",
       "      <td>...</td>\n",
       "      <td>1993-08-23 00:00:00</td>\n",
       "      <td>1</td>\n",
       "      <td>Right</td>\n",
       "      <td>Wyoming</td>\n",
       "      <td>2500000</td>\n",
       "      <td>140000</td>\n",
       "      <td>72.928878</td>\n",
       "      <td>69.883439</td>\n",
       "      <td>70.156925</td>\n",
       "      <td>70.989747</td>\n",
       "    </tr>\n",
       "    <tr>\n",
       "      <th>841</th>\n",
       "      <td>Cardinals</td>\n",
       "      <td>64</td>\n",
       "      <td>Mason Cole</td>\n",
       "      <td>22</td>\n",
       "      <td>C</td>\n",
       "      <td>67</td>\n",
       "      <td>59</td>\n",
       "      <td>58</td>\n",
       "      <td>61</td>\n",
       "      <td>77</td>\n",
       "      <td>...</td>\n",
       "      <td>1996-03-28 00:00:00</td>\n",
       "      <td>0</td>\n",
       "      <td>Right</td>\n",
       "      <td>Michigan</td>\n",
       "      <td>3325109</td>\n",
       "      <td>760000</td>\n",
       "      <td>68.131383</td>\n",
       "      <td>70.782495</td>\n",
       "      <td>69.595326</td>\n",
       "      <td>69.503068</td>\n",
       "    </tr>\n",
       "    <tr>\n",
       "      <th>886</th>\n",
       "      <td>Saints</td>\n",
       "      <td>61</td>\n",
       "      <td>Josh LeRibeus</td>\n",
       "      <td>29</td>\n",
       "      <td>C</td>\n",
       "      <td>66</td>\n",
       "      <td>69</td>\n",
       "      <td>60</td>\n",
       "      <td>60</td>\n",
       "      <td>78</td>\n",
       "      <td>...</td>\n",
       "      <td>1989-07-02 00:00:00</td>\n",
       "      <td>6</td>\n",
       "      <td>Right</td>\n",
       "      <td>SMU</td>\n",
       "      <td>790000</td>\n",
       "      <td>0</td>\n",
       "      <td>76.013789</td>\n",
       "      <td>73.280574</td>\n",
       "      <td>71.878893</td>\n",
       "      <td>73.724419</td>\n",
       "    </tr>\n",
       "    <tr>\n",
       "      <th>892</th>\n",
       "      <td>Rams</td>\n",
       "      <td>55</td>\n",
       "      <td>Brian Allen</td>\n",
       "      <td>22</td>\n",
       "      <td>C</td>\n",
       "      <td>66</td>\n",
       "      <td>58</td>\n",
       "      <td>58</td>\n",
       "      <td>62</td>\n",
       "      <td>76</td>\n",
       "      <td>...</td>\n",
       "      <td>1995-10-11 00:00:00</td>\n",
       "      <td>0</td>\n",
       "      <td>Right</td>\n",
       "      <td>Michigan St.</td>\n",
       "      <td>3101953</td>\n",
       "      <td>680000</td>\n",
       "      <td>67.010120</td>\n",
       "      <td>74.587247</td>\n",
       "      <td>73.904963</td>\n",
       "      <td>71.834110</td>\n",
       "    </tr>\n",
       "    <tr>\n",
       "      <th>911</th>\n",
       "      <td>Eagles</td>\n",
       "      <td>73</td>\n",
       "      <td>Isaac Seumalo</td>\n",
       "      <td>24</td>\n",
       "      <td>C</td>\n",
       "      <td>65</td>\n",
       "      <td>68</td>\n",
       "      <td>72</td>\n",
       "      <td>66</td>\n",
       "      <td>83</td>\n",
       "      <td>...</td>\n",
       "      <td>1993-10-29 00:00:00</td>\n",
       "      <td>2</td>\n",
       "      <td>Right</td>\n",
       "      <td>Oregon State</td>\n",
       "      <td>3333000</td>\n",
       "      <td>760000</td>\n",
       "      <td>70.664328</td>\n",
       "      <td>73.994096</td>\n",
       "      <td>77.185263</td>\n",
       "      <td>73.947896</td>\n",
       "    </tr>\n",
       "    <tr>\n",
       "      <th>937</th>\n",
       "      <td>Falcons</td>\n",
       "      <td>64</td>\n",
       "      <td>Sean Harlow</td>\n",
       "      <td>23</td>\n",
       "      <td>C</td>\n",
       "      <td>65</td>\n",
       "      <td>62</td>\n",
       "      <td>63</td>\n",
       "      <td>67</td>\n",
       "      <td>80</td>\n",
       "      <td>...</td>\n",
       "      <td>1995-03-28 00:00:00</td>\n",
       "      <td>1</td>\n",
       "      <td>Right</td>\n",
       "      <td>Oregon State</td>\n",
       "      <td>2904000</td>\n",
       "      <td>540000</td>\n",
       "      <td>66.770711</td>\n",
       "      <td>70.954488</td>\n",
       "      <td>74.760750</td>\n",
       "      <td>70.828650</td>\n",
       "    </tr>\n",
       "    <tr>\n",
       "      <th>953</th>\n",
       "      <td>Seahawks</td>\n",
       "      <td>53</td>\n",
       "      <td>Joey Hunt</td>\n",
       "      <td>24</td>\n",
       "      <td>C</td>\n",
       "      <td>65</td>\n",
       "      <td>63</td>\n",
       "      <td>68</td>\n",
       "      <td>63</td>\n",
       "      <td>76</td>\n",
       "      <td>...</td>\n",
       "      <td>1994-02-22 00:00:00</td>\n",
       "      <td>2</td>\n",
       "      <td>Right</td>\n",
       "      <td>TCU</td>\n",
       "      <td>630000</td>\n",
       "      <td>0</td>\n",
       "      <td>77.051311</td>\n",
       "      <td>71.856000</td>\n",
       "      <td>73.472171</td>\n",
       "      <td>74.126494</td>\n",
       "    </tr>\n",
       "    <tr>\n",
       "      <th>969</th>\n",
       "      <td>Cowboys</td>\n",
       "      <td>73</td>\n",
       "      <td>Joe Looney</td>\n",
       "      <td>28</td>\n",
       "      <td>C</td>\n",
       "      <td>64</td>\n",
       "      <td>66</td>\n",
       "      <td>59</td>\n",
       "      <td>70</td>\n",
       "      <td>74</td>\n",
       "      <td>...</td>\n",
       "      <td>1990-08-31 00:00:00</td>\n",
       "      <td>6</td>\n",
       "      <td>Right</td>\n",
       "      <td>Wake Forest</td>\n",
       "      <td>1850000</td>\n",
       "      <td>250000</td>\n",
       "      <td>70.262983</td>\n",
       "      <td>73.217870</td>\n",
       "      <td>72.218303</td>\n",
       "      <td>71.899719</td>\n",
       "    </tr>\n",
       "    <tr>\n",
       "      <th>987</th>\n",
       "      <td>Bears</td>\n",
       "      <td>55</td>\n",
       "      <td>Hroniss Grasu</td>\n",
       "      <td>27</td>\n",
       "      <td>C</td>\n",
       "      <td>64</td>\n",
       "      <td>74</td>\n",
       "      <td>68</td>\n",
       "      <td>71</td>\n",
       "      <td>84</td>\n",
       "      <td>...</td>\n",
       "      <td>1991-08-12 00:00:00</td>\n",
       "      <td>3</td>\n",
       "      <td>Right</td>\n",
       "      <td>Oregon</td>\n",
       "      <td>3000000</td>\n",
       "      <td>1000000</td>\n",
       "      <td>70.830300</td>\n",
       "      <td>71.524031</td>\n",
       "      <td>71.589930</td>\n",
       "      <td>71.314753</td>\n",
       "    </tr>\n",
       "    <tr>\n",
       "      <th>1033</th>\n",
       "      <td>Bears</td>\n",
       "      <td>64</td>\n",
       "      <td>Eric Kush</td>\n",
       "      <td>28</td>\n",
       "      <td>C</td>\n",
       "      <td>63</td>\n",
       "      <td>64</td>\n",
       "      <td>69</td>\n",
       "      <td>69</td>\n",
       "      <td>82</td>\n",
       "      <td>...</td>\n",
       "      <td>1989-09-09 00:00:00</td>\n",
       "      <td>5</td>\n",
       "      <td>Right</td>\n",
       "      <td>California</td>\n",
       "      <td>1240000</td>\n",
       "      <td>500000</td>\n",
       "      <td>70.830300</td>\n",
       "      <td>71.524031</td>\n",
       "      <td>71.589930</td>\n",
       "      <td>71.314753</td>\n",
       "    </tr>\n",
       "    <tr>\n",
       "      <th>1059</th>\n",
       "      <td>Giants</td>\n",
       "      <td>75</td>\n",
       "      <td>Jon Halapio</td>\n",
       "      <td>27</td>\n",
       "      <td>C</td>\n",
       "      <td>62</td>\n",
       "      <td>59</td>\n",
       "      <td>52</td>\n",
       "      <td>60</td>\n",
       "      <td>79</td>\n",
       "      <td>...</td>\n",
       "      <td>1991-06-23 00:00:00</td>\n",
       "      <td>4</td>\n",
       "      <td>Right</td>\n",
       "      <td>Florida</td>\n",
       "      <td>555000</td>\n",
       "      <td>0</td>\n",
       "      <td>68.318783</td>\n",
       "      <td>71.585678</td>\n",
       "      <td>70.630069</td>\n",
       "      <td>70.178177</td>\n",
       "    </tr>\n",
       "    <tr>\n",
       "      <th>1071</th>\n",
       "      <td>Panthers</td>\n",
       "      <td>61</td>\n",
       "      <td>Kyle Friend</td>\n",
       "      <td>24</td>\n",
       "      <td>C</td>\n",
       "      <td>62</td>\n",
       "      <td>43</td>\n",
       "      <td>68</td>\n",
       "      <td>69</td>\n",
       "      <td>84</td>\n",
       "      <td>...</td>\n",
       "      <td>1994-04-03 00:00:00</td>\n",
       "      <td>2</td>\n",
       "      <td>Right</td>\n",
       "      <td>Temple</td>\n",
       "      <td>480000</td>\n",
       "      <td>0</td>\n",
       "      <td>76.358925</td>\n",
       "      <td>72.180656</td>\n",
       "      <td>70.464562</td>\n",
       "      <td>73.001381</td>\n",
       "    </tr>\n",
       "    <tr>\n",
       "      <th>1077</th>\n",
       "      <td>Saints</td>\n",
       "      <td>64</td>\n",
       "      <td>Will Clapp</td>\n",
       "      <td>21</td>\n",
       "      <td>C</td>\n",
       "      <td>62</td>\n",
       "      <td>62</td>\n",
       "      <td>49</td>\n",
       "      <td>59</td>\n",
       "      <td>76</td>\n",
       "      <td>...</td>\n",
       "      <td>1996-09-19 00:00:00</td>\n",
       "      <td>0</td>\n",
       "      <td>Right</td>\n",
       "      <td>LSU</td>\n",
       "      <td>2488142</td>\n",
       "      <td>70000</td>\n",
       "      <td>76.013789</td>\n",
       "      <td>73.280574</td>\n",
       "      <td>71.878893</td>\n",
       "      <td>73.724419</td>\n",
       "    </tr>\n",
       "    <tr>\n",
       "      <th>1095</th>\n",
       "      <td>Packers</td>\n",
       "      <td>54</td>\n",
       "      <td>Dillon Day</td>\n",
       "      <td>26</td>\n",
       "      <td>C</td>\n",
       "      <td>61</td>\n",
       "      <td>62</td>\n",
       "      <td>56</td>\n",
       "      <td>64</td>\n",
       "      <td>82</td>\n",
       "      <td>...</td>\n",
       "      <td>1991-10-17 00:00:00</td>\n",
       "      <td>2</td>\n",
       "      <td>Right</td>\n",
       "      <td>Mississippi St.</td>\n",
       "      <td>555000</td>\n",
       "      <td>0</td>\n",
       "      <td>69.901153</td>\n",
       "      <td>72.562383</td>\n",
       "      <td>69.370878</td>\n",
       "      <td>70.611471</td>\n",
       "    </tr>\n",
       "    <tr>\n",
       "      <th>1111</th>\n",
       "      <td>Saints</td>\n",
       "      <td>63</td>\n",
       "      <td>Cameron Tom</td>\n",
       "      <td>23</td>\n",
       "      <td>C</td>\n",
       "      <td>61</td>\n",
       "      <td>48</td>\n",
       "      <td>57</td>\n",
       "      <td>76</td>\n",
       "      <td>83</td>\n",
       "      <td>...</td>\n",
       "      <td>1995-07-21 00:00:00</td>\n",
       "      <td>1</td>\n",
       "      <td>Right</td>\n",
       "      <td>Southern Miss</td>\n",
       "      <td>555000</td>\n",
       "      <td>0</td>\n",
       "      <td>76.013789</td>\n",
       "      <td>73.280574</td>\n",
       "      <td>71.878893</td>\n",
       "      <td>73.724419</td>\n",
       "    </tr>\n",
       "    <tr>\n",
       "      <th>1128</th>\n",
       "      <td>Redskins</td>\n",
       "      <td>74</td>\n",
       "      <td>Demetrius Rhaney</td>\n",
       "      <td>26</td>\n",
       "      <td>C</td>\n",
       "      <td>60</td>\n",
       "      <td>50</td>\n",
       "      <td>71</td>\n",
       "      <td>75</td>\n",
       "      <td>82</td>\n",
       "      <td>...</td>\n",
       "      <td>1992-06-22 00:00:00</td>\n",
       "      <td>4</td>\n",
       "      <td>Right</td>\n",
       "      <td>Tennessee St.</td>\n",
       "      <td>705000</td>\n",
       "      <td>0</td>\n",
       "      <td>72.928878</td>\n",
       "      <td>69.883439</td>\n",
       "      <td>70.156925</td>\n",
       "      <td>70.989747</td>\n",
       "    </tr>\n",
       "    <tr>\n",
       "      <th>1131</th>\n",
       "      <td>Vikings</td>\n",
       "      <td>67</td>\n",
       "      <td>Cornelius Edison</td>\n",
       "      <td>25</td>\n",
       "      <td>C</td>\n",
       "      <td>60</td>\n",
       "      <td>49</td>\n",
       "      <td>56</td>\n",
       "      <td>60</td>\n",
       "      <td>73</td>\n",
       "      <td>...</td>\n",
       "      <td>1993-07-10 00:00:00</td>\n",
       "      <td>2</td>\n",
       "      <td>Right</td>\n",
       "      <td>Portland St.</td>\n",
       "      <td>630000</td>\n",
       "      <td>0</td>\n",
       "      <td>70.197544</td>\n",
       "      <td>72.082158</td>\n",
       "      <td>75.799479</td>\n",
       "      <td>72.693061</td>\n",
       "    </tr>\n",
       "    <tr>\n",
       "      <th>1141</th>\n",
       "      <td>Cardinals</td>\n",
       "      <td>66</td>\n",
       "      <td>Josh Allen</td>\n",
       "      <td>26</td>\n",
       "      <td>C</td>\n",
       "      <td>60</td>\n",
       "      <td>47</td>\n",
       "      <td>67</td>\n",
       "      <td>66</td>\n",
       "      <td>77</td>\n",
       "      <td>...</td>\n",
       "      <td>1991-10-30 00:00:00</td>\n",
       "      <td>4</td>\n",
       "      <td>Right</td>\n",
       "      <td>UL Monroe</td>\n",
       "      <td>1350000</td>\n",
       "      <td>0</td>\n",
       "      <td>68.131383</td>\n",
       "      <td>70.782495</td>\n",
       "      <td>69.595326</td>\n",
       "      <td>69.503068</td>\n",
       "    </tr>\n",
       "    <tr>\n",
       "      <th>1144</th>\n",
       "      <td>Cardinals</td>\n",
       "      <td>62</td>\n",
       "      <td>Daniel Munyer</td>\n",
       "      <td>26</td>\n",
       "      <td>C</td>\n",
       "      <td>60</td>\n",
       "      <td>49</td>\n",
       "      <td>69</td>\n",
       "      <td>64</td>\n",
       "      <td>81</td>\n",
       "      <td>...</td>\n",
       "      <td>1992-03-04 00:00:00</td>\n",
       "      <td>3</td>\n",
       "      <td>Right</td>\n",
       "      <td>Colorado</td>\n",
       "      <td>480000</td>\n",
       "      <td>0</td>\n",
       "      <td>68.131383</td>\n",
       "      <td>70.782495</td>\n",
       "      <td>69.595326</td>\n",
       "      <td>69.503068</td>\n",
       "    </tr>\n",
       "    <tr>\n",
       "      <th>1149</th>\n",
       "      <td>Eagles</td>\n",
       "      <td>64</td>\n",
       "      <td>Jon Toth</td>\n",
       "      <td>24</td>\n",
       "      <td>C</td>\n",
       "      <td>59</td>\n",
       "      <td>60</td>\n",
       "      <td>50</td>\n",
       "      <td>55</td>\n",
       "      <td>76</td>\n",
       "      <td>...</td>\n",
       "      <td>1994-02-11 00:00:00</td>\n",
       "      <td>1</td>\n",
       "      <td>Right</td>\n",
       "      <td>Kentucky</td>\n",
       "      <td>1050000</td>\n",
       "      <td>0</td>\n",
       "      <td>70.664328</td>\n",
       "      <td>73.994096</td>\n",
       "      <td>77.185263</td>\n",
       "      <td>73.947896</td>\n",
       "    </tr>\n",
       "    <tr>\n",
       "      <th>1159</th>\n",
       "      <td>Rams</td>\n",
       "      <td>72</td>\n",
       "      <td>Aaron Neary</td>\n",
       "      <td>25</td>\n",
       "      <td>C</td>\n",
       "      <td>59</td>\n",
       "      <td>57</td>\n",
       "      <td>72</td>\n",
       "      <td>67</td>\n",
       "      <td>81</td>\n",
       "      <td>...</td>\n",
       "      <td>1992-11-15 00:00:00</td>\n",
       "      <td>2</td>\n",
       "      <td>Right</td>\n",
       "      <td>Eastern Wash.</td>\n",
       "      <td>555000</td>\n",
       "      <td>0</td>\n",
       "      <td>67.010120</td>\n",
       "      <td>74.587247</td>\n",
       "      <td>73.904963</td>\n",
       "      <td>71.834110</td>\n",
       "    </tr>\n",
       "    <tr>\n",
       "      <th>1165</th>\n",
       "      <td>Falcons</td>\n",
       "      <td>61</td>\n",
       "      <td>J.C. Hassenauer</td>\n",
       "      <td>22</td>\n",
       "      <td>C</td>\n",
       "      <td>57</td>\n",
       "      <td>50</td>\n",
       "      <td>55</td>\n",
       "      <td>65</td>\n",
       "      <td>78</td>\n",
       "      <td>...</td>\n",
       "      <td>1995-09-15 00:00:00</td>\n",
       "      <td>0</td>\n",
       "      <td>Right</td>\n",
       "      <td>Alabama</td>\n",
       "      <td>1710000</td>\n",
       "      <td>0</td>\n",
       "      <td>66.770711</td>\n",
       "      <td>70.954488</td>\n",
       "      <td>74.760750</td>\n",
       "      <td>70.828650</td>\n",
       "    </tr>\n",
       "    <tr>\n",
       "      <th>1169</th>\n",
       "      <td>Redskins</td>\n",
       "      <td>57</td>\n",
       "      <td>Nick Sundberg</td>\n",
       "      <td>31</td>\n",
       "      <td>C</td>\n",
       "      <td>54</td>\n",
       "      <td>65</td>\n",
       "      <td>69</td>\n",
       "      <td>68</td>\n",
       "      <td>70</td>\n",
       "      <td>...</td>\n",
       "      <td>1987-07-29 00:00:00</td>\n",
       "      <td>8</td>\n",
       "      <td>Right</td>\n",
       "      <td>California</td>\n",
       "      <td>3900000</td>\n",
       "      <td>100000</td>\n",
       "      <td>72.928878</td>\n",
       "      <td>69.883439</td>\n",
       "      <td>70.156925</td>\n",
       "      <td>70.989747</td>\n",
       "    </tr>\n",
       "  </tbody>\n",
       "</table>\n",
       "<p>41 rows × 71 columns</p>\n",
       "</div>"
      ],
      "text/plain": [
       "            Team  Jersey #              Name  Age Position  Overall  \\\n",
       "7        Cowboys        72  Travis Frederick   27        C       96   \n",
       "26        Eagles        62       Jason Kelce   30        C       92   \n",
       "49       Falcons        51         Alex Mack   32        C       90   \n",
       "183       Saints        60         Max Unger   32        C       82   \n",
       "220        49ers        58   Weston Richburg   27        C       81   \n",
       "297   Buccaneers        66       Ryan Jensen   27        C       78   \n",
       "300     Seahawks        68      Justin Britt   27        C       78   \n",
       "306         Rams        65     John Sullivan   33        C       78   \n",
       "323      Packers        63     Corey Linsley   27        C       77   \n",
       "360        Lions        77      Frank Ragnow   22        C       76   \n",
       "365     Panthers        67        Ryan Kalil   33        C       76   \n",
       "405      Vikings        65       Pat Elflein   24        C       75   \n",
       "439        Bears        68     James Daniels   20        C       74   \n",
       "455    Cardinals        53      A.Q. Shipley   32        C       74   \n",
       "508       Giants        69       Brett Jones   27        C       72   \n",
       "566        Lions        60    Graham Glasgow   26        C       71   \n",
       "640     Panthers        69      Tyler Larsen   27        C       70   \n",
       "716        49ers        68       Mike Person   30        C       69   \n",
       "742     Redskins        73    Chase Roullier   25        C       68   \n",
       "841    Cardinals        64        Mason Cole   22        C       67   \n",
       "886       Saints        61     Josh LeRibeus   29        C       66   \n",
       "892         Rams        55       Brian Allen   22        C       66   \n",
       "911       Eagles        73     Isaac Seumalo   24        C       65   \n",
       "937      Falcons        64       Sean Harlow   23        C       65   \n",
       "953     Seahawks        53         Joey Hunt   24        C       65   \n",
       "969      Cowboys        73        Joe Looney   28        C       64   \n",
       "987        Bears        55     Hroniss Grasu   27        C       64   \n",
       "1033       Bears        64         Eric Kush   28        C       63   \n",
       "1059      Giants        75       Jon Halapio   27        C       62   \n",
       "1071    Panthers        61       Kyle Friend   24        C       62   \n",
       "1077      Saints        64        Will Clapp   21        C       62   \n",
       "1095     Packers        54        Dillon Day   26        C       61   \n",
       "1111      Saints        63       Cameron Tom   23        C       61   \n",
       "1128    Redskins        74  Demetrius Rhaney   26        C       60   \n",
       "1131     Vikings        67  Cornelius Edison   25        C       60   \n",
       "1141   Cardinals        66        Josh Allen   26        C       60   \n",
       "1144   Cardinals        62     Daniel Munyer   26        C       60   \n",
       "1149      Eagles        64          Jon Toth   24        C       59   \n",
       "1159        Rams        72       Aaron Neary   25        C       59   \n",
       "1165     Falcons        61   J.C. Hassenauer   22        C       57   \n",
       "1169    Redskins        57     Nick Sundberg   31        C       54   \n",
       "\n",
       "      Awareness  Agility  Speed  Acceleration       ...        \\\n",
       "7            98       69     56            80       ...         \n",
       "26           97       71     74            83       ...         \n",
       "49           93       61     63            79       ...         \n",
       "183          95       59     60            78       ...         \n",
       "220          89       66     68            80       ...         \n",
       "297          85       64     62            76       ...         \n",
       "300          90       65     66            82       ...         \n",
       "306          87       61     56            76       ...         \n",
       "323          88       66     71            80       ...         \n",
       "360          67       58     73            82       ...         \n",
       "365          90       67     69            80       ...         \n",
       "405          82       60     62            76       ...         \n",
       "439          70       73     61            75       ...         \n",
       "455          86       58     62            80       ...         \n",
       "508          68       58     68            74       ...         \n",
       "566          77       56     68            81       ...         \n",
       "640          70       54     66            71       ...         \n",
       "716          69       58     67            80       ...         \n",
       "742          68       63     59            74       ...         \n",
       "841          59       58     61            77       ...         \n",
       "886          69       60     60            78       ...         \n",
       "892          58       58     62            76       ...         \n",
       "911          68       72     66            83       ...         \n",
       "937          62       63     67            80       ...         \n",
       "953          63       68     63            76       ...         \n",
       "969          66       59     70            74       ...         \n",
       "987          74       68     71            84       ...         \n",
       "1033         64       69     69            82       ...         \n",
       "1059         59       52     60            79       ...         \n",
       "1071         43       68     69            84       ...         \n",
       "1077         62       49     59            76       ...         \n",
       "1095         62       56     64            82       ...         \n",
       "1111         48       57     76            83       ...         \n",
       "1128         50       71     75            82       ...         \n",
       "1131         49       56     60            73       ...         \n",
       "1141         47       67     66            77       ...         \n",
       "1144         49       69     64            81       ...         \n",
       "1149         60       50     55            76       ...         \n",
       "1159         57       72     67            81       ...         \n",
       "1165         50       55     65            78       ...         \n",
       "1169         65       69     68            70       ...         \n",
       "\n",
       "                Birthdate  Years Pro  Handedness          College  \\\n",
       "7     1991-03-18 00:00:00          5       Right        Wisconsin   \n",
       "26    1987-11-05 00:00:00          7       Right       Cincinnati   \n",
       "49    1985-11-19 00:00:00          9       Right       California   \n",
       "183   1986-04-14 00:00:00          9       Right           Oregon   \n",
       "220   1991-07-09 00:00:00          4       Right     Colorado St.   \n",
       "297   1991-05-27 00:00:00          5       Right       CSU-Pueblo   \n",
       "300   1991-05-29 00:00:00          4       Right         Missouri   \n",
       "306   1985-08-08 00:00:00         10       Right       Notre Dame   \n",
       "323   1991-07-27 00:00:00          4       Right       Ohio State   \n",
       "360   1996-05-17 00:00:00          0       Right         Arkansas   \n",
       "365   1985-03-29 00:00:00         11       Right              USC   \n",
       "405   1994-07-06 00:00:00          1       Right       Ohio State   \n",
       "439   1997-09-13 00:00:00          0       Right             Iowa   \n",
       "455   1986-05-22 00:00:00          8       Right       Penn State   \n",
       "508   1991-07-29 00:00:00          4       Right           Regina   \n",
       "566   1992-08-19 00:00:00          2       Right         Michigan   \n",
       "640   1991-07-08 00:00:00          3       Right       Utah State   \n",
       "716   1988-06-17 00:00:00          7       Right    Montana State   \n",
       "742   1993-08-23 00:00:00          1       Right          Wyoming   \n",
       "841   1996-03-28 00:00:00          0       Right         Michigan   \n",
       "886   1989-07-02 00:00:00          6       Right              SMU   \n",
       "892   1995-10-11 00:00:00          0       Right     Michigan St.   \n",
       "911   1993-10-29 00:00:00          2       Right     Oregon State   \n",
       "937   1995-03-28 00:00:00          1       Right     Oregon State   \n",
       "953   1994-02-22 00:00:00          2       Right              TCU   \n",
       "969   1990-08-31 00:00:00          6       Right      Wake Forest   \n",
       "987   1991-08-12 00:00:00          3       Right           Oregon   \n",
       "1033  1989-09-09 00:00:00          5       Right       California   \n",
       "1059  1991-06-23 00:00:00          4       Right          Florida   \n",
       "1071  1994-04-03 00:00:00          2       Right           Temple   \n",
       "1077  1996-09-19 00:00:00          0       Right              LSU   \n",
       "1095  1991-10-17 00:00:00          2       Right  Mississippi St.   \n",
       "1111  1995-07-21 00:00:00          1       Right    Southern Miss   \n",
       "1128  1992-06-22 00:00:00          4       Right    Tennessee St.   \n",
       "1131  1993-07-10 00:00:00          2       Right     Portland St.   \n",
       "1141  1991-10-30 00:00:00          4       Right        UL Monroe   \n",
       "1144  1992-03-04 00:00:00          3       Right         Colorado   \n",
       "1149  1994-02-11 00:00:00          1       Right         Kentucky   \n",
       "1159  1992-11-15 00:00:00          2       Right    Eastern Wash.   \n",
       "1165  1995-09-15 00:00:00          0       Right          Alabama   \n",
       "1169  1987-07-29 00:00:00          8       Right       California   \n",
       "\n",
       "      Total Salary  Signing Bonus    lb_mean    dl_mean  secondary_mean  \\\n",
       "7         39190000        6370000  70.262983  73.217870       72.218303   \n",
       "26        34500000        6000000  70.664328  73.994096       77.185263   \n",
       "49        44000000       12500000  66.770711  70.954488       74.760750   \n",
       "183       14300000        7000000  76.013789  73.280574       71.878893   \n",
       "220       38200000        9300000  70.278342  71.546803       70.240746   \n",
       "297       32000000       10000000  70.491456  72.831000       69.694116   \n",
       "300       18400000        6500000  77.051311  71.856000       73.472171   \n",
       "306        8375000        2000000  67.010120  74.587247       73.904963   \n",
       "323       17450000        6000000  69.901153  72.562383       69.370878   \n",
       "360       11780374        6640000  70.211000  70.610332       72.287040   \n",
       "365       20000000        5000000  76.358925  72.180656       70.464562   \n",
       "405        3793000         940000  70.197544  72.082158       75.799479   \n",
       "439        6950270        3130000  70.830300  71.524031       71.589930   \n",
       "455        2275000         720000  68.131383  70.782495       69.595326   \n",
       "508        2914000              0  68.318783  71.585678       70.630069   \n",
       "566        3100000         640000  70.211000  70.610332       72.287040   \n",
       "640         630000              0  76.358925  72.180656       70.464562   \n",
       "716         915000              0  70.278342  71.546803       70.240746   \n",
       "742        2500000         140000  72.928878  69.883439       70.156925   \n",
       "841        3325109         760000  68.131383  70.782495       69.595326   \n",
       "886         790000              0  76.013789  73.280574       71.878893   \n",
       "892        3101953         680000  67.010120  74.587247       73.904963   \n",
       "911        3333000         760000  70.664328  73.994096       77.185263   \n",
       "937        2904000         540000  66.770711  70.954488       74.760750   \n",
       "953         630000              0  77.051311  71.856000       73.472171   \n",
       "969        1850000         250000  70.262983  73.217870       72.218303   \n",
       "987        3000000        1000000  70.830300  71.524031       71.589930   \n",
       "1033       1240000         500000  70.830300  71.524031       71.589930   \n",
       "1059        555000              0  68.318783  71.585678       70.630069   \n",
       "1071        480000              0  76.358925  72.180656       70.464562   \n",
       "1077       2488142          70000  76.013789  73.280574       71.878893   \n",
       "1095        555000              0  69.901153  72.562383       69.370878   \n",
       "1111        555000              0  76.013789  73.280574       71.878893   \n",
       "1128        705000              0  72.928878  69.883439       70.156925   \n",
       "1131        630000              0  70.197544  72.082158       75.799479   \n",
       "1141       1350000              0  68.131383  70.782495       69.595326   \n",
       "1144        480000              0  68.131383  70.782495       69.595326   \n",
       "1149       1050000              0  70.664328  73.994096       77.185263   \n",
       "1159        555000              0  67.010120  74.587247       73.904963   \n",
       "1165       1710000              0  66.770711  70.954488       74.760750   \n",
       "1169       3900000         100000  72.928878  69.883439       70.156925   \n",
       "\n",
       "      defense_rating  \n",
       "7          71.899719  \n",
       "26         73.947896  \n",
       "49         70.828650  \n",
       "183        73.724419  \n",
       "220        70.688630  \n",
       "297        71.005524  \n",
       "300        74.126494  \n",
       "306        71.834110  \n",
       "323        70.611471  \n",
       "360        71.036124  \n",
       "365        73.001381  \n",
       "405        72.693061  \n",
       "439        71.314753  \n",
       "455        69.503068  \n",
       "508        70.178177  \n",
       "566        71.036124  \n",
       "640        73.001381  \n",
       "716        70.688630  \n",
       "742        70.989747  \n",
       "841        69.503068  \n",
       "886        73.724419  \n",
       "892        71.834110  \n",
       "911        73.947896  \n",
       "937        70.828650  \n",
       "953        74.126494  \n",
       "969        71.899719  \n",
       "987        71.314753  \n",
       "1033       71.314753  \n",
       "1059       70.178177  \n",
       "1071       73.001381  \n",
       "1077       73.724419  \n",
       "1095       70.611471  \n",
       "1111       73.724419  \n",
       "1128       70.989747  \n",
       "1131       72.693061  \n",
       "1141       69.503068  \n",
       "1144       69.503068  \n",
       "1149       73.947896  \n",
       "1159       71.834110  \n",
       "1165       70.828650  \n",
       "1169       70.989747  \n",
       "\n",
       "[41 rows x 71 columns]"
      ]
     },
     "execution_count": 176,
     "metadata": {},
     "output_type": "execute_result"
    }
   ],
   "source": []
  },
  {
   "cell_type": "code",
   "execution_count": 186,
   "metadata": {},
   "outputs": [
    {
     "data": {
      "text/plain": [
       "array(['Acceleration', 'Age', 'Agility', 'Awareness', 'BC Vision',\n",
       "       'Birthdate', 'Block Shedding', 'Break Sack', 'Break Tackle',\n",
       "       'CAverage Overall', 'CAveragePass Block', 'CAverageRun Block',\n",
       "       'CStarter Overall', 'CStarterPass Block', 'CStarterRun Block',\n",
       "       'Carrying', 'Catch', 'Catch in Traffic', 'College',\n",
       "       'Deep Route Running', 'Elusiveness', 'Finesse Moves', 'Handedness',\n",
       "       'Height', 'Hit Power', 'Impact Blocking', 'Injury', 'Jersey #',\n",
       "       'Juke Move', 'Jumping', 'Kick Accuracy', 'Kick Power',\n",
       "       'Kick Return', 'LGAverage Overall', 'LGAveragePass Block',\n",
       "       'LGAverageRun Block', 'LGStarter Overall', 'LGStarterPass Block',\n",
       "       'LGStarterRun Block', 'LTAverage Overall', 'LTAveragePass Block',\n",
       "       'LTAverageRun Block', 'LTStarter Overall', 'LTStarterPass Block',\n",
       "       'LTStarterRun Block', 'Lead Block', 'Man Coverage',\n",
       "       'Medium Route Running', 'Name', 'Overall', 'Pass Block',\n",
       "       'Pass Block Finesse', 'Pass Block Power', 'Play Recognition',\n",
       "       'Playaction', 'Position', 'Power Moves', 'Press', 'Pursuit',\n",
       "       'RGAverage Overall', 'RGAveragePass Block', 'RGAverageRun Block',\n",
       "       'RGStarter Overall', 'RGStarterPass Block', 'RGStarterRun Block',\n",
       "       'RTAverage Overall', 'RTAveragePass Block', 'RTAverageRun Block',\n",
       "       'RTStarter Overall', 'RTStarterPass Block', 'RTStarterRun Block',\n",
       "       'Release', 'Run Block', 'Run Block Finesse', 'Run Block Power',\n",
       "       'Short Route Runing', 'Signing Bonus', 'Spec. Catch', 'Speed',\n",
       "       'Spin Move', 'Stamina', 'Stiff Arm', 'Strength', 'Tackle', 'Team',\n",
       "       'Throw Accuracy Deep', 'Throw Accuracy Mid',\n",
       "       'Throw Accuracy Short', 'Throw Power', 'Throw Under Pressure',\n",
       "       'Throw on the Run', 'Total Salary', 'Toughness', 'Trucking',\n",
       "       'Weight', 'Years Pro', 'Zone Coverage', 'defense_rating',\n",
       "       'dl_mean', 'lb_mean', 'secondary_mean'], dtype=object)"
      ]
     },
     "execution_count": 186,
     "metadata": {},
     "output_type": "execute_result"
    }
   ],
   "source": [
    "##NFC EAST O-Lines\n",
    "cowboysline.columns.values"
   ]
  },
  {
   "cell_type": "code",
   "execution_count": 190,
   "metadata": {},
   "outputs": [
    {
     "data": {
      "text/plain": [
       "(12, 101)"
      ]
     },
     "execution_count": 190,
     "metadata": {},
     "output_type": "execute_result"
    }
   ],
   "source": [
    "cowboysline.shape"
   ]
  },
  {
   "cell_type": "code",
   "execution_count": 192,
   "metadata": {},
   "outputs": [],
   "source": [
    "def cleaner(a, b, c, d):\n",
    "    x = a[a['Position'] == b]\n",
    "    x[b + 'Starter Overall'] = x['Overall'].max()\n",
    "    x[b+'Average Overall'] = np.mean(x['Overall'])\n",
    "    x[b + 'Starter' + c] = x[c].max()\n",
    "    x[b +'Average'+ c] = np.mean(x[c])\n",
    "    x[b+'Starter'+d] = x[d].max()\n",
    "    x[b+'Average'+ d] = np.mean(x[d])\n",
    "    return x"
   ]
  },
  {
   "cell_type": "code",
   "execution_count": 191,
   "metadata": {},
   "outputs": [],
   "source": [
    "def nafill(data, column, cleanervalues):\n",
    "    data[column] = data[column].fillna(cleanervalue)\n",
    "    return data"
   ]
  },
  {
   "cell_type": "code",
   "execution_count": null,
   "metadata": {},
   "outputs": [],
   "source": []
  },
  {
   "cell_type": "code",
   "execution_count": null,
   "metadata": {},
   "outputs": [],
   "source": []
  },
  {
   "cell_type": "code",
   "execution_count": 182,
   "metadata": {},
   "outputs": [
    {
     "data": {
      "text/plain": [
       "Acceleration             0\n",
       "Age                      0\n",
       "Agility                  0\n",
       "Awareness                0\n",
       "BC Vision                0\n",
       "Birthdate                0\n",
       "Block Shedding           0\n",
       "Break Sack               0\n",
       "Break Tackle             0\n",
       "CAverage Overall        10\n",
       "CAveragePass Block      10\n",
       "CAverageRun Block       10\n",
       "CStarter Overall        10\n",
       "CStarterPass Block      10\n",
       "CStarterRun Block       10\n",
       "Carrying                 0\n",
       "Catch                    0\n",
       "Catch in Traffic         0\n",
       "College                  0\n",
       "Deep Route Running       0\n",
       "Elusiveness              0\n",
       "Finesse Moves            0\n",
       "Handedness               0\n",
       "Height                   0\n",
       "Hit Power                0\n",
       "Impact Blocking          0\n",
       "Injury                   0\n",
       "Jersey #                 0\n",
       "Juke Move                0\n",
       "Jumping                  0\n",
       "                        ..\n",
       "Release                  0\n",
       "Run Block                0\n",
       "Run Block Finesse        0\n",
       "Run Block Power          0\n",
       "Short Route Runing       0\n",
       "Signing Bonus            0\n",
       "Spec. Catch              0\n",
       "Speed                    0\n",
       "Spin Move                0\n",
       "Stamina                  0\n",
       "Stiff Arm                0\n",
       "Strength                 0\n",
       "Tackle                   0\n",
       "Team                     0\n",
       "Throw Accuracy Deep      0\n",
       "Throw Accuracy Mid       0\n",
       "Throw Accuracy Short     0\n",
       "Throw Power              0\n",
       "Throw Under Pressure     0\n",
       "Throw on the Run         0\n",
       "Total Salary             0\n",
       "Toughness                0\n",
       "Trucking                 0\n",
       "Weight                   0\n",
       "Years Pro                0\n",
       "Zone Coverage            0\n",
       "defense_rating           0\n",
       "dl_mean                  0\n",
       "lb_mean                  0\n",
       "secondary_mean           0\n",
       "Length: 101, dtype: int64"
      ]
     },
     "execution_count": 182,
     "metadata": {},
     "output_type": "execute_result"
    }
   ],
   "source": [
    "cowboyslt = cleaner(cowboys, 'LT', 'Pass Block', 'Run Block')\n",
    "cowboyslg = cleaner(cowboys, 'LG', 'Pass Block', 'Run Block')\n",
    "cowboysc = cleaner(cowboys, 'C', 'Pass Block', 'Run Block')\n",
    "cowboysrg = cleaner(cowboys, 'RG', 'Pass Block', 'Run Block')\n",
    "cowboysrt = cleaner(cowboys, 'RT', 'Pass Block', 'Run Block')\n",
    "cowboysline = pd.concat([cowboyslt, cowboyslg, cowboysc, cowboysrg, cowboysrt])\n",
    "cowboysline = nafill(cowboysline, cowboysline[''])\n",
    "cowboysline['LGAveragePass Block'] = cowboysline['LGAveragePass Block'].fillna()"
   ]
  },
  {
   "cell_type": "code",
   "execution_count": null,
   "metadata": {},
   "outputs": [],
   "source": []
  },
  {
   "cell_type": "code",
   "execution_count": 181,
   "metadata": {},
   "outputs": [
    {
     "data": {
      "text/html": [
       "<div>\n",
       "<style scoped>\n",
       "    .dataframe tbody tr th:only-of-type {\n",
       "        vertical-align: middle;\n",
       "    }\n",
       "\n",
       "    .dataframe tbody tr th {\n",
       "        vertical-align: top;\n",
       "    }\n",
       "\n",
       "    .dataframe thead th {\n",
       "        text-align: right;\n",
       "    }\n",
       "</style>\n",
       "<table border=\"1\" class=\"dataframe\">\n",
       "  <thead>\n",
       "    <tr style=\"text-align: right;\">\n",
       "      <th></th>\n",
       "      <th>Acceleration</th>\n",
       "      <th>Age</th>\n",
       "      <th>Agility</th>\n",
       "      <th>Awareness</th>\n",
       "      <th>BC Vision</th>\n",
       "      <th>Birthdate</th>\n",
       "      <th>Block Shedding</th>\n",
       "      <th>Break Sack</th>\n",
       "      <th>Break Tackle</th>\n",
       "      <th>CAverage Overall</th>\n",
       "      <th>...</th>\n",
       "      <th>Total Salary</th>\n",
       "      <th>Toughness</th>\n",
       "      <th>Trucking</th>\n",
       "      <th>Weight</th>\n",
       "      <th>Years Pro</th>\n",
       "      <th>Zone Coverage</th>\n",
       "      <th>defense_rating</th>\n",
       "      <th>dl_mean</th>\n",
       "      <th>lb_mean</th>\n",
       "      <th>secondary_mean</th>\n",
       "    </tr>\n",
       "  </thead>\n",
       "  <tbody>\n",
       "    <tr>\n",
       "      <th>63</th>\n",
       "      <td>74</td>\n",
       "      <td>36</td>\n",
       "      <td>64</td>\n",
       "      <td>97</td>\n",
       "      <td>10</td>\n",
       "      <td>1982-01-22 00:00:00</td>\n",
       "      <td>43</td>\n",
       "      <td>12</td>\n",
       "      <td>9</td>\n",
       "      <td>NaN</td>\n",
       "      <td>...</td>\n",
       "      <td>30500000</td>\n",
       "      <td>91</td>\n",
       "      <td>10</td>\n",
       "      <td>328</td>\n",
       "      <td>14</td>\n",
       "      <td>12</td>\n",
       "      <td>73.947896</td>\n",
       "      <td>73.994096</td>\n",
       "      <td>70.664328</td>\n",
       "      <td>77.185263</td>\n",
       "    </tr>\n",
       "    <tr>\n",
       "      <th>1196</th>\n",
       "      <td>80</td>\n",
       "      <td>25</td>\n",
       "      <td>69</td>\n",
       "      <td>77</td>\n",
       "      <td>25</td>\n",
       "      <td>1993-06-16 00:00:00</td>\n",
       "      <td>40</td>\n",
       "      <td>12</td>\n",
       "      <td>8</td>\n",
       "      <td>NaN</td>\n",
       "      <td>...</td>\n",
       "      <td>2560000</td>\n",
       "      <td>88</td>\n",
       "      <td>29</td>\n",
       "      <td>320</td>\n",
       "      <td>2</td>\n",
       "      <td>12</td>\n",
       "      <td>73.947896</td>\n",
       "      <td>73.994096</td>\n",
       "      <td>70.664328</td>\n",
       "      <td>77.185263</td>\n",
       "    </tr>\n",
       "    <tr>\n",
       "      <th>2175</th>\n",
       "      <td>74</td>\n",
       "      <td>21</td>\n",
       "      <td>69</td>\n",
       "      <td>46</td>\n",
       "      <td>62</td>\n",
       "      <td>1997-03-31 00:00:00</td>\n",
       "      <td>36</td>\n",
       "      <td>12</td>\n",
       "      <td>43</td>\n",
       "      <td>NaN</td>\n",
       "      <td>...</td>\n",
       "      <td>2504395</td>\n",
       "      <td>93</td>\n",
       "      <td>74</td>\n",
       "      <td>346</td>\n",
       "      <td>0</td>\n",
       "      <td>17</td>\n",
       "      <td>73.947896</td>\n",
       "      <td>73.994096</td>\n",
       "      <td>70.664328</td>\n",
       "      <td>77.185263</td>\n",
       "    </tr>\n",
       "    <tr>\n",
       "      <th>2176</th>\n",
       "      <td>78</td>\n",
       "      <td>21</td>\n",
       "      <td>39</td>\n",
       "      <td>53</td>\n",
       "      <td>10</td>\n",
       "      <td>1996-09-19 00:00:00</td>\n",
       "      <td>20</td>\n",
       "      <td>12</td>\n",
       "      <td>8</td>\n",
       "      <td>NaN</td>\n",
       "      <td>...</td>\n",
       "      <td>1710000</td>\n",
       "      <td>82</td>\n",
       "      <td>25</td>\n",
       "      <td>317</td>\n",
       "      <td>0</td>\n",
       "      <td>15</td>\n",
       "      <td>73.947896</td>\n",
       "      <td>73.994096</td>\n",
       "      <td>70.664328</td>\n",
       "      <td>77.185263</td>\n",
       "    </tr>\n",
       "    <tr>\n",
       "      <th>527</th>\n",
       "      <td>77</td>\n",
       "      <td>29</td>\n",
       "      <td>64</td>\n",
       "      <td>84</td>\n",
       "      <td>10</td>\n",
       "      <td>1989-03-22 00:00:00</td>\n",
       "      <td>16</td>\n",
       "      <td>12</td>\n",
       "      <td>8</td>\n",
       "      <td>NaN</td>\n",
       "      <td>...</td>\n",
       "      <td>5250000</td>\n",
       "      <td>94</td>\n",
       "      <td>10</td>\n",
       "      <td>305</td>\n",
       "      <td>7</td>\n",
       "      <td>13</td>\n",
       "      <td>73.947896</td>\n",
       "      <td>73.994096</td>\n",
       "      <td>70.664328</td>\n",
       "      <td>77.185263</td>\n",
       "    </tr>\n",
       "    <tr>\n",
       "      <th>1330</th>\n",
       "      <td>77</td>\n",
       "      <td>26</td>\n",
       "      <td>64</td>\n",
       "      <td>76</td>\n",
       "      <td>15</td>\n",
       "      <td>1991-09-14 00:00:00</td>\n",
       "      <td>25</td>\n",
       "      <td>12</td>\n",
       "      <td>5</td>\n",
       "      <td>NaN</td>\n",
       "      <td>...</td>\n",
       "      <td>2000000</td>\n",
       "      <td>94</td>\n",
       "      <td>40</td>\n",
       "      <td>323</td>\n",
       "      <td>5</td>\n",
       "      <td>15</td>\n",
       "      <td>73.947896</td>\n",
       "      <td>73.994096</td>\n",
       "      <td>70.664328</td>\n",
       "      <td>77.185263</td>\n",
       "    </tr>\n",
       "    <tr>\n",
       "      <th>2100</th>\n",
       "      <td>76</td>\n",
       "      <td>23</td>\n",
       "      <td>59</td>\n",
       "      <td>57</td>\n",
       "      <td>10</td>\n",
       "      <td>1995-01-07 00:00:00</td>\n",
       "      <td>25</td>\n",
       "      <td>12</td>\n",
       "      <td>5</td>\n",
       "      <td>NaN</td>\n",
       "      <td>...</td>\n",
       "      <td>1665000</td>\n",
       "      <td>82</td>\n",
       "      <td>25</td>\n",
       "      <td>325</td>\n",
       "      <td>0</td>\n",
       "      <td>13</td>\n",
       "      <td>73.947896</td>\n",
       "      <td>73.994096</td>\n",
       "      <td>70.664328</td>\n",
       "      <td>77.185263</td>\n",
       "    </tr>\n",
       "    <tr>\n",
       "      <th>48</th>\n",
       "      <td>83</td>\n",
       "      <td>30</td>\n",
       "      <td>71</td>\n",
       "      <td>97</td>\n",
       "      <td>10</td>\n",
       "      <td>1987-11-05 00:00:00</td>\n",
       "      <td>55</td>\n",
       "      <td>12</td>\n",
       "      <td>14</td>\n",
       "      <td>72.0</td>\n",
       "      <td>...</td>\n",
       "      <td>34500000</td>\n",
       "      <td>65</td>\n",
       "      <td>10</td>\n",
       "      <td>295</td>\n",
       "      <td>7</td>\n",
       "      <td>35</td>\n",
       "      <td>73.947896</td>\n",
       "      <td>73.994096</td>\n",
       "      <td>70.664328</td>\n",
       "      <td>77.185263</td>\n",
       "    </tr>\n",
       "    <tr>\n",
       "      <th>1932</th>\n",
       "      <td>83</td>\n",
       "      <td>24</td>\n",
       "      <td>72</td>\n",
       "      <td>68</td>\n",
       "      <td>10</td>\n",
       "      <td>1993-10-29 00:00:00</td>\n",
       "      <td>35</td>\n",
       "      <td>12</td>\n",
       "      <td>8</td>\n",
       "      <td>72.0</td>\n",
       "      <td>...</td>\n",
       "      <td>3333000</td>\n",
       "      <td>81</td>\n",
       "      <td>20</td>\n",
       "      <td>303</td>\n",
       "      <td>2</td>\n",
       "      <td>20</td>\n",
       "      <td>73.947896</td>\n",
       "      <td>73.994096</td>\n",
       "      <td>70.664328</td>\n",
       "      <td>77.185263</td>\n",
       "    </tr>\n",
       "    <tr>\n",
       "      <th>2303</th>\n",
       "      <td>76</td>\n",
       "      <td>24</td>\n",
       "      <td>50</td>\n",
       "      <td>60</td>\n",
       "      <td>10</td>\n",
       "      <td>1994-02-11 00:00:00</td>\n",
       "      <td>32</td>\n",
       "      <td>19</td>\n",
       "      <td>19</td>\n",
       "      <td>72.0</td>\n",
       "      <td>...</td>\n",
       "      <td>1050000</td>\n",
       "      <td>86</td>\n",
       "      <td>10</td>\n",
       "      <td>306</td>\n",
       "      <td>1</td>\n",
       "      <td>19</td>\n",
       "      <td>73.947896</td>\n",
       "      <td>73.994096</td>\n",
       "      <td>70.664328</td>\n",
       "      <td>77.185263</td>\n",
       "    </tr>\n",
       "    <tr>\n",
       "      <th>37</th>\n",
       "      <td>83</td>\n",
       "      <td>29</td>\n",
       "      <td>58</td>\n",
       "      <td>89</td>\n",
       "      <td>10</td>\n",
       "      <td>1989-08-19 00:00:00</td>\n",
       "      <td>30</td>\n",
       "      <td>12</td>\n",
       "      <td>5</td>\n",
       "      <td>NaN</td>\n",
       "      <td>...</td>\n",
       "      <td>15790000</td>\n",
       "      <td>78</td>\n",
       "      <td>30</td>\n",
       "      <td>335</td>\n",
       "      <td>6</td>\n",
       "      <td>12</td>\n",
       "      <td>73.947896</td>\n",
       "      <td>73.994096</td>\n",
       "      <td>70.664328</td>\n",
       "      <td>77.185263</td>\n",
       "    </tr>\n",
       "    <tr>\n",
       "      <th>1700</th>\n",
       "      <td>70</td>\n",
       "      <td>23</td>\n",
       "      <td>55</td>\n",
       "      <td>54</td>\n",
       "      <td>12</td>\n",
       "      <td>1994-12-16 00:00:00</td>\n",
       "      <td>22</td>\n",
       "      <td>12</td>\n",
       "      <td>18</td>\n",
       "      <td>NaN</td>\n",
       "      <td>...</td>\n",
       "      <td>2547787</td>\n",
       "      <td>85</td>\n",
       "      <td>24</td>\n",
       "      <td>338</td>\n",
       "      <td>0</td>\n",
       "      <td>12</td>\n",
       "      <td>73.947896</td>\n",
       "      <td>73.994096</td>\n",
       "      <td>70.664328</td>\n",
       "      <td>77.185263</td>\n",
       "    </tr>\n",
       "    <tr>\n",
       "      <th>2225</th>\n",
       "      <td>78</td>\n",
       "      <td>25</td>\n",
       "      <td>62</td>\n",
       "      <td>45</td>\n",
       "      <td>10</td>\n",
       "      <td>1992-10-29 00:00:00</td>\n",
       "      <td>20</td>\n",
       "      <td>12</td>\n",
       "      <td>5</td>\n",
       "      <td>NaN</td>\n",
       "      <td>...</td>\n",
       "      <td>555000</td>\n",
       "      <td>81</td>\n",
       "      <td>25</td>\n",
       "      <td>321</td>\n",
       "      <td>2</td>\n",
       "      <td>15</td>\n",
       "      <td>73.947896</td>\n",
       "      <td>73.994096</td>\n",
       "      <td>70.664328</td>\n",
       "      <td>77.185263</td>\n",
       "    </tr>\n",
       "    <tr>\n",
       "      <th>61</th>\n",
       "      <td>87</td>\n",
       "      <td>28</td>\n",
       "      <td>77</td>\n",
       "      <td>94</td>\n",
       "      <td>60</td>\n",
       "      <td>1990-05-08 00:00:00</td>\n",
       "      <td>56</td>\n",
       "      <td>34</td>\n",
       "      <td>30</td>\n",
       "      <td>NaN</td>\n",
       "      <td>...</td>\n",
       "      <td>28790000</td>\n",
       "      <td>85</td>\n",
       "      <td>65</td>\n",
       "      <td>317</td>\n",
       "      <td>5</td>\n",
       "      <td>20</td>\n",
       "      <td>73.947896</td>\n",
       "      <td>73.994096</td>\n",
       "      <td>70.664328</td>\n",
       "      <td>77.185263</td>\n",
       "    </tr>\n",
       "    <tr>\n",
       "      <th>1927</th>\n",
       "      <td>87</td>\n",
       "      <td>27</td>\n",
       "      <td>72</td>\n",
       "      <td>62</td>\n",
       "      <td>45</td>\n",
       "      <td>1991-02-22 00:00:00</td>\n",
       "      <td>67</td>\n",
       "      <td>12</td>\n",
       "      <td>12</td>\n",
       "      <td>NaN</td>\n",
       "      <td>...</td>\n",
       "      <td>630000</td>\n",
       "      <td>85</td>\n",
       "      <td>52</td>\n",
       "      <td>305</td>\n",
       "      <td>4</td>\n",
       "      <td>35</td>\n",
       "      <td>73.947896</td>\n",
       "      <td>73.994096</td>\n",
       "      <td>70.664328</td>\n",
       "      <td>77.185263</td>\n",
       "    </tr>\n",
       "  </tbody>\n",
       "</table>\n",
       "<p>15 rows × 101 columns</p>\n",
       "</div>"
      ],
      "text/plain": [
       "      Acceleration  Age  Agility  Awareness  BC Vision            Birthdate  \\\n",
       "63              74   36       64         97         10  1982-01-22 00:00:00   \n",
       "1196            80   25       69         77         25  1993-06-16 00:00:00   \n",
       "2175            74   21       69         46         62  1997-03-31 00:00:00   \n",
       "2176            78   21       39         53         10  1996-09-19 00:00:00   \n",
       "527             77   29       64         84         10  1989-03-22 00:00:00   \n",
       "1330            77   26       64         76         15  1991-09-14 00:00:00   \n",
       "2100            76   23       59         57         10  1995-01-07 00:00:00   \n",
       "48              83   30       71         97         10  1987-11-05 00:00:00   \n",
       "1932            83   24       72         68         10  1993-10-29 00:00:00   \n",
       "2303            76   24       50         60         10  1994-02-11 00:00:00   \n",
       "37              83   29       58         89         10  1989-08-19 00:00:00   \n",
       "1700            70   23       55         54         12  1994-12-16 00:00:00   \n",
       "2225            78   25       62         45         10  1992-10-29 00:00:00   \n",
       "61              87   28       77         94         60  1990-05-08 00:00:00   \n",
       "1927            87   27       72         62         45  1991-02-22 00:00:00   \n",
       "\n",
       "      Block Shedding  Break Sack  Break Tackle  CAverage Overall  \\\n",
       "63                43          12             9               NaN   \n",
       "1196              40          12             8               NaN   \n",
       "2175              36          12            43               NaN   \n",
       "2176              20          12             8               NaN   \n",
       "527               16          12             8               NaN   \n",
       "1330              25          12             5               NaN   \n",
       "2100              25          12             5               NaN   \n",
       "48                55          12            14              72.0   \n",
       "1932              35          12             8              72.0   \n",
       "2303              32          19            19              72.0   \n",
       "37                30          12             5               NaN   \n",
       "1700              22          12            18               NaN   \n",
       "2225              20          12             5               NaN   \n",
       "61                56          34            30               NaN   \n",
       "1927              67          12            12               NaN   \n",
       "\n",
       "           ...        Total Salary  Toughness  Trucking  Weight  Years Pro  \\\n",
       "63         ...            30500000         91        10     328         14   \n",
       "1196       ...             2560000         88        29     320          2   \n",
       "2175       ...             2504395         93        74     346          0   \n",
       "2176       ...             1710000         82        25     317          0   \n",
       "527        ...             5250000         94        10     305          7   \n",
       "1330       ...             2000000         94        40     323          5   \n",
       "2100       ...             1665000         82        25     325          0   \n",
       "48         ...            34500000         65        10     295          7   \n",
       "1932       ...             3333000         81        20     303          2   \n",
       "2303       ...             1050000         86        10     306          1   \n",
       "37         ...            15790000         78        30     335          6   \n",
       "1700       ...             2547787         85        24     338          0   \n",
       "2225       ...              555000         81        25     321          2   \n",
       "61         ...            28790000         85        65     317          5   \n",
       "1927       ...              630000         85        52     305          4   \n",
       "\n",
       "      Zone Coverage  defense_rating    dl_mean    lb_mean  secondary_mean  \n",
       "63               12       73.947896  73.994096  70.664328       77.185263  \n",
       "1196             12       73.947896  73.994096  70.664328       77.185263  \n",
       "2175             17       73.947896  73.994096  70.664328       77.185263  \n",
       "2176             15       73.947896  73.994096  70.664328       77.185263  \n",
       "527              13       73.947896  73.994096  70.664328       77.185263  \n",
       "1330             15       73.947896  73.994096  70.664328       77.185263  \n",
       "2100             13       73.947896  73.994096  70.664328       77.185263  \n",
       "48               35       73.947896  73.994096  70.664328       77.185263  \n",
       "1932             20       73.947896  73.994096  70.664328       77.185263  \n",
       "2303             19       73.947896  73.994096  70.664328       77.185263  \n",
       "37               12       73.947896  73.994096  70.664328       77.185263  \n",
       "1700             12       73.947896  73.994096  70.664328       77.185263  \n",
       "2225             15       73.947896  73.994096  70.664328       77.185263  \n",
       "61               20       73.947896  73.994096  70.664328       77.185263  \n",
       "1927             35       73.947896  73.994096  70.664328       77.185263  \n",
       "\n",
       "[15 rows x 101 columns]"
      ]
     },
     "execution_count": 181,
     "metadata": {},
     "output_type": "execute_result"
    }
   ],
   "source": [
    "eagleslt = cleaner(eagles, 'LT', 'Pass Block', 'Run Block')\n",
    "eagleslg = cleaner(eagles, 'LG', 'Pass Block', 'Run Block')\n",
    "eaglesc = cleaner(eagles, 'C', 'Pass Block', 'Run Block')\n",
    "eaglesrg = cleaner(eagles, 'RG', 'Pass Block', 'Run Block')\n",
    "eaglesrt = cleaner(eagles, 'RT', 'Pass Block', 'Run Block')\n",
    "eaglesline = pd.concat([eagleslt, eagleslg, eaglesc, eaglesrg, eaglesrt])\n",
    "eaglesline"
   ]
  },
  {
   "cell_type": "code",
   "execution_count": 170,
   "metadata": {},
   "outputs": [],
   "source": [
    "giantslt = cleaner(giants, 'LT', 'Pass Block', 'Run Block')\n",
    "giantslg = cleaner(giants, 'LG', 'Pass Block', 'Run Block')\n",
    "giantsc = cleaner(giants, 'C', 'Pass Block', 'Run Block')\n",
    "giantsrg = cleaner(giants, 'RG', 'Pass Block', 'Run Block')\n",
    "giantsrt = cleaner(giants, 'RT', 'Pass Block', 'Run Block')\n",
    "giantsline = pd.concat([giantslt, giantslg, giantsc, giantsrg, giantsrt])"
   ]
  },
  {
   "cell_type": "code",
   "execution_count": 171,
   "metadata": {},
   "outputs": [],
   "source": [
    "redskinslt = cleaner(redskins, 'LT', 'Pass Block', 'Run Block')\n",
    "redskinslg = cleaner(redskins, 'LG', 'Pass Block', 'Run Block')\n",
    "redskinsc = cleaner(redskins, 'C', 'Pass Block', 'Run Block')\n",
    "redskinsrg = cleaner(redskins, 'RG', 'Pass Block', 'Run Block')\n",
    "redskinsrt = cleaner(redskins, 'RT', 'Pass Block', 'Run Block')\n",
    "redskinsline = pd.concat([redskinslt, redskinslg, redskinsc, redskinsrg, redskinsrt])"
   ]
  },
  {
   "cell_type": "code",
   "execution_count": 153,
   "metadata": {},
   "outputs": [],
   "source": [
    "#NFC WEST O-Lines"
   ]
  },
  {
   "cell_type": "code",
   "execution_count": 154,
   "metadata": {},
   "outputs": [],
   "source": [
    "cardinalslt = cleaner(cardinals, 'LT', 'Pass Block', 'Run Block')\n",
    "cardinalslg = cleaner(cardinals, 'LG', 'Pass Block', 'Run Block')\n",
    "cardinalsc = cleaner(cardinals, 'C', 'Pass Block', 'Run Block')\n",
    "cardinalsrg = cleaner(cardinals, 'RG', 'Pass Block', 'Run Block')\n",
    "cardinalsrt = cleaner(cardinals, 'RT', 'Pass Block', 'Run Block')\n",
    "cardinalsline = pd.concat([cardinalslt, cardinalslg, cardinalsc, cardinalsrg, cardinalsrt])"
   ]
  },
  {
   "cell_type": "code",
   "execution_count": 155,
   "metadata": {},
   "outputs": [],
   "source": [
    "ninerslt = cleaner(niners, 'LT', 'Pass Block', 'Run Block')\n",
    "ninerslg = cleaner(niners, 'LG', 'Pass Block', 'Run Block')\n",
    "ninersc = cleaner(niners, 'C', 'Pass Block', 'Run Block')\n",
    "ninersrg = cleaner(niners, 'RG', 'Pass Block', 'Run Block')\n",
    "ninersrt = cleaner(niners, 'RT', 'Pass Block', 'Run Block')\n",
    "ninersline = pd.concat([ninerslt, ninerslg, ninersc, ninersrg, ninersrt])"
   ]
  },
  {
   "cell_type": "code",
   "execution_count": 156,
   "metadata": {},
   "outputs": [],
   "source": [
    "ramslt = cleaner(rams, 'LT', 'Pass Block', 'Run Block')\n",
    "ramslg = cleaner(rams, 'LG', 'Pass Block', 'Run Block')\n",
    "ramsc = cleaner(rams, 'C', 'Pass Block', 'Run Block')\n",
    "ramsrg = cleaner(rams, 'RG', 'Pass Block', 'Run Block')\n",
    "ramsrt = cleaner(rams, 'RT', 'Pass Block', 'Run Block')\n",
    "ramsline = pd.concat([ramslt, ramslg, ramsc, ramsrg, ramsrt])"
   ]
  },
  {
   "cell_type": "code",
   "execution_count": 157,
   "metadata": {},
   "outputs": [],
   "source": [
    "seahawkslt = cleaner(seahawks, 'LT', 'Pass Block', 'Run Block')\n",
    "seahawkslg = cleaner(seahawks, 'LG', 'Pass Block', 'Run Block')\n",
    "seahawksc = cleaner(seahawks, 'C', 'Pass Block', 'Run Block')\n",
    "seahawksrg = cleaner(seahawks, 'RG', 'Pass Block', 'Run Block')\n",
    "seahawksrt = cleaner(seahawks, 'RT', 'Pass Block', 'Run Block')\n",
    "seahawksline = pd.concat([seahawkslt, seahawkslg, seahawksc, seahawksrg, seahawksrt])"
   ]
  },
  {
   "cell_type": "code",
   "execution_count": 158,
   "metadata": {},
   "outputs": [],
   "source": [
    "##NFC NORTH O-Lines"
   ]
  },
  {
   "cell_type": "code",
   "execution_count": 159,
   "metadata": {},
   "outputs": [],
   "source": [
    "bearslt = cleaner(bears, 'LT', 'Pass Block', 'Run Block')\n",
    "bearslg = cleaner(bears, 'LG', 'Pass Block', 'Run Block')\n",
    "bearsc = cleaner(bears, 'C', 'Pass Block', 'Run Block')\n",
    "bearsrg = cleaner(bears, 'RG', 'Pass Block', 'Run Block')\n",
    "bearsrt = cleaner(bears, 'RT', 'Pass Block', 'Run Block')\n",
    "bearsline = pd.concat([bearslt, bearslg, bearsc, bearsrg, bearsrt])"
   ]
  },
  {
   "cell_type": "code",
   "execution_count": 160,
   "metadata": {},
   "outputs": [],
   "source": [
    "lionslt = cleaner(lions, 'LT', 'Pass Block', 'Run Block')\n",
    "lionslg = cleaner(lions, 'LG', 'Pass Block', 'Run Block')\n",
    "lionsc = cleaner(lions, 'C', 'Pass Block', 'Run Block')\n",
    "lionsrg = cleaner(lions, 'RG', 'Pass Block', 'Run Block')\n",
    "lionsrt = cleaner(lions, 'RT', 'Pass Block', 'Run Block')\n",
    "lionsline = pd.concat([lionslt, lionslg, lionsc, lionsrg, lionsrt])"
   ]
  },
  {
   "cell_type": "code",
   "execution_count": 161,
   "metadata": {},
   "outputs": [],
   "source": [
    "packerslt = cleaner(packers, 'LT', 'Pass Block', 'Run Block')\n",
    "packerslg = cleaner(packers, 'LG', 'Pass Block', 'Run Block')\n",
    "packersc = cleaner(packers, 'C', 'Pass Block', 'Run Block')\n",
    "packersrg = cleaner(packers, 'RG', 'Pass Block', 'Run Block')\n",
    "packersrt = cleaner(packers, 'RT', 'Pass Block', 'Run Block')\n",
    "packersline = pd.concat([packerslt, packerslg, packersc, packersrg, packersrt])"
   ]
  },
  {
   "cell_type": "code",
   "execution_count": 162,
   "metadata": {},
   "outputs": [],
   "source": [
    "vikingslt = cleaner(vikings, 'LT', 'Pass Block', 'Run Block')\n",
    "vikingslg = cleaner(vikings, 'LG', 'Pass Block', 'Run Block')\n",
    "vikingsc = cleaner(vikings, 'C', 'Pass Block', 'Run Block')\n",
    "vikingsrg = cleaner(vikings, 'RG', 'Pass Block', 'Run Block')\n",
    "vikingsrt = cleaner(vikings, 'RT', 'Pass Block', 'Run Block')\n",
    "vikingsline = pd.concat([vikingslt, vikingslg, vikingsc, vikingsrg, vikingsrt])"
   ]
  },
  {
   "cell_type": "code",
   "execution_count": 163,
   "metadata": {},
   "outputs": [],
   "source": [
    "#NFC SOUTH O-Lines"
   ]
  },
  {
   "cell_type": "code",
   "execution_count": 164,
   "metadata": {},
   "outputs": [],
   "source": [
    "buccaneerslt = cleaner(buccaneers, 'LT', 'Pass Block', 'Run Block')\n",
    "buccaneerslg = cleaner(buccaneers, 'LG', 'Pass Block', 'Run Block')\n",
    "buccaneersc = cleaner(buccaneers, 'C', 'Pass Block', 'Run Block')\n",
    "buccaneersrg = cleaner(buccaneers, 'RG', 'Pass Block', 'Run Block')\n",
    "buccaneersrt = cleaner(buccaneers, 'RT', 'Pass Block', 'Run Block')\n",
    "buccaneersline = pd.concat([buccaneerslt, buccaneerslg, buccaneersc, buccaneersrg, buccaneersrt])"
   ]
  },
  {
   "cell_type": "code",
   "execution_count": 165,
   "metadata": {},
   "outputs": [],
   "source": [
    "falconslt = cleaner(falcons, 'LT', 'Pass Block', 'Run Block')\n",
    "falconslg = cleaner(falcons, 'LG', 'Pass Block', 'Run Block')\n",
    "falconsc = cleaner(falcons, 'C', 'Pass Block', 'Run Block')\n",
    "falconsrg = cleaner(falcons, 'RG', 'Pass Block', 'Run Block')\n",
    "falconsrt = cleaner(falcons, 'RT', 'Pass Block', 'Run Block')\n",
    "falconsline = pd.concat([falconslt, falconslg, falconsc, falconsrg, falconsrt])"
   ]
  },
  {
   "cell_type": "code",
   "execution_count": 166,
   "metadata": {},
   "outputs": [],
   "source": [
    "pantherslt = cleaner(panthers, 'LT', 'Pass Block', 'Run Block')\n",
    "pantherslg = cleaner(panthers, 'LG', 'Pass Block', 'Run Block')\n",
    "panthersc = cleaner(panthers, 'C', 'Pass Block', 'Run Block')\n",
    "panthersrg = cleaner(panthers, 'RG', 'Pass Block', 'Run Block')\n",
    "panthersrt = cleaner(panthers, 'RT', 'Pass Block', 'Run Block')\n",
    "panthersline = pd.concat([pantherslt, pantherslg, panthersc, panthersrg, panthersrt])"
   ]
  },
  {
   "cell_type": "code",
   "execution_count": 167,
   "metadata": {},
   "outputs": [],
   "source": [
    "saintslt = cleaner(saints, 'LT', 'Pass Block', 'Run Block')\n",
    "saintslg = cleaner(saints, 'LG', 'Pass Block', 'Run Block')\n",
    "saintsc = cleaner(saints, 'C', 'Pass Block', 'Run Block')\n",
    "saintsrg = cleaner(saints, 'RG', 'Pass Block', 'Run Block')\n",
    "saintsrt = cleaner(saints, 'RT', 'Pass Block', 'Run Block')\n",
    "saintsline = pd.concat([saintslt, saintslg, saintsc, saintsrg, saintsrt])"
   ]
  },
  {
   "cell_type": "code",
   "execution_count": 172,
   "metadata": {},
   "outputs": [
    {
     "data": {
      "text/html": [
       "<div>\n",
       "<style scoped>\n",
       "    .dataframe tbody tr th:only-of-type {\n",
       "        vertical-align: middle;\n",
       "    }\n",
       "\n",
       "    .dataframe tbody tr th {\n",
       "        vertical-align: top;\n",
       "    }\n",
       "\n",
       "    .dataframe thead th {\n",
       "        text-align: right;\n",
       "    }\n",
       "</style>\n",
       "<table border=\"1\" class=\"dataframe\">\n",
       "  <thead>\n",
       "    <tr style=\"text-align: right;\">\n",
       "      <th></th>\n",
       "      <th>Acceleration</th>\n",
       "      <th>Age</th>\n",
       "      <th>Agility</th>\n",
       "      <th>Awareness</th>\n",
       "      <th>BC Vision</th>\n",
       "      <th>Birthdate</th>\n",
       "      <th>Block Shedding</th>\n",
       "      <th>Break Sack</th>\n",
       "      <th>Break Tackle</th>\n",
       "      <th>CAverage Overall</th>\n",
       "      <th>...</th>\n",
       "      <th>Total Salary</th>\n",
       "      <th>Toughness</th>\n",
       "      <th>Trucking</th>\n",
       "      <th>Weight</th>\n",
       "      <th>Years Pro</th>\n",
       "      <th>Zone Coverage</th>\n",
       "      <th>defense_rating</th>\n",
       "      <th>dl_mean</th>\n",
       "      <th>lb_mean</th>\n",
       "      <th>secondary_mean</th>\n",
       "    </tr>\n",
       "  </thead>\n",
       "  <tbody>\n",
       "    <tr>\n",
       "      <th>24</th>\n",
       "      <td>85</td>\n",
       "      <td>27</td>\n",
       "      <td>78</td>\n",
       "      <td>97</td>\n",
       "      <td>10</td>\n",
       "      <td>1990-12-12 00:00:00</td>\n",
       "      <td>40</td>\n",
       "      <td>12</td>\n",
       "      <td>11</td>\n",
       "      <td>NaN</td>\n",
       "      <td>...</td>\n",
       "      <td>71600000</td>\n",
       "      <td>94</td>\n",
       "      <td>10</td>\n",
       "      <td>320</td>\n",
       "      <td>7</td>\n",
       "      <td>12</td>\n",
       "      <td>71.899719</td>\n",
       "      <td>73.217870</td>\n",
       "      <td>70.262983</td>\n",
       "      <td>72.218303</td>\n",
       "    </tr>\n",
       "    <tr>\n",
       "      <th>2101</th>\n",
       "      <td>80</td>\n",
       "      <td>26</td>\n",
       "      <td>64</td>\n",
       "      <td>75</td>\n",
       "      <td>10</td>\n",
       "      <td>1992-01-01 00:00:00</td>\n",
       "      <td>40</td>\n",
       "      <td>12</td>\n",
       "      <td>5</td>\n",
       "      <td>NaN</td>\n",
       "      <td>...</td>\n",
       "      <td>2400000</td>\n",
       "      <td>85</td>\n",
       "      <td>28</td>\n",
       "      <td>318</td>\n",
       "      <td>3</td>\n",
       "      <td>20</td>\n",
       "      <td>71.899719</td>\n",
       "      <td>73.217870</td>\n",
       "      <td>70.262983</td>\n",
       "      <td>72.218303</td>\n",
       "    </tr>\n",
       "    <tr>\n",
       "      <th>748</th>\n",
       "      <td>83</td>\n",
       "      <td>21</td>\n",
       "      <td>60</td>\n",
       "      <td>67</td>\n",
       "      <td>16</td>\n",
       "      <td>1997-05-12 00:00:00</td>\n",
       "      <td>35</td>\n",
       "      <td>12</td>\n",
       "      <td>20</td>\n",
       "      <td>NaN</td>\n",
       "      <td>...</td>\n",
       "      <td>5489062</td>\n",
       "      <td>88</td>\n",
       "      <td>10</td>\n",
       "      <td>298</td>\n",
       "      <td>0</td>\n",
       "      <td>13</td>\n",
       "      <td>71.899719</td>\n",
       "      <td>73.217870</td>\n",
       "      <td>70.262983</td>\n",
       "      <td>72.218303</td>\n",
       "    </tr>\n",
       "    <tr>\n",
       "      <th>1930</th>\n",
       "      <td>78</td>\n",
       "      <td>24</td>\n",
       "      <td>66</td>\n",
       "      <td>72</td>\n",
       "      <td>10</td>\n",
       "      <td>1993-11-29 00:00:00</td>\n",
       "      <td>20</td>\n",
       "      <td>12</td>\n",
       "      <td>7</td>\n",
       "      <td>NaN</td>\n",
       "      <td>...</td>\n",
       "      <td>708000</td>\n",
       "      <td>89</td>\n",
       "      <td>20</td>\n",
       "      <td>310</td>\n",
       "      <td>4</td>\n",
       "      <td>15</td>\n",
       "      <td>71.899719</td>\n",
       "      <td>73.217870</td>\n",
       "      <td>70.262983</td>\n",
       "      <td>72.218303</td>\n",
       "    </tr>\n",
       "    <tr>\n",
       "      <th>2099</th>\n",
       "      <td>78</td>\n",
       "      <td>27</td>\n",
       "      <td>56</td>\n",
       "      <td>47</td>\n",
       "      <td>10</td>\n",
       "      <td>1991-01-04 00:00:00</td>\n",
       "      <td>40</td>\n",
       "      <td>12</td>\n",
       "      <td>6</td>\n",
       "      <td>NaN</td>\n",
       "      <td>...</td>\n",
       "      <td>555000</td>\n",
       "      <td>75</td>\n",
       "      <td>25</td>\n",
       "      <td>315</td>\n",
       "      <td>4</td>\n",
       "      <td>12</td>\n",
       "      <td>71.899719</td>\n",
       "      <td>73.217870</td>\n",
       "      <td>70.262983</td>\n",
       "      <td>72.218303</td>\n",
       "    </tr>\n",
       "    <tr>\n",
       "      <th>16</th>\n",
       "      <td>80</td>\n",
       "      <td>27</td>\n",
       "      <td>69</td>\n",
       "      <td>98</td>\n",
       "      <td>15</td>\n",
       "      <td>1991-03-18 00:00:00</td>\n",
       "      <td>10</td>\n",
       "      <td>12</td>\n",
       "      <td>5</td>\n",
       "      <td>80.0</td>\n",
       "      <td>...</td>\n",
       "      <td>39190000</td>\n",
       "      <td>98</td>\n",
       "      <td>25</td>\n",
       "      <td>318</td>\n",
       "      <td>5</td>\n",
       "      <td>12</td>\n",
       "      <td>71.899719</td>\n",
       "      <td>73.217870</td>\n",
       "      <td>70.262983</td>\n",
       "      <td>72.218303</td>\n",
       "    </tr>\n",
       "    <tr>\n",
       "      <th>2030</th>\n",
       "      <td>74</td>\n",
       "      <td>28</td>\n",
       "      <td>59</td>\n",
       "      <td>66</td>\n",
       "      <td>10</td>\n",
       "      <td>1990-08-31 00:00:00</td>\n",
       "      <td>25</td>\n",
       "      <td>12</td>\n",
       "      <td>6</td>\n",
       "      <td>80.0</td>\n",
       "      <td>...</td>\n",
       "      <td>1850000</td>\n",
       "      <td>90</td>\n",
       "      <td>16</td>\n",
       "      <td>315</td>\n",
       "      <td>6</td>\n",
       "      <td>18</td>\n",
       "      <td>71.899719</td>\n",
       "      <td>73.217870</td>\n",
       "      <td>70.262983</td>\n",
       "      <td>72.218303</td>\n",
       "    </tr>\n",
       "    <tr>\n",
       "      <th>18</th>\n",
       "      <td>81</td>\n",
       "      <td>27</td>\n",
       "      <td>65</td>\n",
       "      <td>93</td>\n",
       "      <td>10</td>\n",
       "      <td>1990-11-20 00:00:00</td>\n",
       "      <td>27</td>\n",
       "      <td>12</td>\n",
       "      <td>5</td>\n",
       "      <td>NaN</td>\n",
       "      <td>...</td>\n",
       "      <td>72341000</td>\n",
       "      <td>88</td>\n",
       "      <td>24</td>\n",
       "      <td>310</td>\n",
       "      <td>4</td>\n",
       "      <td>11</td>\n",
       "      <td>71.899719</td>\n",
       "      <td>73.217870</td>\n",
       "      <td>70.262983</td>\n",
       "      <td>72.218303</td>\n",
       "    </tr>\n",
       "    <tr>\n",
       "      <th>1929</th>\n",
       "      <td>72</td>\n",
       "      <td>23</td>\n",
       "      <td>55</td>\n",
       "      <td>61</td>\n",
       "      <td>20</td>\n",
       "      <td>1995-06-27 00:00:00</td>\n",
       "      <td>31</td>\n",
       "      <td>12</td>\n",
       "      <td>9</td>\n",
       "      <td>NaN</td>\n",
       "      <td>...</td>\n",
       "      <td>555000</td>\n",
       "      <td>84</td>\n",
       "      <td>38</td>\n",
       "      <td>325</td>\n",
       "      <td>1</td>\n",
       "      <td>12</td>\n",
       "      <td>71.899719</td>\n",
       "      <td>73.217870</td>\n",
       "      <td>70.262983</td>\n",
       "      <td>72.218303</td>\n",
       "    </tr>\n",
       "    <tr>\n",
       "      <th>2271</th>\n",
       "      <td>64</td>\n",
       "      <td>23</td>\n",
       "      <td>58</td>\n",
       "      <td>50</td>\n",
       "      <td>15</td>\n",
       "      <td>1995-06-04 00:00:00</td>\n",
       "      <td>10</td>\n",
       "      <td>12</td>\n",
       "      <td>5</td>\n",
       "      <td>NaN</td>\n",
       "      <td>...</td>\n",
       "      <td>1710000</td>\n",
       "      <td>80</td>\n",
       "      <td>25</td>\n",
       "      <td>308</td>\n",
       "      <td>0</td>\n",
       "      <td>12</td>\n",
       "      <td>71.899719</td>\n",
       "      <td>73.217870</td>\n",
       "      <td>70.262983</td>\n",
       "      <td>72.218303</td>\n",
       "    </tr>\n",
       "    <tr>\n",
       "      <th>1089</th>\n",
       "      <td>76</td>\n",
       "      <td>25</td>\n",
       "      <td>65</td>\n",
       "      <td>75</td>\n",
       "      <td>10</td>\n",
       "      <td>1993-07-26 00:00:00</td>\n",
       "      <td>15</td>\n",
       "      <td>12</td>\n",
       "      <td>8</td>\n",
       "      <td>NaN</td>\n",
       "      <td>...</td>\n",
       "      <td>11350000</td>\n",
       "      <td>88</td>\n",
       "      <td>24</td>\n",
       "      <td>315</td>\n",
       "      <td>3</td>\n",
       "      <td>15</td>\n",
       "      <td>71.899719</td>\n",
       "      <td>73.217870</td>\n",
       "      <td>70.262983</td>\n",
       "      <td>72.218303</td>\n",
       "    </tr>\n",
       "    <tr>\n",
       "      <th>1566</th>\n",
       "      <td>74</td>\n",
       "      <td>25</td>\n",
       "      <td>53</td>\n",
       "      <td>70</td>\n",
       "      <td>25</td>\n",
       "      <td>1992-09-03 00:00:00</td>\n",
       "      <td>45</td>\n",
       "      <td>12</td>\n",
       "      <td>12</td>\n",
       "      <td>NaN</td>\n",
       "      <td>...</td>\n",
       "      <td>1375000</td>\n",
       "      <td>69</td>\n",
       "      <td>35</td>\n",
       "      <td>320</td>\n",
       "      <td>4</td>\n",
       "      <td>12</td>\n",
       "      <td>71.899719</td>\n",
       "      <td>73.217870</td>\n",
       "      <td>70.262983</td>\n",
       "      <td>72.218303</td>\n",
       "    </tr>\n",
       "    <tr>\n",
       "      <th>63</th>\n",
       "      <td>74</td>\n",
       "      <td>36</td>\n",
       "      <td>64</td>\n",
       "      <td>97</td>\n",
       "      <td>10</td>\n",
       "      <td>1982-01-22 00:00:00</td>\n",
       "      <td>43</td>\n",
       "      <td>12</td>\n",
       "      <td>9</td>\n",
       "      <td>NaN</td>\n",
       "      <td>...</td>\n",
       "      <td>30500000</td>\n",
       "      <td>91</td>\n",
       "      <td>10</td>\n",
       "      <td>328</td>\n",
       "      <td>14</td>\n",
       "      <td>12</td>\n",
       "      <td>73.947896</td>\n",
       "      <td>73.994096</td>\n",
       "      <td>70.664328</td>\n",
       "      <td>77.185263</td>\n",
       "    </tr>\n",
       "    <tr>\n",
       "      <th>1196</th>\n",
       "      <td>80</td>\n",
       "      <td>25</td>\n",
       "      <td>69</td>\n",
       "      <td>77</td>\n",
       "      <td>25</td>\n",
       "      <td>1993-06-16 00:00:00</td>\n",
       "      <td>40</td>\n",
       "      <td>12</td>\n",
       "      <td>8</td>\n",
       "      <td>NaN</td>\n",
       "      <td>...</td>\n",
       "      <td>2560000</td>\n",
       "      <td>88</td>\n",
       "      <td>29</td>\n",
       "      <td>320</td>\n",
       "      <td>2</td>\n",
       "      <td>12</td>\n",
       "      <td>73.947896</td>\n",
       "      <td>73.994096</td>\n",
       "      <td>70.664328</td>\n",
       "      <td>77.185263</td>\n",
       "    </tr>\n",
       "    <tr>\n",
       "      <th>2175</th>\n",
       "      <td>74</td>\n",
       "      <td>21</td>\n",
       "      <td>69</td>\n",
       "      <td>46</td>\n",
       "      <td>62</td>\n",
       "      <td>1997-03-31 00:00:00</td>\n",
       "      <td>36</td>\n",
       "      <td>12</td>\n",
       "      <td>43</td>\n",
       "      <td>NaN</td>\n",
       "      <td>...</td>\n",
       "      <td>2504395</td>\n",
       "      <td>93</td>\n",
       "      <td>74</td>\n",
       "      <td>346</td>\n",
       "      <td>0</td>\n",
       "      <td>17</td>\n",
       "      <td>73.947896</td>\n",
       "      <td>73.994096</td>\n",
       "      <td>70.664328</td>\n",
       "      <td>77.185263</td>\n",
       "    </tr>\n",
       "    <tr>\n",
       "      <th>2176</th>\n",
       "      <td>78</td>\n",
       "      <td>21</td>\n",
       "      <td>39</td>\n",
       "      <td>53</td>\n",
       "      <td>10</td>\n",
       "      <td>1996-09-19 00:00:00</td>\n",
       "      <td>20</td>\n",
       "      <td>12</td>\n",
       "      <td>8</td>\n",
       "      <td>NaN</td>\n",
       "      <td>...</td>\n",
       "      <td>1710000</td>\n",
       "      <td>82</td>\n",
       "      <td>25</td>\n",
       "      <td>317</td>\n",
       "      <td>0</td>\n",
       "      <td>15</td>\n",
       "      <td>73.947896</td>\n",
       "      <td>73.994096</td>\n",
       "      <td>70.664328</td>\n",
       "      <td>77.185263</td>\n",
       "    </tr>\n",
       "    <tr>\n",
       "      <th>527</th>\n",
       "      <td>77</td>\n",
       "      <td>29</td>\n",
       "      <td>64</td>\n",
       "      <td>84</td>\n",
       "      <td>10</td>\n",
       "      <td>1989-03-22 00:00:00</td>\n",
       "      <td>16</td>\n",
       "      <td>12</td>\n",
       "      <td>8</td>\n",
       "      <td>NaN</td>\n",
       "      <td>...</td>\n",
       "      <td>5250000</td>\n",
       "      <td>94</td>\n",
       "      <td>10</td>\n",
       "      <td>305</td>\n",
       "      <td>7</td>\n",
       "      <td>13</td>\n",
       "      <td>73.947896</td>\n",
       "      <td>73.994096</td>\n",
       "      <td>70.664328</td>\n",
       "      <td>77.185263</td>\n",
       "    </tr>\n",
       "    <tr>\n",
       "      <th>1330</th>\n",
       "      <td>77</td>\n",
       "      <td>26</td>\n",
       "      <td>64</td>\n",
       "      <td>76</td>\n",
       "      <td>15</td>\n",
       "      <td>1991-09-14 00:00:00</td>\n",
       "      <td>25</td>\n",
       "      <td>12</td>\n",
       "      <td>5</td>\n",
       "      <td>NaN</td>\n",
       "      <td>...</td>\n",
       "      <td>2000000</td>\n",
       "      <td>94</td>\n",
       "      <td>40</td>\n",
       "      <td>323</td>\n",
       "      <td>5</td>\n",
       "      <td>15</td>\n",
       "      <td>73.947896</td>\n",
       "      <td>73.994096</td>\n",
       "      <td>70.664328</td>\n",
       "      <td>77.185263</td>\n",
       "    </tr>\n",
       "    <tr>\n",
       "      <th>2100</th>\n",
       "      <td>76</td>\n",
       "      <td>23</td>\n",
       "      <td>59</td>\n",
       "      <td>57</td>\n",
       "      <td>10</td>\n",
       "      <td>1995-01-07 00:00:00</td>\n",
       "      <td>25</td>\n",
       "      <td>12</td>\n",
       "      <td>5</td>\n",
       "      <td>NaN</td>\n",
       "      <td>...</td>\n",
       "      <td>1665000</td>\n",
       "      <td>82</td>\n",
       "      <td>25</td>\n",
       "      <td>325</td>\n",
       "      <td>0</td>\n",
       "      <td>13</td>\n",
       "      <td>73.947896</td>\n",
       "      <td>73.994096</td>\n",
       "      <td>70.664328</td>\n",
       "      <td>77.185263</td>\n",
       "    </tr>\n",
       "    <tr>\n",
       "      <th>48</th>\n",
       "      <td>83</td>\n",
       "      <td>30</td>\n",
       "      <td>71</td>\n",
       "      <td>97</td>\n",
       "      <td>10</td>\n",
       "      <td>1987-11-05 00:00:00</td>\n",
       "      <td>55</td>\n",
       "      <td>12</td>\n",
       "      <td>14</td>\n",
       "      <td>72.0</td>\n",
       "      <td>...</td>\n",
       "      <td>34500000</td>\n",
       "      <td>65</td>\n",
       "      <td>10</td>\n",
       "      <td>295</td>\n",
       "      <td>7</td>\n",
       "      <td>35</td>\n",
       "      <td>73.947896</td>\n",
       "      <td>73.994096</td>\n",
       "      <td>70.664328</td>\n",
       "      <td>77.185263</td>\n",
       "    </tr>\n",
       "    <tr>\n",
       "      <th>1932</th>\n",
       "      <td>83</td>\n",
       "      <td>24</td>\n",
       "      <td>72</td>\n",
       "      <td>68</td>\n",
       "      <td>10</td>\n",
       "      <td>1993-10-29 00:00:00</td>\n",
       "      <td>35</td>\n",
       "      <td>12</td>\n",
       "      <td>8</td>\n",
       "      <td>72.0</td>\n",
       "      <td>...</td>\n",
       "      <td>3333000</td>\n",
       "      <td>81</td>\n",
       "      <td>20</td>\n",
       "      <td>303</td>\n",
       "      <td>2</td>\n",
       "      <td>20</td>\n",
       "      <td>73.947896</td>\n",
       "      <td>73.994096</td>\n",
       "      <td>70.664328</td>\n",
       "      <td>77.185263</td>\n",
       "    </tr>\n",
       "    <tr>\n",
       "      <th>2303</th>\n",
       "      <td>76</td>\n",
       "      <td>24</td>\n",
       "      <td>50</td>\n",
       "      <td>60</td>\n",
       "      <td>10</td>\n",
       "      <td>1994-02-11 00:00:00</td>\n",
       "      <td>32</td>\n",
       "      <td>19</td>\n",
       "      <td>19</td>\n",
       "      <td>72.0</td>\n",
       "      <td>...</td>\n",
       "      <td>1050000</td>\n",
       "      <td>86</td>\n",
       "      <td>10</td>\n",
       "      <td>306</td>\n",
       "      <td>1</td>\n",
       "      <td>19</td>\n",
       "      <td>73.947896</td>\n",
       "      <td>73.994096</td>\n",
       "      <td>70.664328</td>\n",
       "      <td>77.185263</td>\n",
       "    </tr>\n",
       "    <tr>\n",
       "      <th>37</th>\n",
       "      <td>83</td>\n",
       "      <td>29</td>\n",
       "      <td>58</td>\n",
       "      <td>89</td>\n",
       "      <td>10</td>\n",
       "      <td>1989-08-19 00:00:00</td>\n",
       "      <td>30</td>\n",
       "      <td>12</td>\n",
       "      <td>5</td>\n",
       "      <td>NaN</td>\n",
       "      <td>...</td>\n",
       "      <td>15790000</td>\n",
       "      <td>78</td>\n",
       "      <td>30</td>\n",
       "      <td>335</td>\n",
       "      <td>6</td>\n",
       "      <td>12</td>\n",
       "      <td>73.947896</td>\n",
       "      <td>73.994096</td>\n",
       "      <td>70.664328</td>\n",
       "      <td>77.185263</td>\n",
       "    </tr>\n",
       "    <tr>\n",
       "      <th>1700</th>\n",
       "      <td>70</td>\n",
       "      <td>23</td>\n",
       "      <td>55</td>\n",
       "      <td>54</td>\n",
       "      <td>12</td>\n",
       "      <td>1994-12-16 00:00:00</td>\n",
       "      <td>22</td>\n",
       "      <td>12</td>\n",
       "      <td>18</td>\n",
       "      <td>NaN</td>\n",
       "      <td>...</td>\n",
       "      <td>2547787</td>\n",
       "      <td>85</td>\n",
       "      <td>24</td>\n",
       "      <td>338</td>\n",
       "      <td>0</td>\n",
       "      <td>12</td>\n",
       "      <td>73.947896</td>\n",
       "      <td>73.994096</td>\n",
       "      <td>70.664328</td>\n",
       "      <td>77.185263</td>\n",
       "    </tr>\n",
       "    <tr>\n",
       "      <th>2225</th>\n",
       "      <td>78</td>\n",
       "      <td>25</td>\n",
       "      <td>62</td>\n",
       "      <td>45</td>\n",
       "      <td>10</td>\n",
       "      <td>1992-10-29 00:00:00</td>\n",
       "      <td>20</td>\n",
       "      <td>12</td>\n",
       "      <td>5</td>\n",
       "      <td>NaN</td>\n",
       "      <td>...</td>\n",
       "      <td>555000</td>\n",
       "      <td>81</td>\n",
       "      <td>25</td>\n",
       "      <td>321</td>\n",
       "      <td>2</td>\n",
       "      <td>15</td>\n",
       "      <td>73.947896</td>\n",
       "      <td>73.994096</td>\n",
       "      <td>70.664328</td>\n",
       "      <td>77.185263</td>\n",
       "    </tr>\n",
       "    <tr>\n",
       "      <th>61</th>\n",
       "      <td>87</td>\n",
       "      <td>28</td>\n",
       "      <td>77</td>\n",
       "      <td>94</td>\n",
       "      <td>60</td>\n",
       "      <td>1990-05-08 00:00:00</td>\n",
       "      <td>56</td>\n",
       "      <td>34</td>\n",
       "      <td>30</td>\n",
       "      <td>NaN</td>\n",
       "      <td>...</td>\n",
       "      <td>28790000</td>\n",
       "      <td>85</td>\n",
       "      <td>65</td>\n",
       "      <td>317</td>\n",
       "      <td>5</td>\n",
       "      <td>20</td>\n",
       "      <td>73.947896</td>\n",
       "      <td>73.994096</td>\n",
       "      <td>70.664328</td>\n",
       "      <td>77.185263</td>\n",
       "    </tr>\n",
       "    <tr>\n",
       "      <th>1927</th>\n",
       "      <td>87</td>\n",
       "      <td>27</td>\n",
       "      <td>72</td>\n",
       "      <td>62</td>\n",
       "      <td>45</td>\n",
       "      <td>1991-02-22 00:00:00</td>\n",
       "      <td>67</td>\n",
       "      <td>12</td>\n",
       "      <td>12</td>\n",
       "      <td>NaN</td>\n",
       "      <td>...</td>\n",
       "      <td>630000</td>\n",
       "      <td>85</td>\n",
       "      <td>52</td>\n",
       "      <td>305</td>\n",
       "      <td>4</td>\n",
       "      <td>35</td>\n",
       "      <td>73.947896</td>\n",
       "      <td>73.994096</td>\n",
       "      <td>70.664328</td>\n",
       "      <td>77.185263</td>\n",
       "    </tr>\n",
       "    <tr>\n",
       "      <th>283</th>\n",
       "      <td>82</td>\n",
       "      <td>30</td>\n",
       "      <td>74</td>\n",
       "      <td>90</td>\n",
       "      <td>40</td>\n",
       "      <td>1988-04-12 00:00:00</td>\n",
       "      <td>25</td>\n",
       "      <td>12</td>\n",
       "      <td>15</td>\n",
       "      <td>NaN</td>\n",
       "      <td>...</td>\n",
       "      <td>46000000</td>\n",
       "      <td>82</td>\n",
       "      <td>40</td>\n",
       "      <td>325</td>\n",
       "      <td>7</td>\n",
       "      <td>12</td>\n",
       "      <td>70.178177</td>\n",
       "      <td>71.585678</td>\n",
       "      <td>68.318783</td>\n",
       "      <td>70.630069</td>\n",
       "    </tr>\n",
       "    <tr>\n",
       "      <th>1705</th>\n",
       "      <td>75</td>\n",
       "      <td>24</td>\n",
       "      <td>70</td>\n",
       "      <td>68</td>\n",
       "      <td>25</td>\n",
       "      <td>1994-01-19 00:00:00</td>\n",
       "      <td>34</td>\n",
       "      <td>12</td>\n",
       "      <td>10</td>\n",
       "      <td>NaN</td>\n",
       "      <td>...</td>\n",
       "      <td>1665000</td>\n",
       "      <td>81</td>\n",
       "      <td>28</td>\n",
       "      <td>316</td>\n",
       "      <td>1</td>\n",
       "      <td>12</td>\n",
       "      <td>70.178177</td>\n",
       "      <td>71.585678</td>\n",
       "      <td>68.318783</td>\n",
       "      <td>70.630069</td>\n",
       "    </tr>\n",
       "    <tr>\n",
       "      <th>2301</th>\n",
       "      <td>76</td>\n",
       "      <td>22</td>\n",
       "      <td>64</td>\n",
       "      <td>51</td>\n",
       "      <td>12</td>\n",
       "      <td>1995-11-27 00:00:00</td>\n",
       "      <td>22</td>\n",
       "      <td>12</td>\n",
       "      <td>17</td>\n",
       "      <td>NaN</td>\n",
       "      <td>...</td>\n",
       "      <td>1710000</td>\n",
       "      <td>94</td>\n",
       "      <td>27</td>\n",
       "      <td>307</td>\n",
       "      <td>0</td>\n",
       "      <td>15</td>\n",
       "      <td>70.178177</td>\n",
       "      <td>71.585678</td>\n",
       "      <td>68.318783</td>\n",
       "      <td>70.630069</td>\n",
       "    </tr>\n",
       "    <tr>\n",
       "      <th>...</th>\n",
       "      <td>...</td>\n",
       "      <td>...</td>\n",
       "      <td>...</td>\n",
       "      <td>...</td>\n",
       "      <td>...</td>\n",
       "      <td>...</td>\n",
       "      <td>...</td>\n",
       "      <td>...</td>\n",
       "      <td>...</td>\n",
       "      <td>...</td>\n",
       "      <td>...</td>\n",
       "      <td>...</td>\n",
       "      <td>...</td>\n",
       "      <td>...</td>\n",
       "      <td>...</td>\n",
       "      <td>...</td>\n",
       "      <td>...</td>\n",
       "      <td>...</td>\n",
       "      <td>...</td>\n",
       "      <td>...</td>\n",
       "      <td>...</td>\n",
       "    </tr>\n",
       "    <tr>\n",
       "      <th>1227</th>\n",
       "      <td>88</td>\n",
       "      <td>27</td>\n",
       "      <td>74</td>\n",
       "      <td>82</td>\n",
       "      <td>65</td>\n",
       "      <td>1991-07-30 00:00:00</td>\n",
       "      <td>70</td>\n",
       "      <td>12</td>\n",
       "      <td>30</td>\n",
       "      <td>NaN</td>\n",
       "      <td>...</td>\n",
       "      <td>18900000</td>\n",
       "      <td>87</td>\n",
       "      <td>54</td>\n",
       "      <td>240</td>\n",
       "      <td>5</td>\n",
       "      <td>62</td>\n",
       "      <td>73.724419</td>\n",
       "      <td>73.280574</td>\n",
       "      <td>76.013789</td>\n",
       "      <td>71.878893</td>\n",
       "    </tr>\n",
       "    <tr>\n",
       "      <th>1230</th>\n",
       "      <td>83</td>\n",
       "      <td>28</td>\n",
       "      <td>64</td>\n",
       "      <td>75</td>\n",
       "      <td>60</td>\n",
       "      <td>1990-04-26 00:00:00</td>\n",
       "      <td>19</td>\n",
       "      <td>38</td>\n",
       "      <td>34</td>\n",
       "      <td>NaN</td>\n",
       "      <td>...</td>\n",
       "      <td>1353000</td>\n",
       "      <td>76</td>\n",
       "      <td>48</td>\n",
       "      <td>230</td>\n",
       "      <td>4</td>\n",
       "      <td>19</td>\n",
       "      <td>73.724419</td>\n",
       "      <td>73.280574</td>\n",
       "      <td>76.013789</td>\n",
       "      <td>71.878893</td>\n",
       "    </tr>\n",
       "    <tr>\n",
       "      <th>1355</th>\n",
       "      <td>84</td>\n",
       "      <td>30</td>\n",
       "      <td>72</td>\n",
       "      <td>72</td>\n",
       "      <td>32</td>\n",
       "      <td>1987-12-11 00:00:00</td>\n",
       "      <td>73</td>\n",
       "      <td>27</td>\n",
       "      <td>17</td>\n",
       "      <td>NaN</td>\n",
       "      <td>...</td>\n",
       "      <td>915000</td>\n",
       "      <td>75</td>\n",
       "      <td>35</td>\n",
       "      <td>265</td>\n",
       "      <td>7</td>\n",
       "      <td>29</td>\n",
       "      <td>73.724419</td>\n",
       "      <td>73.280574</td>\n",
       "      <td>76.013789</td>\n",
       "      <td>71.878893</td>\n",
       "    </tr>\n",
       "    <tr>\n",
       "      <th>1357</th>\n",
       "      <td>88</td>\n",
       "      <td>30</td>\n",
       "      <td>76</td>\n",
       "      <td>67</td>\n",
       "      <td>22</td>\n",
       "      <td>1988-03-14 00:00:00</td>\n",
       "      <td>75</td>\n",
       "      <td>12</td>\n",
       "      <td>10</td>\n",
       "      <td>NaN</td>\n",
       "      <td>...</td>\n",
       "      <td>3800000</td>\n",
       "      <td>72</td>\n",
       "      <td>44</td>\n",
       "      <td>240</td>\n",
       "      <td>6</td>\n",
       "      <td>59</td>\n",
       "      <td>73.724419</td>\n",
       "      <td>73.280574</td>\n",
       "      <td>76.013789</td>\n",
       "      <td>71.878893</td>\n",
       "    </tr>\n",
       "    <tr>\n",
       "      <th>1472</th>\n",
       "      <td>80</td>\n",
       "      <td>34</td>\n",
       "      <td>63</td>\n",
       "      <td>82</td>\n",
       "      <td>10</td>\n",
       "      <td>1984-08-19 00:00:00</td>\n",
       "      <td>27</td>\n",
       "      <td>12</td>\n",
       "      <td>7</td>\n",
       "      <td>NaN</td>\n",
       "      <td>...</td>\n",
       "      <td>1015000</td>\n",
       "      <td>89</td>\n",
       "      <td>25</td>\n",
       "      <td>320</td>\n",
       "      <td>11</td>\n",
       "      <td>12</td>\n",
       "      <td>73.724419</td>\n",
       "      <td>73.280574</td>\n",
       "      <td>76.013789</td>\n",
       "      <td>71.878893</td>\n",
       "    </tr>\n",
       "    <tr>\n",
       "      <th>1476</th>\n",
       "      <td>76</td>\n",
       "      <td>25</td>\n",
       "      <td>65</td>\n",
       "      <td>55</td>\n",
       "      <td>22</td>\n",
       "      <td>1992-12-20 00:00:00</td>\n",
       "      <td>77</td>\n",
       "      <td>12</td>\n",
       "      <td>19</td>\n",
       "      <td>NaN</td>\n",
       "      <td>...</td>\n",
       "      <td>555000</td>\n",
       "      <td>82</td>\n",
       "      <td>55</td>\n",
       "      <td>315</td>\n",
       "      <td>2</td>\n",
       "      <td>31</td>\n",
       "      <td>73.724419</td>\n",
       "      <td>73.280574</td>\n",
       "      <td>76.013789</td>\n",
       "      <td>71.878893</td>\n",
       "    </tr>\n",
       "    <tr>\n",
       "      <th>1595</th>\n",
       "      <td>89</td>\n",
       "      <td>28</td>\n",
       "      <td>88</td>\n",
       "      <td>65</td>\n",
       "      <td>65</td>\n",
       "      <td>1990-02-26 00:00:00</td>\n",
       "      <td>46</td>\n",
       "      <td>16</td>\n",
       "      <td>46</td>\n",
       "      <td>NaN</td>\n",
       "      <td>...</td>\n",
       "      <td>2400000</td>\n",
       "      <td>75</td>\n",
       "      <td>50</td>\n",
       "      <td>207</td>\n",
       "      <td>5</td>\n",
       "      <td>69</td>\n",
       "      <td>73.724419</td>\n",
       "      <td>73.280574</td>\n",
       "      <td>76.013789</td>\n",
       "      <td>71.878893</td>\n",
       "    </tr>\n",
       "    <tr>\n",
       "      <th>1597</th>\n",
       "      <td>90</td>\n",
       "      <td>23</td>\n",
       "      <td>83</td>\n",
       "      <td>58</td>\n",
       "      <td>76</td>\n",
       "      <td>1994-12-30 00:00:00</td>\n",
       "      <td>11</td>\n",
       "      <td>21</td>\n",
       "      <td>76</td>\n",
       "      <td>NaN</td>\n",
       "      <td>...</td>\n",
       "      <td>1665000</td>\n",
       "      <td>75</td>\n",
       "      <td>71</td>\n",
       "      <td>223</td>\n",
       "      <td>1</td>\n",
       "      <td>20</td>\n",
       "      <td>73.724419</td>\n",
       "      <td>73.280574</td>\n",
       "      <td>76.013789</td>\n",
       "      <td>71.878893</td>\n",
       "    </tr>\n",
       "    <tr>\n",
       "      <th>1598</th>\n",
       "      <td>93</td>\n",
       "      <td>24</td>\n",
       "      <td>89</td>\n",
       "      <td>55</td>\n",
       "      <td>69</td>\n",
       "      <td>1994-02-07 00:00:00</td>\n",
       "      <td>57</td>\n",
       "      <td>12</td>\n",
       "      <td>62</td>\n",
       "      <td>NaN</td>\n",
       "      <td>...</td>\n",
       "      <td>555000</td>\n",
       "      <td>78</td>\n",
       "      <td>51</td>\n",
       "      <td>200</td>\n",
       "      <td>1</td>\n",
       "      <td>68</td>\n",
       "      <td>73.724419</td>\n",
       "      <td>73.280574</td>\n",
       "      <td>76.013789</td>\n",
       "      <td>71.878893</td>\n",
       "    </tr>\n",
       "    <tr>\n",
       "      <th>1599</th>\n",
       "      <td>92</td>\n",
       "      <td>24</td>\n",
       "      <td>92</td>\n",
       "      <td>63</td>\n",
       "      <td>60</td>\n",
       "      <td>1994-06-30 00:00:00</td>\n",
       "      <td>55</td>\n",
       "      <td>15</td>\n",
       "      <td>65</td>\n",
       "      <td>NaN</td>\n",
       "      <td>...</td>\n",
       "      <td>630000</td>\n",
       "      <td>65</td>\n",
       "      <td>24</td>\n",
       "      <td>190</td>\n",
       "      <td>3</td>\n",
       "      <td>72</td>\n",
       "      <td>73.724419</td>\n",
       "      <td>73.280574</td>\n",
       "      <td>76.013789</td>\n",
       "      <td>71.878893</td>\n",
       "    </tr>\n",
       "    <tr>\n",
       "      <th>1600</th>\n",
       "      <td>92</td>\n",
       "      <td>25</td>\n",
       "      <td>84</td>\n",
       "      <td>54</td>\n",
       "      <td>70</td>\n",
       "      <td>1992-10-09 00:00:00</td>\n",
       "      <td>26</td>\n",
       "      <td>21</td>\n",
       "      <td>77</td>\n",
       "      <td>NaN</td>\n",
       "      <td>...</td>\n",
       "      <td>630000</td>\n",
       "      <td>75</td>\n",
       "      <td>50</td>\n",
       "      <td>205</td>\n",
       "      <td>2</td>\n",
       "      <td>19</td>\n",
       "      <td>73.724419</td>\n",
       "      <td>73.280574</td>\n",
       "      <td>76.013789</td>\n",
       "      <td>71.878893</td>\n",
       "    </tr>\n",
       "    <tr>\n",
       "      <th>1601</th>\n",
       "      <td>92</td>\n",
       "      <td>21</td>\n",
       "      <td>86</td>\n",
       "      <td>55</td>\n",
       "      <td>60</td>\n",
       "      <td>1996-10-01 00:00:00</td>\n",
       "      <td>60</td>\n",
       "      <td>14</td>\n",
       "      <td>52</td>\n",
       "      <td>NaN</td>\n",
       "      <td>...</td>\n",
       "      <td>2573486</td>\n",
       "      <td>79</td>\n",
       "      <td>27</td>\n",
       "      <td>200</td>\n",
       "      <td>0</td>\n",
       "      <td>69</td>\n",
       "      <td>73.724419</td>\n",
       "      <td>73.280574</td>\n",
       "      <td>76.013789</td>\n",
       "      <td>71.878893</td>\n",
       "    </tr>\n",
       "    <tr>\n",
       "      <th>1602</th>\n",
       "      <td>87</td>\n",
       "      <td>23</td>\n",
       "      <td>78</td>\n",
       "      <td>58</td>\n",
       "      <td>37</td>\n",
       "      <td>1995-03-28 00:00:00</td>\n",
       "      <td>68</td>\n",
       "      <td>28</td>\n",
       "      <td>18</td>\n",
       "      <td>NaN</td>\n",
       "      <td>...</td>\n",
       "      <td>2506000</td>\n",
       "      <td>78</td>\n",
       "      <td>33</td>\n",
       "      <td>250</td>\n",
       "      <td>1</td>\n",
       "      <td>42</td>\n",
       "      <td>73.724419</td>\n",
       "      <td>73.280574</td>\n",
       "      <td>76.013789</td>\n",
       "      <td>71.878893</td>\n",
       "    </tr>\n",
       "    <tr>\n",
       "      <th>1745</th>\n",
       "      <td>86</td>\n",
       "      <td>24</td>\n",
       "      <td>77</td>\n",
       "      <td>57</td>\n",
       "      <td>58</td>\n",
       "      <td>1994-03-04 00:00:00</td>\n",
       "      <td>58</td>\n",
       "      <td>11</td>\n",
       "      <td>51</td>\n",
       "      <td>NaN</td>\n",
       "      <td>...</td>\n",
       "      <td>1020000</td>\n",
       "      <td>88</td>\n",
       "      <td>72</td>\n",
       "      <td>240</td>\n",
       "      <td>2</td>\n",
       "      <td>40</td>\n",
       "      <td>73.724419</td>\n",
       "      <td>73.280574</td>\n",
       "      <td>76.013789</td>\n",
       "      <td>71.878893</td>\n",
       "    </tr>\n",
       "    <tr>\n",
       "      <th>1746</th>\n",
       "      <td>92</td>\n",
       "      <td>22</td>\n",
       "      <td>81</td>\n",
       "      <td>51</td>\n",
       "      <td>71</td>\n",
       "      <td>1995-12-15 00:00:00</td>\n",
       "      <td>51</td>\n",
       "      <td>14</td>\n",
       "      <td>49</td>\n",
       "      <td>NaN</td>\n",
       "      <td>...</td>\n",
       "      <td>2683048</td>\n",
       "      <td>78</td>\n",
       "      <td>33</td>\n",
       "      <td>198</td>\n",
       "      <td>0</td>\n",
       "      <td>73</td>\n",
       "      <td>73.724419</td>\n",
       "      <td>73.280574</td>\n",
       "      <td>76.013789</td>\n",
       "      <td>71.878893</td>\n",
       "    </tr>\n",
       "    <tr>\n",
       "      <th>1862</th>\n",
       "      <td>78</td>\n",
       "      <td>29</td>\n",
       "      <td>60</td>\n",
       "      <td>69</td>\n",
       "      <td>15</td>\n",
       "      <td>1989-07-02 00:00:00</td>\n",
       "      <td>20</td>\n",
       "      <td>12</td>\n",
       "      <td>8</td>\n",
       "      <td>NaN</td>\n",
       "      <td>...</td>\n",
       "      <td>790000</td>\n",
       "      <td>89</td>\n",
       "      <td>20</td>\n",
       "      <td>315</td>\n",
       "      <td>6</td>\n",
       "      <td>15</td>\n",
       "      <td>73.724419</td>\n",
       "      <td>73.280574</td>\n",
       "      <td>76.013789</td>\n",
       "      <td>71.878893</td>\n",
       "    </tr>\n",
       "    <tr>\n",
       "      <th>1864</th>\n",
       "      <td>90</td>\n",
       "      <td>25</td>\n",
       "      <td>89</td>\n",
       "      <td>57</td>\n",
       "      <td>66</td>\n",
       "      <td>1993-07-13 00:00:00</td>\n",
       "      <td>52</td>\n",
       "      <td>15</td>\n",
       "      <td>65</td>\n",
       "      <td>NaN</td>\n",
       "      <td>...</td>\n",
       "      <td>555000</td>\n",
       "      <td>81</td>\n",
       "      <td>38</td>\n",
       "      <td>190</td>\n",
       "      <td>1</td>\n",
       "      <td>68</td>\n",
       "      <td>73.724419</td>\n",
       "      <td>73.280574</td>\n",
       "      <td>76.013789</td>\n",
       "      <td>71.878893</td>\n",
       "    </tr>\n",
       "    <tr>\n",
       "      <th>1865</th>\n",
       "      <td>74</td>\n",
       "      <td>30</td>\n",
       "      <td>61</td>\n",
       "      <td>63</td>\n",
       "      <td>10</td>\n",
       "      <td>1988-04-19 00:00:00</td>\n",
       "      <td>16</td>\n",
       "      <td>12</td>\n",
       "      <td>5</td>\n",
       "      <td>NaN</td>\n",
       "      <td>...</td>\n",
       "      <td>705000</td>\n",
       "      <td>75</td>\n",
       "      <td>24</td>\n",
       "      <td>312</td>\n",
       "      <td>4</td>\n",
       "      <td>16</td>\n",
       "      <td>73.724419</td>\n",
       "      <td>73.280574</td>\n",
       "      <td>76.013789</td>\n",
       "      <td>71.878893</td>\n",
       "    </tr>\n",
       "    <tr>\n",
       "      <th>1955</th>\n",
       "      <td>87</td>\n",
       "      <td>23</td>\n",
       "      <td>76</td>\n",
       "      <td>60</td>\n",
       "      <td>82</td>\n",
       "      <td>1995-01-23 00:00:00</td>\n",
       "      <td>20</td>\n",
       "      <td>70</td>\n",
       "      <td>73</td>\n",
       "      <td>NaN</td>\n",
       "      <td>...</td>\n",
       "      <td>1710000</td>\n",
       "      <td>93</td>\n",
       "      <td>52</td>\n",
       "      <td>220</td>\n",
       "      <td>0</td>\n",
       "      <td>17</td>\n",
       "      <td>73.724419</td>\n",
       "      <td>73.280574</td>\n",
       "      <td>76.013789</td>\n",
       "      <td>71.878893</td>\n",
       "    </tr>\n",
       "    <tr>\n",
       "      <th>1956</th>\n",
       "      <td>89</td>\n",
       "      <td>24</td>\n",
       "      <td>93</td>\n",
       "      <td>61</td>\n",
       "      <td>64</td>\n",
       "      <td>1993-12-25 00:00:00</td>\n",
       "      <td>32</td>\n",
       "      <td>23</td>\n",
       "      <td>77</td>\n",
       "      <td>NaN</td>\n",
       "      <td>...</td>\n",
       "      <td>1672500</td>\n",
       "      <td>85</td>\n",
       "      <td>57</td>\n",
       "      <td>195</td>\n",
       "      <td>1</td>\n",
       "      <td>26</td>\n",
       "      <td>73.724419</td>\n",
       "      <td>73.280574</td>\n",
       "      <td>76.013789</td>\n",
       "      <td>71.878893</td>\n",
       "    </tr>\n",
       "    <tr>\n",
       "      <th>1961</th>\n",
       "      <td>73</td>\n",
       "      <td>21</td>\n",
       "      <td>68</td>\n",
       "      <td>54</td>\n",
       "      <td>12</td>\n",
       "      <td>1996-11-22 00:00:00</td>\n",
       "      <td>35</td>\n",
       "      <td>12</td>\n",
       "      <td>6</td>\n",
       "      <td>NaN</td>\n",
       "      <td>...</td>\n",
       "      <td>3040930</td>\n",
       "      <td>90</td>\n",
       "      <td>20</td>\n",
       "      <td>305</td>\n",
       "      <td>0</td>\n",
       "      <td>14</td>\n",
       "      <td>73.724419</td>\n",
       "      <td>73.280574</td>\n",
       "      <td>76.013789</td>\n",
       "      <td>71.878893</td>\n",
       "    </tr>\n",
       "    <tr>\n",
       "      <th>1962</th>\n",
       "      <td>91</td>\n",
       "      <td>25</td>\n",
       "      <td>92</td>\n",
       "      <td>64</td>\n",
       "      <td>78</td>\n",
       "      <td>1992-10-24 00:00:00</td>\n",
       "      <td>28</td>\n",
       "      <td>22</td>\n",
       "      <td>77</td>\n",
       "      <td>NaN</td>\n",
       "      <td>...</td>\n",
       "      <td>1620000</td>\n",
       "      <td>78</td>\n",
       "      <td>33</td>\n",
       "      <td>168</td>\n",
       "      <td>2</td>\n",
       "      <td>24</td>\n",
       "      <td>73.724419</td>\n",
       "      <td>73.280574</td>\n",
       "      <td>76.013789</td>\n",
       "      <td>71.878893</td>\n",
       "    </tr>\n",
       "    <tr>\n",
       "      <th>2125</th>\n",
       "      <td>80</td>\n",
       "      <td>27</td>\n",
       "      <td>63</td>\n",
       "      <td>55</td>\n",
       "      <td>15</td>\n",
       "      <td>1991-05-30 00:00:00</td>\n",
       "      <td>20</td>\n",
       "      <td>12</td>\n",
       "      <td>7</td>\n",
       "      <td>NaN</td>\n",
       "      <td>...</td>\n",
       "      <td>1020000</td>\n",
       "      <td>88</td>\n",
       "      <td>28</td>\n",
       "      <td>300</td>\n",
       "      <td>4</td>\n",
       "      <td>11</td>\n",
       "      <td>73.724419</td>\n",
       "      <td>73.280574</td>\n",
       "      <td>76.013789</td>\n",
       "      <td>71.878893</td>\n",
       "    </tr>\n",
       "    <tr>\n",
       "      <th>2127</th>\n",
       "      <td>64</td>\n",
       "      <td>25</td>\n",
       "      <td>61</td>\n",
       "      <td>49</td>\n",
       "      <td>18</td>\n",
       "      <td>1992-10-13 00:00:00</td>\n",
       "      <td>73</td>\n",
       "      <td>12</td>\n",
       "      <td>10</td>\n",
       "      <td>NaN</td>\n",
       "      <td>...</td>\n",
       "      <td>1665000</td>\n",
       "      <td>80</td>\n",
       "      <td>29</td>\n",
       "      <td>294</td>\n",
       "      <td>1</td>\n",
       "      <td>20</td>\n",
       "      <td>73.724419</td>\n",
       "      <td>73.280574</td>\n",
       "      <td>76.013789</td>\n",
       "      <td>71.878893</td>\n",
       "    </tr>\n",
       "    <tr>\n",
       "      <th>2192</th>\n",
       "      <td>76</td>\n",
       "      <td>21</td>\n",
       "      <td>49</td>\n",
       "      <td>62</td>\n",
       "      <td>10</td>\n",
       "      <td>1996-09-19 00:00:00</td>\n",
       "      <td>19</td>\n",
       "      <td>15</td>\n",
       "      <td>14</td>\n",
       "      <td>NaN</td>\n",
       "      <td>...</td>\n",
       "      <td>2488142</td>\n",
       "      <td>90</td>\n",
       "      <td>10</td>\n",
       "      <td>309</td>\n",
       "      <td>0</td>\n",
       "      <td>11</td>\n",
       "      <td>73.724419</td>\n",
       "      <td>73.280574</td>\n",
       "      <td>76.013789</td>\n",
       "      <td>71.878893</td>\n",
       "    </tr>\n",
       "    <tr>\n",
       "      <th>2195</th>\n",
       "      <td>91</td>\n",
       "      <td>26</td>\n",
       "      <td>85</td>\n",
       "      <td>52</td>\n",
       "      <td>50</td>\n",
       "      <td>1991-10-14 00:00:00</td>\n",
       "      <td>62</td>\n",
       "      <td>10</td>\n",
       "      <td>60</td>\n",
       "      <td>NaN</td>\n",
       "      <td>...</td>\n",
       "      <td>630000</td>\n",
       "      <td>78</td>\n",
       "      <td>55</td>\n",
       "      <td>198</td>\n",
       "      <td>2</td>\n",
       "      <td>61</td>\n",
       "      <td>73.724419</td>\n",
       "      <td>73.280574</td>\n",
       "      <td>76.013789</td>\n",
       "      <td>71.878893</td>\n",
       "    </tr>\n",
       "    <tr>\n",
       "      <th>2239</th>\n",
       "      <td>89</td>\n",
       "      <td>24</td>\n",
       "      <td>85</td>\n",
       "      <td>50</td>\n",
       "      <td>78</td>\n",
       "      <td>1993-10-19 00:00:00</td>\n",
       "      <td>24</td>\n",
       "      <td>22</td>\n",
       "      <td>75</td>\n",
       "      <td>NaN</td>\n",
       "      <td>...</td>\n",
       "      <td>1050000</td>\n",
       "      <td>64</td>\n",
       "      <td>27</td>\n",
       "      <td>207</td>\n",
       "      <td>1</td>\n",
       "      <td>21</td>\n",
       "      <td>73.724419</td>\n",
       "      <td>73.280574</td>\n",
       "      <td>76.013789</td>\n",
       "      <td>71.878893</td>\n",
       "    </tr>\n",
       "    <tr>\n",
       "      <th>2247</th>\n",
       "      <td>83</td>\n",
       "      <td>23</td>\n",
       "      <td>57</td>\n",
       "      <td>48</td>\n",
       "      <td>16</td>\n",
       "      <td>1995-07-21 00:00:00</td>\n",
       "      <td>20</td>\n",
       "      <td>12</td>\n",
       "      <td>8</td>\n",
       "      <td>NaN</td>\n",
       "      <td>...</td>\n",
       "      <td>555000</td>\n",
       "      <td>89</td>\n",
       "      <td>33</td>\n",
       "      <td>300</td>\n",
       "      <td>1</td>\n",
       "      <td>15</td>\n",
       "      <td>73.724419</td>\n",
       "      <td>73.280574</td>\n",
       "      <td>76.013789</td>\n",
       "      <td>71.878893</td>\n",
       "    </tr>\n",
       "    <tr>\n",
       "      <th>2286</th>\n",
       "      <td>86</td>\n",
       "      <td>28</td>\n",
       "      <td>83</td>\n",
       "      <td>53</td>\n",
       "      <td>70</td>\n",
       "      <td>1990-08-23 00:00:00</td>\n",
       "      <td>54</td>\n",
       "      <td>62</td>\n",
       "      <td>72</td>\n",
       "      <td>NaN</td>\n",
       "      <td>...</td>\n",
       "      <td>1660000</td>\n",
       "      <td>85</td>\n",
       "      <td>62</td>\n",
       "      <td>221</td>\n",
       "      <td>1</td>\n",
       "      <td>59</td>\n",
       "      <td>73.724419</td>\n",
       "      <td>73.280574</td>\n",
       "      <td>76.013789</td>\n",
       "      <td>71.878893</td>\n",
       "    </tr>\n",
       "    <tr>\n",
       "      <th>2367</th>\n",
       "      <td>78</td>\n",
       "      <td>25</td>\n",
       "      <td>72</td>\n",
       "      <td>53</td>\n",
       "      <td>42</td>\n",
       "      <td>1993-01-10 00:00:00</td>\n",
       "      <td>63</td>\n",
       "      <td>12</td>\n",
       "      <td>20</td>\n",
       "      <td>NaN</td>\n",
       "      <td>...</td>\n",
       "      <td>550000</td>\n",
       "      <td>82</td>\n",
       "      <td>41</td>\n",
       "      <td>255</td>\n",
       "      <td>1</td>\n",
       "      <td>33</td>\n",
       "      <td>73.724419</td>\n",
       "      <td>73.280574</td>\n",
       "      <td>76.013789</td>\n",
       "      <td>71.878893</td>\n",
       "    </tr>\n",
       "  </tbody>\n",
       "</table>\n",
       "<p>339 rows × 101 columns</p>\n",
       "</div>"
      ],
      "text/plain": [
       "      Acceleration  Age  Agility  Awareness  BC Vision            Birthdate  \\\n",
       "24              85   27       78         97         10  1990-12-12 00:00:00   \n",
       "2101            80   26       64         75         10  1992-01-01 00:00:00   \n",
       "748             83   21       60         67         16  1997-05-12 00:00:00   \n",
       "1930            78   24       66         72         10  1993-11-29 00:00:00   \n",
       "2099            78   27       56         47         10  1991-01-04 00:00:00   \n",
       "16              80   27       69         98         15  1991-03-18 00:00:00   \n",
       "2030            74   28       59         66         10  1990-08-31 00:00:00   \n",
       "18              81   27       65         93         10  1990-11-20 00:00:00   \n",
       "1929            72   23       55         61         20  1995-06-27 00:00:00   \n",
       "2271            64   23       58         50         15  1995-06-04 00:00:00   \n",
       "1089            76   25       65         75         10  1993-07-26 00:00:00   \n",
       "1566            74   25       53         70         25  1992-09-03 00:00:00   \n",
       "63              74   36       64         97         10  1982-01-22 00:00:00   \n",
       "1196            80   25       69         77         25  1993-06-16 00:00:00   \n",
       "2175            74   21       69         46         62  1997-03-31 00:00:00   \n",
       "2176            78   21       39         53         10  1996-09-19 00:00:00   \n",
       "527             77   29       64         84         10  1989-03-22 00:00:00   \n",
       "1330            77   26       64         76         15  1991-09-14 00:00:00   \n",
       "2100            76   23       59         57         10  1995-01-07 00:00:00   \n",
       "48              83   30       71         97         10  1987-11-05 00:00:00   \n",
       "1932            83   24       72         68         10  1993-10-29 00:00:00   \n",
       "2303            76   24       50         60         10  1994-02-11 00:00:00   \n",
       "37              83   29       58         89         10  1989-08-19 00:00:00   \n",
       "1700            70   23       55         54         12  1994-12-16 00:00:00   \n",
       "2225            78   25       62         45         10  1992-10-29 00:00:00   \n",
       "61              87   28       77         94         60  1990-05-08 00:00:00   \n",
       "1927            87   27       72         62         45  1991-02-22 00:00:00   \n",
       "283             82   30       74         90         40  1988-04-12 00:00:00   \n",
       "1705            75   24       70         68         25  1994-01-19 00:00:00   \n",
       "2301            76   22       64         51         12  1995-11-27 00:00:00   \n",
       "...            ...  ...      ...        ...        ...                  ...   \n",
       "1227            88   27       74         82         65  1991-07-30 00:00:00   \n",
       "1230            83   28       64         75         60  1990-04-26 00:00:00   \n",
       "1355            84   30       72         72         32  1987-12-11 00:00:00   \n",
       "1357            88   30       76         67         22  1988-03-14 00:00:00   \n",
       "1472            80   34       63         82         10  1984-08-19 00:00:00   \n",
       "1476            76   25       65         55         22  1992-12-20 00:00:00   \n",
       "1595            89   28       88         65         65  1990-02-26 00:00:00   \n",
       "1597            90   23       83         58         76  1994-12-30 00:00:00   \n",
       "1598            93   24       89         55         69  1994-02-07 00:00:00   \n",
       "1599            92   24       92         63         60  1994-06-30 00:00:00   \n",
       "1600            92   25       84         54         70  1992-10-09 00:00:00   \n",
       "1601            92   21       86         55         60  1996-10-01 00:00:00   \n",
       "1602            87   23       78         58         37  1995-03-28 00:00:00   \n",
       "1745            86   24       77         57         58  1994-03-04 00:00:00   \n",
       "1746            92   22       81         51         71  1995-12-15 00:00:00   \n",
       "1862            78   29       60         69         15  1989-07-02 00:00:00   \n",
       "1864            90   25       89         57         66  1993-07-13 00:00:00   \n",
       "1865            74   30       61         63         10  1988-04-19 00:00:00   \n",
       "1955            87   23       76         60         82  1995-01-23 00:00:00   \n",
       "1956            89   24       93         61         64  1993-12-25 00:00:00   \n",
       "1961            73   21       68         54         12  1996-11-22 00:00:00   \n",
       "1962            91   25       92         64         78  1992-10-24 00:00:00   \n",
       "2125            80   27       63         55         15  1991-05-30 00:00:00   \n",
       "2127            64   25       61         49         18  1992-10-13 00:00:00   \n",
       "2192            76   21       49         62         10  1996-09-19 00:00:00   \n",
       "2195            91   26       85         52         50  1991-10-14 00:00:00   \n",
       "2239            89   24       85         50         78  1993-10-19 00:00:00   \n",
       "2247            83   23       57         48         16  1995-07-21 00:00:00   \n",
       "2286            86   28       83         53         70  1990-08-23 00:00:00   \n",
       "2367            78   25       72         53         42  1993-01-10 00:00:00   \n",
       "\n",
       "      Block Shedding  Break Sack  Break Tackle  CAverage Overall  \\\n",
       "24                40          12            11               NaN   \n",
       "2101              40          12             5               NaN   \n",
       "748               35          12            20               NaN   \n",
       "1930              20          12             7               NaN   \n",
       "2099              40          12             6               NaN   \n",
       "16                10          12             5              80.0   \n",
       "2030              25          12             6              80.0   \n",
       "18                27          12             5               NaN   \n",
       "1929              31          12             9               NaN   \n",
       "2271              10          12             5               NaN   \n",
       "1089              15          12             8               NaN   \n",
       "1566              45          12            12               NaN   \n",
       "63                43          12             9               NaN   \n",
       "1196              40          12             8               NaN   \n",
       "2175              36          12            43               NaN   \n",
       "2176              20          12             8               NaN   \n",
       "527               16          12             8               NaN   \n",
       "1330              25          12             5               NaN   \n",
       "2100              25          12             5               NaN   \n",
       "48                55          12            14              72.0   \n",
       "1932              35          12             8              72.0   \n",
       "2303              32          19            19              72.0   \n",
       "37                30          12             5               NaN   \n",
       "1700              22          12            18               NaN   \n",
       "2225              20          12             5               NaN   \n",
       "61                56          34            30               NaN   \n",
       "1927              67          12            12               NaN   \n",
       "283               25          12            15               NaN   \n",
       "1705              34          12            10               NaN   \n",
       "2301              22          12            17               NaN   \n",
       "...              ...         ...           ...               ...   \n",
       "1227              70          12            30               NaN   \n",
       "1230              19          38            34               NaN   \n",
       "1355              73          27            17               NaN   \n",
       "1357              75          12            10               NaN   \n",
       "1472              27          12             7               NaN   \n",
       "1476              77          12            19               NaN   \n",
       "1595              46          16            46               NaN   \n",
       "1597              11          21            76               NaN   \n",
       "1598              57          12            62               NaN   \n",
       "1599              55          15            65               NaN   \n",
       "1600              26          21            77               NaN   \n",
       "1601              60          14            52               NaN   \n",
       "1602              68          28            18               NaN   \n",
       "1745              58          11            51               NaN   \n",
       "1746              51          14            49               NaN   \n",
       "1862              20          12             8               NaN   \n",
       "1864              52          15            65               NaN   \n",
       "1865              16          12             5               NaN   \n",
       "1955              20          70            73               NaN   \n",
       "1956              32          23            77               NaN   \n",
       "1961              35          12             6               NaN   \n",
       "1962              28          22            77               NaN   \n",
       "2125              20          12             7               NaN   \n",
       "2127              73          12            10               NaN   \n",
       "2192              19          15            14               NaN   \n",
       "2195              62          10            60               NaN   \n",
       "2239              24          22            75               NaN   \n",
       "2247              20          12             8               NaN   \n",
       "2286              54          62            72               NaN   \n",
       "2367              63          12            20               NaN   \n",
       "\n",
       "           ...        Total Salary  Toughness  Trucking  Weight  Years Pro  \\\n",
       "24         ...            71600000         94        10     320          7   \n",
       "2101       ...             2400000         85        28     318          3   \n",
       "748        ...             5489062         88        10     298          0   \n",
       "1930       ...              708000         89        20     310          4   \n",
       "2099       ...              555000         75        25     315          4   \n",
       "16         ...            39190000         98        25     318          5   \n",
       "2030       ...             1850000         90        16     315          6   \n",
       "18         ...            72341000         88        24     310          4   \n",
       "1929       ...              555000         84        38     325          1   \n",
       "2271       ...             1710000         80        25     308          0   \n",
       "1089       ...            11350000         88        24     315          3   \n",
       "1566       ...             1375000         69        35     320          4   \n",
       "63         ...            30500000         91        10     328         14   \n",
       "1196       ...             2560000         88        29     320          2   \n",
       "2175       ...             2504395         93        74     346          0   \n",
       "2176       ...             1710000         82        25     317          0   \n",
       "527        ...             5250000         94        10     305          7   \n",
       "1330       ...             2000000         94        40     323          5   \n",
       "2100       ...             1665000         82        25     325          0   \n",
       "48         ...            34500000         65        10     295          7   \n",
       "1932       ...             3333000         81        20     303          2   \n",
       "2303       ...             1050000         86        10     306          1   \n",
       "37         ...            15790000         78        30     335          6   \n",
       "1700       ...             2547787         85        24     338          0   \n",
       "2225       ...              555000         81        25     321          2   \n",
       "61         ...            28790000         85        65     317          5   \n",
       "1927       ...              630000         85        52     305          4   \n",
       "283        ...            46000000         82        40     325          7   \n",
       "1705       ...             1665000         81        28     316          1   \n",
       "2301       ...             1710000         94        27     307          0   \n",
       "...        ...                 ...        ...       ...     ...        ...   \n",
       "1227       ...            18900000         87        54     240          5   \n",
       "1230       ...             1353000         76        48     230          4   \n",
       "1355       ...              915000         75        35     265          7   \n",
       "1357       ...             3800000         72        44     240          6   \n",
       "1472       ...             1015000         89        25     320         11   \n",
       "1476       ...              555000         82        55     315          2   \n",
       "1595       ...             2400000         75        50     207          5   \n",
       "1597       ...             1665000         75        71     223          1   \n",
       "1598       ...              555000         78        51     200          1   \n",
       "1599       ...              630000         65        24     190          3   \n",
       "1600       ...              630000         75        50     205          2   \n",
       "1601       ...             2573486         79        27     200          0   \n",
       "1602       ...             2506000         78        33     250          1   \n",
       "1745       ...             1020000         88        72     240          2   \n",
       "1746       ...             2683048         78        33     198          0   \n",
       "1862       ...              790000         89        20     315          6   \n",
       "1864       ...              555000         81        38     190          1   \n",
       "1865       ...              705000         75        24     312          4   \n",
       "1955       ...             1710000         93        52     220          0   \n",
       "1956       ...             1672500         85        57     195          1   \n",
       "1961       ...             3040930         90        20     305          0   \n",
       "1962       ...             1620000         78        33     168          2   \n",
       "2125       ...             1020000         88        28     300          4   \n",
       "2127       ...             1665000         80        29     294          1   \n",
       "2192       ...             2488142         90        10     309          0   \n",
       "2195       ...              630000         78        55     198          2   \n",
       "2239       ...             1050000         64        27     207          1   \n",
       "2247       ...              555000         89        33     300          1   \n",
       "2286       ...             1660000         85        62     221          1   \n",
       "2367       ...              550000         82        41     255          1   \n",
       "\n",
       "      Zone Coverage  defense_rating    dl_mean    lb_mean  secondary_mean  \n",
       "24               12       71.899719  73.217870  70.262983       72.218303  \n",
       "2101             20       71.899719  73.217870  70.262983       72.218303  \n",
       "748              13       71.899719  73.217870  70.262983       72.218303  \n",
       "1930             15       71.899719  73.217870  70.262983       72.218303  \n",
       "2099             12       71.899719  73.217870  70.262983       72.218303  \n",
       "16               12       71.899719  73.217870  70.262983       72.218303  \n",
       "2030             18       71.899719  73.217870  70.262983       72.218303  \n",
       "18               11       71.899719  73.217870  70.262983       72.218303  \n",
       "1929             12       71.899719  73.217870  70.262983       72.218303  \n",
       "2271             12       71.899719  73.217870  70.262983       72.218303  \n",
       "1089             15       71.899719  73.217870  70.262983       72.218303  \n",
       "1566             12       71.899719  73.217870  70.262983       72.218303  \n",
       "63               12       73.947896  73.994096  70.664328       77.185263  \n",
       "1196             12       73.947896  73.994096  70.664328       77.185263  \n",
       "2175             17       73.947896  73.994096  70.664328       77.185263  \n",
       "2176             15       73.947896  73.994096  70.664328       77.185263  \n",
       "527              13       73.947896  73.994096  70.664328       77.185263  \n",
       "1330             15       73.947896  73.994096  70.664328       77.185263  \n",
       "2100             13       73.947896  73.994096  70.664328       77.185263  \n",
       "48               35       73.947896  73.994096  70.664328       77.185263  \n",
       "1932             20       73.947896  73.994096  70.664328       77.185263  \n",
       "2303             19       73.947896  73.994096  70.664328       77.185263  \n",
       "37               12       73.947896  73.994096  70.664328       77.185263  \n",
       "1700             12       73.947896  73.994096  70.664328       77.185263  \n",
       "2225             15       73.947896  73.994096  70.664328       77.185263  \n",
       "61               20       73.947896  73.994096  70.664328       77.185263  \n",
       "1927             35       73.947896  73.994096  70.664328       77.185263  \n",
       "283              12       70.178177  71.585678  68.318783       70.630069  \n",
       "1705             12       70.178177  71.585678  68.318783       70.630069  \n",
       "2301             15       70.178177  71.585678  68.318783       70.630069  \n",
       "...             ...             ...        ...        ...             ...  \n",
       "1227             62       73.724419  73.280574  76.013789       71.878893  \n",
       "1230             19       73.724419  73.280574  76.013789       71.878893  \n",
       "1355             29       73.724419  73.280574  76.013789       71.878893  \n",
       "1357             59       73.724419  73.280574  76.013789       71.878893  \n",
       "1472             12       73.724419  73.280574  76.013789       71.878893  \n",
       "1476             31       73.724419  73.280574  76.013789       71.878893  \n",
       "1595             69       73.724419  73.280574  76.013789       71.878893  \n",
       "1597             20       73.724419  73.280574  76.013789       71.878893  \n",
       "1598             68       73.724419  73.280574  76.013789       71.878893  \n",
       "1599             72       73.724419  73.280574  76.013789       71.878893  \n",
       "1600             19       73.724419  73.280574  76.013789       71.878893  \n",
       "1601             69       73.724419  73.280574  76.013789       71.878893  \n",
       "1602             42       73.724419  73.280574  76.013789       71.878893  \n",
       "1745             40       73.724419  73.280574  76.013789       71.878893  \n",
       "1746             73       73.724419  73.280574  76.013789       71.878893  \n",
       "1862             15       73.724419  73.280574  76.013789       71.878893  \n",
       "1864             68       73.724419  73.280574  76.013789       71.878893  \n",
       "1865             16       73.724419  73.280574  76.013789       71.878893  \n",
       "1955             17       73.724419  73.280574  76.013789       71.878893  \n",
       "1956             26       73.724419  73.280574  76.013789       71.878893  \n",
       "1961             14       73.724419  73.280574  76.013789       71.878893  \n",
       "1962             24       73.724419  73.280574  76.013789       71.878893  \n",
       "2125             11       73.724419  73.280574  76.013789       71.878893  \n",
       "2127             20       73.724419  73.280574  76.013789       71.878893  \n",
       "2192             11       73.724419  73.280574  76.013789       71.878893  \n",
       "2195             61       73.724419  73.280574  76.013789       71.878893  \n",
       "2239             21       73.724419  73.280574  76.013789       71.878893  \n",
       "2247             15       73.724419  73.280574  76.013789       71.878893  \n",
       "2286             59       73.724419  73.280574  76.013789       71.878893  \n",
       "2367             33       73.724419  73.280574  76.013789       71.878893  \n",
       "\n",
       "[339 rows x 101 columns]"
      ]
     },
     "execution_count": 172,
     "metadata": {},
     "output_type": "execute_result"
    }
   ],
   "source": [
    "nfc_olines = pd.concat([cowboysline, eaglesline, giantsline, redskinsline, ninersline, cardinalsline, ramsline, seahawksline,\n",
    "                        bearsline, lionsline, packersline, vikingsline, buccaneersline, falconsline,\n",
    "                        panthers, saints], axis = 0)\n",
    "nfc_olines"
   ]
  },
  {
   "cell_type": "code",
   "execution_count": 173,
   "metadata": {
    "scrolled": true
   },
   "outputs": [
    {
     "data": {
      "text/plain": [
       "Acceleration              0\n",
       "Age                       0\n",
       "Agility                   0\n",
       "Awareness                 0\n",
       "BC Vision                 0\n",
       "Birthdate                 0\n",
       "Block Shedding            0\n",
       "Break Sack                0\n",
       "Break Tackle              0\n",
       "CAverage Overall        305\n",
       "CAveragePass Block      305\n",
       "CAverageRun Block       305\n",
       "CStarter Overall        305\n",
       "CStarterPass Block      305\n",
       "CStarterRun Block       305\n",
       "Carrying                  0\n",
       "Catch                     0\n",
       "Catch in Traffic          0\n",
       "College                   1\n",
       "Deep Route Running        0\n",
       "Elusiveness               0\n",
       "Finesse Moves             0\n",
       "Handedness                0\n",
       "Height                    0\n",
       "Hit Power                 0\n",
       "Impact Blocking           0\n",
       "Injury                    0\n",
       "Jersey #                  0\n",
       "Juke Move                 0\n",
       "Jumping                   0\n",
       "                       ... \n",
       "Release                   0\n",
       "Run Block                 0\n",
       "Run Block Finesse         0\n",
       "Run Block Power           0\n",
       "Short Route Runing        0\n",
       "Signing Bonus             0\n",
       "Spec. Catch               0\n",
       "Speed                     0\n",
       "Spin Move                 0\n",
       "Stamina                   0\n",
       "Stiff Arm                 0\n",
       "Strength                  0\n",
       "Tackle                    0\n",
       "Team                      0\n",
       "Throw Accuracy Deep       0\n",
       "Throw Accuracy Mid        0\n",
       "Throw Accuracy Short      0\n",
       "Throw Power               0\n",
       "Throw Under Pressure      0\n",
       "Throw on the Run          0\n",
       "Total Salary              0\n",
       "Toughness                 0\n",
       "Trucking                  0\n",
       "Weight                    0\n",
       "Years Pro                 0\n",
       "Zone Coverage             0\n",
       "defense_rating            0\n",
       "dl_mean                   0\n",
       "lb_mean                   0\n",
       "secondary_mean            0\n",
       "Length: 101, dtype: int64"
      ]
     },
     "execution_count": 173,
     "metadata": {},
     "output_type": "execute_result"
    }
   ],
   "source": [
    "nfc_olines.isnull().sum()"
   ]
  },
  {
   "cell_type": "code",
   "execution_count": 178,
   "metadata": {},
   "outputs": [
    {
     "data": {
      "text/plain": [
       "array(['Acceleration', 'Age', 'Agility', 'Awareness', 'BC Vision',\n",
       "       'Birthdate', 'Block Shedding', 'Break Sack', 'Break Tackle',\n",
       "       'CAverage Overall', 'CAveragePass Block', 'CAverageRun Block',\n",
       "       'CStarter Overall', 'CStarterPass Block', 'CStarterRun Block',\n",
       "       'Carrying', 'Catch', 'Catch in Traffic', 'College',\n",
       "       'Deep Route Running', 'Elusiveness', 'Finesse Moves', 'Handedness',\n",
       "       'Height', 'Hit Power', 'Impact Blocking', 'Injury', 'Jersey #',\n",
       "       'Juke Move', 'Jumping', 'Kick Accuracy', 'Kick Power',\n",
       "       'Kick Return', 'LGAverage Overall', 'LGAveragePass Block',\n",
       "       'LGAverageRun Block', 'LGStarter Overall', 'LGStarterPass Block',\n",
       "       'LGStarterRun Block', 'LTAverage Overall', 'LTAveragePass Block',\n",
       "       'LTAverageRun Block', 'LTStarter Overall', 'LTStarterPass Block',\n",
       "       'LTStarterRun Block', 'Lead Block', 'Man Coverage',\n",
       "       'Medium Route Running', 'Name', 'Overall', 'Pass Block',\n",
       "       'Pass Block Finesse', 'Pass Block Power', 'Play Recognition',\n",
       "       'Playaction', 'Position', 'Power Moves', 'Press', 'Pursuit',\n",
       "       'RGAverage Overall', 'RGAveragePass Block', 'RGAverageRun Block',\n",
       "       'RGStarter Overall', 'RGStarterPass Block', 'RGStarterRun Block',\n",
       "       'RTAverage Overall', 'RTAveragePass Block', 'RTAverageRun Block',\n",
       "       'RTStarter Overall', 'RTStarterPass Block', 'RTStarterRun Block',\n",
       "       'Release', 'Run Block', 'Run Block Finesse', 'Run Block Power',\n",
       "       'Short Route Runing', 'Signing Bonus', 'Spec. Catch', 'Speed',\n",
       "       'Spin Move', 'Stamina', 'Stiff Arm', 'Strength', 'Tackle', 'Team',\n",
       "       'Throw Accuracy Deep', 'Throw Accuracy Mid',\n",
       "       'Throw Accuracy Short', 'Throw Power', 'Throw Under Pressure',\n",
       "       'Throw on the Run', 'Total Salary', 'Toughness', 'Trucking',\n",
       "       'Weight', 'Years Pro', 'Zone Coverage', 'defense_rating',\n",
       "       'dl_mean', 'lb_mean', 'secondary_mean'], dtype=object)"
      ]
     },
     "execution_count": 178,
     "metadata": {},
     "output_type": "execute_result"
    }
   ],
   "source": [
    "nfc_olines.columns.values"
   ]
  },
  {
   "cell_type": "code",
   "execution_count": null,
   "metadata": {},
   "outputs": [],
   "source": [
    "#RUNNING BACKS"
   ]
  },
  {
   "cell_type": "code",
   "execution_count": 201,
   "metadata": {},
   "outputs": [
    {
     "data": {
      "text/plain": [
       "(161, 67)"
      ]
     },
     "execution_count": 201,
     "metadata": {},
     "output_type": "execute_result"
    }
   ],
   "source": [
    "rb = df[df['Position'] == 'HB']\n",
    "rb.shape"
   ]
  },
  {
   "cell_type": "code",
   "execution_count": null,
   "metadata": {},
   "outputs": [],
   "source": []
  },
  {
   "cell_type": "code",
   "execution_count": null,
   "metadata": {},
   "outputs": [],
   "source": []
  },
  {
   "cell_type": "code",
   "execution_count": null,
   "metadata": {},
   "outputs": [],
   "source": []
  },
  {
   "cell_type": "code",
   "execution_count": null,
   "metadata": {},
   "outputs": [],
   "source": []
  },
  {
   "cell_type": "code",
   "execution_count": null,
   "metadata": {},
   "outputs": [],
   "source": []
  },
  {
   "cell_type": "code",
   "execution_count": null,
   "metadata": {},
   "outputs": [],
   "source": []
  },
  {
   "cell_type": "code",
   "execution_count": null,
   "metadata": {},
   "outputs": [],
   "source": []
  },
  {
   "cell_type": "code",
   "execution_count": null,
   "metadata": {},
   "outputs": [],
   "source": []
  },
  {
   "cell_type": "code",
   "execution_count": null,
   "metadata": {},
   "outputs": [],
   "source": []
  }
 ],
 "metadata": {
  "kernelspec": {
   "display_name": "Python 3",
   "language": "python",
   "name": "python3"
  },
  "language_info": {
   "codemirror_mode": {
    "name": "ipython",
    "version": 3
   },
   "file_extension": ".py",
   "mimetype": "text/x-python",
   "name": "python",
   "nbconvert_exporter": "python",
   "pygments_lexer": "ipython3",
   "version": "3.6.4"
  }
 },
 "nbformat": 4,
 "nbformat_minor": 2
}
